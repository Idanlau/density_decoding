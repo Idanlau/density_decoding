{
 "cells": [
  {
   "cell_type": "code",
   "execution_count": 1,
   "id": "64d665cd-88f6-47ee-a9a2-c811b9ec33e3",
   "metadata": {},
   "outputs": [],
   "source": [
    "import numpy as np\n",
    "import random\n",
    "seed = 666\n",
    "random.seed(seed)\n",
    "np.random.seed(seed)\n",
    "\n",
    "import matplotlib.pyplot as plt\n",
    "\n",
    "from sklearn.model_selection import KFold, StratifiedKFold\n",
    "from sklearn.metrics import accuracy_score, roc_auc_score\n",
    "\n",
    "from clusterless import data_preprocess"
   ]
  },
  {
   "cell_type": "markdown",
   "id": "5200b9cc-fdd2-4b34-a4a0-6c8848fda9a6",
   "metadata": {},
   "source": [
    "load data"
   ]
  },
  {
   "cell_type": "code",
   "execution_count": 2,
   "id": "fc577094-63ba-4a4c-bfcd-385e3cf01e2c",
   "metadata": {},
   "outputs": [],
   "source": [
    "rootpath = \"data\"\n",
    "sub_id = \"dy016\"\n",
    "samp_freq = 30_000"
   ]
  },
  {
   "cell_type": "code",
   "execution_count": 3,
   "id": "5bdc2995-6d7c-43ab-bb0e-f9c45698e6eb",
   "metadata": {},
   "outputs": [],
   "source": [
    "spikes_indices, spikes_features, np1_channel_map, stimulus_onset_times, unsorted, trials = \\\n",
    "    data_preprocess.load_unsorted_data(rootpath, sub_id, keep_active_trials=False, samp_freq=samp_freq)"
   ]
  },
  {
   "cell_type": "code",
   "execution_count": 8,
   "id": "869df2d7-4da8-4c86-8770-7c71574334fe",
   "metadata": {},
   "outputs": [],
   "source": [
    "ks_spikes_times, ks_spikes_clusters, ks_spikes_amps, ks_spikes_depths, sorted, ks_trials = \\\n",
    "    data_preprocess.load_kilosort_sorted_data(rootpath, sub_id, keep_active_trials=False, samp_freq=samp_freq)"
   ]
  },
  {
   "cell_type": "code",
   "execution_count": 4,
   "id": "0b29dc20-0471-4c34-b9bd-e0c9a82aab85",
   "metadata": {},
   "outputs": [],
   "source": [
    "behave_dict, behave_idx_dict = data_preprocess.load_behaviors_data(rootpath, sub_id)"
   ]
  },
  {
   "cell_type": "code",
   "execution_count": null,
   "id": "cec41a8e-991e-4f36-ade7-cac7ef1dcc3d",
   "metadata": {},
   "outputs": [],
   "source": []
  }
 ],
 "metadata": {
  "kernelspec": {
   "display_name": "Python 3 (ipykernel)",
   "language": "python",
   "name": "python3"
  },
  "language_info": {
   "codemirror_mode": {
    "name": "ipython",
    "version": 3
   },
   "file_extension": ".py",
   "mimetype": "text/x-python",
   "name": "python",
   "nbconvert_exporter": "python",
   "pygments_lexer": "ipython3",
   "version": "3.8.13"
  }
 },
 "nbformat": 4,
 "nbformat_minor": 5
}
