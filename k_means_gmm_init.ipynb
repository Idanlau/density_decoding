{
 "cells": [
  {
   "cell_type": "code",
   "execution_count": 1,
   "id": "ee639b13-3aa8-47e2-a30f-0c74dbbc5fb1",
   "metadata": {},
   "outputs": [],
   "source": [
    "import numpy as np\n",
    "import random\n",
    "seed = 666\n",
    "random.seed(seed)\n",
    "np.random.seed(seed)\n",
    "\n",
    "import matplotlib.pyplot as plt\n",
    "\n",
    "from sklearn.model_selection import KFold, StratifiedKFold\n",
    "from sklearn.metrics import accuracy_score, roc_auc_score\n",
    "\n",
    "from clusterless import data_preprocess\n",
    "from clusterless import viz_tools\n",
    "from clusterless import init_gmm\n",
    "from clusterless import split_merge\n",
    "from clusterless import smooth_signals\n",
    "from clusterless import decode_static"
   ]
  },
  {
   "cell_type": "markdown",
   "id": "4edf58c8-6605-466d-9370-abfca08d9fdf",
   "metadata": {},
   "source": [
    "load data"
   ]
  },
  {
   "cell_type": "code",
   "execution_count": 2,
   "id": "cc533a48-d0d0-419e-9d72-e5eb20b3fb04",
   "metadata": {},
   "outputs": [],
   "source": [
    "rootpath = \"data\"\n",
    "sub_id = \"dy009\"\n",
    "samp_freq = 30_000"
   ]
  },
  {
   "cell_type": "code",
   "execution_count": 3,
   "id": "04a9d06a-e22c-4df3-b4df-eb24525317f5",
   "metadata": {},
   "outputs": [],
   "source": [
    "# load unsorted data\n",
    "spikes_indices, spikes_features, np1_channel_map, stimulus_onset_times, unsorted, trials = \\\n",
    "    data_preprocess.load_unsorted_data(rootpath, sub_id, roi='all', keep_active_trials=True, samp_freq=samp_freq)"
   ]
  },
  {
   "cell_type": "code",
   "execution_count": 4,
   "id": "b91990c9-442a-4d04-a9c8-c6b638da769a",
   "metadata": {},
   "outputs": [],
   "source": [
    "# load sorted data\n",
    "ks_spikes_times, ks_spikes_clusters, ks_spikes_amps, ks_spikes_depths, sorted, ks_trials = \\\n",
    "    data_preprocess.load_kilosort_sorted_data(rootpath, sub_id, keep_active_trials=True, samp_freq=samp_freq)"
   ]
  },
  {
   "cell_type": "code",
   "execution_count": 5,
   "id": "1c88b867-67ab-4c63-84be-9eecd8f4d6a1",
   "metadata": {},
   "outputs": [],
   "source": [
    "# load sorted data\n",
    "ks_spikes_times, ks_spikes_clusters, ks_spikes_amps, ks_spikes_depths, sorted, ks_trials = \\\n",
    "    data_preprocess.load_kilosort_sorted_data(rootpath, sub_id, keep_active_trials=True, samp_freq=samp_freq)"
   ]
  },
  {
   "cell_type": "code",
   "execution_count": 6,
   "id": "a6ada27c-24e6-43a6-ae72-bd0403d0f9f3",
   "metadata": {},
   "outputs": [],
   "source": [
    "# load kilosort units that passed ibl's quality metrics\n",
    "good_ks_spikes_indices = data_preprocess.load_kilosort_good_ibl_units(rootpath, sub_id, roi='all', keep_active_trials = True, samp_freq=30_000)"
   ]
  },
  {
   "cell_type": "code",
   "execution_count": 7,
   "id": "a3c0a2f8-0973-414e-9e5c-fb56448ea06d",
   "metadata": {},
   "outputs": [],
   "source": [
    "behave_dict, behave_idx_dict = data_preprocess.load_behaviors_data(rootpath, sub_id)"
   ]
  },
  {
   "cell_type": "code",
   "execution_count": 8,
   "id": "137005d8-6f3c-4bae-b8f2-26331103689e",
   "metadata": {},
   "outputs": [
    {
     "name": "stdout",
     "output_type": "stream",
     "text": [
      "choices left: 0.361, right: 0.639\n",
      "stimuli left: 0.430, right: 0.570\n",
      "reward wrong: 0.087, correct: 0.913\n"
     ]
    }
   ],
   "source": [
    "choices, stimuli, transformed_stimuli, one_hot_stimuli, enc_categories, rewards, priors = data_preprocess.preprocess_static_behaviors(behave_dict, keep_active_trials = True)"
   ]
  },
  {
   "cell_type": "markdown",
   "id": "8ce3b793-6eee-4c66-b34c-d5a03829062a",
   "metadata": {},
   "source": [
    "initialize gmm using k-means++"
   ]
  },
  {
   "cell_type": "code",
   "execution_count": 9,
   "id": "4b72447e-2556-4d3b-b03f-bc675a8b31d8",
   "metadata": {},
   "outputs": [],
   "source": [
    "trials_ids = np.arange(len(trials))\n",
    "structured_unsorted = np.vstack([trials[i] for i in trials_ids])[:,1:] # follows time order"
   ]
  },
  {
   "cell_type": "code",
   "execution_count": null,
   "id": "1ebf1fd2-a8c2-4b78-9418-9bde4841665b",
   "metadata": {},
   "outputs": [],
   "source": [
    "initial_gmm = init_gmm.initial_gaussian_mixtures('.', sub_id, trials, n_gaussians=350, seed=seed, fit_model=True)"
   ]
  },
  {
   "cell_type": "code",
   "execution_count": null,
   "id": "1f26764c-0692-4b1a-a292-f56a0793e602",
   "metadata": {},
   "outputs": [],
   "source": [
    "initial_labels = initial_gmm.predict(structured_unsorted)\n",
    "initial_probs = initial_gmm.predict_proba(structured_unsorted)"
   ]
  },
  {
   "cell_type": "code",
   "execution_count": null,
   "id": "9c07099d-3023-4cdc-bec8-067e00e2e10b",
   "metadata": {},
   "outputs": [],
   "source": [
    "viz_tools.plot_gmm_cluster_viz(structured_unsorted, initial_labels, initial_labels, n_spikes_display=10_000)"
   ]
  },
  {
   "cell_type": "markdown",
   "id": "579a6b79-7805-4972-a9ab-e6db186cb5ac",
   "metadata": {},
   "source": [
    "split"
   ]
  },
  {
   "cell_type": "code",
   "execution_count": null,
   "id": "50eb7d3e-f8f3-4c17-b2f9-44055abfe975",
   "metadata": {},
   "outputs": [],
   "source": []
  },
  {
   "cell_type": "markdown",
   "id": "a7453eae-177e-403d-9b04-67cdce007fb7",
   "metadata": {},
   "source": [
    "merge"
   ]
  },
  {
   "cell_type": "code",
   "execution_count": null,
   "id": "4b798e05-a02a-4b60-9b97-fd66c2921895",
   "metadata": {},
   "outputs": [],
   "source": []
  }
 ],
 "metadata": {
  "kernelspec": {
   "display_name": "Python 3 (ipykernel)",
   "language": "python",
   "name": "python3"
  },
  "language_info": {
   "codemirror_mode": {
    "name": "ipython",
    "version": 3
   },
   "file_extension": ".py",
   "mimetype": "text/x-python",
   "name": "python",
   "nbconvert_exporter": "python",
   "pygments_lexer": "ipython3",
   "version": "3.8.13"
  }
 },
 "nbformat": 4,
 "nbformat_minor": 5
}
