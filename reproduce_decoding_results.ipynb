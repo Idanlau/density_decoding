{
 "cells": [
  {
   "cell_type": "code",
   "execution_count": 1,
   "id": "5fa07699-f5ea-41e5-a9a2-65f2497a9c23",
   "metadata": {},
   "outputs": [],
   "source": [
    "import numpy as np\n",
    "import random\n",
    "seed = 666\n",
    "random.seed(seed)\n",
    "np.random.seed(seed)\n",
    "\n",
    "import matplotlib.pyplot as plt\n",
    "\n",
    "from sklearn.model_selection import KFold, StratifiedKFold\n",
    "from sklearn.metrics import accuracy_score, roc_auc_score\n",
    "\n",
    "from clusterless import data_preprocess\n",
    "from clusterless import viz_tools\n",
    "from clusterless import init_gmm\n",
    "from clusterless import split_merge\n",
    "from clusterless import smooth_signals\n",
    "from clusterless import decode_static"
   ]
  },
  {
   "cell_type": "code",
   "execution_count": 2,
   "id": "199ac9e2-fde4-4d2a-8509-edced4230d55",
   "metadata": {},
   "outputs": [],
   "source": [
    "rootpath = \"data\"\n",
    "sub_id = \"dy016\"\n",
    "samp_freq = 30_000"
   ]
  },
  {
   "cell_type": "code",
   "execution_count": 75,
   "id": "5993bf2a-6d36-439d-8fa2-046e126a1a65",
   "metadata": {},
   "outputs": [
    {
     "name": "stdout",
     "output_type": "stream",
     "text": [
      "choices left: 0.769, right: 0.231\n",
      "stimuli left: 0.507, right: 0.493\n",
      "reward wrong: 0.231, correct: 0.769\n"
     ]
    }
   ],
   "source": [
    "# load behavior data\n",
    "behave_dict, behave_idx_dict = data_preprocess.load_behaviors_data(rootpath, sub_id)\n",
    "\n",
    "# preprocess behavior data\n",
    "choices, stimuli, transformed_stimuli, one_hot_stimuli, rewards, priors = data_preprocess.preprocess_static_behaviors(behave_dict)\n",
    "static_behaviors = {'choice': choices, 'stimulus': one_hot_stimuli}"
   ]
  },
  {
   "cell_type": "markdown",
   "id": "c86bd4b1-6e04-47e8-a441-53b174637819",
   "metadata": {},
   "source": [
    "all"
   ]
  },
  {
   "cell_type": "code",
   "execution_count": 101,
   "id": "bb145731-0328-4c81-af82-a016b93631e6",
   "metadata": {},
   "outputs": [],
   "source": [
    "# load sorted data\n",
    "ks_spikes_times, ks_spikes_clusters, ks_spikes_amps, ks_spikes_depths, sorted, ks_trials = \\\n",
    "    data_preprocess.load_kilosort_sorted_data(rootpath, sub_id, keep_active_trials=False, samp_freq=samp_freq)\n",
    "\n",
    "# load kilosort units that passed ibl's quality metrics\n",
    "good_ks_spikes_indices = data_preprocess.load_kilosort_good_ibl_units(rootpath, sub_id, roi='all', keep_active_trials = False, samp_freq=30_000)"
   ]
  },
  {
   "cell_type": "code",
   "execution_count": 103,
   "id": "ee5d4099-fd08-4479-a3c2-6c1911afdf58",
   "metadata": {},
   "outputs": [],
   "source": [
    "# load unsorted data\n",
    "spikes_indices, spikes_features, np1_channel_map, stimulus_onset_times, unsorted, trials = \\\n",
    "    data_preprocess.load_unsorted_data(rootpath, sub_id, roi='all', keep_active_trials=False, samp_freq=samp_freq)\n",
    "\n",
    "# load clusterless model\n",
    "trials_ids = np.arange(len(trials))\n",
    "spikes_times = np.vstack([trials[i] for i in trials_ids])[:,0]\n",
    "structured_unsorted = np.vstack([trials[i] for i in trials_ids])[:,1:] # follows time order\n",
    "\n",
    "# load gmm after split-merge\n",
    "gmm = split_merge.merge_gaussians('.', sub_id, structured_unsorted, post_split_gmm=None, post_split_labels=None, merge_ids=None, fit_model=False)\n",
    "labels = gmm.predict(structured_unsorted)\n",
    "probs = gmm.predict_proba(structured_unsorted)"
   ]
  },
  {
   "cell_type": "code",
   "execution_count": null,
   "id": "84da72d9-5dbb-45ac-9909-5ffa00cc4b36",
   "metadata": {},
   "outputs": [],
   "source": [
    "# prepare time binned neural activity for decoding\n",
    "n_projs = 10\n",
    "neural_data_dict = dict()\n",
    "tpca_recon_dict = dict()\n",
    "\n",
    "sorted_neural_data = data_preprocess.compute_time_binned_neural_activity((ks_spikes_times, ks_spikes_clusters), 'sorted', stimulus_onset_times, regional=False)\n",
    "sorted_tpca_proj, sorted_tpca_recon = smooth_signals.tpca(sorted_neural_data, n_projs=n_projs)\n",
    "neural_data_dict.update({'sorted': sorted_neural_data})\n",
    "tpca_recon_dict.update({'sorted': sorted_tpca_recon})\n",
    "\n",
    "good_ks_neural_data = data_preprocess.compute_time_binned_neural_activity(good_ks_spikes_indices, 'good units', stimulus_onset_times, regional=False)\n",
    "good_ks_tpca_proj, good_ks_tpca_recon = smooth_signals.tpca(good_ks_neural_data, n_projs=n_projs)\n",
    "neural_data_dict.update({'good units': good_ks_neural_data})\n",
    "tpca_recon_dict.update({'good units': good_ks_tpca_recon})\n",
    "\n",
    "unsorted_neural_data = data_preprocess.compute_time_binned_neural_activity(spikes_indices, 'unsorted', stimulus_onset_times, regional=False)\n",
    "unsorted_tpca_proj, unsorted_tpca_recon = smooth_signals.tpca(unsorted_neural_data, n_projs=n_projs)\n",
    "neural_data_dict.update({'unsorted': unsorted_neural_data})\n",
    "tpca_recon_dict.update({'unsorted': unsorted_tpca_recon})\n",
    "\n",
    "clusterless_neural_data = data_preprocess.\\\n",
    "    compute_time_binned_neural_activity((spikes_times, labels, probs), \n",
    "                                            'clusterless', stimulus_onset_times, regional=False)\n",
    "clusterless_tpca_proj, clusterless_tpca_recon = smooth_signals.tpca(clusterless_neural_data, n_projs=n_projs)\n",
    "neural_data_dict.update({'clusterless': clusterless_neural_data})\n",
    "tpca_recon_dict.update({'clusterless': clusterless_tpca_recon})"
   ]
  },
  {
   "cell_type": "code",
   "execution_count": null,
   "id": "bdd7b89d-339a-4b28-84de-07ded194052f",
   "metadata": {},
   "outputs": [],
   "source": [
    "# decode using original neural activity\n",
    "all_decode_results = {'choice': dict(), 'stimulus': dict()}\n",
    "\n",
    "for behave_type in all_decode_results.keys():\n",
    "    for data_type in neural_data_dict.keys():\n",
    "        print(f'{data_type} decoding ...')\n",
    "        decode_results = decode_static.cv_decode_static(neural_data_dict[data_type], static_behaviors[behave_type], behave_type=behave_type, n_folds=5, seed=seed, shuffle=True)\n",
    "        all_decode_results[behave_type].update({data_type: decode_results})\n",
    "np.save(f'{rootpath}/{sub_id}/decode_results/all_decode_results', all_decode_results)"
   ]
  },
  {
   "cell_type": "code",
   "execution_count": null,
   "id": "cf782dcb-fa48-4be7-80e9-ba6f65a1873e",
   "metadata": {},
   "outputs": [],
   "source": [
    "# decode using smoothed neural activity by tpca\n",
    "all_tpca_decode_results = {'choice': dict(), 'stimulus': dict()}\n",
    "\n",
    "for behave_type in all_tpca_decode_results.keys():\n",
    "    for data_type in tpca_recon_dict.keys():\n",
    "        print(f'{data_type} decoding ...')\n",
    "        decode_results = decode_static.cv_decode_static(tpca_recon_dict[data_type], static_behaviors[behave_type], behave_type=behave_type, n_folds=5, seed=seed, shuffle=True)\n",
    "        all_tpca_decode_results[behave_type].update({data_type: decode_results})\n",
    "np.save(f'{rootpath}/{sub_id}/decode_results/all_tpca_decode_results', all_tpca_decode_results)"
   ]
  },
  {
   "cell_type": "code",
   "execution_count": 63,
   "id": "c04109dc-0962-4e0a-9b6a-cea782eb27be",
   "metadata": {},
   "outputs": [],
   "source": [
    "# load decoding results for plotting\n",
    "all_decode_results = np.load(f'{rootpath}/{sub_id}/decode_results/all_decode_results.npy', allow_pickle=True).item()\n",
    "all_tpca_decode_results = np.load(f'{rootpath}/{sub_id}/decode_results/all_tpca_decode_results.npy', allow_pickle=True).item()"
   ]
  },
  {
   "cell_type": "markdown",
   "id": "81f1fc34-b7b9-4645-a7dc-f985e7488aeb",
   "metadata": {},
   "source": [
    "regional"
   ]
  },
  {
   "cell_type": "code",
   "execution_count": 87,
   "id": "172c461a-aec5-4d23-8a23-0392d401a389",
   "metadata": {},
   "outputs": [],
   "source": [
    "rois = ['PO', 'LP', 'DG', 'CA1', 'PPC']\n",
    "roi = rois[0]"
   ]
  },
  {
   "cell_type": "code",
   "execution_count": 95,
   "id": "5a19d3a6-40de-4290-a723-27a60eb8f4aa",
   "metadata": {},
   "outputs": [],
   "source": [
    "# load sorted data\n",
    "regional_sorted = data_preprocess.load_kilosort_sorted_data(rootpath, sub_id, roi=roi, keep_active_trials = False, samp_freq=30_000)\n",
    "\n",
    "# load kilosort units that passed ibl's quality metrics\n",
    "regional_good_spikes_indices = data_preprocess.load_kilosort_good_ibl_units(rootpath, sub_id, roi=roi, keep_active_trials = False, samp_freq=30_000)"
   ]
  },
  {
   "cell_type": "code",
   "execution_count": 89,
   "id": "25f4961b-8105-4b4e-b406-7a9cd9c6c849",
   "metadata": {},
   "outputs": [
    {
     "name": "stdout",
     "output_type": "stream",
     "text": [
      "found 58 channels in roi PO\n"
     ]
    }
   ],
   "source": [
    "# load unsorted datas\n",
    "regional_trials = data_preprocess.load_unsorted_data(rootpath, sub_id, roi=roi, keep_active_trials=False, samp_freq=30_000)\n",
    "regional_spikes_times = np.vstack([regional_trials[i] for i in range(len(regional_trials))])[:,0]\n",
    "regional_unsorted = np.vstack([regional_trials[i] for i in range(len(regional_trials))])[:,:2]\n",
    "\n",
    "# load clusterless data\n",
    "regional_clusterless = np.vstack([regional_trials[i] for i in range(len(regional_trials))])[:,2:]\n",
    "\n",
    "# load gmm after split-merge\n",
    "gmm = split_merge.merge_gaussians('.', sub_id, structured_unsorted, post_split_gmm=None, post_split_labels=None, merge_ids=None, fit_model=False)\n",
    "regional_labels = gmm.predict(regional_clusterless)\n",
    "regional_probs = gmm.predict_proba(regional_clusterless)"
   ]
  },
  {
   "cell_type": "code",
   "execution_count": 96,
   "id": "17b54584-0708-49a9-9def-9cc47ebb7e0f",
   "metadata": {},
   "outputs": [],
   "source": [
    "# prepare time binned neural activity for decoding\n",
    "n_projs = 10\n",
    "neural_data_dict = dict()\n",
    "tpca_recon_dict = dict()\n",
    "\n",
    "regional_sorted_neural_data = data_preprocess.compute_time_binned_neural_activity(regional_sorted, 'sorted', stimulus_onset_times, regional=True)\n",
    "regional_sorted_tpca_proj, regional_sorted_tpca_recon = smooth_signals.tpca(regional_sorted_neural_data, n_projs=n_projs)\n",
    "neural_data_dict.update({'sorted': regional_sorted_neural_data})\n",
    "tpca_recon_dict.update({'sorted': regional_sorted_tpca_recon})\n",
    "\n",
    "regional_good_neural_data = data_preprocess.compute_time_binned_neural_activity(regional_good_spikes_indices, 'good units', stimulus_onset_times, regional=True)\n",
    "regional_good_tpca_proj, regional_good_tpca_recon = smooth_signals.tpca(regional_good_neural_data, n_projs=n_projs)\n",
    "neural_data_dict.update({'good units': regional_good_neural_data})\n",
    "tpca_recon_dict.update({'good units': regional_good_tpca_recon})\n",
    "\n",
    "regional_unsorted_neural_data = data_preprocess.compute_time_binned_neural_activity(regional_unsorted, 'unsorted', stimulus_onset_times, regional=True)\n",
    "regional_unsorted_tpca_proj, regional_unsorted_tpca_recon = smooth_signals.tpca(regional_unsorted_neural_data, n_projs=n_projs)\n",
    "neural_data_dict.update({'unsorted': regional_unsorted_neural_data})\n",
    "tpca_recon_dict.update({'unsorted': regional_unsorted_tpca_recon})\n",
    "\n",
    "regional_clusterless_neural_data = data_preprocess.\\\n",
    "    compute_time_binned_neural_activity((regional_spikes_times, regional_labels, regional_probs), \n",
    "                                            'clusterless', stimulus_onset_times, regional=True)\n",
    "regional_clusterless_tpca_proj, regional_clusterless_tpca_recon = smooth_signals.tpca(regional_clusterless_neural_data, n_projs=n_projs)\n",
    "neural_data_dict.update({'clusterless': regional_clusterless_neural_data})\n",
    "tpca_recon_dict.update({'clusterless': regional_clusterless_tpca_recon})"
   ]
  },
  {
   "cell_type": "code",
   "execution_count": 76,
   "id": "65d5078e-5e38-4923-aeab-7414a1fc3e44",
   "metadata": {},
   "outputs": [
    {
     "name": "stdout",
     "output_type": "stream",
     "text": [
      "sorted decoding ...\n",
      "choice fold 1 test accuracy: 0.879 auc: 0.945\n",
      "choice fold 2 test accuracy: 0.807 auc: 0.878\n",
      "choice fold 3 test accuracy: 0.895 auc: 0.883\n",
      "choice fold 4 test accuracy: 0.860 auc: 0.917\n",
      "choice fold 5 test accuracy: 0.842 auc: 0.830\n",
      "choice mean of 5-fold cv accuracy: 0.857 auc: 0.891\n",
      "choice sd of 5-fold cv accuracy: 0.030 auc: 0.039\n",
      "good units decoding ...\n",
      "choice fold 1 test accuracy: 0.897 auc: 0.904\n",
      "choice fold 2 test accuracy: 0.807 auc: 0.886\n",
      "choice fold 3 test accuracy: 0.842 auc: 0.908\n",
      "choice fold 4 test accuracy: 0.930 auc: 0.960\n",
      "choice fold 5 test accuracy: 0.877 auc: 0.853\n",
      "choice mean of 5-fold cv accuracy: 0.871 auc: 0.902\n",
      "choice sd of 5-fold cv accuracy: 0.043 auc: 0.035\n",
      "unsorted decoding ...\n",
      "choice fold 1 test accuracy: 0.879 auc: 0.932\n",
      "choice fold 2 test accuracy: 0.789 auc: 0.893\n",
      "choice fold 3 test accuracy: 0.947 auc: 0.806\n",
      "choice fold 4 test accuracy: 0.825 auc: 0.900\n",
      "choice fold 5 test accuracy: 0.825 auc: 0.847\n",
      "choice mean of 5-fold cv accuracy: 0.853 auc: 0.876\n",
      "choice sd of 5-fold cv accuracy: 0.055 auc: 0.044\n",
      "clusterless decoding ...\n",
      "choice fold 1 test accuracy: 0.879 auc: 0.909\n",
      "choice fold 2 test accuracy: 0.807 auc: 0.876\n",
      "choice fold 3 test accuracy: 0.912 auc: 0.923\n",
      "choice fold 4 test accuracy: 0.842 auc: 0.919\n",
      "choice fold 5 test accuracy: 0.860 auc: 0.887\n",
      "choice mean of 5-fold cv accuracy: 0.860 auc: 0.903\n",
      "choice sd of 5-fold cv accuracy: 0.035 auc: 0.019\n",
      "sorted decoding ...\n",
      "stimulus fold 1 test accuracy: 0.293 auc: 0.765\n",
      "stimulus fold 2 test accuracy: 0.316 auc: 0.712\n",
      "stimulus fold 3 test accuracy: 0.193 auc: 0.717\n",
      "stimulus fold 4 test accuracy: 0.228 auc: 0.753\n",
      "stimulus fold 5 test accuracy: 0.281 auc: 0.646\n",
      "stimulus mean of 5-fold cv accuracy: 0.262 auc: 0.719\n",
      "stimulus sd of 5-fold cv accuracy: 0.045 auc: 0.042\n",
      "good units decoding ...\n",
      "stimulus fold 1 test accuracy: 0.293 auc: 0.821\n",
      "stimulus fold 2 test accuracy: 0.316 auc: 0.756\n",
      "stimulus fold 3 test accuracy: 0.333 auc: 0.792\n",
      "stimulus fold 4 test accuracy: 0.298 auc: 0.779\n",
      "stimulus fold 5 test accuracy: 0.333 auc: 0.705\n",
      "stimulus mean of 5-fold cv accuracy: 0.315 auc: 0.770\n",
      "stimulus sd of 5-fold cv accuracy: 0.017 auc: 0.039\n",
      "unsorted decoding ...\n",
      "stimulus fold 1 test accuracy: 0.293 auc: 0.754\n",
      "stimulus fold 2 test accuracy: 0.298 auc: 0.734\n",
      "stimulus fold 3 test accuracy: 0.211 auc: 0.734\n",
      "stimulus fold 4 test accuracy: 0.316 auc: 0.781\n",
      "stimulus fold 5 test accuracy: 0.281 auc: 0.705\n",
      "stimulus mean of 5-fold cv accuracy: 0.280 auc: 0.742\n",
      "stimulus sd of 5-fold cv accuracy: 0.036 auc: 0.025\n",
      "clusterless decoding ...\n",
      "stimulus fold 1 test accuracy: 0.276 auc: 0.756\n",
      "stimulus fold 2 test accuracy: 0.333 auc: 0.713\n",
      "stimulus fold 3 test accuracy: 0.193 auc: 0.724\n",
      "stimulus fold 4 test accuracy: 0.298 auc: 0.765\n",
      "stimulus fold 5 test accuracy: 0.281 auc: 0.668\n",
      "stimulus mean of 5-fold cv accuracy: 0.276 auc: 0.725\n",
      "stimulus sd of 5-fold cv accuracy: 0.046 auc: 0.034\n"
     ]
    }
   ],
   "source": [
    "# decode using original neural activity\n",
    "regional_decode_results = {'choice': dict(), 'stimulus': dict()}\n",
    "\n",
    "for behave_type in regional_decode_results.keys():\n",
    "    for data_type in neural_data_dict.keys():\n",
    "        print(f'{data_type} decoding ...')\n",
    "        decode_results = decode_static.cv_decode_static(neural_data_dict[data_type], static_behaviors[behave_type], behave_type=behave_type, n_folds=5, seed=seed, shuffle=True)\n",
    "        regional_decode_results[behave_type].update({data_type: decode_results})\n",
    "np.save(f'{rootpath}/{sub_id}/decode_results/{roi}_decode_results', regional_decode_results)"
   ]
  },
  {
   "cell_type": "code",
   "execution_count": 98,
   "id": "73f8d616-b4d1-473a-8d1a-39eef86cf6bc",
   "metadata": {},
   "outputs": [
    {
     "name": "stdout",
     "output_type": "stream",
     "text": [
      "sorted decoding ...\n",
      "choice fold 1 test accuracy: 0.914 auc: 0.950\n",
      "choice fold 2 test accuracy: 0.807 auc: 0.897\n",
      "choice fold 3 test accuracy: 0.912 auc: 0.832\n",
      "choice fold 4 test accuracy: 0.825 auc: 0.935\n",
      "choice fold 5 test accuracy: 0.842 auc: 0.819\n",
      "choice mean of 5-fold cv accuracy: 0.860 auc: 0.887\n",
      "choice sd of 5-fold cv accuracy: 0.045 auc: 0.053\n",
      "good units decoding ...\n",
      "choice fold 1 test accuracy: 0.828 auc: 0.906\n",
      "choice fold 2 test accuracy: 0.772 auc: 0.818\n",
      "choice fold 3 test accuracy: 0.842 auc: 0.880\n",
      "choice fold 4 test accuracy: 0.860 auc: 0.963\n",
      "choice fold 5 test accuracy: 0.825 auc: 0.791\n",
      "choice mean of 5-fold cv accuracy: 0.825 auc: 0.872\n",
      "choice sd of 5-fold cv accuracy: 0.029 auc: 0.062\n",
      "unsorted decoding ...\n",
      "choice fold 1 test accuracy: 0.897 auc: 0.950\n",
      "choice fold 2 test accuracy: 0.789 auc: 0.892\n",
      "choice fold 3 test accuracy: 0.947 auc: 0.801\n",
      "choice fold 4 test accuracy: 0.860 auc: 0.935\n",
      "choice fold 5 test accuracy: 0.842 auc: 0.849\n",
      "choice mean of 5-fold cv accuracy: 0.867 auc: 0.885\n",
      "choice sd of 5-fold cv accuracy: 0.053 auc: 0.055\n",
      "clusterless decoding ...\n",
      "choice fold 1 test accuracy: 0.897 auc: 0.911\n",
      "choice fold 2 test accuracy: 0.825 auc: 0.873\n",
      "choice fold 3 test accuracy: 0.895 auc: 0.890\n",
      "choice fold 4 test accuracy: 0.877 auc: 0.949\n",
      "choice fold 5 test accuracy: 0.860 auc: 0.883\n",
      "choice mean of 5-fold cv accuracy: 0.871 auc: 0.901\n",
      "choice sd of 5-fold cv accuracy: 0.027 auc: 0.027\n",
      "sorted decoding ...\n",
      "stimulus fold 1 test accuracy: 0.310 auc: 0.770\n",
      "stimulus fold 2 test accuracy: 0.368 auc: 0.733\n",
      "stimulus fold 3 test accuracy: 0.193 auc: 0.699\n",
      "stimulus fold 4 test accuracy: 0.228 auc: 0.755\n",
      "stimulus fold 5 test accuracy: 0.316 auc: 0.648\n",
      "stimulus mean of 5-fold cv accuracy: 0.283 auc: 0.721\n",
      "stimulus sd of 5-fold cv accuracy: 0.064 auc: 0.044\n",
      "good units decoding ...\n",
      "stimulus fold 1 test accuracy: 0.276 auc: 0.779\n",
      "stimulus fold 2 test accuracy: 0.316 auc: 0.742\n",
      "stimulus fold 3 test accuracy: 0.211 auc: 0.754\n",
      "stimulus fold 4 test accuracy: 0.263 auc: 0.772\n",
      "stimulus fold 5 test accuracy: 0.281 auc: 0.695\n",
      "stimulus mean of 5-fold cv accuracy: 0.269 auc: 0.748\n",
      "stimulus sd of 5-fold cv accuracy: 0.034 auc: 0.030\n",
      "unsorted decoding ...\n",
      "stimulus fold 1 test accuracy: 0.310 auc: 0.759\n",
      "stimulus fold 2 test accuracy: 0.333 auc: 0.727\n",
      "stimulus fold 3 test accuracy: 0.246 auc: 0.744\n",
      "stimulus fold 4 test accuracy: 0.298 auc: 0.789\n",
      "stimulus fold 5 test accuracy: 0.228 auc: 0.698\n",
      "stimulus mean of 5-fold cv accuracy: 0.283 auc: 0.743\n",
      "stimulus sd of 5-fold cv accuracy: 0.040 auc: 0.030\n",
      "clusterless decoding ...\n",
      "stimulus fold 1 test accuracy: 0.293 auc: 0.764\n",
      "stimulus fold 2 test accuracy: 0.281 auc: 0.708\n",
      "stimulus fold 3 test accuracy: 0.175 auc: 0.699\n",
      "stimulus fold 4 test accuracy: 0.246 auc: 0.784\n",
      "stimulus fold 5 test accuracy: 0.298 auc: 0.680\n",
      "stimulus mean of 5-fold cv accuracy: 0.259 auc: 0.727\n",
      "stimulus sd of 5-fold cv accuracy: 0.045 auc: 0.040\n"
     ]
    }
   ],
   "source": [
    "# decode using smoothed neural activity by tpca\n",
    "regional_tpca_decode_results = {'choice': dict(), 'stimulus': dict()}\n",
    "\n",
    "for behave_type in all_tpca_decode_results.keys():\n",
    "    for data_type in tpca_recon_dict.keys():\n",
    "        print(f'{data_type} decoding ...')\n",
    "        decode_results = decode_static.cv_decode_static(tpca_recon_dict[data_type], static_behaviors[behave_type], behave_type=behave_type, n_folds=5, seed=seed, shuffle=True)\n",
    "        regional_tpca_decode_results[behave_type].update({data_type: decode_results})\n",
    "np.save(f'{rootpath}/{sub_id}/decode_results/{roi}_tpca_decode_results', regional_tpca_decode_results)"
   ]
  },
  {
   "cell_type": "code",
   "execution_count": 99,
   "id": "accf445c-d321-40ae-a039-7cfed7eec339",
   "metadata": {},
   "outputs": [],
   "source": [
    "# load decoding results for plotting\n",
    "regional_decode_results = np.load(f'{rootpath}/{sub_id}/decode_results/{roi}_decode_results.npy', allow_pickle=True).item()\n",
    "regional_tpca_decode_results = np.load(f'{rootpath}/{sub_id}/decode_results/{roi}_tpca_decode_results.npy', allow_pickle=True).item()"
   ]
  },
  {
   "cell_type": "markdown",
   "id": "78a116cb-a9bf-4130-9c9b-02d4d28cf520",
   "metadata": {},
   "source": [
    "plotting"
   ]
  },
  {
   "cell_type": "code",
   "execution_count": null,
   "id": "39a61d1d-148f-46af-a5e2-be4b82f39b03",
   "metadata": {},
   "outputs": [],
   "source": [
    "# box plots for choice \n",
    "\n"
   ]
  },
  {
   "cell_type": "code",
   "execution_count": null,
   "id": "024d14e9-cc02-44fd-a1c9-4296b206dd79",
   "metadata": {},
   "outputs": [],
   "source": [
    "# box plots for stimuli\n",
    "\n"
   ]
  },
  {
   "cell_type": "code",
   "execution_count": null,
   "id": "c3a51f00-04e2-4f5e-91f8-6379f0bfeb0b",
   "metadata": {},
   "outputs": [],
   "source": [
    "# visualize stimuli traces\n",
    "\n",
    "\n"
   ]
  }
 ],
 "metadata": {
  "kernelspec": {
   "display_name": "Python 3 (ipykernel)",
   "language": "python",
   "name": "python3"
  },
  "language_info": {
   "codemirror_mode": {
    "name": "ipython",
    "version": 3
   },
   "file_extension": ".py",
   "mimetype": "text/x-python",
   "name": "python",
   "nbconvert_exporter": "python",
   "pygments_lexer": "ipython3",
   "version": "3.8.13"
  }
 },
 "nbformat": 4,
 "nbformat_minor": 5
}
