{
 "cells": [
  {
   "cell_type": "code",
   "execution_count": 1,
   "id": "5fa07699-f5ea-41e5-a9a2-65f2497a9c23",
   "metadata": {},
   "outputs": [],
   "source": [
    "import numpy as np\n",
    "import random\n",
    "seed = 666\n",
    "random.seed(seed)\n",
    "np.random.seed(seed)\n",
    "\n",
    "import matplotlib.pyplot as plt\n",
    "\n",
    "from sklearn.model_selection import KFold, StratifiedKFold\n",
    "from sklearn.metrics import accuracy_score, roc_auc_score\n",
    "\n",
    "from clusterless import data_preprocess\n",
    "from clusterless import viz_tools\n",
    "from clusterless import init_gmm\n",
    "from clusterless import split_merge\n",
    "from clusterless import smooth_signals\n",
    "from clusterless import decode_static"
   ]
  },
  {
   "cell_type": "code",
   "execution_count": 2,
   "id": "199ac9e2-fde4-4d2a-8509-edced4230d55",
   "metadata": {},
   "outputs": [],
   "source": [
    "rootpath = \"data\"\n",
    "sub_id = \"dy016\"\n",
    "samp_freq = 30_000"
   ]
  },
  {
   "cell_type": "code",
   "execution_count": 3,
   "id": "5993bf2a-6d36-439d-8fa2-046e126a1a65",
   "metadata": {},
   "outputs": [
    {
     "name": "stdout",
     "output_type": "stream",
     "text": [
      "choices left: 0.769, right: 0.231\n",
      "stimuli left: 0.507, right: 0.493\n",
      "reward wrong: 0.231, correct: 0.769\n"
     ]
    }
   ],
   "source": [
    "# load behavior data\n",
    "behave_dict, behave_idx_dict = data_preprocess.load_behaviors_data(rootpath, sub_id)\n",
    "\n",
    "# preprocess behavior data\n",
    "choices, stimuli, transformed_stimuli, one_hot_stimuli, rewards, priors = data_preprocess.preprocess_static_behaviors(behave_dict)\n",
    "static_behaviors = {'choice': choices, 'stimulus': one_hot_stimuli}"
   ]
  },
  {
   "cell_type": "markdown",
   "id": "c86bd4b1-6e04-47e8-a441-53b174637819",
   "metadata": {},
   "source": [
    "all"
   ]
  },
  {
   "cell_type": "code",
   "execution_count": 4,
   "id": "bb145731-0328-4c81-af82-a016b93631e6",
   "metadata": {},
   "outputs": [],
   "source": [
    "# load sorted data\n",
    "ks_spikes_times, ks_spikes_clusters, ks_spikes_amps, ks_spikes_depths, sorted, ks_trials = \\\n",
    "    data_preprocess.load_kilosort_sorted_data(rootpath, sub_id, keep_active_trials=False, samp_freq=samp_freq)\n",
    "\n",
    "# load kilosort units that passed ibl's quality metrics\n",
    "good_ks_spikes_indices = data_preprocess.load_kilosort_good_ibl_units(rootpath, sub_id, roi='all', keep_active_trials = False, samp_freq=30_000)"
   ]
  },
  {
   "cell_type": "code",
   "execution_count": 5,
   "id": "ee5d4099-fd08-4479-a3c2-6c1911afdf58",
   "metadata": {},
   "outputs": [],
   "source": [
    "# load unsorted data\n",
    "spikes_indices, spikes_features, np1_channel_map, stimulus_onset_times, unsorted, trials = \\\n",
    "    data_preprocess.load_unsorted_data(rootpath, sub_id, roi='all', keep_active_trials=False, samp_freq=samp_freq)\n",
    "\n",
    "# load clusterless model\n",
    "trials_ids = np.arange(len(trials))\n",
    "spikes_times = np.vstack([trials[i] for i in trials_ids])[:,0]\n",
    "structured_unsorted = np.vstack([trials[i] for i in trials_ids])[:,1:] # follows time order\n",
    "\n",
    "# load gmm after split-merge\n",
    "gmm = split_merge.merge_gaussians('.', sub_id, structured_unsorted, post_split_gmm=None, post_split_labels=None, merge_ids=None, fit_model=False)\n",
    "labels = gmm.predict(structured_unsorted)\n",
    "probs = gmm.predict_proba(structured_unsorted)"
   ]
  },
  {
   "cell_type": "code",
   "execution_count": 6,
   "id": "84da72d9-5dbb-45ac-9909-5ffa00cc4b36",
   "metadata": {},
   "outputs": [],
   "source": [
    "# prepare time binned neural activity for decoding\n",
    "n_projs = 10\n",
    "neural_data_dict = dict()\n",
    "tpca_recon_dict = dict()\n",
    "\n",
    "sorted_neural_data = data_preprocess.compute_time_binned_neural_activity((ks_spikes_times, ks_spikes_clusters), 'sorted', stimulus_onset_times, regional=False)\n",
    "sorted_tpca_proj, sorted_tpca_recon = smooth_signals.tpca(sorted_neural_data, n_projs=n_projs)\n",
    "neural_data_dict.update({'sorted': sorted_neural_data})\n",
    "tpca_recon_dict.update({'sorted': sorted_tpca_recon})\n",
    "\n",
    "good_ks_neural_data = data_preprocess.compute_time_binned_neural_activity(good_ks_spikes_indices, 'good units', stimulus_onset_times, regional=False)\n",
    "good_ks_tpca_proj, good_ks_tpca_recon = smooth_signals.tpca(good_ks_neural_data, n_projs=n_projs)\n",
    "neural_data_dict.update({'good units': good_ks_neural_data})\n",
    "tpca_recon_dict.update({'good units': good_ks_tpca_recon})\n",
    "\n",
    "unsorted_neural_data = data_preprocess.compute_time_binned_neural_activity(spikes_indices, 'unsorted', stimulus_onset_times, regional=False)\n",
    "unsorted_tpca_proj, unsorted_tpca_recon = smooth_signals.tpca(unsorted_neural_data, n_projs=n_projs)\n",
    "neural_data_dict.update({'unsorted': unsorted_neural_data})\n",
    "tpca_recon_dict.update({'unsorted': unsorted_tpca_recon})\n",
    "\n",
    "clusterless_neural_data = data_preprocess.\\\n",
    "    compute_time_binned_neural_activity((spikes_times, labels, probs), \n",
    "                                            'clusterless', stimulus_onset_times, regional=False)\n",
    "clusterless_tpca_proj, clusterless_tpca_recon = smooth_signals.tpca(clusterless_neural_data, n_projs=n_projs)\n",
    "neural_data_dict.update({'clusterless': clusterless_neural_data})\n",
    "tpca_recon_dict.update({'clusterless': clusterless_tpca_recon})"
   ]
  },
  {
   "cell_type": "code",
   "execution_count": 7,
   "id": "bdd7b89d-339a-4b28-84de-07ded194052f",
   "metadata": {},
   "outputs": [
    {
     "name": "stdout",
     "output_type": "stream",
     "text": [
      "sorted decoding ...\n",
      "choice fold 1 test accuracy: 0.948 auc: 0.993\n",
      "choice fold 2 test accuracy: 0.877 auc: 0.946\n",
      "choice fold 3 test accuracy: 0.912 auc: 0.944\n",
      "choice fold 4 test accuracy: 0.930 auc: 0.978\n",
      "choice fold 5 test accuracy: 0.912 auc: 0.853\n",
      "choice mean of 5-fold cv accuracy: 0.916 auc: 0.943\n",
      "choice sd of 5-fold cv accuracy: 0.024 auc: 0.049\n",
      "good units decoding ...\n",
      "choice fold 1 test accuracy: 0.897 auc: 0.966\n",
      "choice fold 2 test accuracy: 0.860 auc: 0.942\n",
      "choice fold 3 test accuracy: 0.947 auc: 0.959\n",
      "choice fold 4 test accuracy: 0.895 auc: 0.978\n",
      "choice fold 5 test accuracy: 0.930 auc: 0.874\n",
      "choice mean of 5-fold cv accuracy: 0.906 auc: 0.944\n",
      "choice sd of 5-fold cv accuracy: 0.030 auc: 0.037\n",
      "unsorted decoding ...\n",
      "choice fold 1 test accuracy: 0.948 auc: 0.978\n",
      "choice fold 2 test accuracy: 0.860 auc: 0.953\n",
      "choice fold 3 test accuracy: 0.930 auc: 0.959\n",
      "choice fold 4 test accuracy: 0.912 auc: 0.984\n",
      "choice fold 5 test accuracy: 0.895 auc: 0.917\n",
      "choice mean of 5-fold cv accuracy: 0.909 auc: 0.958\n",
      "choice sd of 5-fold cv accuracy: 0.030 auc: 0.024\n",
      "clusterless decoding ...\n",
      "choice fold 1 test accuracy: 0.931 auc: 0.973\n",
      "choice fold 2 test accuracy: 0.842 auc: 0.950\n",
      "choice fold 3 test accuracy: 0.965 auc: 0.954\n",
      "choice fold 4 test accuracy: 0.965 auc: 0.990\n",
      "choice fold 5 test accuracy: 0.930 auc: 0.934\n",
      "choice mean of 5-fold cv accuracy: 0.927 auc: 0.960\n",
      "choice sd of 5-fold cv accuracy: 0.045 auc: 0.019\n",
      "sorted decoding ...\n",
      "stimulus fold 1 test accuracy: 0.414 auc: 0.801\n",
      "stimulus fold 2 test accuracy: 0.368 auc: 0.796\n",
      "stimulus fold 3 test accuracy: 0.281 auc: 0.763\n",
      "stimulus fold 4 test accuracy: 0.368 auc: 0.815\n",
      "stimulus fold 5 test accuracy: 0.368 auc: 0.701\n",
      "stimulus mean of 5-fold cv accuracy: 0.360 auc: 0.775\n",
      "stimulus sd of 5-fold cv accuracy: 0.043 auc: 0.041\n",
      "good units decoding ...\n",
      "stimulus fold 1 test accuracy: 0.379 auc: 0.850\n",
      "stimulus fold 2 test accuracy: 0.316 auc: 0.803\n",
      "stimulus fold 3 test accuracy: 0.333 auc: 0.793\n",
      "stimulus fold 4 test accuracy: 0.368 auc: 0.825\n",
      "stimulus fold 5 test accuracy: 0.421 auc: 0.752\n",
      "stimulus mean of 5-fold cv accuracy: 0.364 auc: 0.804\n",
      "stimulus sd of 5-fold cv accuracy: 0.037 auc: 0.033\n",
      "unsorted decoding ...\n",
      "stimulus fold 1 test accuracy: 0.328 auc: 0.804\n",
      "stimulus fold 2 test accuracy: 0.333 auc: 0.782\n",
      "stimulus fold 3 test accuracy: 0.228 auc: 0.772\n",
      "stimulus fold 4 test accuracy: 0.351 auc: 0.788\n",
      "stimulus fold 5 test accuracy: 0.316 auc: 0.713\n",
      "stimulus mean of 5-fold cv accuracy: 0.311 auc: 0.772\n",
      "stimulus sd of 5-fold cv accuracy: 0.043 auc: 0.031\n",
      "clusterless decoding ...\n",
      "stimulus fold 1 test accuracy: 0.362 auc: 0.820\n",
      "stimulus fold 2 test accuracy: 0.333 auc: 0.772\n",
      "stimulus fold 3 test accuracy: 0.263 auc: 0.765\n",
      "stimulus fold 4 test accuracy: 0.351 auc: 0.810\n",
      "stimulus fold 5 test accuracy: 0.333 auc: 0.709\n",
      "stimulus mean of 5-fold cv accuracy: 0.329 auc: 0.775\n",
      "stimulus sd of 5-fold cv accuracy: 0.034 auc: 0.039\n"
     ]
    }
   ],
   "source": [
    "# decode using original neural activity\n",
    "all_decode_results = {'choice': dict(), 'stimulus': dict()}\n",
    "\n",
    "for behave_type in all_decode_results.keys():\n",
    "    for data_type in neural_data_dict.keys():\n",
    "        print(f'{data_type} decoding ...')\n",
    "        decode_results = decode_static.cv_decode_static(neural_data_dict[data_type], static_behaviors[behave_type], behave_type=behave_type, n_folds=5, seed=seed, shuffle=True)\n",
    "        all_decode_results[behave_type].update({data_type: decode_results})\n",
    "np.save(f'{rootpath}/{sub_id}/decode_results/all_decode_results', all_decode_results)"
   ]
  },
  {
   "cell_type": "code",
   "execution_count": 8,
   "id": "cf782dcb-fa48-4be7-80e9-ba6f65a1873e",
   "metadata": {},
   "outputs": [
    {
     "name": "stdout",
     "output_type": "stream",
     "text": [
      "sorted decoding ...\n",
      "choice fold 1 test accuracy: 0.966 auc: 0.991\n",
      "choice fold 2 test accuracy: 0.860 auc: 0.962\n",
      "choice fold 3 test accuracy: 0.947 auc: 0.954\n",
      "choice fold 4 test accuracy: 0.947 auc: 0.990\n",
      "choice fold 5 test accuracy: 0.895 auc: 0.849\n",
      "choice mean of 5-fold cv accuracy: 0.923 auc: 0.949\n",
      "choice sd of 5-fold cv accuracy: 0.040 auc: 0.052\n",
      "good units decoding ...\n",
      "choice fold 1 test accuracy: 0.914 auc: 0.973\n",
      "choice fold 2 test accuracy: 0.877 auc: 0.954\n",
      "choice fold 3 test accuracy: 0.947 auc: 0.949\n",
      "choice fold 4 test accuracy: 0.947 auc: 0.992\n",
      "choice fold 5 test accuracy: 0.895 auc: 0.809\n",
      "choice mean of 5-fold cv accuracy: 0.916 auc: 0.935\n",
      "choice sd of 5-fold cv accuracy: 0.028 auc: 0.065\n",
      "unsorted decoding ...\n",
      "choice fold 1 test accuracy: 0.948 auc: 0.985\n",
      "choice fold 2 test accuracy: 0.842 auc: 0.964\n",
      "choice fold 3 test accuracy: 0.947 auc: 0.957\n",
      "choice fold 4 test accuracy: 0.930 auc: 0.994\n",
      "choice fold 5 test accuracy: 0.877 auc: 0.915\n",
      "choice mean of 5-fold cv accuracy: 0.909 auc: 0.963\n",
      "choice sd of 5-fold cv accuracy: 0.042 auc: 0.027\n",
      "clusterless decoding ...\n",
      "choice fold 1 test accuracy: 0.914 auc: 0.985\n",
      "choice fold 2 test accuracy: 0.842 auc: 0.964\n",
      "choice fold 3 test accuracy: 0.965 auc: 0.964\n",
      "choice fold 4 test accuracy: 0.965 auc: 0.997\n",
      "choice fold 5 test accuracy: 0.912 auc: 0.923\n",
      "choice mean of 5-fold cv accuracy: 0.920 auc: 0.967\n",
      "choice sd of 5-fold cv accuracy: 0.045 auc: 0.025\n",
      "sorted decoding ...\n",
      "stimulus fold 1 test accuracy: 0.448 auc: 0.812\n",
      "stimulus fold 2 test accuracy: 0.404 auc: 0.805\n",
      "stimulus fold 3 test accuracy: 0.281 auc: 0.760\n",
      "stimulus fold 4 test accuracy: 0.298 auc: 0.808\n",
      "stimulus fold 5 test accuracy: 0.386 auc: 0.719\n",
      "stimulus mean of 5-fold cv accuracy: 0.363 auc: 0.781\n",
      "stimulus sd of 5-fold cv accuracy: 0.064 auc: 0.036\n",
      "good units decoding ...\n",
      "stimulus fold 1 test accuracy: 0.431 auc: 0.857\n",
      "stimulus fold 2 test accuracy: 0.333 auc: 0.799\n",
      "stimulus fold 3 test accuracy: 0.351 auc: 0.790\n",
      "stimulus fold 4 test accuracy: 0.316 auc: 0.816\n",
      "stimulus fold 5 test accuracy: 0.439 auc: 0.754\n",
      "stimulus mean of 5-fold cv accuracy: 0.374 auc: 0.803\n",
      "stimulus sd of 5-fold cv accuracy: 0.051 auc: 0.034\n",
      "unsorted decoding ...\n",
      "stimulus fold 1 test accuracy: 0.310 auc: 0.806\n",
      "stimulus fold 2 test accuracy: 0.368 auc: 0.770\n",
      "stimulus fold 3 test accuracy: 0.211 auc: 0.768\n",
      "stimulus fold 4 test accuracy: 0.351 auc: 0.789\n",
      "stimulus fold 5 test accuracy: 0.333 auc: 0.721\n",
      "stimulus mean of 5-fold cv accuracy: 0.315 auc: 0.771\n",
      "stimulus sd of 5-fold cv accuracy: 0.056 auc: 0.028\n",
      "clusterless decoding ...\n",
      "stimulus fold 1 test accuracy: 0.362 auc: 0.814\n",
      "stimulus fold 2 test accuracy: 0.368 auc: 0.768\n",
      "stimulus fold 3 test accuracy: 0.263 auc: 0.764\n",
      "stimulus fold 4 test accuracy: 0.368 auc: 0.809\n",
      "stimulus fold 5 test accuracy: 0.351 auc: 0.714\n",
      "stimulus mean of 5-fold cv accuracy: 0.343 auc: 0.774\n",
      "stimulus sd of 5-fold cv accuracy: 0.040 auc: 0.036\n"
     ]
    }
   ],
   "source": [
    "# decode using smoothed neural activity by tpca\n",
    "all_tpca_decode_results = {'choice': dict(), 'stimulus': dict()}\n",
    "\n",
    "for behave_type in all_tpca_decode_results.keys():\n",
    "    for data_type in tpca_recon_dict.keys():\n",
    "        print(f'{data_type} decoding ...')\n",
    "        decode_results = decode_static.cv_decode_static(tpca_recon_dict[data_type], static_behaviors[behave_type], behave_type=behave_type, n_folds=5, seed=seed, shuffle=True)\n",
    "        all_tpca_decode_results[behave_type].update({data_type: decode_results})\n",
    "np.save(f'{rootpath}/{sub_id}/decode_results/all_tpca_decode_results', all_tpca_decode_results)"
   ]
  },
  {
   "cell_type": "code",
   "execution_count": 9,
   "id": "c04109dc-0962-4e0a-9b6a-cea782eb27be",
   "metadata": {},
   "outputs": [],
   "source": [
    "# load decoding results for plotting\n",
    "all_decode_results = np.load(f'{rootpath}/{sub_id}/decode_results/all_decode_results.npy', allow_pickle=True).item()\n",
    "all_tpca_decode_results = np.load(f'{rootpath}/{sub_id}/decode_results/all_tpca_decode_results.npy', allow_pickle=True).item()"
   ]
  },
  {
   "cell_type": "markdown",
   "id": "81f1fc34-b7b9-4645-a7dc-f985e7488aeb",
   "metadata": {},
   "source": [
    "regional"
   ]
  },
  {
   "cell_type": "code",
   "execution_count": 39,
   "id": "172c461a-aec5-4d23-8a23-0392d401a389",
   "metadata": {},
   "outputs": [],
   "source": [
    "rois = ['PO', 'LP', 'DG', 'CA1', 'PPC']\n",
    "roi = rois[4]"
   ]
  },
  {
   "cell_type": "code",
   "execution_count": 40,
   "id": "5a19d3a6-40de-4290-a723-27a60eb8f4aa",
   "metadata": {},
   "outputs": [],
   "source": [
    "# load sorted data\n",
    "regional_sorted = data_preprocess.load_kilosort_sorted_data(rootpath, sub_id, roi=roi, keep_active_trials = False, samp_freq=30_000)\n",
    "\n",
    "# load kilosort units that passed ibl's quality metrics\n",
    "regional_good_spikes_indices = data_preprocess.load_kilosort_good_ibl_units(rootpath, sub_id, roi=roi, keep_active_trials = False, samp_freq=30_000)"
   ]
  },
  {
   "cell_type": "code",
   "execution_count": 41,
   "id": "25f4961b-8105-4b4e-b406-7a9cd9c6c849",
   "metadata": {},
   "outputs": [
    {
     "name": "stdout",
     "output_type": "stream",
     "text": [
      "found 15 channels in roi PPC\n"
     ]
    }
   ],
   "source": [
    "# load unsorted datas\n",
    "regional_trials = data_preprocess.load_unsorted_data(rootpath, sub_id, roi=roi, keep_active_trials=False, samp_freq=30_000)\n",
    "regional_spikes_times = np.vstack([regional_trials[i] for i in range(len(regional_trials))])[:,0]\n",
    "regional_unsorted = np.vstack([regional_trials[i] for i in range(len(regional_trials))])[:,:2]\n",
    "\n",
    "# load clusterless data\n",
    "regional_clusterless = np.vstack([regional_trials[i] for i in range(len(regional_trials))])[:,2:]\n",
    "\n",
    "# load gmm after split-merge\n",
    "gmm = split_merge.merge_gaussians('.', sub_id, structured_unsorted, post_split_gmm=None, post_split_labels=None, merge_ids=None, fit_model=False)\n",
    "regional_labels = gmm.predict(regional_clusterless)\n",
    "regional_probs = gmm.predict_proba(regional_clusterless)"
   ]
  },
  {
   "cell_type": "code",
   "execution_count": 42,
   "id": "17b54584-0708-49a9-9def-9cc47ebb7e0f",
   "metadata": {},
   "outputs": [],
   "source": [
    "# prepare time binned neural activity for decoding\n",
    "n_projs = 10\n",
    "neural_data_dict = dict()\n",
    "tpca_recon_dict = dict()\n",
    "\n",
    "regional_sorted_neural_data = data_preprocess.compute_time_binned_neural_activity(regional_sorted, 'sorted', stimulus_onset_times, regional=True)\n",
    "regional_sorted_tpca_proj, regional_sorted_tpca_recon = smooth_signals.tpca(regional_sorted_neural_data, n_projs=n_projs)\n",
    "neural_data_dict.update({'sorted': regional_sorted_neural_data})\n",
    "tpca_recon_dict.update({'sorted': regional_sorted_tpca_recon})\n",
    "\n",
    "regional_good_neural_data = data_preprocess.compute_time_binned_neural_activity(regional_good_spikes_indices, 'good units', stimulus_onset_times, regional=True)\n",
    "regional_good_tpca_proj, regional_good_tpca_recon = smooth_signals.tpca(regional_good_neural_data, n_projs=n_projs)\n",
    "neural_data_dict.update({'good units': regional_good_neural_data})\n",
    "tpca_recon_dict.update({'good units': regional_good_tpca_recon})\n",
    "\n",
    "regional_unsorted_neural_data = data_preprocess.compute_time_binned_neural_activity(regional_unsorted, 'unsorted', stimulus_onset_times, regional=True)\n",
    "regional_unsorted_tpca_proj, regional_unsorted_tpca_recon = smooth_signals.tpca(regional_unsorted_neural_data, n_projs=n_projs)\n",
    "neural_data_dict.update({'unsorted': regional_unsorted_neural_data})\n",
    "tpca_recon_dict.update({'unsorted': regional_unsorted_tpca_recon})\n",
    "\n",
    "regional_clusterless_neural_data = data_preprocess.\\\n",
    "    compute_time_binned_neural_activity((regional_spikes_times, regional_labels, regional_probs), \n",
    "                                            'clusterless', stimulus_onset_times, regional=True)\n",
    "regional_clusterless_tpca_proj, regional_clusterless_tpca_recon = smooth_signals.tpca(regional_clusterless_neural_data, n_projs=n_projs)\n",
    "neural_data_dict.update({'clusterless': regional_clusterless_neural_data})\n",
    "tpca_recon_dict.update({'clusterless': regional_clusterless_tpca_recon})"
   ]
  },
  {
   "cell_type": "code",
   "execution_count": 43,
   "id": "65d5078e-5e38-4923-aeab-7414a1fc3e44",
   "metadata": {},
   "outputs": [
    {
     "name": "stdout",
     "output_type": "stream",
     "text": [
      "sorted decoding ...\n",
      "choice fold 1 test accuracy: 0.776 auc: 0.824\n",
      "choice fold 2 test accuracy: 0.684 auc: 0.645\n",
      "choice fold 3 test accuracy: 0.895 auc: 0.732\n",
      "choice fold 4 test accuracy: 0.719 auc: 0.686\n",
      "choice fold 5 test accuracy: 0.807 auc: 0.726\n",
      "choice mean of 5-fold cv accuracy: 0.776 auc: 0.722\n",
      "choice sd of 5-fold cv accuracy: 0.073 auc: 0.060\n",
      "good units decoding ...\n",
      "choice fold 1 test accuracy: 0.776 auc: 0.598\n",
      "choice fold 2 test accuracy: 0.649 auc: 0.666\n",
      "choice fold 3 test accuracy: 0.860 auc: 0.597\n",
      "choice fold 4 test accuracy: 0.737 auc: 0.621\n",
      "choice fold 5 test accuracy: 0.825 auc: 0.430\n",
      "choice mean of 5-fold cv accuracy: 0.769 auc: 0.582\n",
      "choice sd of 5-fold cv accuracy: 0.073 auc: 0.080\n",
      "unsorted decoding ...\n",
      "choice fold 1 test accuracy: 0.776 auc: 0.665\n",
      "choice fold 2 test accuracy: 0.649 auc: 0.522\n",
      "choice fold 3 test accuracy: 0.860 auc: 0.582\n",
      "choice fold 4 test accuracy: 0.737 auc: 0.541\n",
      "choice fold 5 test accuracy: 0.825 auc: 0.709\n",
      "choice mean of 5-fold cv accuracy: 0.769 auc: 0.604\n",
      "choice sd of 5-fold cv accuracy: 0.073 auc: 0.072\n",
      "clusterless decoding ...\n",
      "choice fold 1 test accuracy: 0.776 auc: 0.696\n",
      "choice fold 2 test accuracy: 0.667 auc: 0.589\n",
      "choice fold 3 test accuracy: 0.842 auc: 0.628\n",
      "choice fold 4 test accuracy: 0.737 auc: 0.619\n",
      "choice fold 5 test accuracy: 0.825 auc: 0.726\n",
      "choice mean of 5-fold cv accuracy: 0.769 auc: 0.651\n",
      "choice sd of 5-fold cv accuracy: 0.063 auc: 0.051\n",
      "sorted decoding ...\n",
      "stimulus fold 1 test accuracy: 0.224 auc: 0.553\n",
      "stimulus fold 2 test accuracy: 0.193 auc: 0.534\n",
      "stimulus fold 3 test accuracy: 0.140 auc: 0.505\n",
      "stimulus fold 4 test accuracy: 0.175 auc: 0.558\n",
      "stimulus fold 5 test accuracy: 0.263 auc: 0.648\n",
      "stimulus mean of 5-fold cv accuracy: 0.199 auc: 0.560\n",
      "stimulus sd of 5-fold cv accuracy: 0.042 auc: 0.048\n",
      "good units decoding ...\n",
      "stimulus fold 1 test accuracy: 0.155 auc: 0.612\n",
      "stimulus fold 2 test accuracy: 0.211 auc: 0.637\n",
      "stimulus fold 3 test accuracy: 0.193 auc: 0.571\n",
      "stimulus fold 4 test accuracy: 0.193 auc: 0.593\n",
      "stimulus fold 5 test accuracy: 0.246 auc: 0.579\n",
      "stimulus mean of 5-fold cv accuracy: 0.199 auc: 0.598\n",
      "stimulus sd of 5-fold cv accuracy: 0.029 auc: 0.024\n",
      "unsorted decoding ...\n",
      "stimulus fold 1 test accuracy: 0.190 auc: 0.628\n",
      "stimulus fold 2 test accuracy: 0.228 auc: 0.640\n",
      "stimulus fold 3 test accuracy: 0.193 auc: 0.559\n",
      "stimulus fold 4 test accuracy: 0.193 auc: 0.631\n",
      "stimulus fold 5 test accuracy: 0.298 auc: 0.622\n",
      "stimulus mean of 5-fold cv accuracy: 0.220 auc: 0.616\n",
      "stimulus sd of 5-fold cv accuracy: 0.041 auc: 0.029\n",
      "clusterless decoding ...\n",
      "stimulus fold 1 test accuracy: 0.259 auc: 0.655\n",
      "stimulus fold 2 test accuracy: 0.193 auc: 0.672\n",
      "stimulus fold 3 test accuracy: 0.193 auc: 0.664\n",
      "stimulus fold 4 test accuracy: 0.175 auc: 0.619\n",
      "stimulus fold 5 test accuracy: 0.316 auc: 0.666\n",
      "stimulus mean of 5-fold cv accuracy: 0.227 auc: 0.655\n",
      "stimulus sd of 5-fold cv accuracy: 0.053 auc: 0.019\n"
     ]
    }
   ],
   "source": [
    "# decode using original neural activity\n",
    "regional_decode_results = {'choice': dict(), 'stimulus': dict()}\n",
    "\n",
    "for behave_type in regional_decode_results.keys():\n",
    "    for data_type in neural_data_dict.keys():\n",
    "        print(f'{data_type} decoding ...')\n",
    "        decode_results = decode_static.cv_decode_static(neural_data_dict[data_type], static_behaviors[behave_type], behave_type=behave_type, n_folds=5, seed=seed, shuffle=True)\n",
    "        regional_decode_results[behave_type].update({data_type: decode_results})\n",
    "np.save(f'{rootpath}/{sub_id}/decode_results/{roi.lower()}_decode_results', regional_decode_results)"
   ]
  },
  {
   "cell_type": "code",
   "execution_count": 44,
   "id": "73f8d616-b4d1-473a-8d1a-39eef86cf6bc",
   "metadata": {},
   "outputs": [
    {
     "name": "stdout",
     "output_type": "stream",
     "text": [
      "sorted decoding ...\n",
      "choice fold 1 test accuracy: 0.810 auc: 0.838\n",
      "choice fold 2 test accuracy: 0.702 auc: 0.665\n",
      "choice fold 3 test accuracy: 0.807 auc: 0.760\n",
      "choice fold 4 test accuracy: 0.789 auc: 0.768\n",
      "choice fold 5 test accuracy: 0.842 auc: 0.847\n",
      "choice mean of 5-fold cv accuracy: 0.790 auc: 0.776\n",
      "choice sd of 5-fold cv accuracy: 0.047 auc: 0.066\n",
      "good units decoding ...\n",
      "choice fold 1 test accuracy: 0.776 auc: 0.581\n",
      "choice fold 2 test accuracy: 0.649 auc: 0.691\n",
      "choice fold 3 test accuracy: 0.860 auc: 0.638\n",
      "choice fold 4 test accuracy: 0.737 auc: 0.690\n",
      "choice fold 5 test accuracy: 0.825 auc: 0.379\n",
      "choice mean of 5-fold cv accuracy: 0.769 auc: 0.596\n",
      "choice sd of 5-fold cv accuracy: 0.073 auc: 0.116\n",
      "unsorted decoding ...\n",
      "choice fold 1 test accuracy: 0.776 auc: 0.687\n",
      "choice fold 2 test accuracy: 0.649 auc: 0.623\n",
      "choice fold 3 test accuracy: 0.842 auc: 0.610\n",
      "choice fold 4 test accuracy: 0.649 auc: 0.476\n",
      "choice fold 5 test accuracy: 0.825 auc: 0.643\n",
      "choice mean of 5-fold cv accuracy: 0.748 auc: 0.608\n",
      "choice sd of 5-fold cv accuracy: 0.084 auc: 0.071\n",
      "clusterless decoding ...\n",
      "choice fold 1 test accuracy: 0.776 auc: 0.791\n",
      "choice fold 2 test accuracy: 0.649 auc: 0.707\n",
      "choice fold 3 test accuracy: 0.842 auc: 0.599\n",
      "choice fold 4 test accuracy: 0.737 auc: 0.649\n",
      "choice fold 5 test accuracy: 0.842 auc: 0.732\n",
      "choice mean of 5-fold cv accuracy: 0.769 auc: 0.696\n",
      "choice sd of 5-fold cv accuracy: 0.072 auc: 0.066\n",
      "sorted decoding ...\n",
      "stimulus fold 1 test accuracy: 0.207 auc: 0.615\n",
      "stimulus fold 2 test accuracy: 0.228 auc: 0.622\n",
      "stimulus fold 3 test accuracy: 0.158 auc: 0.591\n",
      "stimulus fold 4 test accuracy: 0.228 auc: 0.616\n",
      "stimulus fold 5 test accuracy: 0.316 auc: 0.682\n",
      "stimulus mean of 5-fold cv accuracy: 0.227 auc: 0.625\n",
      "stimulus sd of 5-fold cv accuracy: 0.051 auc: 0.030\n",
      "good units decoding ...\n",
      "stimulus fold 1 test accuracy: 0.207 auc: 0.582\n",
      "stimulus fold 2 test accuracy: 0.228 auc: 0.596\n",
      "stimulus fold 3 test accuracy: 0.158 auc: 0.662\n",
      "stimulus fold 4 test accuracy: 0.175 auc: 0.599\n",
      "stimulus fold 5 test accuracy: 0.228 auc: 0.587\n",
      "stimulus mean of 5-fold cv accuracy: 0.199 auc: 0.605\n",
      "stimulus sd of 5-fold cv accuracy: 0.028 auc: 0.029\n",
      "unsorted decoding ...\n",
      "stimulus fold 1 test accuracy: 0.224 auc: 0.663\n",
      "stimulus fold 2 test accuracy: 0.193 auc: 0.651\n",
      "stimulus fold 3 test accuracy: 0.175 auc: 0.704\n",
      "stimulus fold 4 test accuracy: 0.246 auc: 0.616\n",
      "stimulus fold 5 test accuracy: 0.263 auc: 0.650\n",
      "stimulus mean of 5-fold cv accuracy: 0.220 auc: 0.657\n",
      "stimulus sd of 5-fold cv accuracy: 0.032 auc: 0.028\n",
      "clusterless decoding ...\n",
      "stimulus fold 1 test accuracy: 0.207 auc: 0.660\n",
      "stimulus fold 2 test accuracy: 0.123 auc: 0.676\n",
      "stimulus fold 3 test accuracy: 0.211 auc: 0.659\n",
      "stimulus fold 4 test accuracy: 0.211 auc: 0.623\n",
      "stimulus fold 5 test accuracy: 0.246 auc: 0.642\n",
      "stimulus mean of 5-fold cv accuracy: 0.199 auc: 0.652\n",
      "stimulus sd of 5-fold cv accuracy: 0.041 auc: 0.018\n"
     ]
    }
   ],
   "source": [
    "# decode using smoothed neural activity by tpca\n",
    "regional_tpca_decode_results = {'choice': dict(), 'stimulus': dict()}\n",
    "\n",
    "for behave_type in all_tpca_decode_results.keys():\n",
    "    for data_type in tpca_recon_dict.keys():\n",
    "        print(f'{data_type} decoding ...')\n",
    "        decode_results = decode_static.cv_decode_static(tpca_recon_dict[data_type], static_behaviors[behave_type], behave_type=behave_type, n_folds=5, seed=seed, shuffle=True)\n",
    "        regional_tpca_decode_results[behave_type].update({data_type: decode_results})\n",
    "np.save(f'{rootpath}/{sub_id}/decode_results/{roi.lower()}_tpca_decode_results', regional_tpca_decode_results)"
   ]
  },
  {
   "cell_type": "code",
   "execution_count": 45,
   "id": "accf445c-d321-40ae-a039-7cfed7eec339",
   "metadata": {},
   "outputs": [],
   "source": [
    "# load decoding results for plotting\n",
    "regional_decode_results = np.load(f'{rootpath}/{sub_id}/decode_results/{roi.lower()}_decode_results.npy', allow_pickle=True).item()\n",
    "regional_tpca_decode_results = np.load(f'{rootpath}/{sub_id}/decode_results/{roi.lower()}_tpca_decode_results.npy', allow_pickle=True).item()"
   ]
  },
  {
   "cell_type": "markdown",
   "id": "78a116cb-a9bf-4130-9c9b-02d4d28cf520",
   "metadata": {},
   "source": [
    "plotting"
   ]
  },
  {
   "cell_type": "code",
   "execution_count": null,
   "id": "39a61d1d-148f-46af-a5e2-be4b82f39b03",
   "metadata": {},
   "outputs": [],
   "source": [
    "# box plots for choice \n",
    "\n"
   ]
  },
  {
   "cell_type": "code",
   "execution_count": null,
   "id": "024d14e9-cc02-44fd-a1c9-4296b206dd79",
   "metadata": {},
   "outputs": [],
   "source": [
    "# box plots for stimuli\n",
    "\n"
   ]
  },
  {
   "cell_type": "code",
   "execution_count": null,
   "id": "c3a51f00-04e2-4f5e-91f8-6379f0bfeb0b",
   "metadata": {},
   "outputs": [],
   "source": [
    "# visualize stimuli traces\n",
    "\n",
    "\n"
   ]
  }
 ],
 "metadata": {
  "kernelspec": {
   "display_name": "Python 3 (ipykernel)",
   "language": "python",
   "name": "python3"
  },
  "language_info": {
   "codemirror_mode": {
    "name": "ipython",
    "version": 3
   },
   "file_extension": ".py",
   "mimetype": "text/x-python",
   "name": "python",
   "nbconvert_exporter": "python",
   "pygments_lexer": "ipython3",
   "version": "3.8.13"
  }
 },
 "nbformat": 4,
 "nbformat_minor": 5
}
