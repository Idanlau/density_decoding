{
 "cells": [
  {
   "cell_type": "code",
   "execution_count": 1,
   "id": "b33f6e85-2671-408d-8d06-555af6174e1b",
   "metadata": {},
   "outputs": [],
   "source": [
    "import numpy as np\n",
    "import random\n",
    "seed = 666\n",
    "random.seed(seed)\n",
    "np.random.seed(seed)\n",
    "\n",
    "import matplotlib.pyplot as plt\n",
    "\n",
    "from unidip import UniDip\n",
    "from sklearn.mixture import GaussianMixture\n",
    "\n",
    "from clusterless import data_preprocess\n",
    "from clusterless import viz_tools\n",
    "from clusterless import decode_static"
   ]
  },
  {
   "cell_type": "markdown",
   "id": "82b62237-6283-442a-b611-e2f23193ac69",
   "metadata": {},
   "source": [
    "load data"
   ]
  },
  {
   "cell_type": "code",
   "execution_count": 2,
   "id": "cca4f881-e498-4faa-aac8-034b3ff018f8",
   "metadata": {},
   "outputs": [],
   "source": [
    "pid = 'febb430e-2d50-4f83-87a0-b5ffbb9a4943'\n",
    "rootpath = '/mnt/3TB/yizi/Downloads/ONE/openalyx.internationalbrainlab.org'\n",
    "trial_data_path = rootpath + '/danlab/Subjects/DY_009/2020-02-27/001/alf'\n",
    "neural_data_path = '/mnt/3TB/yizi/danlab/Subjects/DY_009'\n",
    "behavior_data_path = rootpath + '/paper_repro_ephys_data/figure9_10/original_data'"
   ]
  },
  {
   "cell_type": "code",
   "execution_count": 10,
   "id": "ca34d9a3-f28d-4e8e-ae98-e6d2da318147",
   "metadata": {},
   "outputs": [
    {
     "name": "stdout",
     "output_type": "stream",
     "text": [
      "pid: febb430e-2d50-4f83-87a0-b5ffbb9a4943\n",
      "eid: db4df448-e449-4a6f-a0e7-288711e7a75a\n",
      "1st trial stim on time: 40.81, last trial stim on time 2252.10\n",
      "found 85 neurons in region ca1 ...\n",
      "found 48 channels in region ca1 ...\n"
     ]
    }
   ],
   "source": [
    "sorted_trials, _, _, _ = data_preprocess.load_neural_data(\n",
    "    pid=pid, \n",
    "    trial_data_path=trial_data_path,\n",
    "    neural_data_path=neural_data_path,\n",
    "    behavior_data_path=behavior_data_path,\n",
    "    keep_active_trials=True, \n",
    "    roi='ca1',\n",
    "    kilosort=True,\n",
    "    triage=True\n",
    ")"
   ]
  },
  {
   "cell_type": "code",
   "execution_count": 13,
   "id": "db7d50e9-cd74-49da-94f7-6c4e93f6784c",
   "metadata": {},
   "outputs": [],
   "source": [
    "sorted = np.vstack([sorted_trials[i] for i in np.arange(n_trials)]) \n",
    "spike_times_sorted = sorted[:,0]\n",
    "spike_clusters = sorted[:,1]"
   ]
  },
  {
   "cell_type": "code",
   "execution_count": 3,
   "id": "8847eda8-7d59-49ed-b649-35c25a34ec51",
   "metadata": {},
   "outputs": [
    {
     "name": "stdout",
     "output_type": "stream",
     "text": [
      "pid: febb430e-2d50-4f83-87a0-b5ffbb9a4943\n",
      "eid: db4df448-e449-4a6f-a0e7-288711e7a75a\n",
      "1st trial stim on time: 40.81, last trial stim on time 2252.10\n",
      "found 85 neurons in region ca1 ...\n",
      "found 48 channels in region ca1 ...\n"
     ]
    }
   ],
   "source": [
    "unsorted_trials, stim_on_times, np1_channel_map = data_preprocess.load_neural_data(\n",
    "    pid=pid, \n",
    "    trial_data_path=trial_data_path,\n",
    "    neural_data_path=neural_data_path,\n",
    "    behavior_data_path=behavior_data_path,\n",
    "    keep_active_trials=True, \n",
    "    roi='ca1',\n",
    "    kilosort=False,\n",
    "    triage=True\n",
    ")"
   ]
  },
  {
   "cell_type": "code",
   "execution_count": 16,
   "id": "e5310ddf-bc0d-4383-98aa-a22496b7e2db",
   "metadata": {},
   "outputs": [],
   "source": [
    "unsorted = np.vstack([unsorted_trials[i] for i in np.arange(n_trials)]) \n",
    "spike_times_unsorted = unsorted[:,0]\n",
    "spike_channels = unsorted[:,1]\n",
    "spike_features = unsorted[:,2:]"
   ]
  },
  {
   "cell_type": "code",
   "execution_count": 6,
   "id": "10c11171-8303-4f19-8a11-6d00c891e967",
   "metadata": {},
   "outputs": [
    {
     "name": "stdout",
     "output_type": "stream",
     "text": [
      "choices left: 0.361, right: 0.639\n",
      "stimuli left: 0.430, right: 0.570\n",
      "reward wrong: 0.087, correct: 0.913\n"
     ]
    }
   ],
   "source": [
    "n_trials = stim_on_times.shape[0]\n",
    "behave_dict = data_preprocess.load_behaviors_data(behavior_data_path, pid)\n",
    "choices, stimuli, transformed_stimuli, one_hot_stimuli, enc_categories, rewards, priors = data_preprocess.preprocess_static_behaviors(behave_dict, keep_active_trials = True)"
   ]
  },
  {
   "cell_type": "code",
   "execution_count": null,
   "id": "4370b6bd-3cd8-4d6f-ba84-2b1cc6facb9b",
   "metadata": {},
   "outputs": [],
   "source": []
  },
  {
   "cell_type": "markdown",
   "id": "ca4480ef-559f-4c23-a926-b1029f8fbcda",
   "metadata": {},
   "source": [
    "sorted decoding"
   ]
  },
  {
   "cell_type": "code",
   "execution_count": 14,
   "id": "1c83cc71-ddf7-45eb-bb49-a33965c322a8",
   "metadata": {},
   "outputs": [
    {
     "name": "stdout",
     "output_type": "stream",
     "text": [
      "sorted neural data shape: (230, 80, 30)\n"
     ]
    }
   ],
   "source": [
    "sorted_neural_data = data_preprocess.compute_neural_activity(\n",
    "    (spike_times_sorted, spike_clusters),\n",
    "    stim_on_times,\n",
    "    'sorted', \n",
    "    n_time_bins=30,\n",
    "    regional=True\n",
    ")\n",
    "print(f'sorted neural data shape: {sorted_neural_data.shape}')"
   ]
  },
  {
   "cell_type": "code",
   "execution_count": 18,
   "id": "722bf473-dac0-4e78-9383-581988586810",
   "metadata": {},
   "outputs": [
    {
     "data": {
      "image/png": "[encoded data removed]",
      "text/plain": [
       "<Figure size 640x480 with 2 Axes>"
      ]
     },
     "metadata": {},
     "output_type": "display_data"
    }
   ],
   "source": [
    "plt.imshow(sorted_neural_data.mean(0), aspect='auto', cmap='cubehelix')\n",
    "plt.title('sorted neural activity')\n",
    "plt.xlabel('time bin')\n",
    "plt.ylabel('neuron')\n",
    "plt.colorbar();"
   ]
  },
  {
   "cell_type": "code",
   "execution_count": 20,
   "id": "7026f737-5e47-49d2-a89c-dad9b49b273f",
   "metadata": {},
   "outputs": [
    {
     "name": "stdout",
     "output_type": "stream",
     "text": [
      "choice fold 1 test accuracy: 0.609 auc: 0.583\n",
      "choice fold 2 test accuracy: 0.739 auc: 0.767\n",
      "choice fold 3 test accuracy: 0.522 auc: 0.658\n",
      "choice fold 4 test accuracy: 0.609 auc: 0.625\n",
      "choice fold 5 test accuracy: 0.609 auc: 0.458\n",
      "choice fold 6 test accuracy: 0.696 auc: 0.808\n",
      "choice fold 7 test accuracy: 0.652 auc: 0.667\n",
      "choice fold 8 test accuracy: 0.478 auc: 0.452\n",
      "choice fold 9 test accuracy: 0.565 auc: 0.603\n",
      "choice fold 10 test accuracy: 0.478 auc: 0.571\n",
      "choice mean of 10-fold cv accuracy: 0.596 auc: 0.619\n",
      "choice sd of 10-fold cv accuracy: 0.083 auc: 0.109\n",
      "stimulus fold 1 test accuracy: 0.261 auc: 0.700\n",
      "stimulus fold 2 test accuracy: 0.261 auc: 0.527\n",
      "stimulus fold 3 test accuracy: 0.391 auc: 0.685\n",
      "stimulus fold 4 test accuracy: 0.348 auc: 0.603\n",
      "stimulus fold 5 test accuracy: 0.304 auc: 0.695\n",
      "stimulus fold 6 test accuracy: 0.261 auc: 0.591\n",
      "stimulus fold 7 test accuracy: 0.130 auc: 0.605\n",
      "stimulus fold 8 test accuracy: 0.130 auc: 0.499\n",
      "stimulus fold 9 test accuracy: 0.391 auc: 0.754\n",
      "stimulus fold 10 test accuracy: 0.348 auc: 0.669\n",
      "stimulus mean of 10-fold cv accuracy: 0.283 auc: 0.633\n",
      "stimulus sd of 10-fold cv accuracy: 0.090 auc: 0.077\n"
     ]
    }
   ],
   "source": [
    "cv_accs, cv_aucs, _, _, _, _ = decode_static.cv_decode_static(sorted_neural_data, choices, behave_type='choice', n_folds=10, seed=seed, shuffle=True)\n",
    "cv_accs, cv_aucs, _, _, _, _ = decode_static.cv_decode_static(sorted_neural_data, one_hot_stimuli, behave_type='stimulus', n_folds=10, seed=seed, shuffle=True)"
   ]
  },
  {
   "cell_type": "code",
   "execution_count": null,
   "id": "f374febb-c87f-419f-8276-90d8aec421ed",
   "metadata": {},
   "outputs": [],
   "source": []
  },
  {
   "cell_type": "markdown",
   "id": "68fc271a-7d46-47e2-89d2-1700d792eed7",
   "metadata": {},
   "source": [
    "thresholded decoding"
   ]
  },
  {
   "cell_type": "code",
   "execution_count": 17,
   "id": "c9665b1d-5fef-42ec-9313-97f7a140a0b1",
   "metadata": {},
   "outputs": [
    {
     "name": "stdout",
     "output_type": "stream",
     "text": [
      "thresholded neural data shape: (230, 47, 30)\n"
     ]
    }
   ],
   "source": [
    "thresholded_neural_data = data_preprocess.compute_neural_activity(\n",
    "    (spike_times_unsorted, spike_channels),\n",
    "    stim_on_times,\n",
    "    'thresholded', \n",
    "    n_time_bins=30,\n",
    "    regional=True\n",
    ")\n",
    "print(f'thresholded neural data shape: {thresholded_neural_data.shape}')"
   ]
  },
  {
   "cell_type": "code",
   "execution_count": 8,
   "id": "1880c80a-dc11-4c94-8caf-f0945e4e3d40",
   "metadata": {},
   "outputs": [
    {
     "data": {
      "image/png": "[encoded data removed]",
      "text/plain": [
       "<Figure size 640x480 with 2 Axes>"
      ]
     },
     "metadata": {},
     "output_type": "display_data"
    }
   ],
   "source": [
    "plt.imshow(thresholded_neural_data.mean(0), aspect='auto', cmap='cubehelix')\n",
    "plt.title('thresholded neural activity')\n",
    "plt.xlabel('time bin')\n",
    "plt.ylabel('channel')\n",
    "plt.colorbar();"
   ]
  },
  {
   "cell_type": "code",
   "execution_count": 9,
   "id": "344ffc76-f8c3-432c-a859-d11b8ecc508d",
   "metadata": {},
   "outputs": [
    {
     "name": "stdout",
     "output_type": "stream",
     "text": [
      "choice fold 1 test accuracy: 0.565 auc: 0.508\n",
      "choice fold 2 test accuracy: 0.783 auc: 0.692\n",
      "choice fold 3 test accuracy: 0.609 auc: 0.650\n",
      "choice fold 4 test accuracy: 0.826 auc: 0.758\n",
      "choice fold 5 test accuracy: 0.609 auc: 0.600\n",
      "choice fold 6 test accuracy: 0.652 auc: 0.742\n",
      "choice fold 7 test accuracy: 0.652 auc: 0.625\n",
      "choice fold 8 test accuracy: 0.609 auc: 0.500\n",
      "choice fold 9 test accuracy: 0.652 auc: 0.627\n",
      "choice fold 10 test accuracy: 0.565 auc: 0.722\n",
      "choice mean of 10-fold cv accuracy: 0.652 auc: 0.642\n",
      "choice sd of 10-fold cv accuracy: 0.082 auc: 0.085\n",
      "stimulus fold 1 test accuracy: 0.174 auc: 0.520\n",
      "stimulus fold 2 test accuracy: 0.174 auc: 0.564\n",
      "stimulus fold 3 test accuracy: 0.348 auc: 0.643\n",
      "stimulus fold 4 test accuracy: 0.304 auc: 0.660\n",
      "stimulus fold 5 test accuracy: 0.261 auc: 0.733\n",
      "stimulus fold 6 test accuracy: 0.217 auc: 0.660\n",
      "stimulus fold 7 test accuracy: 0.174 auc: 0.671\n",
      "stimulus fold 8 test accuracy: 0.130 auc: 0.556\n",
      "stimulus fold 9 test accuracy: 0.348 auc: 0.781\n",
      "stimulus fold 10 test accuracy: 0.261 auc: 0.581\n",
      "stimulus mean of 10-fold cv accuracy: 0.239 auc: 0.637\n",
      "stimulus sd of 10-fold cv accuracy: 0.073 auc: 0.078\n"
     ]
    }
   ],
   "source": [
    "cv_accs, cv_aucs, _, _, _, _ = decode_static.cv_decode_static(thresholded_neural_data, choices, behave_type='choice', n_folds=10, seed=seed, shuffle=True)\n",
    "cv_accs, cv_aucs, _, _, _, _ = decode_static.cv_decode_static(thresholded_neural_data, one_hot_stimuli, behave_type='stimulus', n_folds=10, seed=seed, shuffle=True)"
   ]
  },
  {
   "cell_type": "code",
   "execution_count": null,
   "id": "05a38498-14f7-449f-9e40-3f8cbec3fa01",
   "metadata": {},
   "outputs": [],
   "source": []
  },
  {
   "cell_type": "markdown",
   "id": "7f1cdc20-9370-49d5-b2bc-470850eb0418",
   "metadata": {},
   "source": [
    "clusterless decoding"
   ]
  },
  {
   "cell_type": "code",
   "execution_count": null,
   "id": "bec7659e-5360-47b2-9b4d-e90259f507c3",
   "metadata": {},
   "outputs": [],
   "source": []
  }
 ],
 "metadata": {
  "kernelspec": {
   "display_name": "Python 3 (ipykernel)",
   "language": "python",
   "name": "python3"
  },
  "language_info": {
   "codemirror_mode": {
    "name": "ipython",
    "version": 3
   },
   "file_extension": ".py",
   "mimetype": "text/x-python",
   "name": "python",
   "nbconvert_exporter": "python",
   "pygments_lexer": "ipython3",
   "version": "3.8.13"
  }
 },
 "nbformat": 4,
 "nbformat_minor": 5
}
