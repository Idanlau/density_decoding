{
 "cells": [
  {
   "cell_type": "code",
   "execution_count": 1,
   "id": "b3d066f4-204f-416c-9ba0-c4f627e5c2f6",
   "metadata": {},
   "outputs": [],
   "source": [
    "import numpy as np\n",
    "import random\n",
    "seed = 666\n",
    "random.seed(seed)\n",
    "np.random.seed(seed)\n",
    "\n",
    "import matplotlib.pyplot as plt\n",
    "\n",
    "from unidip import UniDip\n",
    "from sklearn.mixture import GaussianMixture\n",
    "\n",
    "from clusterless import preprocess\n",
    "from clusterless import viz\n",
    "from clusterless import decoder"
   ]
  },
  {
   "cell_type": "code",
   "execution_count": 2,
   "id": "a8dca71c-dcad-4723-ba04-eb01aedf3c82",
   "metadata": {},
   "outputs": [],
   "source": [
    "pid = 'dab512bd-a02d-4c1f-8dbc-9155a163efc0'\n",
    "rootpath = '/mnt/3TB/yizi/Downloads/ONE/openalyx.internationalbrainlab.org'\n",
    "trial_data_path = rootpath + '/danlab/Subjects/DY_016/2020-09-12/001/alf'\n",
    "neural_data_path = '/mnt/3TB/yizi/danlab/Subjects/DY_016'\n",
    "behavior_data_path = rootpath + '/paper_repro_ephys_data/figure9_10/original_data'\n",
    "save_path = '../saved_results/danlab/Subjects/DY_016'"
   ]
  },
  {
   "cell_type": "code",
   "execution_count": 3,
   "id": "15876181-35cb-4c4a-a861-8a848e134b37",
   "metadata": {},
   "outputs": [
    {
     "name": "stdout",
     "output_type": "stream",
     "text": [
      "choices left: 0.751, right: 0.249\n",
      "stimuli left: 0.547, right: 0.453\n",
      "reward wrong: 0.211, correct: 0.789\n"
     ]
    }
   ],
   "source": [
    "behave_dict = preprocess.load_behaviors_data(behavior_data_path, pid)\n",
    "choices, stimuli, transformed_stimuli, one_hot_stimuli, enc_categories, rewards, priors = preprocess.preprocess_static_behaviors(behave_dict)\n",
    "static_behaviors = {'choice': choices, 'stimulus': one_hot_stimuli}"
   ]
  },
  {
   "cell_type": "code",
   "execution_count": 4,
   "id": "779ef8e3-e0fb-4e23-a0eb-c9d1314ecf2b",
   "metadata": {},
   "outputs": [],
   "source": [
    "rois = [roi.lower() for roi in ['PO', 'LP', 'DG', 'CA1', 'VIS']]"
   ]
  },
  {
   "cell_type": "markdown",
   "id": "b83b1e64-8483-4e40-a5d1-d18f4899288e",
   "metadata": {},
   "source": [
    "decode all regions"
   ]
  },
  {
   "cell_type": "code",
   "execution_count": 5,
   "id": "588815aa-6c1e-49c5-9796-c3b908f6155d",
   "metadata": {},
   "outputs": [
    {
     "name": "stdout",
     "output_type": "stream",
     "text": [
      "pid: dab512bd-a02d-4c1f-8dbc-9155a163efc0\n",
      "eid: d23a44ef-1402-4ed7-97f5-47e9a7a504d9\n",
      "found 83 good ibl units ..\n",
      "1st trial stim on time: 17.56, last trial stim on time 2310.24\n",
      "sorted neural data shape: (265, 514, 30)\n",
      "kilosort thresholded neural data shape: (265, 380, 30)\n",
      "good sorted neural data shape: (265, 83, 30)\n"
     ]
    }
   ],
   "source": [
    "sorted_trials, good_sorted_trials, unsorted_trials, stim_on_times, np1_channel_map= preprocess.load_neural_data(\n",
    "    pid=pid, \n",
    "    trial_data_path=trial_data_path,\n",
    "    neural_data_path=neural_data_path,\n",
    "    behavior_data_path=behavior_data_path,\n",
    "    keep_active_trials=True, \n",
    "    roi='all',\n",
    "    kilosort=True,\n",
    "    triage=False,\n",
    "    good_units=True,\n",
    "    thresholding=True\n",
    ")\n",
    "\n",
    "n_trials = stim_on_times.shape[0]\n",
    "sorted = np.vstack([sorted_trials[i] for i in np.arange(n_trials)]) \n",
    "unsorted = np.vstack([unsorted_trials[i] for i in np.arange(n_trials)])\n",
    "spike_times = sorted[:,0]\n",
    "spike_clusters = sorted[:,1]\n",
    "spike_channels = unsorted[:,1]\n",
    "\n",
    "sorted_neural_data = preprocess.compute_neural_activity(\n",
    "    (spike_times, spike_clusters),\n",
    "    stim_on_times,\n",
    "    'sorted', \n",
    "    n_time_bins=30,\n",
    "    regional=False\n",
    ")\n",
    "print(f'sorted neural data shape: {sorted_neural_data.shape}')\n",
    "\n",
    "kilosort_thresholded_neural_data = preprocess.compute_neural_activity(\n",
    "    (spike_times, spike_channels),\n",
    "    stim_on_times,\n",
    "    'thresholded', \n",
    "    n_time_bins=30,\n",
    "    regional=False\n",
    ")\n",
    "print(f'kilosort thresholded neural data shape: {kilosort_thresholded_neural_data.shape}')\n",
    "\n",
    "good_sorted = np.vstack([good_sorted_trials[i] for i in np.arange(n_trials)]) \n",
    "spike_times = good_sorted[:,0]\n",
    "spike_clusters = good_sorted[:,1]\n",
    "\n",
    "good_sorted_neural_data = preprocess.compute_neural_activity(\n",
    "    (spike_times, spike_clusters),\n",
    "    stim_on_times,\n",
    "    'sorted', \n",
    "    n_time_bins=30,\n",
    "    regional=False\n",
    ")\n",
    "print(f'good sorted neural data shape: {good_sorted_neural_data.shape}')"
   ]
  },
  {
   "cell_type": "code",
   "execution_count": 6,
   "id": "3a1064d4-6cea-4e14-955a-a68902c18b82",
   "metadata": {},
   "outputs": [
    {
     "name": "stdout",
     "output_type": "stream",
     "text": [
      "pid: dab512bd-a02d-4c1f-8dbc-9155a163efc0\n",
      "eid: d23a44ef-1402-4ed7-97f5-47e9a7a504d9\n",
      "1st trial stim on time: 17.56, last trial stim on time 2310.24\n",
      "thresholded neural data shape: (265, 384, 30)\n"
     ]
    }
   ],
   "source": [
    "unsorted_trials, stim_on_times, np1_channel_map = preprocess.load_neural_data(\n",
    "    pid=pid, \n",
    "    trial_data_path=trial_data_path,\n",
    "    neural_data_path=neural_data_path,\n",
    "    behavior_data_path=behavior_data_path,\n",
    "    keep_active_trials=True, \n",
    "    roi='all',\n",
    "    kilosort=False,\n",
    "    triage=False\n",
    ")\n",
    "\n",
    "n_trials = stim_on_times.shape[0]\n",
    "unsorted = np.vstack([unsorted_trials[i] for i in np.arange(n_trials)]) \n",
    "spike_times = unsorted[:,0]\n",
    "spike_channels = unsorted[:,1]\n",
    "spike_features = unsorted[:,2:]\n",
    "\n",
    "thresholded_neural_data = preprocess.compute_neural_activity(\n",
    "    (spike_times, spike_channels),\n",
    "    stim_on_times,\n",
    "    'thresholded', \n",
    "    n_time_bins=30,\n",
    "    regional=False\n",
    ")\n",
    "print(f'thresholded neural data shape: {thresholded_neural_data.shape}')"
   ]
  },
  {
   "cell_type": "code",
   "execution_count": 10,
   "id": "731e8813-f2a1-4fcd-a6fb-11b4a5b46f8e",
   "metadata": {},
   "outputs": [],
   "source": [
    "scales=(1, 1, 50)\n",
    "log_c=5\n",
    "x, z, maxptp = spike_features.T\n",
    "spike_features = np.c_[x * scales[0], z * scales[1], np.log(log_c + maxptp) * scales[2]]"
   ]
  },
  {
   "cell_type": "code",
   "execution_count": 11,
   "id": "3e34fb7f-534f-417e-8c50-0b5a9607e4e3",
   "metadata": {},
   "outputs": [
    {
     "name": "stdout",
     "output_type": "stream",
     "text": [
      "loading batch 1 ..\n",
      "loading batch 2 ..\n",
      "loading batch 3 ..\n",
      "loading batch 4 ..\n",
      "loading batch 5 ..\n",
      "loading batch 6 ..\n",
      "loading batch 7 ..\n",
      "loading batch 8 ..\n",
      "clusterless neural data shape: (265, 409, 30)\n"
     ]
    }
   ],
   "source": [
    "gmm_name = '../pretrained/danlab/Subjects/DY_016/post_merge_gmm'\n",
    "means = np.load(gmm_name + '_means.npy')\n",
    "covar = np.load(gmm_name + '_covariances.npy')\n",
    "loaded_gmm =  GaussianMixture(n_components=len(means), covariance_type='full')\n",
    "loaded_gmm.precisions_cholesky_ = np.linalg.cholesky(np.linalg.inv(covar))\n",
    "loaded_gmm.weights_ = np.load(gmm_name + '_weights.npy')\n",
    "loaded_gmm.means_ = means\n",
    "loaded_gmm.covariances_ = covar\n",
    "\n",
    "spike_labels = []\n",
    "spike_probs = []\n",
    "offset = 100_000\n",
    "for i in range(8):\n",
    "    print(f'loading batch {i+1} ..')\n",
    "    spike_labels.extend(loaded_gmm.predict(spike_features[i*offset:(i+1)*offset]))\n",
    "    spike_probs.extend(loaded_gmm.predict_proba(spike_features[i*offset:(i+1)*offset]))\n",
    "spike_labels = np.array(spike_labels)\n",
    "spike_probs = np.array(spike_probs)\n",
    "\n",
    "clusterless_neural_data = preprocess.compute_neural_activity(\n",
    "    (spike_times, spike_labels, spike_probs),\n",
    "    stim_on_times,\n",
    "    'clusterless', \n",
    "    n_time_bins=30,\n",
    "    regional=False\n",
    ")\n",
    "print(f'clusterless neural data shape: {clusterless_neural_data.shape}')"
   ]
  },
  {
   "cell_type": "code",
   "execution_count": 12,
   "id": "1a9f2060-a4ef-4912-861a-846aee6d745d",
   "metadata": {},
   "outputs": [],
   "source": [
    "neural_data_dict = {\n",
    "    'good units': good_sorted_neural_data,\n",
    "    'sorted': sorted_neural_data,\n",
    "    'kilosort thresholded': kilosort_thresholded_neural_data,\n",
    "    'thresholded': thresholded_neural_data,\n",
    "    'clusterless': clusterless_neural_data\n",
    "} \n",
    "\n",
    "all_n_units_dict = {\n",
    "        'good units': good_sorted_neural_data.shape[1],\n",
    "        'sorted': sorted_neural_data.shape[1],\n",
    "        'kilosort thresholded': kilosort_thresholded_neural_data.shape[1],\n",
    "        'thresholded': thresholded_neural_data.shape[1],\n",
    "        'clusterless': clusterless_neural_data.shape[1]\n",
    "}"
   ]
  },
  {
   "cell_type": "code",
   "execution_count": 13,
   "id": "0a08098d-27ef-4926-8241-ab56c683a758",
   "metadata": {},
   "outputs": [
    {
     "name": "stdout",
     "output_type": "stream",
     "text": [
      "good units:\n",
      "choice fold 1 test accuracy: 0.887 auc: 0.950\n",
      "choice fold 2 test accuracy: 0.887 auc: 0.952\n",
      "choice fold 3 test accuracy: 0.887 auc: 0.898\n",
      "choice fold 4 test accuracy: 0.925 auc: 0.996\n",
      "choice fold 5 test accuracy: 0.868 auc: 0.905\n",
      "choice mean of 5-fold cv accuracy: 0.891 auc: 0.940\n",
      "choice sd of 5-fold cv accuracy: 0.018 auc: 0.036\n",
      "sorted:\n",
      "choice fold 1 test accuracy: 0.868 auc: 0.912\n",
      "choice fold 2 test accuracy: 0.906 auc: 0.967\n",
      "choice fold 3 test accuracy: 0.906 auc: 0.967\n",
      "choice fold 4 test accuracy: 0.925 auc: 0.981\n",
      "choice fold 5 test accuracy: 0.906 auc: 0.954\n",
      "choice mean of 5-fold cv accuracy: 0.902 auc: 0.956\n",
      "choice sd of 5-fold cv accuracy: 0.018 auc: 0.024\n",
      "kilosort thresholded:\n",
      "choice fold 1 test accuracy: 0.849 auc: 0.887\n",
      "choice fold 2 test accuracy: 0.887 auc: 0.977\n",
      "choice fold 3 test accuracy: 0.925 auc: 0.973\n",
      "choice fold 4 test accuracy: 0.943 auc: 0.973\n",
      "choice fold 5 test accuracy: 0.868 auc: 0.941\n",
      "choice mean of 5-fold cv accuracy: 0.894 auc: 0.950\n",
      "choice sd of 5-fold cv accuracy: 0.035 auc: 0.034\n",
      "thresholded:\n",
      "choice fold 1 test accuracy: 0.849 auc: 0.954\n",
      "choice fold 2 test accuracy: 0.887 auc: 0.973\n",
      "choice fold 3 test accuracy: 0.887 auc: 0.971\n",
      "choice fold 4 test accuracy: 0.887 auc: 0.983\n",
      "choice fold 5 test accuracy: 0.906 auc: 0.985\n",
      "choice mean of 5-fold cv accuracy: 0.883 auc: 0.973\n",
      "choice sd of 5-fold cv accuracy: 0.018 auc: 0.011\n",
      "clusterless:\n",
      "choice fold 1 test accuracy: 0.868 auc: 0.935\n",
      "choice fold 2 test accuracy: 0.925 auc: 0.983\n",
      "choice fold 3 test accuracy: 0.925 auc: 0.967\n",
      "choice fold 4 test accuracy: 0.962 auc: 0.983\n",
      "choice fold 5 test accuracy: 0.925 auc: 0.974\n",
      "choice mean of 5-fold cv accuracy: 0.921 auc: 0.968\n",
      "choice sd of 5-fold cv accuracy: 0.030 auc: 0.018\n",
      "good units:\n",
      "stimulus fold 1 test accuracy: 0.547 auc: 0.872\n",
      "stimulus fold 2 test accuracy: 0.377 auc: 0.783\n",
      "stimulus fold 3 test accuracy: 0.321 auc: 0.759\n",
      "stimulus fold 4 test accuracy: 0.491 auc: 0.838\n",
      "stimulus fold 5 test accuracy: 0.415 auc: 0.797\n",
      "stimulus mean of 5-fold cv accuracy: 0.430 auc: 0.810\n",
      "stimulus sd of 5-fold cv accuracy: 0.080 auc: 0.040\n",
      "sorted:\n",
      "stimulus fold 1 test accuracy: 0.566 auc: 0.863\n",
      "stimulus fold 2 test accuracy: 0.321 auc: 0.773\n",
      "stimulus fold 3 test accuracy: 0.358 auc: 0.780\n",
      "stimulus fold 4 test accuracy: 0.491 auc: 0.820\n",
      "stimulus fold 5 test accuracy: 0.509 auc: 0.842\n",
      "stimulus mean of 5-fold cv accuracy: 0.449 auc: 0.816\n",
      "stimulus sd of 5-fold cv accuracy: 0.094 auc: 0.035\n",
      "kilosort thresholded:\n",
      "stimulus fold 1 test accuracy: 0.509 auc: 0.849\n",
      "stimulus fold 2 test accuracy: 0.283 auc: 0.746\n",
      "stimulus fold 3 test accuracy: 0.358 auc: 0.758\n",
      "stimulus fold 4 test accuracy: 0.528 auc: 0.812\n",
      "stimulus fold 5 test accuracy: 0.472 auc: 0.845\n",
      "stimulus mean of 5-fold cv accuracy: 0.430 auc: 0.802\n",
      "stimulus sd of 5-fold cv accuracy: 0.094 auc: 0.043\n",
      "thresholded:\n",
      "stimulus fold 1 test accuracy: 0.453 auc: 0.824\n",
      "stimulus fold 2 test accuracy: 0.302 auc: 0.714\n",
      "stimulus fold 3 test accuracy: 0.283 auc: 0.740\n",
      "stimulus fold 4 test accuracy: 0.509 auc: 0.803\n",
      "stimulus fold 5 test accuracy: 0.472 auc: 0.808\n",
      "stimulus mean of 5-fold cv accuracy: 0.404 auc: 0.778\n",
      "stimulus sd of 5-fold cv accuracy: 0.093 auc: 0.043\n",
      "clusterless:\n",
      "stimulus fold 1 test accuracy: 0.509 auc: 0.835\n",
      "stimulus fold 2 test accuracy: 0.340 auc: 0.707\n",
      "stimulus fold 3 test accuracy: 0.340 auc: 0.747\n",
      "stimulus fold 4 test accuracy: 0.528 auc: 0.800\n",
      "stimulus fold 5 test accuracy: 0.472 auc: 0.813\n",
      "stimulus mean of 5-fold cv accuracy: 0.438 auc: 0.780\n",
      "stimulus sd of 5-fold cv accuracy: 0.082 auc: 0.047\n"
     ]
    }
   ],
   "source": [
    "all_decode_results = {'choice': dict(), 'stimulus': dict()}\n",
    "\n",
    "for behave_type in all_decode_results.keys():\n",
    "    for data_type in neural_data_dict.keys():\n",
    "        print(f'{data_type}:')\n",
    "        decode_results = decoder.cv_decode_static(\n",
    "            neural_data_dict[data_type], \n",
    "            static_behaviors[behave_type], \n",
    "            behave_type=behave_type, \n",
    "            n_folds=5, \n",
    "            seed=seed, \n",
    "            shuffle=True)\n",
    "        all_decode_results[behave_type].update({data_type: decode_results})\n",
    "np.save(f'{save_path}/static_behaviors/all_decode_results.npy', all_decode_results)"
   ]
  },
  {
   "cell_type": "code",
   "execution_count": null,
   "id": "5b6193ca-f3e2-43e2-b002-80586f57ad08",
   "metadata": {},
   "outputs": [],
   "source": []
  },
  {
   "cell_type": "markdown",
   "id": "be3f4688-3cba-4483-8ab6-98e0502987c4",
   "metadata": {},
   "source": [
    "decode brain regions"
   ]
  },
  {
   "cell_type": "code",
   "execution_count": 42,
   "id": "bb0edbfe-f266-405c-bace-10ae5c4cf8c5",
   "metadata": {},
   "outputs": [
    {
     "name": "stdout",
     "output_type": "stream",
     "text": [
      "vis\n"
     ]
    }
   ],
   "source": [
    "roi = rois[4]\n",
    "print(roi)"
   ]
  },
  {
   "cell_type": "code",
   "execution_count": 43,
   "id": "f58ce04a-3033-418c-bbf1-62ea01a3c2e0",
   "metadata": {},
   "outputs": [
    {
     "name": "stdout",
     "output_type": "stream",
     "text": [
      "pid: dab512bd-a02d-4c1f-8dbc-9155a163efc0\n",
      "eid: d23a44ef-1402-4ed7-97f5-47e9a7a504d9\n",
      "found 83 good ibl units ..\n",
      "1st trial stim on time: 17.56, last trial stim on time 2310.24\n",
      "found 29 neurons in region vis ...\n",
      "found 28 channels in region vis ...\n",
      "sorted neural data shape: (265, 29, 30)\n",
      "kilosort thresholded neural data shape: (265, 15, 30)\n",
      "good sorted neural data shape: (265, 6, 30)\n"
     ]
    }
   ],
   "source": [
    "sorted_trials, good_sorted_trials, unsorted_trials, stim_on_times, np1_channel_map= preprocess.load_neural_data(\n",
    "    pid=pid, \n",
    "    trial_data_path=trial_data_path,\n",
    "    neural_data_path=neural_data_path,\n",
    "    behavior_data_path=behavior_data_path,\n",
    "    keep_active_trials=True, \n",
    "    roi=roi,\n",
    "    kilosort=True,\n",
    "    triage=False,\n",
    "    good_units=True,\n",
    "    thresholding=True\n",
    ")\n",
    "\n",
    "n_trials = stim_on_times.shape[0]\n",
    "sorted = np.vstack([sorted_trials[i] for i in np.arange(n_trials)]) \n",
    "unsorted = np.vstack([unsorted_trials[i] for i in np.arange(n_trials)])\n",
    "spike_times = sorted[:,0]\n",
    "spike_clusters = sorted[:,1]\n",
    "spike_channels = unsorted[:,1]\n",
    "\n",
    "sorted_neural_data = preprocess.compute_neural_activity(\n",
    "    (spike_times, spike_clusters),\n",
    "    stim_on_times,\n",
    "    'sorted', \n",
    "    n_time_bins=30,\n",
    "    regional=True\n",
    ")\n",
    "print(f'sorted neural data shape: {sorted_neural_data.shape}')\n",
    "\n",
    "kilosort_thresholded_neural_data = preprocess.compute_neural_activity(\n",
    "    (spike_times, spike_channels),\n",
    "    stim_on_times,\n",
    "    'thresholded', \n",
    "    n_time_bins=30,\n",
    "    regional=True\n",
    ")\n",
    "print(f'kilosort thresholded neural data shape: {kilosort_thresholded_neural_data.shape}')\n",
    "\n",
    "good_sorted = np.vstack([good_sorted_trials[i] for i in np.arange(n_trials)]) \n",
    "spike_times = good_sorted[:,0]\n",
    "spike_clusters = good_sorted[:,1]\n",
    "\n",
    "good_sorted_neural_data = preprocess.compute_neural_activity(\n",
    "    (spike_times, spike_clusters),\n",
    "    stim_on_times,\n",
    "    'sorted', \n",
    "    n_time_bins=30,\n",
    "    regional=True\n",
    ")\n",
    "print(f'good sorted neural data shape: {good_sorted_neural_data.shape}')"
   ]
  },
  {
   "cell_type": "code",
   "execution_count": 44,
   "id": "f930cb1a-2450-48e2-8f50-71300b77c50a",
   "metadata": {},
   "outputs": [
    {
     "name": "stdout",
     "output_type": "stream",
     "text": [
      "pid: dab512bd-a02d-4c1f-8dbc-9155a163efc0\n",
      "eid: d23a44ef-1402-4ed7-97f5-47e9a7a504d9\n",
      "1st trial stim on time: 17.56, last trial stim on time 2310.24\n",
      "found 29 neurons in region vis ...\n",
      "found 28 channels in region vis ...\n",
      "thresholded neural data shape: (265, 27, 30)\n"
     ]
    }
   ],
   "source": [
    "unsorted_trials, stim_on_times, np1_channel_map = preprocess.load_neural_data(\n",
    "    pid=pid, \n",
    "    trial_data_path=trial_data_path,\n",
    "    neural_data_path=neural_data_path,\n",
    "    behavior_data_path=behavior_data_path,\n",
    "    keep_active_trials=True, \n",
    "    roi=roi,\n",
    "    kilosort=False,\n",
    "    triage=False\n",
    ")\n",
    "\n",
    "n_trials = stim_on_times.shape[0]\n",
    "unsorted = np.vstack([unsorted_trials[i] for i in np.arange(n_trials)]) \n",
    "spike_times_unsorted = unsorted[:,0]\n",
    "spike_channels = unsorted[:,1]\n",
    "spike_features = unsorted[:,2:]\n",
    "\n",
    "thresholded_neural_data = preprocess.compute_neural_activity(\n",
    "    (spike_times_unsorted, spike_channels),\n",
    "    stim_on_times,\n",
    "    'thresholded', \n",
    "    n_time_bins=30,\n",
    "    regional=True\n",
    ")\n",
    "print(f'thresholded neural data shape: {thresholded_neural_data.shape}')"
   ]
  },
  {
   "cell_type": "code",
   "execution_count": 45,
   "id": "a5102217-0caf-4fdd-9d7d-a0b9e1b12c0a",
   "metadata": {},
   "outputs": [],
   "source": [
    "scales=(1, 1, 50)\n",
    "log_c=5\n",
    "x, z, maxptp = spike_features.T\n",
    "spike_features = np.c_[x * scales[0], z * scales[1], np.log(log_c + maxptp) * scales[2]]"
   ]
  },
  {
   "cell_type": "code",
   "execution_count": 46,
   "id": "6cd80b2b-bf83-47bb-a11b-6ab45d2843cc",
   "metadata": {},
   "outputs": [
    {
     "name": "stdout",
     "output_type": "stream",
     "text": [
      "clusterless neural data shape: (265, 30, 30)\n"
     ]
    }
   ],
   "source": [
    "gmm_name = '../pretrained/danlab/Subjects/DY_016/post_merge_gmm'\n",
    "means = np.load(gmm_name + '_means.npy')\n",
    "covar = np.load(gmm_name + '_covariances.npy')\n",
    "loaded_gmm = GaussianMixture(n_components=len(means), covariance_type='full')\n",
    "loaded_gmm.precisions_cholesky_ = np.linalg.cholesky(np.linalg.inv(covar))\n",
    "loaded_gmm.weights_ = np.load(gmm_name + '_weights.npy')\n",
    "loaded_gmm.means_ = means\n",
    "loaded_gmm.covariances_ = covar\n",
    "\n",
    "spike_labels = loaded_gmm.predict(spike_features)\n",
    "spike_probs = loaded_gmm.predict_proba(spike_features)\n",
    "\n",
    "clusterless_neural_data = preprocess.compute_neural_activity(\n",
    "    (spike_times_unsorted, spike_labels, spike_probs),\n",
    "    stim_on_times,\n",
    "    'clusterless', \n",
    "    n_time_bins=30,\n",
    "    regional=True\n",
    ")\n",
    "print(f'clusterless neural data shape: {clusterless_neural_data.shape}')"
   ]
  },
  {
   "cell_type": "code",
   "execution_count": 47,
   "id": "04e42154-9c78-4a30-ad5d-e20940967f6c",
   "metadata": {},
   "outputs": [],
   "source": [
    "neural_data_dict = {\n",
    "        'good units': good_sorted_neural_data,\n",
    "        'sorted': sorted_neural_data,\n",
    "        'kilosort thresholded': kilosort_thresholded_neural_data,\n",
    "        'thresholded': thresholded_neural_data,\n",
    "        'clusterless': clusterless_neural_data\n",
    "} \n",
    "\n",
    "# regional_n_units_dict = {\n",
    "#         'good units': good_sorted_neural_data.shape[1],\n",
    "#         'sorted': sorted_neural_data.shape[1],\n",
    "#         'kilosort thresholded': kilosort_thresholded_neural_data.shape[1],\n",
    "#         'thresholded': thresholded_neural_data.shape[1],\n",
    "#         'clusterless': clusterless_neural_data.shape[1]\n",
    "# }"
   ]
  },
  {
   "cell_type": "code",
   "execution_count": 48,
   "id": "b8e2a342-7903-4cdf-bb6c-672ef046e0aa",
   "metadata": {},
   "outputs": [
    {
     "name": "stdout",
     "output_type": "stream",
     "text": [
      "good units:\n",
      "choice fold 1 test accuracy: 0.660 auc: 0.588\n",
      "choice fold 2 test accuracy: 0.660 auc: 0.556\n",
      "choice fold 3 test accuracy: 0.660 auc: 0.638\n",
      "choice fold 4 test accuracy: 0.660 auc: 0.612\n",
      "choice fold 5 test accuracy: 0.736 auc: 0.703\n",
      "choice mean of 5-fold cv accuracy: 0.675 auc: 0.620\n",
      "choice sd of 5-fold cv accuracy: 0.030 auc: 0.050\n",
      "sorted:\n",
      "choice fold 1 test accuracy: 0.679 auc: 0.700\n",
      "choice fold 2 test accuracy: 0.736 auc: 0.633\n",
      "choice fold 3 test accuracy: 0.774 auc: 0.575\n",
      "choice fold 4 test accuracy: 0.717 auc: 0.688\n",
      "choice fold 5 test accuracy: 0.755 auc: 0.645\n",
      "choice mean of 5-fold cv accuracy: 0.732 auc: 0.648\n",
      "choice sd of 5-fold cv accuracy: 0.032 auc: 0.045\n",
      "kilosort thresholded:\n",
      "choice fold 1 test accuracy: 0.755 auc: 0.754\n",
      "choice fold 2 test accuracy: 0.642 auc: 0.556\n",
      "choice fold 3 test accuracy: 0.623 auc: 0.602\n",
      "choice fold 4 test accuracy: 0.642 auc: 0.496\n",
      "choice fold 5 test accuracy: 0.585 auc: 0.634\n",
      "choice mean of 5-fold cv accuracy: 0.649 auc: 0.608\n",
      "choice sd of 5-fold cv accuracy: 0.057 auc: 0.086\n",
      "thresholded:\n",
      "choice fold 1 test accuracy: 0.755 auc: 0.713\n",
      "choice fold 2 test accuracy: 0.698 auc: 0.592\n",
      "choice fold 3 test accuracy: 0.642 auc: 0.613\n",
      "choice fold 4 test accuracy: 0.623 auc: 0.581\n",
      "choice fold 5 test accuracy: 0.755 auc: 0.700\n",
      "choice mean of 5-fold cv accuracy: 0.694 auc: 0.640\n",
      "choice sd of 5-fold cv accuracy: 0.055 auc: 0.056\n",
      "clusterless:\n",
      "choice fold 1 test accuracy: 0.736 auc: 0.773\n",
      "choice fold 2 test accuracy: 0.717 auc: 0.642\n",
      "choice fold 3 test accuracy: 0.792 auc: 0.737\n",
      "choice fold 4 test accuracy: 0.660 auc: 0.640\n",
      "choice fold 5 test accuracy: 0.755 auc: 0.685\n",
      "choice mean of 5-fold cv accuracy: 0.732 auc: 0.695\n",
      "choice sd of 5-fold cv accuracy: 0.044 auc: 0.052\n",
      "good units:\n",
      "stimulus fold 1 test accuracy: 0.170 auc: 0.553\n",
      "stimulus fold 2 test accuracy: 0.132 auc: 0.620\n",
      "stimulus fold 3 test accuracy: 0.189 auc: 0.505\n",
      "stimulus fold 4 test accuracy: 0.170 auc: 0.578\n",
      "stimulus fold 5 test accuracy: 0.170 auc: 0.601\n",
      "stimulus mean of 5-fold cv accuracy: 0.166 auc: 0.571\n",
      "stimulus sd of 5-fold cv accuracy: 0.018 auc: 0.040\n",
      "sorted:\n",
      "stimulus fold 1 test accuracy: 0.226 auc: 0.578\n",
      "stimulus fold 2 test accuracy: 0.208 auc: 0.574\n",
      "stimulus fold 3 test accuracy: 0.151 auc: 0.569\n",
      "stimulus fold 4 test accuracy: 0.302 auc: 0.665\n",
      "stimulus fold 5 test accuracy: 0.132 auc: 0.597\n",
      "stimulus mean of 5-fold cv accuracy: 0.204 auc: 0.597\n",
      "stimulus sd of 5-fold cv accuracy: 0.060 auc: 0.035\n",
      "kilosort thresholded:\n",
      "stimulus fold 1 test accuracy: 0.189 auc: 0.546\n",
      "stimulus fold 2 test accuracy: 0.208 auc: 0.535\n",
      "stimulus fold 3 test accuracy: 0.189 auc: 0.508\n",
      "stimulus fold 4 test accuracy: 0.226 auc: 0.581\n",
      "stimulus fold 5 test accuracy: 0.094 auc: 0.548\n",
      "stimulus mean of 5-fold cv accuracy: 0.181 auc: 0.543\n",
      "stimulus sd of 5-fold cv accuracy: 0.046 auc: 0.023\n",
      "thresholded:\n",
      "stimulus fold 1 test accuracy: 0.208 auc: 0.669\n",
      "stimulus fold 2 test accuracy: 0.264 auc: 0.681\n",
      "stimulus fold 3 test accuracy: 0.208 auc: 0.604\n",
      "stimulus fold 4 test accuracy: 0.245 auc: 0.697\n",
      "stimulus fold 5 test accuracy: 0.302 auc: 0.692\n",
      "stimulus mean of 5-fold cv accuracy: 0.245 auc: 0.669\n",
      "stimulus sd of 5-fold cv accuracy: 0.036 auc: 0.034\n",
      "clusterless:\n",
      "stimulus fold 1 test accuracy: 0.245 auc: 0.650\n",
      "stimulus fold 2 test accuracy: 0.340 auc: 0.691\n",
      "stimulus fold 3 test accuracy: 0.264 auc: 0.586\n",
      "stimulus fold 4 test accuracy: 0.321 auc: 0.712\n",
      "stimulus fold 5 test accuracy: 0.302 auc: 0.668\n",
      "stimulus mean of 5-fold cv accuracy: 0.294 auc: 0.661\n",
      "stimulus sd of 5-fold cv accuracy: 0.035 auc: 0.043\n"
     ]
    }
   ],
   "source": [
    "regional_decode_results = {'choice': dict(), 'stimulus': dict()}\n",
    "\n",
    "for behave_type in regional_decode_results.keys():\n",
    "    for data_type in neural_data_dict.keys():\n",
    "        print(f'{data_type}:')\n",
    "        decode_results = decoder.cv_decode_static(\n",
    "            neural_data_dict[data_type], \n",
    "            static_behaviors[behave_type], \n",
    "            behave_type=behave_type, \n",
    "            n_folds=5, \n",
    "            seed=seed, \n",
    "            shuffle=True)\n",
    "        regional_decode_results[behave_type].update({data_type: decode_results})\n",
    "np.save(f'{save_path}/static_behaviors/{roi}_decode_results.npy', regional_decode_results)\n",
    "# np.save(f'{save_path}/static_behaviors/{roi}_n_units_dict.npy', regional_n_units_dict)"
   ]
  },
  {
   "cell_type": "code",
   "execution_count": null,
   "id": "9fda543c-b454-4fce-a31d-55bb1e066fe2",
   "metadata": {},
   "outputs": [],
   "source": []
  },
  {
   "cell_type": "markdown",
   "id": "4a55a3f9-d7e0-4c13-a809-e3ba378b52b1",
   "metadata": {},
   "source": [
    "decode choice"
   ]
  },
  {
   "cell_type": "code",
   "execution_count": 50,
   "id": "fb9f3cb3-8c7b-4f3f-b6b7-90f1ed7987bd",
   "metadata": {},
   "outputs": [
    {
     "data": {
      "image/png": "[encoded data removed]",
      "text/plain": [
       "<Figure size 1200x800 with 1 Axes>"
      ]
     },
     "metadata": {},
     "output_type": "display_data"
    }
   ],
   "source": [
    "viz.plot_compare_decoder_barplots(\n",
    "    save_path + '/static_behaviors',\n",
    "    behave_type='choice', \n",
    "    metric_type='accuracy', \n",
    "    rois=rois, \n",
    "    n_folds=5, \n",
    "    add_smooth=False, \n",
    "    figure_size=(12,8), \n",
    "    font_size=15, \n",
    "    title='DY-016: choice',\n",
    "    save_fig=True,\n",
    "    fig_path='../saved_figs/danlab/Subjects/DY_016',\n",
    ")"
   ]
  },
  {
   "cell_type": "markdown",
   "id": "6a0a4fd0-37db-46b0-a138-24401b345a9a",
   "metadata": {},
   "source": [
    "decode stimulus"
   ]
  },
  {
   "cell_type": "code",
   "execution_count": 58,
   "id": "3fc4a157-2466-4b02-811b-8bf93fa3c212",
   "metadata": {},
   "outputs": [
    {
     "data": {
      "image/png": "[encoded data removed]",
      "text/plain": [
       "<Figure size 1200x800 with 1 Axes>"
      ]
     },
     "metadata": {},
     "output_type": "display_data"
    }
   ],
   "source": [
    "viz.plot_compare_decoder_barplots(\n",
    "    save_path + '/static_behaviors',\n",
    "    behave_type='stimulus', \n",
    "    metric_type='accuracy', \n",
    "    rois=rois, \n",
    "    n_folds=5, \n",
    "    add_smooth=False, \n",
    "    figure_size=(12,8), \n",
    "    font_size=15, \n",
    "    title='DY-016: stimulus',\n",
    "    save_fig=True,\n",
    "    fig_path='../saved_figs/danlab/Subjects/DY_016',\n",
    ")"
   ]
  },
  {
   "cell_type": "code",
   "execution_count": null,
   "id": "1337aab6-73ba-4316-b768-ef315cf91ff3",
   "metadata": {},
   "outputs": [],
   "source": []
  }
 ],
 "metadata": {
  "kernelspec": {
   "display_name": "Python 3 (ipykernel)",
   "language": "python",
   "name": "python3"
  },
  "language_info": {
   "codemirror_mode": {
    "name": "ipython",
    "version": 3
   },
   "file_extension": ".py",
   "mimetype": "text/x-python",
   "name": "python",
   "nbconvert_exporter": "python",
   "pygments_lexer": "ipython3",
   "version": "3.8.13"
  }
 },
 "nbformat": 4,
 "nbformat_minor": 5
}
