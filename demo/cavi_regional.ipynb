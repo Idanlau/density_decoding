{
 "cells": [
  {
   "cell_type": "code",
   "execution_count": 1,
   "id": "ce6ba7cc-f99c-4c52-911b-515f8c0f6ff0",
   "metadata": {},
   "outputs": [],
   "source": [
    "import numpy as np\n",
    "import math\n",
    "import random\n",
    "seed = 666\n",
    "random.seed(seed)\n",
    "np.random.seed(seed)\n",
    "import seaborn as sns\n",
    "import matplotlib.pyplot as plt\n",
    "\n",
    "from scipy.stats import multivariate_normal\n",
    "from sklearn.mixture import GaussianMixture\n",
    "from sklearn.metrics import accuracy_score, roc_auc_score\n",
    "from sklearn.linear_model import LogisticRegression\n",
    "\n",
    "from clusterless import preprocess"
   ]
  },
  {
   "cell_type": "code",
   "execution_count": 2,
   "id": "d7e2dcae-f2c0-407e-8f13-ef9e51515981",
   "metadata": {},
   "outputs": [],
   "source": [
    "pid = 'dab512bd-a02d-4c1f-8dbc-9155a163efc0'\n",
    "rootpath = '/mnt/3TB/yizi/Downloads/ONE/openalyx.internationalbrainlab.org'\n",
    "trial_data_path = rootpath + '/danlab/Subjects/DY_016/2020-09-12/001/alf'\n",
    "neural_data_path = '/mnt/3TB/yizi/danlab/Subjects/DY_016'\n",
    "behavior_data_path = rootpath + '/paper_repro_ephys_data/figure9_10/original_data'\n",
    "save_path = '../saved_results/danlab/Subjects/DY_016'"
   ]
  },
  {
   "cell_type": "code",
   "execution_count": 3,
   "id": "ce8ae7ff-3a5f-44a4-ab48-48878d9a67df",
   "metadata": {},
   "outputs": [
    {
     "name": "stdout",
     "output_type": "stream",
     "text": [
      "choices left: 0.751, right: 0.249\n",
      "stimuli left: 0.547, right: 0.453\n",
      "reward wrong: 0.211, correct: 0.789\n"
     ]
    }
   ],
   "source": [
    "behave_dict = preprocess.load_behaviors_data(behavior_data_path, pid)\n",
    "choices, stimuli, transformed_stimuli, one_hot_stimuli, enc_categories, rewards, priors = preprocess.preprocess_static_behaviors(behave_dict)\n",
    "static_behaviors = {'choice': choices, 'stimulus': one_hot_stimuli}"
   ]
  },
  {
   "cell_type": "code",
   "execution_count": 4,
   "id": "82e210a8-2a88-4ede-a982-79cf02a8adc3",
   "metadata": {},
   "outputs": [],
   "source": [
    "rois = [roi.lower() for roi in ['PO', 'LP', 'DG', 'CA1', 'VIS']]"
   ]
  },
  {
   "cell_type": "code",
   "execution_count": 5,
   "id": "8e8bf1ff-a5ef-458e-8bf6-22142978d658",
   "metadata": {},
   "outputs": [
    {
     "name": "stdout",
     "output_type": "stream",
     "text": [
      "vis\n"
     ]
    }
   ],
   "source": [
    "roi = rois[-1]\n",
    "print(roi)"
   ]
  },
  {
   "cell_type": "code",
   "execution_count": 6,
   "id": "d4695a1f-f392-429a-9dd6-d8d67c29dd46",
   "metadata": {},
   "outputs": [
    {
     "name": "stdout",
     "output_type": "stream",
     "text": [
      "pid: dab512bd-a02d-4c1f-8dbc-9155a163efc0\n",
      "eid: d23a44ef-1402-4ed7-97f5-47e9a7a504d9\n",
      "1st trial stim on time: 17.56, last trial stim on time 2310.24\n",
      "found 29 neurons in region vis ...\n",
      "found 28 channels in region vis ...\n"
     ]
    }
   ],
   "source": [
    "unsorted_trials, stim_on_times, np1_channel_map = preprocess.load_neural_data(\n",
    "    pid=pid, \n",
    "    trial_data_path=trial_data_path,\n",
    "    neural_data_path=neural_data_path,\n",
    "    behavior_data_path=behavior_data_path,\n",
    "    keep_active_trials=True, \n",
    "    roi=roi,\n",
    "    kilosort=False,\n",
    "    triage=False\n",
    ")"
   ]
  },
  {
   "cell_type": "code",
   "execution_count": 7,
   "id": "4aa911ad-cccc-4871-aaa5-af5fc6cd30e6",
   "metadata": {},
   "outputs": [],
   "source": [
    "n_trials = stim_on_times.shape[0]\n",
    "n_channels = np1_channel_map.shape[0]\n",
    "\n",
    "rand_idx = np.arange(n_trials)\n",
    "train_idx = rand_idx[:int(.8*n_trials)]\n",
    "test_idx = rand_idx[int(.8*n_trials):]\n",
    "\n",
    "train_features = np.vstack([unsorted_trials[i][:,2:] for i in train_idx])\n",
    "train_y = choices[train_idx].argmax(1)\n",
    "test_y = choices[test_idx].argmax(1)"
   ]
  },
  {
   "cell_type": "code",
   "execution_count": 80,
   "id": "743446bc-4644-431e-a920-008ad74bac35",
   "metadata": {},
   "outputs": [],
   "source": [
    "n_time_bins = 15\n",
    "binning = np.arange(0, 1.5, step=(1.5 - 0)/n_time_bins)\n",
    "n_trials = stim_on_times.shape[0]\n",
    "spike_train = np.concatenate(unsorted_trials)[:,[0,2,3,4]]"
   ]
  },
  {
   "cell_type": "code",
   "execution_count": 81,
   "id": "9b546642-ef01-4f50-ac53-3ff5690f8e8d",
   "metadata": {},
   "outputs": [],
   "source": [
    "trial_idx = []\n",
    "time_idx = []\n",
    "all_trials = []\n",
    "for k in range(n_trials):\n",
    "    mask = np.logical_and(spike_train[:,0] >= stim_on_times[k]-0.5,\n",
    "                          spike_train[:,0] <= stim_on_times[k]+1\n",
    "                         )\n",
    "    trial = spike_train[mask,:]\n",
    "    trial[:,0] = trial[:,0] - trial[:,0].min()\n",
    "    time_bins = np.digitize(trial[:,0], binning, right=False)-1\n",
    "    for t in range(n_time_bins):\n",
    "        time_bin = trial[time_bins == t, 1:]\n",
    "        time_idx.append(np.ones_like(time_bin[:,0]) * t)\n",
    "        trial_idx.append(np.ones_like(time_bin[:,0]) * k)\n",
    "        all_trials.append(time_bin)\n",
    "time_idx = np.concatenate(time_idx)\n",
    "trial_idx = np.concatenate(trial_idx)\n",
    "all_trials = np.concatenate(all_trials)"
   ]
  },
  {
   "cell_type": "code",
   "execution_count": 82,
   "id": "2b59cff1-4251-486f-a08d-9f7fd57392d6",
   "metadata": {},
   "outputs": [],
   "source": [
    "train_mask = np.sum([trial_idx == idx for idx in train_idx], axis=0).astype(bool)\n",
    "train_trials = all_trials[train_mask]\n",
    "train_time_idx = time_idx[train_mask]\n",
    "train_trial_idx = trial_idx[train_mask]"
   ]
  },
  {
   "cell_type": "code",
   "execution_count": 83,
   "id": "b7ad28bf-bad8-4f61-8dd7-866b8b1132a8",
   "metadata": {},
   "outputs": [],
   "source": [
    "test_mask = np.sum([trial_idx == idx for idx in test_idx], axis=0).astype(bool)\n",
    "test_trials = all_trials[test_mask]\n",
    "test_time_idx = time_idx[test_mask]\n",
    "test_trial_idx = trial_idx[test_mask]"
   ]
  },
  {
   "cell_type": "code",
   "execution_count": 46,
   "id": "2120fd5a-d6bf-431a-9d6d-46653c385741",
   "metadata": {},
   "outputs": [
    {
     "name": "stdout",
     "output_type": "stream",
     "text": [
      "Initialization 0\n",
      "  Iteration 10\n",
      "  Iteration 20\n",
      "Initialization converged: True\n"
     ]
    }
   ],
   "source": [
    "C = 25\n",
    "gmm = GaussianMixture(n_components=C, \n",
    "                      covariance_type='full', \n",
    "                      init_params='k-means++',\n",
    "                      verbose=1)\n",
    "gmm.fit(train_trials)\n",
    "means = gmm.means_\n",
    "covs = gmm.covariances_"
   ]
  },
  {
   "cell_type": "code",
   "execution_count": 47,
   "id": "c1f395db-7b1b-4b5c-9a0a-219408bb68e4",
   "metadata": {},
   "outputs": [
    {
     "data": {
      "text/plain": [
       "(25, 3)"
      ]
     },
     "execution_count": 47,
     "metadata": {},
     "output_type": "execute_result"
    }
   ],
   "source": [
    "gmm.means_.shape"
   ]
  },
  {
   "cell_type": "code",
   "execution_count": 84,
   "id": "4c3d3a15-6baf-40e0-8812-7b62eca32864",
   "metadata": {},
   "outputs": [
    {
     "name": "stdout",
     "output_type": "stream",
     "text": [
      "found empty time bin.\n",
      "found empty time bin.\n",
      "found empty time bin.\n",
      "found empty time bin.\n",
      "found empty time bin.\n",
      "found empty time bin.\n",
      "found empty time bin.\n",
      "found empty time bin.\n",
      "found empty time bin.\n",
      "found empty time bin.\n",
      "found empty time bin.\n",
      "found empty time bin.\n",
      "found empty time bin.\n",
      "found empty time bin.\n",
      "found empty time bin.\n",
      "found empty time bin.\n",
      "found empty time bin.\n",
      "found empty time bin.\n",
      "found empty time bin.\n",
      "found empty time bin.\n",
      "found empty time bin.\n",
      "found empty time bin.\n",
      "found empty time bin.\n",
      "found empty time bin.\n"
     ]
    }
   ],
   "source": [
    "lambdas = []\n",
    "\n",
    "for k in train_idx:\n",
    "    mask = np.logical_and(spike_train[:,0] >= stim_on_times[k]-0.5,\n",
    "                          spike_train[:,0] <= stim_on_times[k]+1\n",
    "                         )\n",
    "    trial = spike_train[mask,:]\n",
    "    trial[:,0] = trial[:,0] - trial[:,0].min()\n",
    "    time_bins = np.digitize(trial[:,0], binning, right=False)-1\n",
    "    time_bins_lst = []\n",
    "    for t in range(n_time_bins):\n",
    "        time_bin = trial[time_bins == t, 1:]\n",
    "        probs_array = np.zeros((C, 2))\n",
    "        if len(time_bin) != 0:\n",
    "            cluster_idx = gmm.predict(time_bin)\n",
    "            probs = gmm.predict_proba(time_bin)\n",
    "            for j in range(C):\n",
    "                if choices[k].argmax() == 0:\n",
    "                    probs_array[j, 0] = np.sum(probs[cluster_idx == j])\n",
    "                else:\n",
    "                    probs_array[j, 1] = np.sum(probs[cluster_idx == j])\n",
    "        else:\n",
    "            print('found empty time bin.')\n",
    "        time_bins_lst.append(probs_array)\n",
    "    lambdas.append(time_bins_lst)\n",
    "lambdas = np.array(lambdas)"
   ]
  },
  {
   "cell_type": "code",
   "execution_count": 85,
   "id": "c79f1cc0-5d22-48ef-b65b-91bb11156a74",
   "metadata": {},
   "outputs": [],
   "source": [
    "n_left = np.sum(train_y==0)\n",
    "n_right = np.sum(train_y==1)\n",
    "lams = lambdas.sum(0) / np.array([n_left, n_right])\n",
    "lams = lams.transpose(1,0,2)\n",
    "diff_lams = lams[:,:,0] - lams[:,:,1]"
   ]
  },
  {
   "cell_type": "code",
   "execution_count": 86,
   "id": "3669e3b6-3c16-41b2-81df-82ac55470b57",
   "metadata": {},
   "outputs": [
    {
     "data": {
      "image/png": "[encoded data removed]",
      "text/plain": [
       "<Figure size 2000x500 with 6 Axes>"
      ]
     },
     "metadata": {},
     "output_type": "display_data"
    }
   ],
   "source": [
    "fig, (ax1, ax2, ax3) = plt.subplots(1,3, figsize=(20,5))\n",
    "f1 = ax1.imshow(lams[:,:,0], aspect='auto', cmap='cubehelix')\n",
    "ax1.set_title('left')\n",
    "ax1.set_xlabel('time bin')\n",
    "ax1.set_ylabel('gaussian')\n",
    "fig.colorbar(f1, ax=ax1);\n",
    "f2 = ax2.imshow(lams[:,:,1], aspect='auto', cmap='cubehelix')\n",
    "ax2.set_title('right')\n",
    "ax2.set_xlabel('time bin')\n",
    "fig.colorbar(f2, ax=ax2);\n",
    "f3 = ax3.imshow(diff_lams, aspect='auto', cmap='cubehelix')\n",
    "ax3.set_title('diff')\n",
    "ax3.set_xlabel('time bin')\n",
    "fig.colorbar(f3, ax=ax3);"
   ]
  },
  {
   "cell_type": "code",
   "execution_count": 51,
   "id": "ef1c1d1f-22d9-4c76-9b5c-0b73b8a17d80",
   "metadata": {},
   "outputs": [],
   "source": [
    "def safe_log(x, minval=1e-10):\n",
    "    return np.log(x + minval)\n",
    "\n",
    "def safe_divide(x, y):\n",
    "    return np.clip(x / y, a_min=0, a_max=1)"
   ]
  },
  {
   "cell_type": "code",
   "execution_count": 52,
   "id": "0993d4c7-aa6f-44f9-8fdf-b1dc011a5a1e",
   "metadata": {},
   "outputs": [],
   "source": [
    "def compute_elbo_enc(s, y, y_k, r, r_kt, mu, cov, lam, ks, ts):\n",
    "\n",
    "    K = np.unique(ks).shape[0]\n",
    "    T = np.unique(ts).shape[0]\n",
    "    C = mu.shape[0]\n",
    "    \n",
    "    # expected log-likelihood ( E_q(z)[log p(s,z|y)] )\n",
    "    # sum_{ktij} r_{ijt}^k * log(dN(s_i^kt; mu_j, cov_j))\n",
    "    \n",
    "    # sum_{ktij} r_{ijt}^k * ( y^k * (log(lambda^t_{j1}) - log(sum_j' lambda^t_{j'1})) \n",
    "    #                    + (1-y^k) * (log(lambda^t_{j0}) - log(sum_j' lambda^t_{j'0})) )\n",
    "    log_dens = np.transpose(\n",
    "                        [multivariate_normal.logpdf(s, mu[j], cov[j]) \\\n",
    "                         for j in range(C)]\n",
    "                        )\n",
    "    elbo_1 = np.sum( r * log_dens )\n",
    "    \n",
    "    elbo_2 = 0\n",
    "    for k in range(K):\n",
    "        for t in range(T):\n",
    "            elbo_2 += np.sum( r_kt[k][t] * ( y_k[k] * (safe_log(lam[:,t,1])-safe_log(lam[:,t,1].sum())) + \\\n",
    "                            (1-y_k[k]) * (safe_log(lam[:,t,0])-safe_log(lam[:,t,0].sum())) ) )\n",
    "        \n",
    "    # entropy of q(z) ( E_q(z)[log q(z)] )\n",
    "    # sum_{ktij} log(r_{ijt}^k) * r_{ijt}^k\n",
    "    elbo_3 = - np.sum(safe_log(r) * r)\n",
    "    \n",
    "    elbo = elbo_1 + elbo_2 + elbo_3 \n",
    "    \n",
    "    # print(f'elbo 1: {elbo_1}')\n",
    "    # print(f'elbo 2: {elbo_2}')\n",
    "    # print(f'elbo 3: {elbo_3}')\n",
    "    \n",
    "    return elbo"
   ]
  },
  {
   "cell_type": "code",
   "execution_count": 19,
   "id": "da38fbdb-ec28-4e8d-b208-8eb80a3c2f71",
   "metadata": {},
   "outputs": [],
   "source": [
    "def compute_elbo_dec(s, r, nu, nu_k, mu, cov, norm_lam, p, ks, ts):\n",
    "\n",
    "    K = np.unique(ks).shape[0]\n",
    "    T = np.unique(ts).shape[0]\n",
    "    C = mu.shape[0]\n",
    "    \n",
    "    # expected log-likelihood ( E_q(z,y)[log p(s,z,y)] )\n",
    "    # sum_{ktij} r_{ijt}^k * log(dN(s_i^kt; mu_j, cov_j))\n",
    "    \n",
    "    # sum_{ktij} r_{ijt}^k * ( nu^k * (log(lambda^t_{j1}) - log(sum_j' lambda^t_{j'1})) \n",
    "    #                    + (1-nu^k) * (log(lambda^t_{j0}) - log(sum_j' lambda^t_{j'0})) )\n",
    "    log_dens = np.transpose(\n",
    "                        [multivariate_normal.logpdf(s, mu[j], cov[j]) \\\n",
    "                         for j in range(C)]\n",
    "                        )\n",
    "    elbo_1 = np.sum( r * log_dens )\n",
    "    elbo_2 = np.sum(r * (nu * safe_log(norm_lam[:,:,1]) + (1-nu) * safe_log(norm_lam[:,:,0])) )\n",
    "    \n",
    "    # sum_k nu^k * logp + (1-nu^k) * log(1-p)\n",
    "    elbo_3 = np.sum(nu_k * safe_log(p) + (1-nu_k) * safe_log(1-p))\n",
    "    \n",
    "    # entropy of q(z) ( E_q(z)[log q(z)] )\n",
    "    # sum_{ktij} log(r_{ijt}^k) * r_{ijt}^k\n",
    "    elbo_4 = - np.sum(safe_log(r) * r)\n",
    "    \n",
    "    # entropy of q(y) ( E_q(y)[log q(y)] )\n",
    "    # sum_k log(nu^k) * nu^k\n",
    "    elbo_5 = - np.sum(safe_log(nu_k) * nu_k)\n",
    "    \n",
    "    elbo = elbo_1 + elbo_2 + elbo_3 + elbo_4 + elbo_5\n",
    "    \n",
    "    # print(f'elbo 1: {elbo_1}')\n",
    "    # print(f'elbo 2: {elbo_2}')\n",
    "    # print(f'elbo 3: {elbo_3}')\n",
    "    # print(f'elbo 4: {elbo_4}')\n",
    "    # print(f'elbo 5: {elbo_5}')\n",
    "    \n",
    "    return elbo"
   ]
  },
  {
   "cell_type": "code",
   "execution_count": 20,
   "id": "88f1baee-d437-4e88-ac38-66568505b1ac",
   "metadata": {},
   "outputs": [],
   "source": [
    "def cavi_enc(s, y, means, covs, init_lams, ks, ts, max_iter=20, eps=1e-10):\n",
    "    \n",
    "    K = np.unique(ks).shape[0]\n",
    "    T = np.unique(ts).shape[0]\n",
    "    C, D = means.shape\n",
    "    \n",
    "    # initialize\n",
    "    r = np.ones((s.shape[0], C)) / C\n",
    "    lam = init_lams.copy()\n",
    "    mu, cov = means.copy(), covs.copy()\n",
    "    y_k = [y[ks == k].max() for k in range(K)]\n",
    "    r_kt = [[r[np.logical_and(ks == k, ts == t),:] for t in range(T)] for k in range(K)]\n",
    "    \n",
    "    norm_lam = np.zeros((s.shape[0], C, 2))\n",
    "    for t in range(T):\n",
    "        norm_lam[ts == t,:,:] = lam[:,t,:] / lam[:,t,:].sum(0)\n",
    "        \n",
    "    # compute ELBO\n",
    "    elbo = [compute_elbo_enc(s, y, y_k, r, r_kt, mu, cov, lam, ks, ts)]\n",
    "    convergence = 1.\n",
    "    print(f'initial elbo: {elbo[-1]:.2f}')\n",
    "    \n",
    "    it = 1\n",
    "    while convergence > eps or convergence < 0:  # while ELBO not converged   \n",
    "        # update q(z)\n",
    "        # r_{ijt}^k = rho_{ijt}^k / sum_j rho_{ijt}^k\n",
    "        # rho_{ijt}^k = exp(log(dN(s_i^kt; mu_j, cov_j)) + \n",
    "        #                      ( y^k * (log(lambda^t_{j1}) - log(sum_j' lambda^t_{j'1})) \n",
    "        #                    + (1-y^k) * (log(lambda^t_{j0}) - log(sum_j' lambda^t_{j'0})) )            \n",
    "        log_dens = np.transpose(\n",
    "                        [multivariate_normal.logpdf(s, mu[j], cov[j]) \\\n",
    "                         for j in range(C)]\n",
    "                        )\n",
    "        rho = np.exp( log_dens + y * safe_log(norm_lam[:,:,1]) + \\\n",
    "                     (1-y) * safe_log(norm_lam[:,:,0]) )\n",
    "        for t in range(T):\n",
    "            r[ts == t,:] = rho[ts == t,:] / rho[ts == t,:].sum(1).reshape(-1,1)\n",
    "            \n",
    "            \n",
    "        # update lambda^t_j1, lambda^t_j0\n",
    "        # can't vectorize (very slow); may have faster way to update\n",
    "        r_kt = [[r[np.logical_and(ks == k, ts == t),:] for t in range(T)] for k in range(K)]\n",
    "        for j in range(C):\n",
    "            for t in range(T):\n",
    "                num1 = np.sum(np.concatenate(\n",
    "                    [y_k[k] * r_kt[k][t][:,j] * np.delete(lam[:,t,1],j).sum() for k in range(K)]\n",
    "                ))\n",
    "                denom1 = np.sum(np.concatenate(\n",
    "                    [y_k[k] * np.delete(r_kt[k][t], j, axis=1) for k in range(K)]\n",
    "                ))\n",
    "                num0 = np.sum(np.concatenate(\n",
    "                    [(1-y_k[k]) * r_kt[k][t][:,j] * np.delete(lam[:,t,0],j).sum() for k in range(K)]\n",
    "                ))\n",
    "                denom0 = np.sum(np.concatenate(\n",
    "                    [(1-y_k[k]) * np.delete(r_kt[k][t], j, axis=1) for k in range(K)]\n",
    "                ))\n",
    "                lam[j,t,1], lam[j,t,0] = num1 / denom1, num0 / denom0\n",
    "\n",
    "        for t in range(T):\n",
    "            norm_lam[ts == t,:,:] = lam[:,t,:] / lam[:,t,:].sum(0)\n",
    "\n",
    "            \n",
    "        # update means and covs\n",
    "        norm = r.sum(0)\n",
    "        for j in range(C):\n",
    "            mu[j] = (1/norm[j]) * np.sum(r[:,j].reshape(-1,1) * s, axis=0)\n",
    "            cov[j] = (1/norm[j]) * (r[:,j].reshape(-1,1) * (s-mu[j])).T.dot(s-mu[j])\n",
    "        \n",
    "        # compute ELBO\n",
    "        elbo.append(compute_elbo_enc(s, y, y_k, r, r_kt, mu, cov, lam, ks, ts))\n",
    "        convergence = elbo[-1] - elbo[-2]\n",
    "        \n",
    "        print(f'iter: {it} elbo: {elbo[-1]:.2f}.')\n",
    "        it +=1 \n",
    "        if it > max_iter: \n",
    "            print('reached max iter allowed.')\n",
    "            break\n",
    "            \n",
    "    if abs(convergence) <= eps:\n",
    "        print('converged.')\n",
    "    \n",
    "    return r, lam, mu, cov, elbo"
   ]
  },
  {
   "cell_type": "code",
   "execution_count": 21,
   "id": "804aff5e-6141-460f-974d-4d74bc4fd083",
   "metadata": {},
   "outputs": [],
   "source": [
    "def cavi_dec(s, means, covs, lam, ks, ts, max_iter=20, eps=1e-10):\n",
    "    \n",
    "    K = np.unique(ks).shape[0]\n",
    "    T = np.unique(ts).shape[0]\n",
    "    C, D = means.shape\n",
    "    \n",
    "    # initialize\n",
    "    p = .25 \n",
    "    r = np.ones((s.shape[0], C)) / C\n",
    "    mu, cov = means.copy(), covs.copy()\n",
    "    nu_k = np.random.uniform(0, 1, K)\n",
    "    nu = np.zeros(s.shape[0])\n",
    "    for k in range(K):\n",
    "        nu[ks == np.unique(ks)[k]] = nu_k[k]\n",
    "    nu = nu.reshape(-1,1)\n",
    "    \n",
    "    norm_lam = np.zeros((s.shape[0], C, 2))\n",
    "    for t in range(T):\n",
    "        norm_lam[ts == t,:,:] = lam[:,t,:] / lam[:,t,:].sum(0)\n",
    "    \n",
    "    # compute initial ELBO\n",
    "    elbo = [compute_elbo_dec(s, r, nu, nu_k, mu, cov, norm_lam, p, ks, ts)]\n",
    "    convergence = 1.\n",
    "    print(f'initial elbo: {elbo[-1]:.2f}')\n",
    "    \n",
    "    it = 1\n",
    "    while convergence > eps or convergence < 0:  # while ELBO not converged \n",
    "        # update q(z)\n",
    "        # r_{ijt}^k = rho_{ijt}^k / sum_j rho_{ijt}^k\n",
    "        # rho_{ijt}^k = exp(log(dN(s_i^kt; mu_j, cov_j)) + \n",
    "        #                      ( nu^k * (log(lambda^t_{j1}) - log(sum_j' lambda^t_{j'1})) \n",
    "        #                    + (1-nu^k) * (log(lambda^t_{j0}) - log(sum_j' lambda^t_{j'0})) )\n",
    "        log_dens = np.transpose(\n",
    "                        [multivariate_normal.logpdf(s, mu[j], cov[j]) \\\n",
    "                         for j in range(C)]\n",
    "                        )\n",
    "        rho = np.exp( log_dens + nu * safe_log(norm_lam[:,:,1]) + \\\n",
    "                     (1-nu) * safe_log(norm_lam[:,:,0]) )\n",
    "        for t in range(T):\n",
    "            r[ts == t,:] = rho[ts == t,:] / rho[ts == t,:].sum(1).reshape(-1,1)\n",
    "        \n",
    "        r_kt = [[r[np.logical_and(ks == np.unique(ks)[k], ts == t),:] for t in range(T)] for k in range(K)]\n",
    "        for k in range(K):   \n",
    "            # update q(y)\n",
    "            # anu^k = \\tilde{y}_1^k / (\\tilde{y}_1^k + \\tilde{y}_0^k)\n",
    "            # \\tilde{y}_1^k = exp(sum_{ijt} r_{ijt}^k * (log(lambda^t_{j1}) - log(sum_j' lambda^t_{j'1})) + logp)\n",
    "            # \\tilde{y}_0^k = exp(sum_{ijt} r_{ijt}^k * (log(lambda^t_{j0}) - log(sum_j' lambda^t_{j'0})) + log(1-p))\n",
    "            y_tilde0 = safe_log(1-p) + np.concatenate(\n",
    "                    [r_kt[k][t] * \\\n",
    "                     (safe_log(lam[:,t,0])-safe_log(lam[:,t,0].sum())) for t in range(T)]\n",
    "                ).sum()\n",
    "            y_tilde1 = safe_log(p) + np.concatenate(\n",
    "                    [r_kt[k][t] * \\\n",
    "                     (safe_log(lam[:,t,1])-safe_log(lam[:,t,1].sum())) for t in range(T)]\n",
    "                ).sum()\n",
    "            # y_tilde explode to 0 after exp() \n",
    "            # need offset to ensure y_tilde stay in range\n",
    "            offset = 1 / (np.min([y_tilde0, y_tilde1]) / -700) \n",
    "            y_tilde0, y_tilde1 = np.exp(y_tilde0*offset), np.exp(y_tilde1*offset)\n",
    "            nu_k[k] = safe_divide(y_tilde1, y_tilde0 + y_tilde1)\n",
    "            nu[ks == np.unique(ks)[k]] = nu_k[k]\n",
    "            \n",
    "\n",
    "        # update posterior param p\n",
    "        p = np.sum(nu_k) / K\n",
    "    \n",
    "        # update means and covs\n",
    "        norm = r.sum(0)\n",
    "        for j in range(C):\n",
    "            mu[j] = (1/norm[j]) * np.sum(r[:,j].reshape(-1,1) * s, axis=0)\n",
    "            cov[j] = (1/norm[j]) * (r[:,j].reshape(-1,1) * (s-mu[j])).T.dot(s-mu[j])\n",
    "        \n",
    "        # compute ELBO\n",
    "        elbo.append(compute_elbo_dec(s, r, nu, nu_k, mu, cov, norm_lam, p, ks, ts))\n",
    "        convergence = elbo[-1] - elbo[-2]\n",
    "\n",
    "        print(f'iter: {it} elbo: {elbo[-1]:.2f}.')\n",
    "        it +=1 \n",
    "        if it > max_iter: \n",
    "            print('reached max iter allowed.')\n",
    "            break\n",
    "            \n",
    "    if abs(convergence) <= eps:\n",
    "        print('converged.')\n",
    "    \n",
    "    return r_kt, nu_k, mu, cov, p, elbo"
   ]
  },
  {
   "cell_type": "markdown",
   "id": "23b64f6b-026e-457e-b079-5af48e45d34f",
   "metadata": {},
   "source": [
    "### encode"
   ]
  },
  {
   "cell_type": "code",
   "execution_count": 42,
   "id": "5aec22c5-c60f-4e6a-8967-0f1d521e6587",
   "metadata": {},
   "outputs": [],
   "source": [
    "y_k = train_y.copy()\n",
    "y = np.zeros(train_trials.shape[0])\n",
    "for k in range(len(train_idx)):\n",
    "    y[train_trial_idx == k] = train_y[k]\n",
    "y = y.reshape(-1,1)"
   ]
  },
  {
   "cell_type": "code",
   "execution_count": 87,
   "id": "09acd19f-1228-4bcb-a72c-76963f1f0fea",
   "metadata": {},
   "outputs": [
    {
     "name": "stdout",
     "output_type": "stream",
     "text": [
      "initial elbo: -5645515.25\n",
      "iter: 1 elbo: -185441.00.\n",
      "iter: 2 elbo: -185387.54.\n",
      "iter: 3 elbo: -185361.23.\n",
      "iter: 4 elbo: -185342.41.\n",
      "iter: 5 elbo: -185324.96.\n",
      "iter: 6 elbo: -185308.07.\n",
      "iter: 7 elbo: -185292.49.\n",
      "iter: 8 elbo: -185278.85.\n",
      "iter: 9 elbo: -185266.55.\n",
      "iter: 10 elbo: -185256.31.\n",
      "iter: 11 elbo: -185248.06.\n",
      "iter: 12 elbo: -185241.13.\n",
      "iter: 13 elbo: -185235.04.\n",
      "iter: 14 elbo: -185229.54.\n",
      "iter: 15 elbo: -185224.44.\n",
      "iter: 16 elbo: -185219.63.\n",
      "iter: 17 elbo: -185215.02.\n",
      "iter: 18 elbo: -185210.53.\n",
      "iter: 19 elbo: -185206.09.\n",
      "iter: 20 elbo: -185201.39.\n",
      "iter: 21 elbo: -185180.04.\n",
      "iter: 22 elbo: -185154.08.\n",
      "iter: 23 elbo: -185136.97.\n",
      "iter: 24 elbo: -185124.71.\n",
      "iter: 25 elbo: -185114.75.\n",
      "iter: 26 elbo: -185105.91.\n",
      "iter: 27 elbo: -185097.61.\n",
      "iter: 28 elbo: -185089.61.\n",
      "iter: 29 elbo: -185081.85.\n",
      "iter: 30 elbo: -185074.34.\n",
      "iter: 31 elbo: -185067.15.\n",
      "iter: 32 elbo: -185060.36.\n",
      "iter: 33 elbo: -185054.02.\n",
      "iter: 34 elbo: -185048.16.\n",
      "iter: 35 elbo: -185042.78.\n",
      "iter: 36 elbo: -185037.87.\n",
      "iter: 37 elbo: -185033.40.\n",
      "iter: 38 elbo: -185029.34.\n",
      "iter: 39 elbo: -185025.63.\n",
      "iter: 40 elbo: -185022.24.\n",
      "iter: 41 elbo: -185019.12.\n",
      "iter: 42 elbo: -185016.22.\n",
      "iter: 43 elbo: -185013.51.\n",
      "iter: 44 elbo: -185010.97.\n",
      "iter: 45 elbo: -185008.56.\n",
      "iter: 46 elbo: -185006.28.\n",
      "iter: 47 elbo: -185004.11.\n",
      "iter: 48 elbo: -185002.06.\n",
      "iter: 49 elbo: -185000.11.\n",
      "iter: 50 elbo: -184998.27.\n",
      "reached max iter allowed.\n"
     ]
    }
   ],
   "source": [
    "enc_r, enc_lam, enc_mu, enc_cov, enc_elbo = cavi_enc(train_trials, \n",
    "                                  y, \n",
    "                                  means, \n",
    "                                  covs, \n",
    "                                  lams, \n",
    "                                  train_trial_idx, \n",
    "                                  train_time_idx, \n",
    "                                  max_iter=50)"
   ]
  },
  {
   "cell_type": "code",
   "execution_count": 88,
   "id": "2c902fe9-4884-40e7-9093-4f9104356937",
   "metadata": {},
   "outputs": [
    {
     "data": {
      "image/png": "[encoded data removed]",
      "text/plain": [
       "<Figure size 600x300 with 1 Axes>"
      ]
     },
     "metadata": {},
     "output_type": "display_data"
    }
   ],
   "source": [
    "plt.figure(figsize=(6,3))\n",
    "plt.plot(enc_elbo)\n",
    "plt.xlabel('iteration')\n",
    "plt.ylabel('ELBO')\n",
    "pass"
   ]
  },
  {
   "cell_type": "code",
   "execution_count": 89,
   "id": "942d44a4-a034-4057-b8e9-78a7fcb9aef9",
   "metadata": {},
   "outputs": [],
   "source": [
    "diff_lam = enc_lam[:,:,0] - enc_lam[:,:,1]"
   ]
  },
  {
   "cell_type": "code",
   "execution_count": 90,
   "id": "6b22bf96-2dbe-4b0f-8d3e-a992391b7b2d",
   "metadata": {},
   "outputs": [
    {
     "data": {
      "image/png": "[encoded data removed]",
      "text/plain": [
       "<Figure size 2000x500 with 6 Axes>"
      ]
     },
     "metadata": {},
     "output_type": "display_data"
    }
   ],
   "source": [
    "fig, (ax1, ax2, ax3) = plt.subplots(1,3, figsize=(20,5))\n",
    "f1 = ax1.imshow(enc_lam[:,:,0], aspect='auto', cmap='cubehelix')\n",
    "ax1.set_title('left')\n",
    "ax1.set_xlabel('time bin')\n",
    "ax1.set_ylabel('gaussian')\n",
    "fig.colorbar(f1, ax=ax1);\n",
    "f2 = ax2.imshow(enc_lam[:,:,1], aspect='auto', cmap='cubehelix')\n",
    "ax2.set_title('right')\n",
    "ax2.set_xlabel('time bin')\n",
    "fig.colorbar(f2, ax=ax2);\n",
    "f3 = ax3.imshow(diff_lam, aspect='auto', cmap='cubehelix')\n",
    "ax3.set_title('diff')\n",
    "ax3.set_xlabel('time bin')\n",
    "fig.colorbar(f3, ax=ax3);"
   ]
  },
  {
   "cell_type": "code",
   "execution_count": 91,
   "id": "c7a4d05d-f81f-4e13-93ce-5d3e0f66ff18",
   "metadata": {},
   "outputs": [
    {
     "name": "stdout",
     "output_type": "stream",
     "text": [
      "initial elbo: -1584077.96\n",
      "iter: 1 elbo: -52773.06.\n",
      "iter: 2 elbo: -52333.27.\n",
      "iter: 3 elbo: -52206.37.\n",
      "iter: 4 elbo: -52127.05.\n",
      "iter: 5 elbo: -52072.28.\n",
      "iter: 6 elbo: -52038.98.\n",
      "iter: 7 elbo: -52017.86.\n",
      "iter: 8 elbo: -51998.55.\n",
      "iter: 9 elbo: -51978.90.\n",
      "iter: 10 elbo: -51965.21.\n",
      "iter: 11 elbo: -51951.88.\n",
      "iter: 12 elbo: -51939.75.\n",
      "iter: 13 elbo: -51928.38.\n",
      "iter: 14 elbo: -51918.39.\n",
      "iter: 15 elbo: -51910.67.\n",
      "iter: 16 elbo: -51902.75.\n",
      "iter: 17 elbo: -51892.18.\n",
      "iter: 18 elbo: -51876.87.\n",
      "iter: 19 elbo: -51857.10.\n",
      "iter: 20 elbo: -51838.42.\n",
      "iter: 21 elbo: -51824.67.\n",
      "iter: 22 elbo: -51813.67.\n",
      "iter: 23 elbo: -51804.21.\n",
      "iter: 24 elbo: -51794.20.\n",
      "iter: 25 elbo: -51785.11.\n",
      "iter: 26 elbo: -51777.94.\n",
      "iter: 27 elbo: -51772.03.\n",
      "iter: 28 elbo: -51767.17.\n",
      "iter: 29 elbo: -51762.96.\n",
      "iter: 30 elbo: -51759.08.\n",
      "iter: 31 elbo: -51755.30.\n",
      "iter: 32 elbo: -51751.45.\n",
      "iter: 33 elbo: -51747.57.\n",
      "iter: 34 elbo: -51743.77.\n",
      "iter: 35 elbo: -51740.02.\n",
      "iter: 36 elbo: -51736.28.\n",
      "iter: 37 elbo: -51732.63.\n",
      "iter: 38 elbo: -51729.17.\n",
      "iter: 39 elbo: -51725.87.\n",
      "iter: 40 elbo: -51722.59.\n",
      "iter: 41 elbo: -51719.19.\n",
      "iter: 42 elbo: -51715.72.\n",
      "iter: 43 elbo: -51712.49.\n",
      "iter: 44 elbo: -51709.67.\n",
      "iter: 45 elbo: -51707.13.\n",
      "iter: 46 elbo: -51704.61.\n",
      "iter: 47 elbo: -51702.03.\n",
      "iter: 48 elbo: -51699.64.\n",
      "iter: 49 elbo: -51697.64.\n",
      "iter: 50 elbo: -51695.97.\n",
      "reached max iter allowed.\n"
     ]
    }
   ],
   "source": [
    "# using observed lambda's\n",
    "dec_r, dec_nu, dec_mu, dec_cov, dec_p, dec_elbo = cavi_dec(test_trials, \n",
    "                                      enc_mu, \n",
    "                                      enc_cov, \n",
    "                                      enc_lam, \n",
    "                                      test_trial_idx, \n",
    "                                      test_time_idx, \n",
    "                                      max_iter=50)"
   ]
  },
  {
   "cell_type": "code",
   "execution_count": 92,
   "id": "a985c93e-3ff3-4eb6-92e9-2393f83c85d4",
   "metadata": {},
   "outputs": [
    {
     "data": {
      "image/png": "[encoded data removed]",
      "text/plain": [
       "<Figure size 600x300 with 1 Axes>"
      ]
     },
     "metadata": {},
     "output_type": "display_data"
    }
   ],
   "source": [
    "plt.figure(figsize=(6,3))\n",
    "plt.plot(dec_elbo)\n",
    "plt.xlabel('iteration')\n",
    "plt.ylabel('ELBO')\n",
    "pass"
   ]
  },
  {
   "cell_type": "code",
   "execution_count": 93,
   "id": "1fe7982b-9925-4f92-81df-15216a0e3d34",
   "metadata": {},
   "outputs": [
    {
     "data": {
      "text/plain": [
       "array([0, 1, 0, 0, 0, 0, 0, 0, 0, 0, 0, 0, 0, 0, 0, 0, 0, 0, 0, 0, 0, 0,\n",
       "       1, 0, 0, 0, 0, 0, 0, 0, 1, 1, 1, 1, 0, 1, 0, 0, 0, 0, 1, 1, 0, 0,\n",
       "       0, 0, 1, 1, 1, 1, 0, 0, 0])"
      ]
     },
     "execution_count": 93,
     "metadata": {},
     "output_type": "execute_result"
    }
   ],
   "source": [
    "test_y"
   ]
  },
  {
   "cell_type": "code",
   "execution_count": 94,
   "id": "b2eb9867-f048-4e18-af9e-748a86748c28",
   "metadata": {},
   "outputs": [
    {
     "data": {
      "text/plain": [
       "array([1.34129311e-09, 8.57687769e-09, 9.99999964e-01, 1.43338186e-12,\n",
       "       2.36319822e-52, 1.72300680e-20, 2.27005292e-44, 2.48440301e-10,\n",
       "       2.99812049e-12, 2.22946722e-12, 1.00000000e+00, 2.69537732e-21,\n",
       "       9.43432979e-29, 2.81213165e-39, 3.68061614e-07, 1.63285978e-26,\n",
       "       3.07774795e-31, 1.48738350e-36, 8.20266545e-24, 3.87368401e-37,\n",
       "       3.08359532e-09, 3.75919608e-07, 3.56969204e-03, 7.30756781e-26,\n",
       "       1.28773166e-47, 9.24014651e-29, 2.05218046e-22, 1.38643853e-07,\n",
       "       1.68038261e-25, 1.00000000e+00, 1.00000000e+00, 9.99999998e-01,\n",
       "       6.52871858e-41, 1.00000000e+00, 9.99999678e-01, 1.00000000e+00,\n",
       "       9.99999996e-01, 8.69048012e-12, 9.98541247e-01, 9.99999809e-01,\n",
       "       1.04249781e-09, 9.99999992e-01, 1.98475317e-61, 1.03401478e-23,\n",
       "       9.99998973e-01, 1.00000000e+00, 9.99962667e-01, 4.47560837e-10,\n",
       "       9.99999993e-01, 1.40936628e-13, 1.66063518e-17, 2.81333566e-32,\n",
       "       4.39456669e-24])"
      ]
     },
     "execution_count": 94,
     "metadata": {},
     "output_type": "execute_result"
    }
   ],
   "source": [
    "dec_nu"
   ]
  },
  {
   "cell_type": "code",
   "execution_count": 95,
   "id": "b60da4a3-e51f-462c-bd11-3a91f1bfbfd9",
   "metadata": {},
   "outputs": [
    {
     "data": {
      "text/plain": [
       "array([0, 0, 1, 0, 0, 0, 0, 0, 0, 0, 1, 0, 0, 0, 0, 0, 0, 0, 0, 0, 0, 0,\n",
       "       0, 0, 0, 0, 0, 0, 0, 1, 1, 1, 0, 1, 1, 1, 1, 0, 1, 1, 0, 1, 0, 0,\n",
       "       1, 1, 1, 0, 1, 0, 0, 0, 0])"
      ]
     },
     "execution_count": 95,
     "metadata": {},
     "output_type": "execute_result"
    }
   ],
   "source": [
    "np.array((dec_nu > .5) * 1., dtype=int)"
   ]
  },
  {
   "cell_type": "code",
   "execution_count": 96,
   "id": "f3424cdf-ec2f-4d3a-b7b0-c84f3a326a58",
   "metadata": {},
   "outputs": [
    {
     "name": "stdout",
     "output_type": "stream",
     "text": [
      "0.7576923076923078\n"
     ]
    }
   ],
   "source": [
    "# (po) best auc = 0.898 (C = 50, t = 15, max_iter = 50)\n",
    "# (po) best auc = 0.952 (C = 50, t = 10, max_iter = 50)\n",
    "# (lp) best auc = 0.921 (C = 50, t = 15, max_iter = 50)\n",
    "# (lp) best auc = 0.963 (C = 50, t = 10, max_iter = 50)\n",
    "# (dg) best auc = 0.8  (C = 45, t = 10, max_iter = 50)\n",
    "# (ca1) best auc = 0.821 (C = 30, t = 10, max_iter = 50)\n",
    "# (ca1) best auc = 0.813 (C = 25, t = 10, max_iter = 50)\n",
    "# (vis) best auc = 0.66 (C = 25, t = 10, max_iter = 50)\n",
    "# (vis) best auc = 0.75 (C = 25, t = 15, max_iter = 50)\n",
    "\n",
    "print(roc_auc_score(test_y, dec_nu))"
   ]
  },
  {
   "cell_type": "markdown",
   "id": "edd07b2e-bed9-4466-bda2-ef5bebcf57df",
   "metadata": {},
   "source": [
    "### sorted vs. good units"
   ]
  },
  {
   "cell_type": "code",
   "execution_count": 74,
   "id": "4a10f47e-ccab-468b-9469-fa9290661c0c",
   "metadata": {},
   "outputs": [
    {
     "name": "stdout",
     "output_type": "stream",
     "text": [
      "pid: dab512bd-a02d-4c1f-8dbc-9155a163efc0\n",
      "eid: d23a44ef-1402-4ed7-97f5-47e9a7a504d9\n",
      "found 83 good ibl units ..\n",
      "1st trial stim on time: 17.56, last trial stim on time 2310.24\n",
      "found 29 neurons in region vis ...\n",
      "found 28 channels in region vis ...\n",
      "sorted neural data shape: (265, 29, 30)\n",
      "good sorted neural data shape: (265, 6, 30)\n"
     ]
    }
   ],
   "source": [
    "sorted_trials, good_sorted_trials, unsorted_trials, stim_on_times, np1_channel_map= preprocess.load_neural_data(\n",
    "    pid=pid, \n",
    "    trial_data_path=trial_data_path,\n",
    "    neural_data_path=neural_data_path,\n",
    "    behavior_data_path=behavior_data_path,\n",
    "    keep_active_trials=True, \n",
    "    roi=roi,\n",
    "    kilosort=True,\n",
    "    triage=False,\n",
    "    good_units=True,\n",
    "    thresholding=True\n",
    ")\n",
    "\n",
    "n_trials = stim_on_times.shape[0]\n",
    "sorted = np.vstack([sorted_trials[i] for i in np.arange(n_trials)]) \n",
    "unsorted = np.vstack([unsorted_trials[i] for i in np.arange(n_trials)])\n",
    "spike_times = sorted[:,0]\n",
    "spike_clusters = sorted[:,1]\n",
    "spike_channels = unsorted[:,1]\n",
    "\n",
    "sorted_neural_data = preprocess.compute_neural_activity(\n",
    "    (spike_times, spike_clusters),\n",
    "    stim_on_times,\n",
    "    'sorted', \n",
    "    n_time_bins=30,\n",
    "    regional=True\n",
    ")\n",
    "print(f'sorted neural data shape: {sorted_neural_data.shape}')\n",
    "\n",
    "good_sorted = np.vstack([good_sorted_trials[i] for i in np.arange(n_trials)]) \n",
    "spike_times = good_sorted[:,0]\n",
    "spike_clusters = good_sorted[:,1]\n",
    "\n",
    "good_sorted_neural_data = preprocess.compute_neural_activity(\n",
    "    (spike_times, spike_clusters),\n",
    "    stim_on_times,\n",
    "    'sorted', \n",
    "    n_time_bins=30,\n",
    "    regional=True\n",
    ")\n",
    "print(f'good sorted neural data shape: {good_sorted_neural_data.shape}')"
   ]
  },
  {
   "cell_type": "code",
   "execution_count": 75,
   "id": "ed9f7e42-82ea-4476-99da-53b7688fa983",
   "metadata": {},
   "outputs": [],
   "source": [
    "x_train = sorted_neural_data[train_idx].reshape(-1, sorted_neural_data.shape[1]*sorted_neural_data.shape[-1])\n",
    "x_test = sorted_neural_data[test_idx].reshape(-1, sorted_neural_data.shape[1]*sorted_neural_data.shape[-1])\n",
    "decoder = LogisticRegression(random_state=seed, max_iter=1e4, tol = 0.01,\n",
    "                            solver='liblinear').fit(x_train, train_y)\n",
    "probs = decoder.predict_proba(x_test)\n",
    "preds = probs.argmax(1)\n",
    "acc = accuracy_score(test_y, preds)\n",
    "auc = roc_auc_score(choices[test_idx], probs)"
   ]
  },
  {
   "cell_type": "code",
   "execution_count": 76,
   "id": "d07e63f4-892c-45e4-a77c-26f2b2e6f02a",
   "metadata": {},
   "outputs": [
    {
     "name": "stdout",
     "output_type": "stream",
     "text": [
      "0.6615384615384614\n"
     ]
    }
   ],
   "source": [
    "# (po) auc = 0.909\n",
    "# (lp) auc = 0.965\n",
    "# (dg) auc = 0.72\n",
    "# (ca1) auc = 0.636\n",
    "# (vis) auc = 0.66\n",
    "print(auc)"
   ]
  },
  {
   "cell_type": "code",
   "execution_count": 77,
   "id": "df4a766e-8376-4a29-adbc-54fe83b163c2",
   "metadata": {},
   "outputs": [],
   "source": [
    "x_train = good_sorted_neural_data[train_idx].reshape(-1, good_sorted_neural_data.shape[1]*good_sorted_neural_data.shape[-1])\n",
    "x_test = good_sorted_neural_data[test_idx].reshape(-1, good_sorted_neural_data.shape[1]*good_sorted_neural_data.shape[-1])\n",
    "decoder = LogisticRegression(random_state=seed, max_iter=1e4, tol = 0.01,\n",
    "                            solver='liblinear').fit(x_train, train_y)\n",
    "probs = decoder.predict_proba(x_test)\n",
    "preds = probs.argmax(1)\n",
    "acc = accuracy_score(test_y, preds)\n",
    "auc = roc_auc_score(choices[test_idx], probs)"
   ]
  },
  {
   "cell_type": "code",
   "execution_count": 78,
   "id": "a0696f5d-5124-42da-beaf-2c5dcacb43f5",
   "metadata": {},
   "outputs": [
    {
     "name": "stdout",
     "output_type": "stream",
     "text": [
      "0.698076923076923\n"
     ]
    }
   ],
   "source": [
    "# (po) auc = 0.748\n",
    "# (lp) auc = 0.963\n",
    "# (dg) auc = 0.68\n",
    "# (ca1) auc = 0.773\n",
    "# (vis) auc = 0.69\n",
    "print(auc)"
   ]
  },
  {
   "cell_type": "code",
   "execution_count": null,
   "id": "2ebe751d-238f-47b8-b4c2-b3cad8c6e87e",
   "metadata": {},
   "outputs": [],
   "source": []
  }
 ],
 "metadata": {
  "kernelspec": {
   "display_name": "Python 3 (ipykernel)",
   "language": "python",
   "name": "python3"
  },
  "language_info": {
   "codemirror_mode": {
    "name": "ipython",
    "version": 3
   },
   "file_extension": ".py",
   "mimetype": "text/x-python",
   "name": "python",
   "nbconvert_exporter": "python",
   "pygments_lexer": "ipython3",
   "version": "3.8.13"
  }
 },
 "nbformat": 4,
 "nbformat_minor": 5
}
