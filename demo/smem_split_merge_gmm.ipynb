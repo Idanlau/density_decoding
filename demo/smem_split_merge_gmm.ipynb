{
 "cells": [
  {
   "cell_type": "markdown",
   "id": "19559958-228a-4ba9-9b61-5171906f027f",
   "metadata": {},
   "source": [
    "split (SMEM):\n",
    " 1. for each gaussian, calc split means and covs\n",
    " 2. use calculated means and covs to initialize EM\n",
    " 3. fit next round of EM till convergence\n",
    " 4. go back to step 1 and repeat if there are gaussians that need to be split according to criteria\n",
    " 5. halt the split process untill no gaussians need to be split"
   ]
  },
  {
   "cell_type": "code",
   "execution_count": null,
   "id": "963acca4-3d3b-4de2-87f7-f6ab5bfdf3ed",
   "metadata": {},
   "outputs": [],
   "source": []
  }
 ],
 "metadata": {
  "kernelspec": {
   "display_name": "Python 3 (ipykernel)",
   "language": "python",
   "name": "python3"
  },
  "language_info": {
   "codemirror_mode": {
    "name": "ipython",
    "version": 3
   },
   "file_extension": ".py",
   "mimetype": "text/x-python",
   "name": "python",
   "nbconvert_exporter": "python",
   "pygments_lexer": "ipython3",
   "version": "3.8.13"
  }
 },
 "nbformat": 4,
 "nbformat_minor": 5
}
