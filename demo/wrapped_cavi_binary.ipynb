{
 "cells": [
  {
   "cell_type": "code",
   "execution_count": 1,
   "id": "d6ebdad3-7f3f-451d-a165-0d0667bb52e3",
   "metadata": {},
   "outputs": [],
   "source": [
    "import numpy as np\n",
    "import random\n",
    "import torch\n",
    "import matplotlib.pyplot as plt\n",
    "from scipy.stats import multivariate_normal\n",
    "from sklearn.mixture import GaussianMixture\n",
    "from sklearn.metrics import accuracy_score, roc_auc_score\n",
    "from clusterless import preprocess"
   ]
  },
  {
   "cell_type": "code",
   "execution_count": 2,
   "id": "58f96b5d-bba6-4c4a-93f2-bc2f88625773",
   "metadata": {},
   "outputs": [],
   "source": [
    "seed = 666\n",
    "random.seed(seed)\n",
    "np.random.seed(seed)\n",
    "torch.manual_seed(seed)\n",
    "torch.set_default_dtype(torch.double)"
   ]
  },
  {
   "cell_type": "code",
   "execution_count": 3,
   "id": "706227bd-74c4-4c7a-b7e0-4c45083be3ef",
   "metadata": {},
   "outputs": [],
   "source": [
    "SMALL_SIZE = 15\n",
    "MEDIUM_SIZE = 20\n",
    "BIGGER_SIZE = 25\n",
    "\n",
    "plt.rc('font', size=MEDIUM_SIZE)         \n",
    "plt.rc('axes', titlesize=MEDIUM_SIZE)     \n",
    "plt.rc('axes', labelsize=MEDIUM_SIZE) \n",
    "plt.rc('axes', linewidth = 1.5)\n",
    "plt.rc('xtick', labelsize=MEDIUM_SIZE)   \n",
    "plt.rc('ytick', labelsize=MEDIUM_SIZE)   \n",
    "plt.rc('legend', fontsize=MEDIUM_SIZE)   \n",
    "plt.rc('figure', titlesize=MEDIUM_SIZE)"
   ]
  },
  {
   "cell_type": "markdown",
   "id": "c038a907-339e-4646-a910-57da1eced34b",
   "metadata": {},
   "source": [
    "#### prepare data"
   ]
  },
  {
   "cell_type": "code",
   "execution_count": 4,
   "id": "468ff898-96d2-4433-b804-736c4bf88a2a",
   "metadata": {},
   "outputs": [],
   "source": [
    "pid = 'dab512bd-a02d-4c1f-8dbc-9155a163efc0'\n",
    "rootpath = '/mnt/3TB/yizi/Downloads/ONE/openalyx.internationalbrainlab.org'\n",
    "trial_data_path = rootpath + '/danlab/Subjects/DY_016/2020-09-12/001/alf'\n",
    "neural_data_path = '/mnt/3TB/yizi/danlab/Subjects/DY_016'\n",
    "behavior_data_path = rootpath + '/paper_repro_ephys_data/figure9_10/original_data'\n",
    "save_path = '../saved_results/danlab/Subjects/DY_016/cavi_results/'"
   ]
  },
  {
   "cell_type": "code",
   "execution_count": 5,
   "id": "287afebe-5cf2-4a5d-ba42-744577e22f43",
   "metadata": {},
   "outputs": [
    {
     "name": "stdout",
     "output_type": "stream",
     "text": [
      "pid: dab512bd-a02d-4c1f-8dbc-9155a163efc0\n",
      "eid: d23a44ef-1402-4ed7-97f5-47e9a7a504d9\n",
      "1st trial stim on time: 17.56, last trial stim on time 2310.24\n",
      "choices left: 0.751, right: 0.249\n",
      "stimuli left: 0.547, right: 0.453\n",
      "reward wrong: 0.211, correct: 0.789\n"
     ]
    }
   ],
   "source": [
    "unsorted_trials, stim_on_times, np1_channel_map = preprocess.load_neural_data(\n",
    "    pid=pid, \n",
    "    trial_data_path=trial_data_path,\n",
    "    neural_data_path=neural_data_path,\n",
    "    behavior_data_path=behavior_data_path,\n",
    "    keep_active_trials=True, \n",
    "    roi='all',\n",
    "    kilosort=False,\n",
    "    triage=False\n",
    ")\n",
    "\n",
    "behave_dict = preprocess.load_behaviors_data(behavior_data_path, pid)\n",
    "choices, stimuli, transformed_stimuli, one_hot_stimuli, enc_categories, rewards, priors = preprocess.preprocess_static_behaviors(behave_dict)"
   ]
  },
  {
   "cell_type": "code",
   "execution_count": 6,
   "id": "b047a0ab-1534-4edc-9704-47fa92a3d567",
   "metadata": {},
   "outputs": [],
   "source": [
    "class DataLoader():\n",
    "    def __init__(self, data, y, stim_on_times, np1_channel_map, n_t_bins=30):\n",
    "        self.data = data\n",
    "        self.y = y.argmax(1)\n",
    "        self.stim_on_times = stim_on_times\n",
    "        self.np1_channel_map = np1_channel_map\n",
    "        self.n_t_bins = n_t_bins\n",
    "        self.n_trials = stim_on_times.shape[0]\n",
    "        self.n_channels = np1_channel_map.shape[0]\n",
    "        self.t_binning = np.arange(0, 1.5, step = (1.5 - 0) / n_t_bins)\n",
    "        self.rand_trial_ids = np.arange(self.n_trials)\n",
    "        \n",
    "        # allocate unsorted data into trials\n",
    "        self.trial_ids = []\n",
    "        self.t_ids = []\n",
    "        self.trials = []\n",
    "        self.t_bins = []\n",
    "        for k in range(self.n_trials):\n",
    "            mask = np.logical_and(data[:,0] >= stim_on_times[k] - 0.5,\n",
    "                                  data[:,0] <= stim_on_times[k] + 1)\n",
    "            trial = data[mask,:]\n",
    "            trial[:,0] = trial[:,0] - trial[:,0].min()\n",
    "            t_bins = np.digitize(trial[:,0], self.t_binning, right = False) - 1\n",
    "            t_bin_lst = []\n",
    "            for t in range(self.n_t_bins):\n",
    "                t_bin = trial[t_bins == t,1:]\n",
    "                self.trial_ids.append(np.ones_like(t_bin[:,0]) * k)\n",
    "                self.t_ids.append(np.ones_like(t_bin[:,0]) * t)\n",
    "                t_bin_lst.append(t_bin)\n",
    "            self.trials.append(t_bin_lst)\n",
    "    \n",
    "    \n",
    "    def split_train_test(self, split=.8):\n",
    "        \n",
    "        self.train_ids = self.rand_trial_ids[:int(split * self.n_trials)]\n",
    "        self.test_ids = self.rand_trial_ids[int(split * self.n_trials):]\n",
    "        self.y_train = self.y[self.train_ids]\n",
    "        self.y_test = self.y[self.test_ids]\n",
    "        \n",
    "        trial_ids = np.concatenate(self.trial_ids)\n",
    "        t_ids = np.concatenate(self.t_ids)\n",
    "        trials = np.concatenate(np.concatenate(self.trials))\n",
    "\n",
    "        train_mask = np.sum([trial_ids == idx for idx in self.train_ids], axis=0).astype(bool)\n",
    "        test_mask = np.sum([trial_ids == idx for idx in self.test_ids], axis=0).astype(bool)\n",
    "        train_trial_ids, test_trial_ids = trial_ids[train_mask], trial_ids[test_mask]\n",
    "        train_t_ids, test_t_ids = t_ids[train_mask], t_ids[test_mask]\n",
    "        train_trials, test_trials = trials[train_mask], trials[test_mask]\n",
    "        \n",
    "        return train_trials, train_trial_ids, train_t_ids, \\\n",
    "               test_trials, test_trial_ids, test_t_ids\n",
    "    \n",
    "    \n",
    "    def compute_lambda(self, gmm):\n",
    "        C = len(gmm.means_)\n",
    "        lambdas = []\n",
    "        for k in self.train_ids:\n",
    "            lam_lst = []\n",
    "            for t in range(self.n_t_bins):\n",
    "                t_bin = self.trials[k][t]\n",
    "                cluster_ids = gmm.predict(t_bin)\n",
    "                lam = np.zeros((C, 2))\n",
    "                for j in range(C):\n",
    "                    if self.y[k] == 0:\n",
    "                        lam[j, 0] = np.sum(cluster_ids == j)\n",
    "                    else:\n",
    "                        lam[j, 1] = np.sum(cluster_ids == j)\n",
    "                lam_lst.append(lam)\n",
    "            lambdas.append(lam_lst)\n",
    "        n_left, n_right = np.sum(self.y_train == 0), np.sum(self.y_train == 1)\n",
    "        p = n_right / (n_right + n_left)\n",
    "        lambdas = ( np.array(lambdas).sum(0) / np.array([n_left, n_right]) ).transpose(1,0,2)\n",
    "        return lambdas, p "
   ]
  },
  {
   "cell_type": "code",
   "execution_count": 7,
   "id": "59b75edb-f996-4bb9-a145-d86dc1604186",
   "metadata": {},
   "outputs": [],
   "source": [
    "data_loader = DataLoader(data = np.concatenate(unsorted_trials)[:,[0,2,3,4]], \n",
    "                         y = choices, \n",
    "                         stim_on_times = stim_on_times, \n",
    "                         np1_channel_map = np1_channel_map, \n",
    "                         n_t_bins=10)"
   ]
  },
  {
   "cell_type": "code",
   "execution_count": 8,
   "id": "f4853676-ed70-4fdc-94f7-8ae0e87e2da9",
   "metadata": {},
   "outputs": [
    {
     "name": "stderr",
     "output_type": "stream",
     "text": [
      "<__array_function__ internals>:180: VisibleDeprecationWarning: Creating an ndarray from ragged nested sequences (which is a list-or-tuple of lists-or-tuples-or ndarrays with different lengths or shapes) is deprecated. If you meant to do this, you must specify 'dtype=object' when creating the ndarray.\n"
     ]
    }
   ],
   "source": [
    "train_trials, train_trial_ids, train_t_ids, \\\n",
    "test_trials, test_trial_ids, test_t_ids = data_loader.split_train_test(split=.8)"
   ]
  },
  {
   "cell_type": "code",
   "execution_count": 9,
   "id": "e81593a3-836f-484a-8027-ef28708f1194",
   "metadata": {},
   "outputs": [
    {
     "name": "stdout",
     "output_type": "stream",
     "text": [
      "Initialization 0\n",
      "  Iteration 10\n",
      "Initialization converged: True\n"
     ]
    },
    {
     "data": {
      "text/html": [
       "<style>#sk-container-id-1 {color: black;background-color: white;}#sk-container-id-1 pre{padding: 0;}#sk-container-id-1 div.sk-toggleable {background-color: white;}#sk-container-id-1 label.sk-toggleable__label {cursor: pointer;display: block;width: 100%;margin-bottom: 0;padding: 0.3em;box-sizing: border-box;text-align: center;}#sk-container-id-1 label.sk-toggleable__label-arrow:before {content: \"▸\";float: left;margin-right: 0.25em;color: #696969;}#sk-container-id-1 label.sk-toggleable__label-arrow:hover:before {color: black;}#sk-container-id-1 div.sk-estimator:hover label.sk-toggleable__label-arrow:before {color: black;}#sk-container-id-1 div.sk-toggleable__content {max-height: 0;max-width: 0;overflow: hidden;text-align: left;background-color: #f0f8ff;}#sk-container-id-1 div.sk-toggleable__content pre {margin: 0.2em;color: black;border-radius: 0.25em;background-color: #f0f8ff;}#sk-container-id-1 input.sk-toggleable__control:checked~div.sk-toggleable__content {max-height: 200px;max-width: 100%;overflow: auto;}#sk-container-id-1 input.sk-toggleable__control:checked~label.sk-toggleable__label-arrow:before {content: \"▾\";}#sk-container-id-1 div.sk-estimator input.sk-toggleable__control:checked~label.sk-toggleable__label {background-color: #d4ebff;}#sk-container-id-1 div.sk-label input.sk-toggleable__control:checked~label.sk-toggleable__label {background-color: #d4ebff;}#sk-container-id-1 input.sk-hidden--visually {border: 0;clip: rect(1px 1px 1px 1px);clip: rect(1px, 1px, 1px, 1px);height: 1px;margin: -1px;overflow: hidden;padding: 0;position: absolute;width: 1px;}#sk-container-id-1 div.sk-estimator {font-family: monospace;background-color: #f0f8ff;border: 1px dotted black;border-radius: 0.25em;box-sizing: border-box;margin-bottom: 0.5em;}#sk-container-id-1 div.sk-estimator:hover {background-color: #d4ebff;}#sk-container-id-1 div.sk-parallel-item::after {content: \"\";width: 100%;border-bottom: 1px solid gray;flex-grow: 1;}#sk-container-id-1 div.sk-label:hover label.sk-toggleable__label {background-color: #d4ebff;}#sk-container-id-1 div.sk-serial::before {content: \"\";position: absolute;border-left: 1px solid gray;box-sizing: border-box;top: 0;bottom: 0;left: 50%;z-index: 0;}#sk-container-id-1 div.sk-serial {display: flex;flex-direction: column;align-items: center;background-color: white;padding-right: 0.2em;padding-left: 0.2em;position: relative;}#sk-container-id-1 div.sk-item {position: relative;z-index: 1;}#sk-container-id-1 div.sk-parallel {display: flex;align-items: stretch;justify-content: center;background-color: white;position: relative;}#sk-container-id-1 div.sk-item::before, #sk-container-id-1 div.sk-parallel-item::before {content: \"\";position: absolute;border-left: 1px solid gray;box-sizing: border-box;top: 0;bottom: 0;left: 50%;z-index: -1;}#sk-container-id-1 div.sk-parallel-item {display: flex;flex-direction: column;z-index: 1;position: relative;background-color: white;}#sk-container-id-1 div.sk-parallel-item:first-child::after {align-self: flex-end;width: 50%;}#sk-container-id-1 div.sk-parallel-item:last-child::after {align-self: flex-start;width: 50%;}#sk-container-id-1 div.sk-parallel-item:only-child::after {width: 0;}#sk-container-id-1 div.sk-dashed-wrapped {border: 1px dashed gray;margin: 0 0.4em 0.5em 0.4em;box-sizing: border-box;padding-bottom: 0.4em;background-color: white;}#sk-container-id-1 div.sk-label label {font-family: monospace;font-weight: bold;display: inline-block;line-height: 1.2em;}#sk-container-id-1 div.sk-label-container {text-align: center;}#sk-container-id-1 div.sk-container {/* jupyter's `normalize.less` sets `[hidden] { display: none; }` but bootstrap.min.css set `[hidden] { display: none !important; }` so we also need the `!important` here to be able to override the default hidden behavior on the sphinx rendered scikit-learn.org. See: https://github.com/scikit-learn/scikit-learn/issues/21755 */display: inline-block !important;position: relative;}#sk-container-id-1 div.sk-text-repr-fallback {display: none;}</style><div id=\"sk-container-id-1\" class=\"sk-top-container\"><div class=\"sk-text-repr-fallback\"><pre>GaussianMixture(init_params=&#x27;k-means++&#x27;, n_components=10, verbose=1)</pre><b>In a Jupyter environment, please rerun this cell to show the HTML representation or trust the notebook. <br />On GitHub, the HTML representation is unable to render, please try loading this page with nbviewer.org.</b></div><div class=\"sk-container\" hidden><div class=\"sk-item\"><div class=\"sk-estimator sk-toggleable\"><input class=\"sk-toggleable__control sk-hidden--visually\" id=\"sk-estimator-id-1\" type=\"checkbox\" checked><label for=\"sk-estimator-id-1\" class=\"sk-toggleable__label sk-toggleable__label-arrow\">GaussianMixture</label><div class=\"sk-toggleable__content\"><pre>GaussianMixture(init_params=&#x27;k-means++&#x27;, n_components=10, verbose=1)</pre></div></div></div></div></div>"
      ],
      "text/plain": [
       "GaussianMixture(init_params='k-means++', n_components=10, verbose=1)"
      ]
     },
     "execution_count": 9,
     "metadata": {},
     "output_type": "execute_result"
    }
   ],
   "source": [
    "C = 10\n",
    "gmm = GaussianMixture(n_components = C, \n",
    "                      covariance_type = 'full', \n",
    "                      init_params = 'k-means++',\n",
    "                      verbose=1)\n",
    "gmm.fit(train_trials)"
   ]
  },
  {
   "cell_type": "code",
   "execution_count": 10,
   "id": "29814ebb-aa3d-4972-b233-cbdb7cb9bf15",
   "metadata": {},
   "outputs": [],
   "source": [
    "lambdas, p = data_loader.compute_lambda(gmm)"
   ]
  },
  {
   "cell_type": "code",
   "execution_count": 11,
   "id": "58f46a38-e6de-4e7d-a054-a28ae2f861cf",
   "metadata": {},
   "outputs": [
    {
     "data": {
      "image/png": "[encoded data removed]",
      "text/plain": [
       "<Figure size 1500x500 with 6 Axes>"
      ]
     },
     "metadata": {},
     "output_type": "display_data"
    }
   ],
   "source": [
    "fig, (ax1, ax2, ax3) = plt.subplots(1,3, figsize=(15,5))\n",
    "\n",
    "f1 = ax1.imshow(lambdas[:,:,0], aspect='auto', cmap='cubehelix')\n",
    "ax1.set_title(f'left ({p:.2f})')\n",
    "ax1.set_xlabel('time')\n",
    "ax1.set_ylabel('component')\n",
    "fig.colorbar(f1, ax = ax1)\n",
    "\n",
    "f2 = ax2.imshow(lambdas[:,:,1], aspect='auto', cmap='cubehelix')\n",
    "ax2.set_title(f'right ({1-p:.2f})')\n",
    "ax2.set_xlabel('time')\n",
    "fig.colorbar(f2, ax = ax2)\n",
    "\n",
    "f3 = ax3.imshow(lambdas[:,:,0] - lambdas[:,:,1], aspect='auto', cmap='cubehelix')\n",
    "ax3.set_title('left - right')\n",
    "ax3.set_xlabel('time')\n",
    "fig.colorbar(f3, ax = ax3)\n",
    "\n",
    "plt.tight_layout()"
   ]
  },
  {
   "cell_type": "markdown",
   "id": "5920c968-9da0-43a0-90f8-41612fddd2ff",
   "metadata": {},
   "source": [
    "#### CAVI"
   ]
  },
  {
   "cell_type": "code",
   "execution_count": 12,
   "id": "87c5aea1-539e-433a-a8a0-5fe394e0059b",
   "metadata": {},
   "outputs": [],
   "source": [
    "def safe_log(x, minval=1e-10):\n",
    "    return torch.log(x + minval)\n",
    "\n",
    "def safe_divide(x, y):\n",
    "    return torch.clip(x / y, min = 0, max = 1)"
   ]
  },
  {
   "cell_type": "code",
   "execution_count": 89,
   "id": "21e02315-f5aa-4c22-b6ca-1e6a2b21f5c0",
   "metadata": {},
   "outputs": [],
   "source": [
    "class CAVI():\n",
    "    def __init__(self, init_mu, init_cov, init_lam, \n",
    "                 train_k_ids, train_t_ids, test_k_ids, test_t_ids):\n",
    "        \n",
    "        self.train_K = len(train_k_ids)\n",
    "        self.test_K = len(test_k_ids)\n",
    "        self.T = len(train_t_ids)\n",
    "        self.C = init_mu.shape[0]\n",
    "        self.D = init_mu.shape[1]\n",
    "        self.init_mu = init_mu\n",
    "        self.init_cov = init_cov\n",
    "        self.init_lam = init_lam\n",
    "        self.train_k_ids = train_k_ids\n",
    "        self.train_t_ids = train_t_ids\n",
    "        self.test_k_ids = test_k_ids\n",
    "        self.test_t_ids = test_t_ids\n",
    "        \n",
    "    \n",
    "    def _compute_normal_log_dens(self, s, mu, cov):\n",
    "        \n",
    "        log_dens = []\n",
    "        for j in range(self.C):\n",
    "            log_dens.append(\n",
    "                torch.tensor(\n",
    "                    multivariate_normal.logpdf(s, mu[j], cov[j])\n",
    "                )\n",
    "            )\n",
    "        return torch.vstack(log_dens).T # (*, C)\n",
    "    \n",
    "    \n",
    "    def _compute_enc_elbo(self, r, y, log_dens, norm_lam):\n",
    "        \n",
    "        elbo_1 = torch.sum(torch.tensor(\n",
    "            [torch.einsum('i,i->', r[:,j], log_dens[:,j]) for j in range(self.C)]\n",
    "        ))\n",
    "\n",
    "        elbo_2 = torch.tensor(\n",
    "            [ torch.einsum('ij,il,j->', r[self.train_t_ids[t]], \n",
    "                           y[self.train_t_ids[t]], norm_lam[:,t,1]) +\n",
    "              torch.einsum('ij,il,j->', r[self.train_t_ids[t]], \n",
    "                           1-y[self.train_t_ids[t]], norm_lam[:,t,0]) for t in range(self.T) ]\n",
    "            ).sum()\n",
    "\n",
    "        elbo_3 = - torch.einsum('ij,ij->', safe_log(r), r)\n",
    "\n",
    "        elbo = elbo_1 + elbo_2 + elbo_3 \n",
    "\n",
    "        return elbo\n",
    "    \n",
    "    \n",
    "    def _compute_dec_elbo(self, r, log_dens, norm_lam, nu, nu_k, p):\n",
    "        \n",
    "        elbo_1 = torch.sum(torch.tensor(\n",
    "            [torch.einsum('i,i->', r[:,j], log_dens[:,j]) for j in range(self.C)]\n",
    "        ))\n",
    "\n",
    "        elbo_2 = torch.tensor(\n",
    "            [ torch.einsum('ij,il,j->', r[self.test_t_ids[t]], \n",
    "                           nu[self.test_t_ids[t]], norm_lam[:,t,1]) +\n",
    "              torch.einsum('ij,il,j->', r[self.test_t_ids[t]], \n",
    "                           1-nu[self.test_t_ids[t]], norm_lam[:,t,0]) for t in range(self.T) ]\n",
    "            ).sum()\n",
    "\n",
    "        elbo_3 = torch.sum(nu_k * safe_log(p) + (1-nu_k) * safe_log(1-p))\n",
    "\n",
    "        elbo_4 = - torch.einsum('ij,ij->', safe_log(r), r)\n",
    "\n",
    "        elbo_5 = - torch.sum(safe_log(nu_k) * nu_k)\n",
    "\n",
    "        elbo = elbo_1 + elbo_2 + elbo_3 + elbo_4 + elbo_5\n",
    "\n",
    "        return elbo\n",
    "    \n",
    "    \n",
    "    def _encode_e_step(self, r, y, log_dens, norm_lam):\n",
    "        \n",
    "        for t in range(self.T):\n",
    "            r[self.train_t_ids[t]] = torch.exp( log_dens[self.train_t_ids[t]] + \\\n",
    "                      torch.einsum('il,j->ij', y[self.train_t_ids[t]], norm_lam[:,t,1]) + \\\n",
    "                      torch.einsum('il,j->ij', 1-y[self.train_t_ids[t]], norm_lam[:,t,0])\n",
    "            )\n",
    "            r[self.train_t_ids[t]] = torch.einsum('ij,i->ij', r[self.train_t_ids[t]], 1/r[self.train_t_ids[t]].sum(1))\n",
    "        return r\n",
    "        \n",
    "    \n",
    "    def _encode_m_step(self, s, r, y, mu, lam):\n",
    "        \n",
    "        for j in range(self.C):\n",
    "            no_j_idx = torch.cat([torch.arange(j), torch.arange(j+1, self.C)])\n",
    "            lam_sum_no_j = lam[no_j_idx,:,:].sum(0)\n",
    "            for t in range(self.T):\n",
    "                num1 = torch.einsum('i,il,->', r[self.train_t_ids[t],j], y[self.train_t_ids[t]], lam_sum_no_j[t,1])\n",
    "                denom1 = np.einsum('ij,il->', r[self.train_t_ids[t]][:,no_j_idx], y[self.train_t_ids[t]])\n",
    "                num0 = torch.einsum('i,il,->', r[self.train_t_ids[t],j], 1-y[self.train_t_ids[t]], lam_sum_no_j[t,0])\n",
    "                denom0 = np.einsum('ij,il->', r[self.train_t_ids[t]][:,no_j_idx], 1-y[self.train_t_ids[t]])\n",
    "                lam[j,t,1], lam[j,t,0] = num1 / denom1, num0 / denom0\n",
    "        norm_lam = safe_log(lam) - safe_log(lam.sum(0))\n",
    "\n",
    "        norm = r.sum(0)\n",
    "        mu = torch.einsum('j,ij,ip->jp', 1/norm, r, s)\n",
    "        cov = [torch.einsum(\n",
    "            ',i,ip,id->pd', 1/norm[j], r[:,j], s-mu[j], s-mu[j] ) for j in range(self.C)]\n",
    "        \n",
    "        return mu, cov, lam, norm_lam\n",
    "    \n",
    "    \n",
    "    def _decode_e_step(self, r, log_dens, norm_lam, nu, nu_k, p):\n",
    "        \n",
    "        for t in range(self.T):\n",
    "            r[self.test_t_ids[t]] = torch.exp( log_dens[self.test_t_ids[t]] + \\\n",
    "                      torch.einsum('il,j->ij', nu[self.test_t_ids[t]], norm_lam[:,t,1]) + \\\n",
    "                      torch.einsum('il,j->ij', 1-nu[self.test_t_ids[t]], norm_lam[:,t,0])\n",
    "            )\n",
    "            r[self.test_t_ids[t]] = torch.einsum('ij,i->ij', r[self.test_t_ids[t]], 1/r[self.test_t_ids[t]].sum(1))\n",
    "        \n",
    "        for k in range(self.test_K):\n",
    "            y_tilde0, y_tilde1 = safe_log(1-p), safe_log(p)\n",
    "            for t in range(self.T):\n",
    "                k_t_ids = np.intersect1d(self.test_k_ids[k], self.test_t_ids[t])\n",
    "                y_tilde0 += torch.einsum('ij,j->', r[k_t_ids], norm_lam[:,t,0])\n",
    "                y_tilde1 += torch.einsum('ij,j->', r[k_t_ids], norm_lam[:,t,1])\n",
    "            # y_tilde explode to 0 after exp(); need offset to ensure y_tilde stay in range\n",
    "            offset = 1. / (torch.min(torch.tensor([y_tilde0, y_tilde1])) / -745.) \n",
    "            y_tilde0, y_tilde1 = torch.exp(y_tilde0 * offset), torch.exp(y_tilde1 * offset)\n",
    "            nu_k[k] = safe_divide(y_tilde1, y_tilde0 + y_tilde1)\n",
    "            nu[self.test_k_ids[k]] = nu_k[k]\n",
    "            \n",
    "        return r, nu, nu_k\n",
    "    \n",
    "    \n",
    "    def _decode_m_step(self, s, r, nu_k, mu):\n",
    "        \n",
    "        p = nu_k.sum() / self.test_K\n",
    "    \n",
    "        norm = r.sum(0)\n",
    "        mu = torch.einsum('j,ij,ip->jp', 1/norm, r, s)\n",
    "        cov = [torch.einsum(\n",
    "            ',i,ip,id->pd', 1/norm[j], r[:,j], s-mu[j], s-mu[j]) for j in range(self.C)]\n",
    "        \n",
    "        return p, mu, cov\n",
    "    \n",
    "    \n",
    "    def encode(self, s, y, max_iter=20, eps=1e-6):\n",
    "        # initialize\n",
    "        r = torch.ones((s.shape[0], self.C)) / self.C\n",
    "        lam = self.init_lam.clone()\n",
    "        mu, cov = self.init_mu.clone(), self.init_cov.clone()\n",
    "        norm_lam = safe_log(lam) - safe_log(lam.sum(0))\n",
    "        \n",
    "        # compute initial elbo\n",
    "        log_dens = self._compute_normal_log_dens(s, mu, cov)\n",
    "        elbo = self._compute_enc_elbo(r, y, log_dens, norm_lam)\n",
    "        convergence = 1.\n",
    "        elbos = [elbo]\n",
    "        print(f'initial elbo: {elbos[-1]:.2f}')\n",
    "        \n",
    "        it = 1\n",
    "        while convergence > eps or convergence < 0: \n",
    "            # E step\n",
    "            r = self._encode_e_step(r, y, log_dens, norm_lam)\n",
    "            \n",
    "            # M step\n",
    "            mu, cov, lam, norm_lam = self._encode_m_step(s, r, y, mu, lam)\n",
    "            \n",
    "            # compute new elbo\n",
    "            log_dens = self._compute_normal_log_dens(s, mu, cov)\n",
    "            elbo = self._compute_enc_elbo(r, y, log_dens, norm_lam)\n",
    "            elbos.append(elbo)\n",
    "            convergence = elbos[-1] - elbos[-2]\n",
    "\n",
    "            print(f'iter: {it} elbo: {elbos[-1]:.2f}.')\n",
    "            it +=1 \n",
    "            if it > max_iter: \n",
    "                print('reached max iter allowed.')\n",
    "                break\n",
    "\n",
    "        if abs(convergence) <= eps:\n",
    "            print('converged.')\n",
    "            \n",
    "        return r, lam, mu, torch.stack(cov), elbos\n",
    "    \n",
    "    \n",
    "    def decode(self, s, init_p, init_mu, init_cov, init_lam, \n",
    "                test_k_ids, test_ids, max_iter=20, eps=1e-6):\n",
    "        # initialize\n",
    "        p = init_p.clone()\n",
    "        r = torch.ones((s.shape[0], self.C)) / self.C\n",
    "        mu, cov = init_mu.clone(), init_cov.clone()\n",
    "        lam = init_lam.clone()\n",
    "        norm_lam = safe_log(lam) - safe_log(lam.sum(0))\n",
    "        nu_k = torch.rand(self.test_K)\n",
    "        nu = torch.zeros(s.shape[0])\n",
    "        for k in range(self.test_K):\n",
    "            nu[test_k_ids == test_ids[k]] = nu_k[k]\n",
    "        nu = nu.reshape(-1,1)\n",
    "        \n",
    "        # compute initial elbo\n",
    "        log_dens = self._compute_normal_log_dens(s, mu, cov)\n",
    "        elbo = self._compute_dec_elbo(r, log_dens, norm_lam, nu, nu_k, p)\n",
    "        convergence = 1.\n",
    "        elbos = [elbo]\n",
    "        print(f'initial elbo: {elbos[-1]:.2f}')\n",
    "        \n",
    "        it = 1\n",
    "        while convergence > eps or convergence < 0:\n",
    "            # E step\n",
    "            r, nu, nu_k = self._decode_e_step(r, log_dens, norm_lam, nu, nu_k, p)\n",
    "            \n",
    "            # M step\n",
    "            p, mu, cov = self._decode_m_step(s, r, nu_k, mu)\n",
    "            \n",
    "            # compute new elbo\n",
    "            log_dens = self._compute_normal_log_dens(s, mu, cov)\n",
    "            elbo = self._compute_dec_elbo(r, log_dens, norm_lam, nu, nu_k, p)\n",
    "            elbos.append(elbo)\n",
    "            convergence = elbos[-1] - elbos[-2]\n",
    "\n",
    "            print(f'iter: {it} elbo: {elbos[-1]:.2f}.')\n",
    "            it +=1 \n",
    "            if it > max_iter: \n",
    "                print('reached max iter allowed.')\n",
    "                break\n",
    "\n",
    "        if abs(convergence) <= eps:\n",
    "            print('converged.')\n",
    "    \n",
    "        return r, nu_k, mu, torch.stack(cov), p, elbos\n",
    "    \n",
    "    \n",
    "    def eval_performance(self, nu_k, y_test):\n",
    "        acc = accuracy_score(y_test, 1. * ( nu_k > .5 ))\n",
    "        auc = roc_auc_score(y_test, nu_k)\n",
    "        print(f'decoding accuracy is {acc:.2f}')\n",
    "        print(f'decoding auc is {auc:.2f}')\n",
    "        return acc, auc"
   ]
  },
  {
   "cell_type": "markdown",
   "id": "ea47ce92-cbe8-4756-924c-027484786d09",
   "metadata": {},
   "source": [
    "#### Run"
   ]
  },
  {
   "cell_type": "code",
   "execution_count": 78,
   "id": "2d607808-a503-4252-be97-b7deb344b3dd",
   "metadata": {},
   "outputs": [],
   "source": [
    "train_K = len(data_loader.train_ids)\n",
    "C = len(gmm.means_)\n",
    "T = lambdas.shape[1]\n",
    "\n",
    "y_train = torch.zeros(train_trials.shape[0])\n",
    "for k in range(train_K):\n",
    "    y_train[train_trial_ids == k] = data_loader.y_train[k]\n",
    "y_train = y_train.reshape(-1,1)"
   ]
  },
  {
   "cell_type": "code",
   "execution_count": 90,
   "id": "9798599f-2c55-4886-9120-e0c43c935884",
   "metadata": {},
   "outputs": [],
   "source": [
    "cavi = CAVI(\n",
    "    init_mu = torch.tensor(gmm.means_), \n",
    "    init_cov = torch.tensor(gmm.covariances_), \n",
    "    init_lam = torch.tensor(lambdas), \n",
    "    train_k_ids = [torch.argwhere(torch.tensor(train_trial_ids) == k).reshape(-1) for k in range(train_K)], \n",
    "    train_t_ids = [torch.argwhere(torch.tensor(train_t_ids) == t).reshape(-1) for t in range(T)],\n",
    "    test_k_ids = [torch.argwhere(torch.tensor(test_trial_ids) == k).reshape(-1) for k in data_loader.test_ids],\n",
    "    test_t_ids = [torch.argwhere(torch.tensor(test_t_ids) == t).reshape(-1) for t in range(T)]\n",
    ")"
   ]
  },
  {
   "cell_type": "code",
   "execution_count": 81,
   "id": "d494861d-1cb0-4954-afd5-ea37ede98ee0",
   "metadata": {},
   "outputs": [
    {
     "name": "stdout",
     "output_type": "stream",
     "text": [
      "initial elbo: -115303255.13\n",
      "iter: 1 elbo: -8956515.80.\n",
      "iter: 2 elbo: -8955877.33.\n",
      "iter: 3 elbo: -8955242.16.\n",
      "iter: 4 elbo: -8954485.97.\n",
      "iter: 5 elbo: -8953638.01.\n",
      "iter: 6 elbo: -8952803.17.\n",
      "iter: 7 elbo: -8952092.62.\n",
      "iter: 8 elbo: -8951573.75.\n",
      "iter: 9 elbo: -8951216.77.\n",
      "iter: 10 elbo: -8950939.77.\n",
      "iter: 11 elbo: -8950693.98.\n",
      "iter: 12 elbo: -8950461.92.\n",
      "iter: 13 elbo: -8950236.91.\n",
      "iter: 14 elbo: -8950013.35.\n",
      "iter: 15 elbo: -8949782.42.\n",
      "iter: 16 elbo: -8949529.05.\n",
      "iter: 17 elbo: -8949228.13.\n",
      "iter: 18 elbo: -8948841.17.\n",
      "iter: 19 elbo: -8948323.51.\n",
      "iter: 20 elbo: -8947654.29.\n",
      "reached max iter allowed.\n",
      "CPU times: user 2min 23s, sys: 6.47 s, total: 2min 29s\n",
      "Wall time: 18.7 s\n"
     ]
    }
   ],
   "source": [
    "%%time\n",
    "enc_r, enc_lam, enc_mu, enc_cov, enc_elbo = cavi.encode(\n",
    "    s = torch.tensor(train_trials),\n",
    "    y = y_train, max_iter=20)"
   ]
  },
  {
   "cell_type": "code",
   "execution_count": 82,
   "id": "5fe71270-1763-43d6-afb6-87008101fe16",
   "metadata": {},
   "outputs": [
    {
     "data": {
      "image/png": "[encoded data removed]",
      "text/plain": [
       "<Figure size 600x300 with 1 Axes>"
      ]
     },
     "metadata": {},
     "output_type": "display_data"
    }
   ],
   "source": [
    "plt.figure(figsize=(6,3))\n",
    "plt.plot(enc_elbo)\n",
    "plt.xlabel('iteration')\n",
    "plt.ylabel('ELBO')\n",
    "pass"
   ]
  },
  {
   "cell_type": "code",
   "execution_count": 83,
   "id": "8d81da4d-783c-4275-9ab2-227317a4c605",
   "metadata": {},
   "outputs": [
    {
     "data": {
      "image/png": "[encoded data removed]",
      "text/plain": [
       "<Figure size 1500x500 with 6 Axes>"
      ]
     },
     "metadata": {},
     "output_type": "display_data"
    }
   ],
   "source": [
    "fig, (ax1, ax2, ax3) = plt.subplots(1,3, figsize=(15,5))\n",
    "\n",
    "f1 = ax1.imshow(enc_lam[:,:,0], aspect='auto', cmap='cubehelix')\n",
    "ax1.set_title(f'left ({p:.2f})')\n",
    "ax1.set_xlabel('time')\n",
    "ax1.set_ylabel('component')\n",
    "fig.colorbar(f1, ax = ax1)\n",
    "\n",
    "f2 = ax2.imshow(enc_lam[:,:,1], aspect='auto', cmap='cubehelix')\n",
    "ax2.set_title(f'right ({1-p:.2f})')\n",
    "ax2.set_xlabel('time')\n",
    "fig.colorbar(f2, ax = ax2)\n",
    "\n",
    "f3 = ax3.imshow(enc_lam[:,:,0] - enc_lam[:,:,1], aspect='auto', cmap='cubehelix')\n",
    "ax3.set_title('left - right')\n",
    "ax3.set_xlabel('time')\n",
    "fig.colorbar(f3, ax = ax3)\n",
    "\n",
    "plt.tight_layout()"
   ]
  },
  {
   "cell_type": "code",
   "execution_count": 91,
   "id": "3345b514-a06c-4618-b3e4-cdf3975b7a71",
   "metadata": {},
   "outputs": [
    {
     "name": "stdout",
     "output_type": "stream",
     "text": [
      "initial elbo: -31358364.86\n",
      "iter: 1 elbo: -2185159.72.\n",
      "iter: 2 elbo: -2183652.38.\n",
      "iter: 3 elbo: -2183048.59.\n",
      "iter: 4 elbo: -2182628.65.\n",
      "iter: 5 elbo: -2182255.02.\n",
      "iter: 6 elbo: -2181897.64.\n",
      "iter: 7 elbo: -2181546.68.\n",
      "iter: 8 elbo: -2181209.70.\n",
      "iter: 9 elbo: -2180903.71.\n",
      "iter: 10 elbo: -2180648.18.\n",
      "iter: 11 elbo: -2180448.13.\n",
      "iter: 12 elbo: -2180300.27.\n",
      "iter: 13 elbo: -2180193.86.\n",
      "iter: 14 elbo: -2180118.16.\n",
      "iter: 15 elbo: -2180063.11.\n",
      "iter: 16 elbo: -2180022.50.\n",
      "iter: 17 elbo: -2179992.31.\n",
      "iter: 18 elbo: -2179967.52.\n",
      "iter: 19 elbo: -2179946.80.\n",
      "iter: 20 elbo: -2179926.41.\n",
      "reached max iter allowed.\n"
     ]
    }
   ],
   "source": [
    "dec_r, dec_nu, dec_mu, dec_cov, dec_p, dec_elbos = cavi.decode(\n",
    "    s = torch.tensor(test_trials),\n",
    "    init_p = torch.tensor([p]), \n",
    "    init_mu = enc_mu, \n",
    "    init_cov = enc_cov, \n",
    "    init_lam = enc_lam, \n",
    "    test_k_ids = test_trial_ids, \n",
    "    test_ids = data_loader.test_ids, \n",
    "    max_iter=20\n",
    ")"
   ]
  },
  {
   "cell_type": "markdown",
   "id": "79c643b6-6945-4496-ae2a-7a27c5d3a09d",
   "metadata": {},
   "source": [
    "#### eval"
   ]
  },
  {
   "cell_type": "code",
   "execution_count": 94,
   "id": "b4cb46b7-60ba-4ee7-a519-556b24086ac5",
   "metadata": {},
   "outputs": [
    {
     "name": "stdout",
     "output_type": "stream",
     "text": [
      "decoding accuracy is 0.85\n",
      "decoding auc is 0.87\n"
     ]
    },
    {
     "data": {
      "text/plain": [
       "(0.8490566037735849, 0.8711538461538462)"
      ]
     },
     "execution_count": 94,
     "metadata": {},
     "output_type": "execute_result"
    }
   ],
   "source": [
    "cavi.eval_performance(dec_nu, data_loader.y_test)"
   ]
  },
  {
   "cell_type": "code",
   "execution_count": null,
   "id": "04680595-acff-4324-9c52-dd586f2142e8",
   "metadata": {},
   "outputs": [],
   "source": []
  }
 ],
 "metadata": {
  "kernelspec": {
   "display_name": "Python 3 (ipykernel)",
   "language": "python",
   "name": "python3"
  },
  "language_info": {
   "codemirror_mode": {
    "name": "ipython",
    "version": 3
   },
   "file_extension": ".py",
   "mimetype": "text/x-python",
   "name": "python",
   "nbconvert_exporter": "python",
   "pygments_lexer": "ipython3",
   "version": "3.8.13"
  }
 },
 "nbformat": 4,
 "nbformat_minor": 5
}
