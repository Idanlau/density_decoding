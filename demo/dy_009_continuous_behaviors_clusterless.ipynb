{
 "cells": [
  {
   "cell_type": "code",
   "execution_count": 1,
   "id": "b3d066f4-204f-416c-9ba0-c4f627e5c2f6",
   "metadata": {},
   "outputs": [],
   "source": [
    "import numpy as np\n",
    "import random\n",
    "seed = 666\n",
    "random.seed(seed)\n",
    "np.random.seed(seed)\n",
    "\n",
    "import matplotlib.pyplot as plt\n",
    "\n",
    "from sklearn.mixture import GaussianMixture\n",
    "\n",
    "from clusterless import preprocess\n",
    "from clusterless import decoder\n",
    "from clusterless import viz"
   ]
  },
  {
   "cell_type": "code",
   "execution_count": 2,
   "id": "a8dca71c-dcad-4723-ba04-eb01aedf3c82",
   "metadata": {},
   "outputs": [],
   "source": [
    "pid = 'febb430e-2d50-4f83-87a0-b5ffbb9a4943'\n",
    "rootpath = '/mnt/3TB/yizi/Downloads/ONE/openalyx.internationalbrainlab.org'\n",
    "trial_data_path = rootpath + '/danlab/Subjects/DY_009/2020-02-27/001/alf'\n",
    "neural_data_path = '/mnt/3TB/yizi/danlab/Subjects/DY_009'\n",
    "behavior_data_path = rootpath + '/paper_repro_ephys_data/figure9_10/original_data'\n",
    "save_path = '../saved_results/danlab/Subjects/DY_009'"
   ]
  },
  {
   "cell_type": "code",
   "execution_count": 3,
   "id": "779ef8e3-e0fb-4e23-a0eb-c9d1314ecf2b",
   "metadata": {},
   "outputs": [],
   "source": [
    "rois = [roi.lower() for roi in ['PO', 'LP', 'DG', 'CA1', 'VIS']]"
   ]
  },
  {
   "cell_type": "code",
   "execution_count": 4,
   "id": "606b59bd-8869-4b03-936c-9fc4d8dc090d",
   "metadata": {},
   "outputs": [],
   "source": [
    "behave_dict = preprocess.load_behaviors_data(behavior_data_path, pid)\n",
    "motion_energy, _, wheel_speed, _, _, _ = preprocess.preprocess_dynamic_behaviors(behave_dict)"
   ]
  },
  {
   "cell_type": "markdown",
   "id": "b83b1e64-8483-4e40-a5d1-d18f4899288e",
   "metadata": {},
   "source": [
    "decode all regions"
   ]
  },
  {
   "cell_type": "code",
   "execution_count": 5,
   "id": "588815aa-6c1e-49c5-9796-c3b908f6155d",
   "metadata": {},
   "outputs": [
    {
     "name": "stdout",
     "output_type": "stream",
     "text": [
      "pid: febb430e-2d50-4f83-87a0-b5ffbb9a4943\n",
      "eid: db4df448-e449-4a6f-a0e7-288711e7a75a\n",
      "found 85 good ibl units ..\n",
      "1st trial stim on time: 40.81, last trial stim on time 2252.10\n",
      "sorted neural data shape: (230, 465, 30)\n",
      "kilosort thresholded neural data shape: (230, 374, 30)\n",
      "good sorted neural data shape: (230, 456, 30)\n"
     ]
    }
   ],
   "source": [
    "sorted_trials, good_sorted_trials, unsorted_trials, stim_on_times, np1_channel_map= preprocess.load_neural_data(\n",
    "    pid=pid, \n",
    "    trial_data_path=trial_data_path,\n",
    "    neural_data_path=neural_data_path,\n",
    "    behavior_data_path=behavior_data_path,\n",
    "    keep_active_trials=True, \n",
    "    roi='all',\n",
    "    kilosort=True,\n",
    "    triage=False,\n",
    "    good_units=True,\n",
    "    thresholding=True\n",
    ")\n",
    "\n",
    "n_trials = stim_on_times.shape[0]\n",
    "sorted = np.vstack([sorted_trials[i] for i in np.arange(n_trials)]) \n",
    "unsorted = np.vstack([unsorted_trials[i] for i in np.arange(n_trials)])\n",
    "spike_times = sorted[:,0]\n",
    "spike_clusters = sorted[:,1]\n",
    "spike_channels = unsorted[:,1]\n",
    "\n",
    "sorted_neural_data = preprocess.compute_neural_activity(\n",
    "    (spike_times, spike_clusters),\n",
    "    stim_on_times,\n",
    "    'sorted', \n",
    "    n_time_bins=30,\n",
    "    regional=False\n",
    ")\n",
    "print(f'sorted neural data shape: {sorted_neural_data.shape}')\n",
    "\n",
    "kilosort_thresholded_neural_data = preprocess.compute_neural_activity(\n",
    "    (spike_times, spike_channels),\n",
    "    stim_on_times,\n",
    "    'thresholded', \n",
    "    n_time_bins=30,\n",
    "    regional=False\n",
    ")\n",
    "print(f'kilosort thresholded neural data shape: {kilosort_thresholded_neural_data.shape}')\n",
    "\n",
    "good_sorted = np.vstack([good_sorted_trials[i] for i in np.arange(n_trials)]) \n",
    "spike_times = good_sorted[:,0]\n",
    "spike_clusters = good_sorted[:,1]\n",
    "\n",
    "good_sorted_neural_data = preprocess.compute_neural_activity(\n",
    "    (spike_times, spike_clusters),\n",
    "    stim_on_times,\n",
    "    'sorted', \n",
    "    n_time_bins=30,\n",
    "    regional=False\n",
    ")\n",
    "print(f'good sorted neural data shape: {good_sorted_neural_data.shape}')"
   ]
  },
  {
   "cell_type": "code",
   "execution_count": 6,
   "id": "337c3ee5-53e3-4bf8-b7d2-bf73bd64af79",
   "metadata": {},
   "outputs": [],
   "source": [
    "windowed_good_sorted_neural_data, half_window_size, n_windows = decoder.sliding_window(\n",
    "    good_sorted_neural_data, \n",
    "    n_trials,\n",
    "    window_size = 7\n",
    ")"
   ]
  },
  {
   "cell_type": "code",
   "execution_count": 7,
   "id": "86744cbf-825f-45dc-be52-a419fd3caf28",
   "metadata": {},
   "outputs": [],
   "source": [
    "windowed_sorted_neural_data, half_window_size, n_windows = decoder.sliding_window(\n",
    "    sorted_neural_data, \n",
    "    n_trials,\n",
    "    window_size = 7\n",
    ")"
   ]
  },
  {
   "cell_type": "code",
   "execution_count": 8,
   "id": "f53e9938-7dbc-49b3-8da8-34f6633855b7",
   "metadata": {},
   "outputs": [],
   "source": [
    "windowed_kilosort_thresholded_neural_data, half_window_size, n_windows = decoder.sliding_window(\n",
    "    kilosort_thresholded_neural_data, \n",
    "    n_trials,\n",
    "    window_size = 7\n",
    ")"
   ]
  },
  {
   "cell_type": "code",
   "execution_count": 9,
   "id": "9b6fecfd-3dd4-4e8d-a53c-604d2122c669",
   "metadata": {},
   "outputs": [],
   "source": [
    "windowed_wheel_speed = wheel_speed[:,half_window_size:n_windows].reshape(-1,1)\n",
    "windowed_motion_energy = motion_energy[:,half_window_size:n_windows].reshape(-1,1)\n",
    "\n",
    "dynamic_behaviors = {\n",
    "    'motion energy': windowed_motion_energy,\n",
    "    'wheel speed': windowed_wheel_speed\n",
    "}"
   ]
  },
  {
   "cell_type": "code",
   "execution_count": null,
   "id": "2eed31dd-1849-49ac-90d4-f4662256d23d",
   "metadata": {},
   "outputs": [],
   "source": [
    "cv_r2s, cv_rmses, cv_ids, cv_obs, cv_preds = decoder.cv_decode_dynamic(\n",
    "    windowed_sorted_neural_data,\n",
    "    windowed_motion_energy,\n",
    "    n_trials,\n",
    "    'motion energy'\n",
    ")"
   ]
  },
  {
   "cell_type": "code",
   "execution_count": null,
   "id": "7771f716-d6f9-4bb4-8924-778e282df687",
   "metadata": {},
   "outputs": [],
   "source": [
    "plt.figure(figsize=(12, 2))\n",
    "plt.plot(np.hstack([cv_obs[0][i] for i in range(0, 50, 5)]), c='gray', linestyle='dashed', label='observed');\n",
    "plt.plot(np.hstack([cv_preds[0].reshape(-1, 25)[i] for i in range(0, 50, 5)]), c='blue', alpha=.6, label='predicted');"
   ]
  },
  {
   "cell_type": "code",
   "execution_count": null,
   "id": "523fd7e4-077a-4ff6-858f-ceebc2830442",
   "metadata": {},
   "outputs": [],
   "source": [
    "cv_r2s, cv_rmses, cv_ids, cv_obs, cv_preds = decoder.cv_decode_dynamic(\n",
    "    windowed_sorted_neural_data,\n",
    "    windowed_wheel_speed,\n",
    "    n_trials,\n",
    "    'wheel speed'\n",
    ")"
   ]
  },
  {
   "cell_type": "code",
   "execution_count": null,
   "id": "19b46631-3a96-4077-9f06-a845af831614",
   "metadata": {},
   "outputs": [],
   "source": [
    "plt.figure(figsize=(12, 2))\n",
    "plt.plot(np.hstack([cv_obs[0][i] for i in range(0, 50, 5)]), c='gray', linestyle='dashed', label='observed');\n",
    "plt.plot(np.hstack([cv_preds[0].reshape(-1, 25)[i] for i in range(0, 50, 5)]), c='blue', alpha=.6, label='predicted');"
   ]
  },
  {
   "cell_type": "code",
   "execution_count": 10,
   "id": "3a1064d4-6cea-4e14-955a-a68902c18b82",
   "metadata": {},
   "outputs": [
    {
     "name": "stdout",
     "output_type": "stream",
     "text": [
      "pid: febb430e-2d50-4f83-87a0-b5ffbb9a4943\n",
      "eid: db4df448-e449-4a6f-a0e7-288711e7a75a\n",
      "1st trial stim on time: 40.81, last trial stim on time 2252.10\n",
      "thresholded neural data shape: (230, 384, 30)\n"
     ]
    }
   ],
   "source": [
    "unsorted_trials, stim_on_times, np1_channel_map = preprocess.load_neural_data(\n",
    "    pid=pid, \n",
    "    trial_data_path=trial_data_path,\n",
    "    neural_data_path=neural_data_path,\n",
    "    behavior_data_path=behavior_data_path,\n",
    "    keep_active_trials=True, \n",
    "    roi='all',\n",
    "    kilosort=False,\n",
    "    triage=False\n",
    ")\n",
    "\n",
    "n_trials = stim_on_times.shape[0]\n",
    "unsorted = np.vstack([unsorted_trials[i] for i in np.arange(n_trials)]) \n",
    "spike_times = unsorted[:,0]\n",
    "spike_channels = unsorted[:,1]\n",
    "spike_features = unsorted[:,2:]\n",
    "\n",
    "thresholded_neural_data = preprocess.compute_neural_activity(\n",
    "    (spike_times, spike_channels),\n",
    "    stim_on_times,\n",
    "    'thresholded', \n",
    "    n_time_bins=30,\n",
    "    regional=False\n",
    ")\n",
    "print(f'thresholded neural data shape: {thresholded_neural_data.shape}')"
   ]
  },
  {
   "cell_type": "code",
   "execution_count": 11,
   "id": "b3212c00-194a-460e-bfe8-fdbd3865d7a5",
   "metadata": {},
   "outputs": [],
   "source": [
    "windowed_thresholded_neural_data, half_window_size, n_windows = decoder.sliding_window(\n",
    "    thresholded_neural_data, \n",
    "    n_trials,\n",
    "    window_size = 7\n",
    ")"
   ]
  },
  {
   "cell_type": "code",
   "execution_count": null,
   "id": "1d222c73-409d-4d97-9e6f-6b3223cd3740",
   "metadata": {},
   "outputs": [],
   "source": [
    "cv_r2s, cv_rmses, cv_ids, cv_obs, cv_preds = decoder.cv_decode_dynamic(\n",
    "    windowed_thresholded_neural_data,\n",
    "    windowed_motion_energy,\n",
    "    n_trials,\n",
    "    'motion energy'\n",
    ")"
   ]
  },
  {
   "cell_type": "code",
   "execution_count": null,
   "id": "8369c007-54cc-47c8-850c-cc68a192f694",
   "metadata": {},
   "outputs": [],
   "source": [
    "cv_r2s, cv_rmses, cv_ids, cv_obs, cv_preds = decoder.cv_decode_dynamic(\n",
    "    windowed_thresholded_neural_data,\n",
    "    windowed_wheel_speed,\n",
    "    n_trials,\n",
    "    'wheel speed'\n",
    ")"
   ]
  },
  {
   "cell_type": "code",
   "execution_count": 12,
   "id": "3e34fb7f-534f-417e-8c50-0b5a9607e4e3",
   "metadata": {},
   "outputs": [
    {
     "name": "stdout",
     "output_type": "stream",
     "text": [
      "loading batch 1 ...\n",
      "loading batch 2 ...\n",
      "loading batch 3 ...\n",
      "loading batch 4 ...\n",
      "loading batch 5 ...\n",
      "clusterless neural data shape: (230, 514, 30)\n"
     ]
    }
   ],
   "source": [
    "gmm_name = '../pretrained/danlab/Subjects/DY_009/init_max_chan_gmm'\n",
    "means = np.load(gmm_name + '_means.npy')\n",
    "covar = np.load(gmm_name + '_covariances.npy')\n",
    "loaded_gmm = GaussianMixture(n_components=len(means), covariance_type='full')\n",
    "loaded_gmm.precisions_cholesky_ = np.linalg.cholesky(np.linalg.inv(covar))\n",
    "loaded_gmm.weights_ = np.load(gmm_name + '_weights.npy')\n",
    "loaded_gmm.means_ = means\n",
    "loaded_gmm.covariances_ = covar\n",
    "\n",
    "spike_labels = []\n",
    "spike_probs = []\n",
    "offset = 100_000\n",
    "for i in range(5):\n",
    "    print(f'loading batch {i+1} ...')\n",
    "    spike_labels.extend(loaded_gmm.predict(spike_features[i*offset:(i+1)*offset]))\n",
    "    spike_probs.extend(loaded_gmm.predict_proba(spike_features[i*offset:(i+1)*offset]))\n",
    "spike_labels = np.array(spike_labels)\n",
    "spike_probs = np.array(spike_probs)\n",
    "\n",
    "clusterless_neural_data = preprocess.compute_neural_activity(\n",
    "    (spike_times, spike_labels, spike_probs),\n",
    "    stim_on_times,\n",
    "    'clusterless', \n",
    "    n_time_bins=30,\n",
    "    regional=False\n",
    ")\n",
    "print(f'clusterless neural data shape: {clusterless_neural_data.shape}')"
   ]
  },
  {
   "cell_type": "code",
   "execution_count": 13,
   "id": "3f65be8a-5f2f-45c3-823a-82409dd3a637",
   "metadata": {},
   "outputs": [],
   "source": [
    "windowed_clusterless_neural_data, half_window_size, n_windows = decoder.sliding_window(\n",
    "    clusterless_neural_data, \n",
    "    n_trials,\n",
    "    window_size = 7\n",
    ")"
   ]
  },
  {
   "cell_type": "code",
   "execution_count": null,
   "id": "4e0232b6-49e0-4b1b-9df9-9206bee7d82b",
   "metadata": {},
   "outputs": [],
   "source": [
    "cv_r2s, cv_rmses, cv_ids, cv_obs, cv_preds = decoder.cv_decode_dynamic(\n",
    "    windowed_clusterless_neural_data,\n",
    "    windowed_motion_energy,\n",
    "    n_trials,\n",
    "    'motion energy'\n",
    ")"
   ]
  },
  {
   "cell_type": "code",
   "execution_count": null,
   "id": "bc2ad1c6-88dd-47c7-a3e5-2480324804cc",
   "metadata": {},
   "outputs": [],
   "source": [
    "plt.figure(figsize=(12, 2))\n",
    "plt.plot(np.hstack([cv_obs[0][i] for i in range(0, 50, 5)]), c='gray', linestyle='dashed', label='observed');\n",
    "plt.plot(np.hstack([cv_preds[0].reshape(-1, 25)[i] for i in range(0, 50, 5)]), c='blue', alpha=.6, label='predicted');"
   ]
  },
  {
   "cell_type": "code",
   "execution_count": null,
   "id": "63f77177-1237-4ad0-a67d-e78f2639bd3d",
   "metadata": {},
   "outputs": [],
   "source": [
    "cv_r2s, cv_rmses, cv_ids, cv_obs, cv_preds = decoder.cv_decode_dynamic(\n",
    "    windowed_clusterless_neural_data,\n",
    "    windowed_wheel_speed,\n",
    "    n_trials,\n",
    "    'wheel speed'\n",
    ")"
   ]
  },
  {
   "cell_type": "code",
   "execution_count": null,
   "id": "8ed205c6-f658-48fb-b0f8-698f3862cd52",
   "metadata": {},
   "outputs": [],
   "source": [
    "plt.figure(figsize=(12, 2))\n",
    "plt.plot(np.hstack([cv_obs[0][i] for i in range(0, 50, 5)]), c='gray', linestyle='dashed', label='observed');\n",
    "plt.plot(np.hstack([cv_preds[0].reshape(-1, 25)[i] for i in range(0, 50, 5)]), c='blue', alpha=.6, label='predicted');"
   ]
  },
  {
   "cell_type": "code",
   "execution_count": 14,
   "id": "1a9f2060-a4ef-4912-861a-846aee6d745d",
   "metadata": {},
   "outputs": [],
   "source": [
    "neural_data_dict = {\n",
    "    'good units': windowed_good_sorted_neural_data,\n",
    "    'sorted': windowed_sorted_neural_data,\n",
    "    'kilosort thresholded': windowed_kilosort_thresholded_neural_data,\n",
    "    'thresholded': windowed_thresholded_neural_data,\n",
    "    'clusterless': windowed_clusterless_neural_data\n",
    "} \n",
    "\n",
    "all_n_units_dict = {\n",
    "        'good units': good_sorted_neural_data.shape[1],\n",
    "        'sorted': sorted_neural_data.shape[1],\n",
    "        'kilosort thresholded': kilosort_thresholded_neural_data.shape[1],\n",
    "        'thresholded': thresholded_neural_data.shape[1],\n",
    "        'clusterless': clusterless_neural_data.shape[1]\n",
    "}"
   ]
  },
  {
   "cell_type": "code",
   "execution_count": 15,
   "id": "0a08098d-27ef-4926-8241-ab56c683a758",
   "metadata": {},
   "outputs": [
    {
     "name": "stdout",
     "output_type": "stream",
     "text": [
      "good units:\n",
      "motion energy fold 1 test r2: 0.604 rmse: 9.258\n",
      "motion energy fold 2 test r2: 0.564 rmse: 10.142\n",
      "motion energy fold 3 test r2: 0.546 rmse: 10.638\n",
      "motion energy fold 4 test r2: 0.519 rmse: 10.507\n",
      "motion energy fold 5 test r2: 0.599 rmse: 9.263\n",
      "motion energy mean of 5-fold cv r2: 0.566 rmse: 9.961\n",
      "motion energy sd of 5-fold cv r2: 0.032 rmse: 0.595\n",
      "sorted:\n",
      "motion energy fold 1 test r2: 0.684 rmse: 7.402\n",
      "motion energy fold 2 test r2: 0.689 rmse: 7.237\n",
      "motion energy fold 3 test r2: 0.659 rmse: 7.978\n",
      "motion energy fold 4 test r2: 0.622 rmse: 8.250\n",
      "motion energy fold 5 test r2: 0.699 rmse: 6.949\n",
      "motion energy mean of 5-fold cv r2: 0.671 rmse: 7.563\n",
      "motion energy sd of 5-fold cv r2: 0.028 rmse: 0.480\n",
      "kilosort thresholded:\n",
      "motion energy fold 1 test r2: 0.655 rmse: 8.070\n",
      "motion energy fold 2 test r2: 0.669 rmse: 7.706\n",
      "motion energy fold 3 test r2: 0.638 rmse: 8.486\n",
      "motion energy fold 4 test r2: 0.595 rmse: 8.839\n",
      "motion energy fold 5 test r2: 0.672 rmse: 7.577\n",
      "motion energy mean of 5-fold cv r2: 0.646 rmse: 8.136\n",
      "motion energy sd of 5-fold cv r2: 0.028 rmse: 0.473\n",
      "thresholded:\n",
      "motion energy fold 1 test r2: 0.672 rmse: 7.668\n",
      "motion energy fold 2 test r2: 0.654 rmse: 8.041\n",
      "motion energy fold 3 test r2: 0.636 rmse: 8.525\n",
      "motion energy fold 4 test r2: 0.590 rmse: 8.961\n",
      "motion energy fold 5 test r2: 0.661 rmse: 7.835\n",
      "motion energy mean of 5-fold cv r2: 0.643 rmse: 8.206\n",
      "motion energy sd of 5-fold cv r2: 0.029 rmse: 0.474\n",
      "clusterless:\n",
      "motion energy fold 1 test r2: 0.683 rmse: 7.411\n",
      "motion energy fold 2 test r2: 0.671 rmse: 7.650\n",
      "motion energy fold 3 test r2: 0.649 rmse: 8.222\n",
      "motion energy fold 4 test r2: 0.601 rmse: 8.704\n",
      "motion energy fold 5 test r2: 0.680 rmse: 7.395\n",
      "motion energy mean of 5-fold cv r2: 0.657 rmse: 7.876\n",
      "motion energy sd of 5-fold cv r2: 0.030 rmse: 0.511\n",
      "good units:\n",
      "wheel speed fold 1 test r2: 0.424 rmse: 0.765\n",
      "wheel speed fold 2 test r2: 0.398 rmse: 0.705\n",
      "wheel speed fold 3 test r2: 0.346 rmse: 0.944\n",
      "wheel speed fold 4 test r2: 0.340 rmse: 0.967\n",
      "wheel speed fold 5 test r2: 0.469 rmse: 0.606\n",
      "wheel speed mean of 5-fold cv r2: 0.395 rmse: 0.798\n",
      "wheel speed sd of 5-fold cv r2: 0.048 rmse: 0.139\n",
      "sorted:\n",
      "wheel speed fold 1 test r2: 0.513 rmse: 0.647\n",
      "wheel speed fold 2 test r2: 0.487 rmse: 0.600\n",
      "wheel speed fold 3 test r2: 0.396 rmse: 0.872\n",
      "wheel speed fold 4 test r2: 0.436 rmse: 0.827\n",
      "wheel speed fold 5 test r2: 0.542 rmse: 0.522\n",
      "wheel speed mean of 5-fold cv r2: 0.475 rmse: 0.694\n",
      "wheel speed sd of 5-fold cv r2: 0.053 rmse: 0.134\n",
      "kilosort thresholded:\n",
      "wheel speed fold 1 test r2: 0.513 rmse: 0.646\n",
      "wheel speed fold 2 test r2: 0.461 rmse: 0.631\n",
      "wheel speed fold 3 test r2: 0.371 rmse: 0.908\n",
      "wheel speed fold 4 test r2: 0.428 rmse: 0.839\n",
      "wheel speed fold 5 test r2: 0.526 rmse: 0.541\n",
      "wheel speed mean of 5-fold cv r2: 0.460 rmse: 0.713\n",
      "wheel speed sd of 5-fold cv r2: 0.057 rmse: 0.138\n",
      "thresholded:\n",
      "wheel speed fold 1 test r2: 0.496 rmse: 0.669\n",
      "wheel speed fold 2 test r2: 0.472 rmse: 0.618\n",
      "wheel speed fold 3 test r2: 0.363 rmse: 0.920\n",
      "wheel speed fold 4 test r2: 0.405 rmse: 0.872\n",
      "wheel speed fold 5 test r2: 0.513 rmse: 0.556\n",
      "wheel speed mean of 5-fold cv r2: 0.450 rmse: 0.727\n",
      "wheel speed sd of 5-fold cv r2: 0.057 rmse: 0.143\n",
      "clusterless:\n",
      "wheel speed fold 1 test r2: 0.511 rmse: 0.649\n",
      "wheel speed fold 2 test r2: 0.476 rmse: 0.613\n",
      "wheel speed fold 3 test r2: 0.383 rmse: 0.890\n",
      "wheel speed fold 4 test r2: 0.395 rmse: 0.886\n",
      "wheel speed fold 5 test r2: 0.515 rmse: 0.554\n",
      "wheel speed mean of 5-fold cv r2: 0.456 rmse: 0.719\n",
      "wheel speed sd of 5-fold cv r2: 0.056 rmse: 0.142\n"
     ]
    }
   ],
   "source": [
    "all_decode_results = {'motion energy': dict(), 'wheel speed': dict()}\n",
    "\n",
    "for behave_type in all_decode_results.keys():\n",
    "    for data_type in neural_data_dict.keys():\n",
    "        print(f'{data_type}:')\n",
    "        decode_results = decoder.cv_decode_dynamic(\n",
    "            neural_data_dict[data_type], \n",
    "            dynamic_behaviors[behave_type], \n",
    "            n_trials,\n",
    "            behave_type=behave_type, \n",
    "            n_folds=5, \n",
    "            seed=seed\n",
    "        )\n",
    "        all_decode_results[behave_type].update({data_type: decode_results})\n",
    "np.save(f'{save_path}/dynamic_behaviors/all_decode_results.npy', all_decode_results)\n",
    "# np.save(f'{save_path}/static_behaviors/all_n_units_dict.npy', all_n_units_dict)"
   ]
  },
  {
   "cell_type": "code",
   "execution_count": null,
   "id": "5b6193ca-f3e2-43e2-b002-80586f57ad08",
   "metadata": {},
   "outputs": [],
   "source": []
  },
  {
   "cell_type": "markdown",
   "id": "be3f4688-3cba-4483-8ab6-98e0502987c4",
   "metadata": {},
   "source": [
    "decode brain regions"
   ]
  },
  {
   "cell_type": "code",
   "execution_count": 64,
   "id": "bb0edbfe-f266-405c-bace-10ae5c4cf8c5",
   "metadata": {},
   "outputs": [
    {
     "name": "stdout",
     "output_type": "stream",
     "text": [
      "vis\n"
     ]
    }
   ],
   "source": [
    "roi = rois[4]\n",
    "print(roi)"
   ]
  },
  {
   "cell_type": "code",
   "execution_count": 65,
   "id": "f58ce04a-3033-418c-bbf1-62ea01a3c2e0",
   "metadata": {},
   "outputs": [
    {
     "name": "stdout",
     "output_type": "stream",
     "text": [
      "pid: febb430e-2d50-4f83-87a0-b5ffbb9a4943\n",
      "eid: db4df448-e449-4a6f-a0e7-288711e7a75a\n",
      "found 85 good ibl units ..\n",
      "1st trial stim on time: 40.81, last trial stim on time 2252.10\n",
      "found 29 neurons in region vis ...\n",
      "found 40 channels in region vis ...\n",
      "sorted neural data shape: (230, 29, 30)\n",
      "kilosort thresholded neural data shape: (230, 15, 30)\n",
      "good sorted neural data shape: (230, 8, 30)\n"
     ]
    }
   ],
   "source": [
    "sorted_trials, good_sorted_trials, unsorted_trials, stim_on_times, np1_channel_map= preprocess.load_neural_data(\n",
    "    pid=pid, \n",
    "    trial_data_path=trial_data_path,\n",
    "    neural_data_path=neural_data_path,\n",
    "    behavior_data_path=behavior_data_path,\n",
    "    keep_active_trials=True, \n",
    "    roi=roi,\n",
    "    kilosort=True,\n",
    "    triage=False,\n",
    "    good_units=True,\n",
    "    thresholding=True\n",
    ")\n",
    "\n",
    "n_trials = stim_on_times.shape[0]\n",
    "sorted = np.vstack([sorted_trials[i] for i in np.arange(n_trials)]) \n",
    "unsorted = np.vstack([unsorted_trials[i] for i in np.arange(n_trials)])\n",
    "spike_times = sorted[:,0]\n",
    "spike_clusters = sorted[:,1]\n",
    "\n",
    "sorted_neural_data = preprocess.compute_neural_activity(\n",
    "    (spike_times, spike_clusters),\n",
    "    stim_on_times,\n",
    "    'sorted', \n",
    "    n_time_bins=30,\n",
    "    regional=True\n",
    ")\n",
    "print(f'sorted neural data shape: {sorted_neural_data.shape}')\n",
    "\n",
    "spike_times = unsorted[:,0]\n",
    "spike_channels = unsorted[:,1]\n",
    "\n",
    "kilosort_thresholded_neural_data = preprocess.compute_neural_activity(\n",
    "    (spike_times, spike_channels),\n",
    "    stim_on_times,\n",
    "    'thresholded', \n",
    "    n_time_bins=30,\n",
    "    regional=True\n",
    ")\n",
    "print(f'kilosort thresholded neural data shape: {kilosort_thresholded_neural_data.shape}')\n",
    "\n",
    "good_sorted = np.vstack([good_sorted_trials[i] for i in np.arange(n_trials)]) \n",
    "spike_times = good_sorted[:,0]\n",
    "spike_clusters = good_sorted[:,1]\n",
    "\n",
    "good_sorted_neural_data = preprocess.compute_neural_activity(\n",
    "    (spike_times, spike_clusters),\n",
    "    stim_on_times,\n",
    "    'sorted', \n",
    "    n_time_bins=30,\n",
    "    regional=True\n",
    ")\n",
    "print(f'good sorted neural data shape: {good_sorted_neural_data.shape}')"
   ]
  },
  {
   "cell_type": "code",
   "execution_count": 66,
   "id": "30ba901f-5de9-4bb3-8066-0506e8c7d190",
   "metadata": {},
   "outputs": [],
   "source": [
    "windowed_good_sorted_neural_data, half_window_size, n_windows = decoder.sliding_window(\n",
    "    good_sorted_neural_data, \n",
    "    n_trials,\n",
    "    window_size = 7\n",
    ")"
   ]
  },
  {
   "cell_type": "code",
   "execution_count": 67,
   "id": "6fede349-e545-43ea-932d-302e6875edea",
   "metadata": {},
   "outputs": [],
   "source": [
    "windowed_sorted_neural_data, half_window_size, n_windows = decoder.sliding_window(\n",
    "    sorted_neural_data, \n",
    "    n_trials,\n",
    "    window_size = 7\n",
    ")"
   ]
  },
  {
   "cell_type": "code",
   "execution_count": 68,
   "id": "09790ae9-7af3-41bd-bd63-7271e9a00d0b",
   "metadata": {},
   "outputs": [],
   "source": [
    "windowed_kilosort_thresholded_neural_data, half_window_size, n_windows = decoder.sliding_window(\n",
    "    kilosort_thresholded_neural_data, \n",
    "    n_trials,\n",
    "    window_size = 7\n",
    ")"
   ]
  },
  {
   "cell_type": "code",
   "execution_count": 69,
   "id": "f930cb1a-2450-48e2-8f50-71300b77c50a",
   "metadata": {},
   "outputs": [
    {
     "name": "stdout",
     "output_type": "stream",
     "text": [
      "pid: febb430e-2d50-4f83-87a0-b5ffbb9a4943\n",
      "eid: db4df448-e449-4a6f-a0e7-288711e7a75a\n",
      "1st trial stim on time: 40.81, last trial stim on time 2252.10\n",
      "found 29 neurons in region vis ...\n",
      "found 40 channels in region vis ...\n",
      "thresholded neural data shape: (230, 40, 30)\n"
     ]
    }
   ],
   "source": [
    "unsorted_trials, stim_on_times, np1_channel_map = preprocess.load_neural_data(\n",
    "    pid=pid, \n",
    "    trial_data_path=trial_data_path,\n",
    "    neural_data_path=neural_data_path,\n",
    "    behavior_data_path=behavior_data_path,\n",
    "    keep_active_trials=True, \n",
    "    roi=roi,\n",
    "    kilosort=False,\n",
    "    triage=False\n",
    ")\n",
    "\n",
    "n_trials = stim_on_times.shape[0]\n",
    "unsorted = np.vstack([unsorted_trials[i] for i in np.arange(n_trials)]) \n",
    "spike_times = unsorted[:,0]\n",
    "spike_channels = unsorted[:,1]\n",
    "spike_features = unsorted[:,2:]\n",
    "\n",
    "thresholded_neural_data = preprocess.compute_neural_activity(\n",
    "    (spike_times, spike_channels),\n",
    "    stim_on_times,\n",
    "    'thresholded', \n",
    "    n_time_bins=30,\n",
    "    regional=True\n",
    ")\n",
    "print(f'thresholded neural data shape: {thresholded_neural_data.shape}')"
   ]
  },
  {
   "cell_type": "code",
   "execution_count": 70,
   "id": "3e88febf-575c-4bda-8bf0-9b61c13d3d90",
   "metadata": {},
   "outputs": [],
   "source": [
    "windowed_thresholded_neural_data, half_window_size, n_windows = decoder.sliding_window(\n",
    "    thresholded_neural_data, \n",
    "    n_trials,\n",
    "    window_size = 7\n",
    ")"
   ]
  },
  {
   "cell_type": "code",
   "execution_count": 71,
   "id": "6cd80b2b-bf83-47bb-a11b-6ab45d2843cc",
   "metadata": {},
   "outputs": [
    {
     "name": "stdout",
     "output_type": "stream",
     "text": [
      "clusterless neural data shape: (230, 60, 30)\n"
     ]
    }
   ],
   "source": [
    "gmm_name = '../pretrained/danlab/Subjects/DY_009/init_max_chan_gmm'\n",
    "means = np.load(gmm_name + '_means.npy')\n",
    "covar = np.load(gmm_name + '_covariances.npy')\n",
    "loaded_gmm = GaussianMixture(n_components=len(means), covariance_type='full')\n",
    "loaded_gmm.precisions_cholesky_ = np.linalg.cholesky(np.linalg.inv(covar))\n",
    "loaded_gmm.weights_ = np.load(gmm_name + '_weights.npy')\n",
    "loaded_gmm.means_ = means\n",
    "loaded_gmm.covariances_ = covar\n",
    "\n",
    "spike_labels = loaded_gmm.predict(spike_features)\n",
    "spike_probs = loaded_gmm.predict_proba(spike_features)\n",
    "\n",
    "clusterless_neural_data = preprocess.compute_neural_activity(\n",
    "    (spike_times, spike_labels, spike_probs),\n",
    "    stim_on_times,\n",
    "    'clusterless', \n",
    "    n_time_bins=30,\n",
    "    regional=True\n",
    ")\n",
    "print(f'clusterless neural data shape: {clusterless_neural_data.shape}')"
   ]
  },
  {
   "cell_type": "code",
   "execution_count": 72,
   "id": "32547452-22f9-4d86-83d4-34151f9ca3a5",
   "metadata": {},
   "outputs": [],
   "source": [
    "windowed_clusterless_neural_data, half_window_size, n_windows = decoder.sliding_window(\n",
    "    clusterless_neural_data, \n",
    "    n_trials,\n",
    "    window_size = 7\n",
    ")"
   ]
  },
  {
   "cell_type": "code",
   "execution_count": 73,
   "id": "04e42154-9c78-4a30-ad5d-e20940967f6c",
   "metadata": {},
   "outputs": [],
   "source": [
    "neural_data_dict = {\n",
    "        'good units': windowed_good_sorted_neural_data,\n",
    "        'sorted': windowed_sorted_neural_data,\n",
    "        'kilosort thresholded': windowed_kilosort_thresholded_neural_data,\n",
    "        'thresholded': windowed_thresholded_neural_data,\n",
    "        'clusterless': windowed_clusterless_neural_data\n",
    "} \n",
    "\n",
    "regional_n_units_dict = {\n",
    "        'good units': good_sorted_neural_data.shape[1],\n",
    "        'sorted': sorted_neural_data.shape[1],\n",
    "        'kilosort thresholded': kilosort_thresholded_neural_data.shape[1],\n",
    "        'thresholded': thresholded_neural_data.shape[1],\n",
    "        'clusterless': clusterless_neural_data.shape[1]\n",
    "}"
   ]
  },
  {
   "cell_type": "code",
   "execution_count": 74,
   "id": "b8e2a342-7903-4cdf-bb6c-672ef046e0aa",
   "metadata": {},
   "outputs": [
    {
     "name": "stdout",
     "output_type": "stream",
     "text": [
      "good units:\n",
      "motion energy fold 1 test r2: 0.159 rmse: 19.659\n",
      "motion energy fold 2 test r2: 0.203 rmse: 18.546\n",
      "motion energy fold 3 test r2: 0.182 rmse: 19.168\n",
      "motion energy fold 4 test r2: 0.145 rmse: 18.666\n",
      "motion energy fold 5 test r2: 0.192 rmse: 18.678\n",
      "motion energy mean of 5-fold cv r2: 0.176 rmse: 18.943\n",
      "motion energy sd of 5-fold cv r2: 0.021 rmse: 0.417\n",
      "sorted:\n",
      "motion energy fold 1 test r2: 0.433 rmse: 13.270\n",
      "motion energy fold 2 test r2: 0.449 rmse: 12.819\n",
      "motion energy fold 3 test r2: 0.415 rmse: 13.701\n",
      "motion energy fold 4 test r2: 0.394 rmse: 13.221\n",
      "motion energy fold 5 test r2: 0.402 rmse: 13.806\n",
      "motion energy mean of 5-fold cv r2: 0.419 rmse: 13.363\n",
      "motion energy sd of 5-fold cv r2: 0.020 rmse: 0.357\n",
      "kilosort thresholded:\n",
      "motion energy fold 1 test r2: 0.392 rmse: 14.229\n",
      "motion energy fold 2 test r2: 0.409 rmse: 13.751\n",
      "motion energy fold 3 test r2: 0.380 rmse: 14.530\n",
      "motion energy fold 4 test r2: 0.337 rmse: 14.483\n",
      "motion energy fold 5 test r2: 0.364 rmse: 14.706\n",
      "motion energy mean of 5-fold cv r2: 0.376 rmse: 14.340\n",
      "motion energy sd of 5-fold cv r2: 0.025 rmse: 0.331\n",
      "thresholded:\n",
      "motion energy fold 1 test r2: 0.480 rmse: 12.169\n",
      "motion energy fold 2 test r2: 0.499 rmse: 11.644\n",
      "motion energy fold 3 test r2: 0.435 rmse: 13.227\n",
      "motion energy fold 4 test r2: 0.386 rmse: 13.412\n",
      "motion energy fold 5 test r2: 0.422 rmse: 13.362\n",
      "motion energy mean of 5-fold cv r2: 0.444 rmse: 12.763\n",
      "motion energy sd of 5-fold cv r2: 0.041 rmse: 0.721\n",
      "clusterless:\n",
      "motion energy fold 1 test r2: 0.472 rmse: 12.351\n",
      "motion energy fold 2 test r2: 0.504 rmse: 11.537\n",
      "motion energy fold 3 test r2: 0.425 rmse: 13.464\n",
      "motion energy fold 4 test r2: 0.369 rmse: 13.771\n",
      "motion energy fold 5 test r2: 0.449 rmse: 12.725\n",
      "motion energy mean of 5-fold cv r2: 0.444 rmse: 12.769\n",
      "motion energy sd of 5-fold cv r2: 0.045 rmse: 0.798\n",
      "good units:\n",
      "wheel speed fold 1 test r2: 0.226 rmse: 1.028\n",
      "wheel speed fold 2 test r2: 0.175 rmse: 0.966\n",
      "wheel speed fold 3 test r2: 0.170 rmse: 1.198\n",
      "wheel speed fold 4 test r2: 0.157 rmse: 1.235\n",
      "wheel speed fold 5 test r2: 0.231 rmse: 0.878\n",
      "wheel speed mean of 5-fold cv r2: 0.192 rmse: 1.061\n",
      "wheel speed sd of 5-fold cv r2: 0.030 rmse: 0.136\n",
      "sorted:\n",
      "wheel speed fold 1 test r2: 0.365 rmse: 0.843\n",
      "wheel speed fold 2 test r2: 0.333 rmse: 0.781\n",
      "wheel speed fold 3 test r2: 0.243 rmse: 1.092\n",
      "wheel speed fold 4 test r2: 0.277 rmse: 1.060\n",
      "wheel speed fold 5 test r2: 0.333 rmse: 0.762\n",
      "wheel speed mean of 5-fold cv r2: 0.310 rmse: 0.908\n",
      "wheel speed sd of 5-fold cv r2: 0.044 rmse: 0.141\n",
      "kilosort thresholded:\n",
      "wheel speed fold 1 test r2: 0.323 rmse: 0.899\n",
      "wheel speed fold 2 test r2: 0.297 rmse: 0.823\n",
      "wheel speed fold 3 test r2: 0.221 rmse: 1.125\n",
      "wheel speed fold 4 test r2: 0.216 rmse: 1.150\n",
      "wheel speed fold 5 test r2: 0.311 rmse: 0.787\n",
      "wheel speed mean of 5-fold cv r2: 0.273 rmse: 0.957\n",
      "wheel speed sd of 5-fold cv r2: 0.046 rmse: 0.152\n",
      "thresholded:\n",
      "wheel speed fold 1 test r2: 0.382 rmse: 0.820\n",
      "wheel speed fold 2 test r2: 0.362 rmse: 0.747\n",
      "wheel speed fold 3 test r2: 0.209 rmse: 1.142\n",
      "wheel speed fold 4 test r2: 0.268 rmse: 1.072\n",
      "wheel speed fold 5 test r2: 0.335 rmse: 0.759\n",
      "wheel speed mean of 5-fold cv r2: 0.311 rmse: 0.908\n",
      "wheel speed sd of 5-fold cv r2: 0.064 rmse: 0.166\n",
      "clusterless:\n",
      "wheel speed fold 1 test r2: 0.372 rmse: 0.833\n",
      "wheel speed fold 2 test r2: 0.366 rmse: 0.743\n",
      "wheel speed fold 3 test r2: 0.201 rmse: 1.153\n",
      "wheel speed fold 4 test r2: 0.245 rmse: 1.107\n",
      "wheel speed fold 5 test r2: 0.334 rmse: 0.760\n",
      "wheel speed mean of 5-fold cv r2: 0.304 rmse: 0.919\n",
      "wheel speed sd of 5-fold cv r2: 0.069 rmse: 0.176\n"
     ]
    }
   ],
   "source": [
    "regional_decode_results = {'motion energy': dict(), 'wheel speed': dict()}\n",
    "\n",
    "for behave_type in regional_decode_results.keys():\n",
    "    for data_type in neural_data_dict.keys():\n",
    "        print(f'{data_type}:')\n",
    "        decode_results = decoder.cv_decode_dynamic(\n",
    "            neural_data_dict[data_type], \n",
    "            dynamic_behaviors[behave_type], \n",
    "            n_trials,\n",
    "            behave_type=behave_type, \n",
    "            n_folds=5,\n",
    "            seed=seed\n",
    "        )\n",
    "        regional_decode_results[behave_type].update({data_type: decode_results})\n",
    "np.save(f'{save_path}/dynamic_behaviors/{roi}_decode_results.npy', regional_decode_results)\n",
    "# np.save(f'{save_path}/static_behaviors/{roi}_n_units_dict.npy', regional_n_units_dict)"
   ]
  },
  {
   "cell_type": "code",
   "execution_count": null,
   "id": "9fda543c-b454-4fce-a31d-55bb1e066fe2",
   "metadata": {},
   "outputs": [],
   "source": []
  },
  {
   "cell_type": "markdown",
   "id": "6a0a4fd0-37db-46b0-a138-24401b345a9a",
   "metadata": {},
   "source": [
    "plotting"
   ]
  },
  {
   "cell_type": "code",
   "execution_count": 75,
   "id": "3fc4a157-2466-4b02-811b-8bf93fa3c212",
   "metadata": {},
   "outputs": [
    {
     "data": {
      "image/png": "[encoded data removed]",
      "text/plain": [
       "<Figure size 1200x800 with 1 Axes>"
      ]
     },
     "metadata": {},
     "output_type": "display_data"
    }
   ],
   "source": [
    "viz.plot_compare_decoder_barplots(\n",
    "    save_path + '/dynamic_behaviors',\n",
    "    'motion energy', \n",
    "    'r2', \n",
    "    rois, \n",
    "    n_folds=5, \n",
    "    add_smooth=False, \n",
    "    figure_size=(12,8), \n",
    "    font_size=15, \n",
    "    title='DY-009: motion energy',\n",
    "    save_fig=True,\n",
    "    fig_path='../saved_figs/danlab/Subjects/DY_009',\n",
    ")"
   ]
  },
  {
   "cell_type": "code",
   "execution_count": 76,
   "id": "1337aab6-73ba-4316-b768-ef315cf91ff3",
   "metadata": {},
   "outputs": [
    {
     "data": {
      "image/png": "[encoded data removed]",
      "text/plain": [
       "<Figure size 1200x800 with 1 Axes>"
      ]
     },
     "metadata": {},
     "output_type": "display_data"
    }
   ],
   "source": [
    "viz.plot_compare_decoder_barplots(\n",
    "    save_path + '/dynamic_behaviors',\n",
    "    'wheel speed', \n",
    "    'r2', \n",
    "    rois, \n",
    "    n_folds=5, \n",
    "    add_smooth=False, \n",
    "    figure_size=(12,8), \n",
    "    font_size=15, \n",
    "    title='DY-009: wheel speed',\n",
    "    save_fig=True,\n",
    "    fig_path='../saved_figs/danlab/Subjects/DY_009',\n",
    ")"
   ]
  },
  {
   "cell_type": "code",
   "execution_count": null,
   "id": "2805ec58-310b-4609-8a86-ce01b85276bd",
   "metadata": {},
   "outputs": [],
   "source": []
  },
  {
   "cell_type": "code",
   "execution_count": null,
   "id": "65922741-671a-4294-b3a0-579698a4aef5",
   "metadata": {},
   "outputs": [],
   "source": []
  }
 ],
 "metadata": {
  "kernelspec": {
   "display_name": "Python 3 (ipykernel)",
   "language": "python",
   "name": "python3"
  },
  "language_info": {
   "codemirror_mode": {
    "name": "ipython",
    "version": 3
   },
   "file_extension": ".py",
   "mimetype": "text/x-python",
   "name": "python",
   "nbconvert_exporter": "python",
   "pygments_lexer": "ipython3",
   "version": "3.8.13"
  }
 },
 "nbformat": 4,
 "nbformat_minor": 5
}
