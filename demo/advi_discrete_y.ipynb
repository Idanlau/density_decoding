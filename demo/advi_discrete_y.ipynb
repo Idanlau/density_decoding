{
 "cells": [
  {
   "cell_type": "code",
   "execution_count": 1,
   "id": "f7a3a3c6-c029-486d-9a9b-d3bc1cf7c423",
   "metadata": {},
   "outputs": [],
   "source": [
    "import numpy as np\n",
    "import random\n",
    "import matplotlib.pyplot as plt\n",
    "\n",
    "from scipy.special import logsumexp\n",
    "from sklearn.mixture import GaussianMixture\n",
    "from sklearn.model_selection import KFold\n",
    "\n",
    "import torch\n",
    "import torch.distributions as D\n",
    "\n",
    "from clusterless.utils import NP1DataLoader, ADVIDataLoader, fit_initial_gmm\n",
    "# from clusterless.encoder import CAVI\n",
    "from clusterless.decoder import static_decoder"
   ]
  },
  {
   "cell_type": "code",
   "execution_count": 2,
   "id": "4c83eddd-64ec-44da-91f6-be3c8880cdac",
   "metadata": {},
   "outputs": [],
   "source": [
    "seed = 666\n",
    "random.seed(seed)\n",
    "np.random.seed(seed)\n",
    "torch.manual_seed(seed)\n",
    "torch.set_default_dtype(torch.double)"
   ]
  },
  {
   "cell_type": "code",
   "execution_count": 3,
   "id": "804affc9-ffa2-4b40-98c1-e33a5fc928db",
   "metadata": {},
   "outputs": [],
   "source": [
    "SMALL_SIZE = 15\n",
    "MEDIUM_SIZE = 20\n",
    "BIGGER_SIZE = 25\n",
    "\n",
    "plt.rc('font', size=MEDIUM_SIZE)         \n",
    "plt.rc('axes', titlesize=MEDIUM_SIZE)     \n",
    "plt.rc('axes', labelsize=MEDIUM_SIZE) \n",
    "plt.rc('axes', linewidth = 1.5)\n",
    "plt.rc('xtick', labelsize=MEDIUM_SIZE)   \n",
    "plt.rc('ytick', labelsize=MEDIUM_SIZE)   \n",
    "plt.rc('legend', fontsize=MEDIUM_SIZE)   \n",
    "plt.rc('figure', titlesize=MEDIUM_SIZE)"
   ]
  },
  {
   "cell_type": "markdown",
   "id": "779810ad-6236-439a-9c42-920935cc363c",
   "metadata": {
    "tags": []
   },
   "source": [
    "#### load data"
   ]
  },
  {
   "cell_type": "code",
   "execution_count": 4,
   "id": "4bb4cced-b5ae-4400-9665-e0b4a96c4aed",
   "metadata": {},
   "outputs": [],
   "source": [
    "# np1_data_loader = NP1DataLoader(\n",
    "#     probe_id = 'dab512bd-a02d-4c1f-8dbc-9155a163efc0', \n",
    "#     geom_path = '/mnt/3TB/yizi/danlab/Subjects/DY_016/np1_channel_map.npy', \n",
    "#     ephys_path = '/mnt/3TB/yizi/danlab/Subjects/DY_016/subtraction_results_threshold_5', \n",
    "#     behavior_path = '/mnt/3TB/yizi/Downloads/ONE/openalyx.internationalbrainlab.org/paper_repro_ephys_data/figure9_10/original_data'\n",
    "# )"
   ]
  },
  {
   "cell_type": "code",
   "execution_count": 5,
   "id": "342c1a38-c4be-4e72-819d-eca38a9b3d8f",
   "metadata": {},
   "outputs": [
    {
     "name": "stdout",
     "output_type": "stream",
     "text": [
      "Session ID: db4df448-e449-4a6f-a0e7-288711e7a75a\n",
      "Probe ID: febb430e-2d50-4f83-87a0-b5ffbb9a4943 (probe00)\n",
      "First trial stimulus onset time: 40.81 sec\n",
      "Last trial stimulus onset time: 2252.10 sec\n"
     ]
    }
   ],
   "source": [
    "np1_data_loader = NP1DataLoader(\n",
    "    probe_id = 'febb430e-2d50-4f83-87a0-b5ffbb9a4943', \n",
    "    geom_path = '/mnt/3TB/yizi/danlab/Subjects/DY_009/np1_channel_map.npy', \n",
    "    ephys_path = '/mnt/3TB/yizi/danlab/Subjects/DY_009/subtraction_results_threshold_5', \n",
    "    # ephys_path = '/mnt/3TB/yizi/danlab/Subjects/DY_009/subtract_res_wf_pcs', \n",
    "    behavior_path = '/mnt/3TB/yizi/Downloads/ONE/openalyx.internationalbrainlab.org/paper_repro_ephys_data/figure9_10/original_data'\n",
    ")"
   ]
  },
  {
   "cell_type": "code",
   "execution_count": 6,
   "id": "855deebc-51ce-4c98-9bed-3cca5c0abce8",
   "metadata": {},
   "outputs": [],
   "source": [
    "region = 'lp'"
   ]
  },
  {
   "cell_type": "code",
   "execution_count": 7,
   "id": "ddc2f33c-5da7-4daa-9ec3-ecc67cc601e4",
   "metadata": {},
   "outputs": [],
   "source": [
    "# trials = np1_data_loader.load_spike_features(region = 'vis')"
   ]
  },
  {
   "cell_type": "code",
   "execution_count": 8,
   "id": "b6b049ee-4866-4ad2-b2a4-944f7841879b",
   "metadata": {},
   "outputs": [
    {
     "name": "stdout",
     "output_type": "stream",
     "text": [
      "Found 38 channels in region lp\n"
     ]
    }
   ],
   "source": [
    "trials = np1_data_loader.relocalize_kilosort(\n",
    "    data_path = '/mnt/3TB/yizi/danlab/Subjects/DY_009/kilosort_localizations',\n",
    "    region = region)"
   ]
  },
  {
   "cell_type": "code",
   "execution_count": 9,
   "id": "604d7793-de36-4558-a1b2-658d66793075",
   "metadata": {},
   "outputs": [
    {
     "data": {
      "text/plain": [
       "array([2253.09975431,  204.        ,  117.95987005, 2064.23401934,\n",
       "         26.34952545])"
      ]
     },
     "execution_count": 9,
     "metadata": {},
     "output_type": "execute_result"
    }
   ],
   "source": [
    "trials[-1].max(0)"
   ]
  },
  {
   "cell_type": "code",
   "execution_count": 10,
   "id": "7d4f5ea8-e872-4dfc-99a6-07d89554439b",
   "metadata": {},
   "outputs": [
    {
     "name": "stdout",
     "output_type": "stream",
     "text": [
      "Choices left: 0.361, right: 0.639\n",
      "Stimuli left: 0.430, right: 0.570\n",
      "Reward wrong: 0.087, correct: 0.913\n"
     ]
    }
   ],
   "source": [
    "choices, stimuli, transformed_stimuli, one_hot_stimuli, enc_categories_, rewards, priors = \\\n",
    "    np1_data_loader.load_behaviors('static')"
   ]
  },
  {
   "cell_type": "code",
   "execution_count": 11,
   "id": "2a170e94-7388-43ae-8367-f680c532cf02",
   "metadata": {},
   "outputs": [],
   "source": [
    "advi_data_loader = ADVIDataLoader(\n",
    "                         data = trials, \n",
    "                         behavior = choices.argmax(1), \n",
    "                         n_t_bins = 30)"
   ]
  },
  {
   "cell_type": "code",
   "execution_count": 12,
   "id": "565f700d-5340-4d47-98b8-707e86128b81",
   "metadata": {},
   "outputs": [],
   "source": [
    "kf = KFold(n_splits=5, shuffle=True, random_state=seed)\n",
    "kf_train_ids = []\n",
    "kf_test_ids = []\n",
    "for i, (train_ids, test_ids) in enumerate(kf.split(advi_data_loader.behavior)):\n",
    "    kf_train_ids.append(train_ids)\n",
    "    kf_test_ids.append(test_ids)"
   ]
  },
  {
   "cell_type": "code",
   "execution_count": 13,
   "id": "7b5143bd-bd3d-4f59-b420-f83402c51a8e",
   "metadata": {},
   "outputs": [
    {
     "name": "stderr",
     "output_type": "stream",
     "text": [
      "<__array_function__ internals>:180: VisibleDeprecationWarning: Creating an ndarray from ragged nested sequences (which is a list-or-tuple of lists-or-tuples-or ndarrays with different lengths or shapes) is deprecated. If you meant to do this, you must specify 'dtype=object' when creating the ndarray.\n"
     ]
    }
   ],
   "source": [
    "i = 0\n",
    "train_trials, train_trial_ids, train_time_ids, test_trials, test_trial_ids, test_time_ids = \\\n",
    "    advi_data_loader.split_train_test(kf_train_ids[i], kf_test_ids[i])"
   ]
  },
  {
   "cell_type": "code",
   "execution_count": 14,
   "id": "c4ec1c25-bef0-47bc-ae56-0e9e8652d24f",
   "metadata": {},
   "outputs": [
    {
     "data": {
      "text/plain": [
       "array([ 206.        ,  159.        , 2089.1279605 ,   34.28616333])"
      ]
     },
     "execution_count": 14,
     "metadata": {},
     "output_type": "execute_result"
    }
   ],
   "source": [
    "train_trials.max(0)"
   ]
  },
  {
   "cell_type": "code",
   "execution_count": 15,
   "id": "22873130-c5ab-424f-adf9-63c6ee653c94",
   "metadata": {},
   "outputs": [
    {
     "name": "stderr",
     "output_type": "stream",
     "text": [
      "/home/yizi/isosplit/isosplit/parcelate2.py:73: RuntimeWarning: Mean of empty slice.\n",
      "  X[:, jinds].mean(axis=1, keepdims=True)\n",
      "/home/yizi/anaconda3/envs/clusterless/lib/python3.8/site-packages/numpy/core/_methods.py:182: RuntimeWarning: invalid value encountered in divide\n",
      "  ret = um.true_divide(\n"
     ]
    }
   ],
   "source": [
    "gmm = fit_initial_gmm(np.concatenate(trials)[:,1:])"
   ]
  },
  {
   "cell_type": "markdown",
   "id": "2c3c00f7-a7f0-4257-947d-ed90c8ec08ab",
   "metadata": {},
   "source": [
    "#### ADVI"
   ]
  },
  {
   "cell_type": "code",
   "execution_count": 16,
   "id": "18f47c07-0110-4428-8c6a-6db6058ff437",
   "metadata": {},
   "outputs": [],
   "source": [
    "def safe_log(x, minval=1e-10):\n",
    "    return torch.log(x + minval)"
   ]
  },
  {
   "cell_type": "code",
   "execution_count": 17,
   "id": "19b9ba29-711e-4674-b9ad-a3f0df76132d",
   "metadata": {},
   "outputs": [],
   "source": [
    "class ADVI(torch.nn.Module):\n",
    "    def __init__(self, Nk, Nt, Nc, Nd, init_means, init_covs):\n",
    "        super(ADVI, self).__init__()\n",
    "        self.Nk = Nk\n",
    "        self.Nt = Nt\n",
    "        self.Nc = Nc\n",
    "        self.Nd = Nd\n",
    "        \n",
    "        # initialize variables for variational distribution\n",
    "        self.means = torch.nn.Parameter(torch.tensor(init_means), requires_grad=False)\n",
    "        self.covs = torch.nn.Parameter(torch.tensor(init_covs), requires_grad=False)\n",
    "        self.b_mu = torch.nn.Parameter(torch.randn((Nc)))\n",
    "        self.b_log_sig = torch.nn.Parameter(torch.randn((Nc)))\n",
    "        self.beta_mu = torch.nn.Parameter(torch.randn((Nc, Nt)))\n",
    "        self.beta_log_sig = torch.nn.Parameter(torch.randn((Nc, Nt)))\n",
    "        \n",
    "    def log_prior_plus_logabsdet_J(self, b_sample, beta_sample):\n",
    "        \n",
    "        # log prior for beta, evaluated at sampled values for beta\n",
    "        lp_b = D.Normal(torch.zeros((self.Nc)), torch.ones((self.Nc))).log_prob(b_sample).sum()\n",
    "\n",
    "        # log prior sig + log jacobian\n",
    "        lp_beta = D.Normal(torch.zeros((self.Nc, self.Nt)), torch.ones((self.Nc, self.Nt))).log_prob(beta_sample).sum()\n",
    "        \n",
    "        return lp_b + lp_beta\n",
    "    \n",
    "    \n",
    "    def log_q(self, b_sample, beta_sample):\n",
    "        \n",
    "        lq_b = self.b.log_prob(b_sample).sum()\n",
    "\n",
    "        lq_beta = self.beta.log_prob(beta_sample).sum()\n",
    "        \n",
    "        return lq_b + lq_beta\n",
    "        \n",
    "        \n",
    "    def forward(self, s, y, ks, ts, sampling=True):\n",
    "        \n",
    "        # define global variational parameters\n",
    "        self.b = D.Normal(self.b_mu, self.b_log_sig.exp())\n",
    "        self.beta = D.Normal(self.beta_mu, self.beta_log_sig.exp())\n",
    "        \n",
    "        # sample from the variational distributions\n",
    "        if sampling:\n",
    "            b_sample = self.b.rsample()\n",
    "            beta_sample = self.beta.rsample()\n",
    "        else:\n",
    "            b_sample = self.b.loc\n",
    "            beta_sample = self.beta.loc\n",
    "                    \n",
    "        # mixing proportions \n",
    "        log_lambdas = torch.zeros((self.Nk, self.Nc, self.Nt))\n",
    "        for k in range(self.Nk):\n",
    "            for t in range(self.Nt):\n",
    "                log_lambdas[k,:,t] = b_sample + beta_sample[:,t] * y[k]\n",
    "        log_pis = log_lambdas - torch.logsumexp(log_lambdas, 1)[:,None,:]\n",
    "                                          \n",
    "                                          \n",
    "        # compute log-likelihood\n",
    "        ll = torch.zeros((s.shape[0], self.Nc))\n",
    "        for j in range(self.Nc):\n",
    "            ll[:,j] = D.multivariate_normal.MultivariateNormal(\n",
    "                            loc=self.means[j], \n",
    "                            covariance_matrix=self.covs[j]\n",
    "                        ).log_prob(s)\n",
    "            \n",
    "        \n",
    "        # compute local variational parameters\n",
    "        r = torch.zeros((s.shape[0], self.Nc))\n",
    "        for k in range(self.Nk):\n",
    "            for t in range(self.Nt):\n",
    "                k_t_idx = torch.logical_and(ks == torch.unique(ks).int()[k], ts == t)\n",
    "                r[k_t_idx] = torch.exp( ll[k_t_idx] + log_pis[k,:,t] )\n",
    "                r[k_t_idx] = r[k_t_idx] / r[k_t_idx].sum(1)[:,None]\n",
    "                            \n",
    "                                          \n",
    "        # compute ELBO\n",
    "        elbo = 0\n",
    "        for k in range(self.Nk):\n",
    "            for t in range(self.Nt):\n",
    "                k_t_idx = torch.logical_and(ks == torch.unique(ks).int()[k], ts == t)\n",
    "                elbo += torch.sum( r[k_t_idx] * ll[k_t_idx] )\n",
    "                elbo += torch.sum( r[k_t_idx] * log_pis[k,:,t] )\n",
    "                elbo -= torch.sum( r[k_t_idx] * safe_log(r[k_t_idx]) )\n",
    "                \n",
    "        elbo += self.log_prior_plus_logabsdet_J(b_sample, beta_sample)\n",
    "        elbo -= self.log_q(b_sample, beta_sample)                                  \n",
    "        \n",
    "        return elbo\n",
    "    \n",
    "    \n",
    "    def train_advi(self, s, y, ks, ts, batch_ids, optim, max_iter):\n",
    "        '''\n",
    "        \n",
    "        '''\n",
    "        elbos = []\n",
    "        N = s.shape[0]\n",
    "        for i in range(max_iter):\n",
    "            tot_elbo = 0\n",
    "            for n, batch_idx in enumerate(batch_ids): \n",
    "                mask = torch.logical_and(ks >= batch_idx[0], ks <= batch_idx[-1])\n",
    "                batch_s = s[mask]\n",
    "                batch_y = y[list(batch_idx)]\n",
    "                batch_ks = ks[mask]\n",
    "                batch_ts = ts[mask]\n",
    "                loss = - self(batch_s, batch_y, batch_ks, batch_ts) / N\n",
    "                loss.backward()\n",
    "                tot_elbo -= loss.item()\n",
    "                if (n+1) % 100 == 0:\n",
    "                    print(f'iter: {i+1} batch {n+1}')\n",
    "                optim.step()\n",
    "                optim.zero_grad()\n",
    "            print(f'iter: {i+1} total elbo: {tot_elbo:.2f}')\n",
    "            elbos.append(tot_elbo)\n",
    "        elbos = [elbo for elbo in elbos]\n",
    "        return elbos\n",
    "    \n",
    "    \n",
    "    def calc_dynamic_mixing_proportions(self, y):\n",
    "        '''\n",
    "        \n",
    "        '''\n",
    "        log_lambdas = torch.zeros((len(y), self.Nc, self.Nt))\n",
    "        for k in range(len(y)):\n",
    "            for t in range(self.Nt):\n",
    "                log_lambdas[k,:,t] = self.b.loc + self.beta.loc[:,t] * y[k]\n",
    "\n",
    "        log_pis = log_lambdas - torch.logsumexp(log_lambdas, 1)[:,None,:]\n",
    "        return log_pis.exp().detach().numpy()\n",
    "    \n",
    "    \n",
    "    def encode_gmm(self, data, train, test, y_train, y_pred):\n",
    "        \n",
    "        Nk = len(train) + len(test)\n",
    "        log_lambdas = np.zeros((Nk, self.Nc, self.Nt))\n",
    "        for i, k in enumerate(train):\n",
    "            for t in range(self.Nt):\n",
    "                log_lambdas[k,:,t] = self.b.loc.detach().numpy() + \\\n",
    "                                     self.beta.loc[:,t].detach().numpy() * y_train[i]\n",
    "\n",
    "        for i, k in enumerate(test):\n",
    "            for t in range(self.Nt):\n",
    "                log_lambdas[k,:,t] = self.b.loc.detach().numpy() + \\\n",
    "                                     self.beta.loc[:,t].detach().numpy() * y_pred[i]\n",
    "\n",
    "        log_pis = log_lambdas - logsumexp(log_lambdas, 1)[:,None,:]\n",
    "        encoded_pis = np.exp(log_pis)\n",
    "        \n",
    "        encoded_weights = np.zeros_like(log_lambdas)\n",
    "        for k in range(encoded_weights.shape[0]):\n",
    "            for t in range(self.Nt):\n",
    "                encoded_gmm = GaussianMixture(n_components=self.Nc, covariance_type='full')\n",
    "                encoded_gmm.precisions_cholesky_ = np.linalg.cholesky(np.linalg.inv(self.covs))\n",
    "                encoded_gmm.weights_ = encoded_pis[k,:,t]\n",
    "                encoded_gmm.means_ = self.means\n",
    "                encoded_gmm.covariances_ = self.covs\n",
    "                if len(data[k][t]) > 0:\n",
    "                    encoded_weights[k,:,t] = encoded_gmm.predict_proba(data[k][t][:,1:]).sum(0)\n",
    "        return encoded_pis, encoded_weights"
   ]
  },
  {
   "cell_type": "code",
   "execution_count": 18,
   "id": "143089a8-b47a-43db-b22a-34c99164f56f",
   "metadata": {},
   "outputs": [],
   "source": [
    "Nt = advi_data_loader.n_t_bins\n",
    "Nc = gmm.means_.shape[0]\n",
    "Nd = gmm.means_.shape[1]"
   ]
  },
  {
   "cell_type": "code",
   "execution_count": 19,
   "id": "69a093eb-c9d7-4dcf-bf5b-6aaa0364b577",
   "metadata": {},
   "outputs": [],
   "source": [
    "s = torch.tensor(train_trials[:,1:])\n",
    "y = torch.tensor(advi_data_loader.behavior)\n",
    "ks = torch.tensor(train_trial_ids)\n",
    "ts = torch.tensor(train_time_ids)\n",
    "\n",
    "Nk = len(advi_data_loader.train_ids)"
   ]
  },
  {
   "cell_type": "code",
   "execution_count": 20,
   "id": "84150934-8bdb-4210-8210-32032e1e3845",
   "metadata": {},
   "outputs": [
    {
     "name": "stdout",
     "output_type": "stream",
     "text": [
      "iter: 1 batch 100\n",
      "iter: 1 total elbo: -23.28\n",
      "iter: 2 batch 100\n",
      "iter: 2 total elbo: -15.39\n",
      "iter: 3 batch 100\n",
      "iter: 3 total elbo: -13.89\n",
      "iter: 4 batch 100\n",
      "iter: 4 total elbo: -13.33\n",
      "iter: 5 batch 100\n",
      "iter: 5 total elbo: -13.11\n",
      "iter: 6 batch 100\n",
      "iter: 6 total elbo: -12.98\n",
      "iter: 7 batch 100\n",
      "iter: 7 total elbo: -12.91\n",
      "iter: 8 batch 100\n",
      "iter: 8 total elbo: -12.88\n",
      "iter: 9 batch 100\n",
      "iter: 9 total elbo: -12.86\n",
      "iter: 10 batch 100\n",
      "iter: 10 total elbo: -12.82\n",
      "iter: 11 batch 100\n",
      "iter: 11 total elbo: -12.82\n",
      "iter: 12 batch 100\n",
      "iter: 12 total elbo: -12.80\n",
      "iter: 13 batch 100\n",
      "iter: 13 total elbo: -12.81\n",
      "iter: 14 batch 100\n",
      "iter: 14 total elbo: -12.80\n",
      "iter: 15 batch 100\n",
      "iter: 15 total elbo: -12.79\n",
      "iter: 16 batch 100\n",
      "iter: 16 total elbo: -12.79\n",
      "iter: 17 batch 100\n",
      "iter: 17 total elbo: -12.78\n",
      "iter: 18 batch 100\n",
      "iter: 18 total elbo: -12.78\n",
      "iter: 19 batch 100\n",
      "iter: 19 total elbo: -12.78\n",
      "iter: 20 batch 100\n",
      "iter: 20 total elbo: -12.79\n",
      "iter: 21 batch 100\n",
      "iter: 21 total elbo: -12.77\n",
      "iter: 22 batch 100\n",
      "iter: 22 total elbo: -12.78\n",
      "iter: 23 batch 100\n",
      "iter: 23 total elbo: -12.78\n",
      "iter: 24 batch 100\n",
      "iter: 24 total elbo: -12.79\n",
      "iter: 25 batch 100\n",
      "iter: 25 total elbo: -12.78\n",
      "iter: 26 batch 100\n",
      "iter: 26 total elbo: -12.78\n",
      "iter: 27 batch 100\n",
      "iter: 27 total elbo: -12.78\n",
      "iter: 28 batch 100\n",
      "iter: 28 total elbo: -12.79\n",
      "iter: 29 batch 100\n",
      "iter: 29 total elbo: -12.79\n",
      "iter: 30 batch 100\n",
      "iter: 30 total elbo: -12.78\n"
     ]
    }
   ],
   "source": [
    "batch_size = 1\n",
    "batch_ids = list(zip(*(iter(advi_data_loader.train_ids),) * batch_size))\n",
    "advi = ADVI(batch_size, Nt, Nc, Nd, gmm.means_, gmm.covariances_)\n",
    "optim = torch.optim.Adam(advi.parameters(), lr=1e-2)\n",
    "elbos = advi.train_advi(s, y, ks, ts, batch_ids, optim, max_iter=30)"
   ]
  },
  {
   "cell_type": "code",
   "execution_count": 21,
   "id": "c67845c8-6b9f-499e-8625-698d8e9eb228",
   "metadata": {},
   "outputs": [
    {
     "data": {
      "image/png": "[encoded data removed]",
      "text/plain": [
       "<Figure size 400x200 with 1 Axes>"
      ]
     },
     "metadata": {},
     "output_type": "display_data"
    }
   ],
   "source": [
    "plt.figure(figsize=(4,2))\n",
    "plt.plot(elbos);\n",
    "plt.ylabel('ELBO');"
   ]
  },
  {
   "cell_type": "markdown",
   "id": "57f478d5-fcdb-44e8-b727-26e0d0e8161a",
   "metadata": {},
   "source": [
    "#### GMM"
   ]
  },
  {
   "cell_type": "code",
   "execution_count": 22,
   "id": "3761fc5b-1dae-4544-8423-85568ef02c20",
   "metadata": {},
   "outputs": [],
   "source": [
    "train = advi_data_loader.train_ids\n",
    "test = advi_data_loader.test_ids"
   ]
  },
  {
   "cell_type": "code",
   "execution_count": 23,
   "id": "57025206-13d8-43c7-9bbf-075b58d39957",
   "metadata": {},
   "outputs": [
    {
     "name": "stdout",
     "output_type": "stream",
     "text": [
      "(230, 43, 30)\n"
     ]
    }
   ],
   "source": [
    "spike_train = np.concatenate(trials)\n",
    "spike_times = spike_train[:,0]\n",
    "spike_labels = gmm.predict(spike_train[:,2:])\n",
    "spike_probs = gmm.predict_proba(spike_train[:,2:])\n",
    "\n",
    "vanilla_gmm = np1_data_loader.prepare_decoder_input(\n",
    "    np.c_[spike_times, spike_labels, spike_probs],\n",
    "    is_gmm = True, n_t_bins = 30, regional = True)\n",
    "print(vanilla_gmm.shape)"
   ]
  },
  {
   "cell_type": "code",
   "execution_count": 24,
   "id": "f5ca8fdd-62b2-4b07-9b43-8afe4b13183a",
   "metadata": {},
   "outputs": [
    {
     "name": "stdout",
     "output_type": "stream",
     "text": [
      "lr accuracy: 0.870\n"
     ]
    }
   ],
   "source": [
    "y_train, y_test, y_pred, _, _ = static_decoder(vanilla_gmm, advi_data_loader.behavior, train, test)"
   ]
  },
  {
   "cell_type": "markdown",
   "id": "e345fc35-5a82-42f8-aba0-c9f45df65925",
   "metadata": {},
   "source": [
    "#### multi-unit thresholding"
   ]
  },
  {
   "cell_type": "code",
   "execution_count": 25,
   "id": "c729aeaa-fb9c-4619-939e-2075a6703f90",
   "metadata": {},
   "outputs": [
    {
     "name": "stdout",
     "output_type": "stream",
     "text": [
      "(230, 32, 30)\n"
     ]
    }
   ],
   "source": [
    "spike_channels = spike_train[:,1]\n",
    "\n",
    "thresholded = np1_data_loader.prepare_decoder_input(\n",
    "    np.c_[spike_times, spike_channels],\n",
    "    is_gmm = False, n_t_bins = 30, regional = True)\n",
    "print(thresholded.shape)"
   ]
  },
  {
   "cell_type": "code",
   "execution_count": 26,
   "id": "7ededf5d-4df9-40a4-a9d6-126bd8441dbb",
   "metadata": {},
   "outputs": [
    {
     "name": "stdout",
     "output_type": "stream",
     "text": [
      "lr accuracy: 0.891\n"
     ]
    }
   ],
   "source": [
    "y_train, y_test, _, _, _ = static_decoder(thresholded, advi_data_loader.behavior, train, test)"
   ]
  },
  {
   "cell_type": "markdown",
   "id": "c0e39ef5-25d8-4946-aa6d-02f3f687f180",
   "metadata": {},
   "source": [
    "#### encoding MoG"
   ]
  },
  {
   "cell_type": "code",
   "execution_count": 27,
   "id": "a399bb78-b5a2-47e4-b8af-da138f0800a7",
   "metadata": {},
   "outputs": [
    {
     "data": {
      "image/png": "[encoded data removed]",
      "text/plain": [
       "<Figure size 400x300 with 2 Axes>"
      ]
     },
     "metadata": {},
     "output_type": "display_data"
    }
   ],
   "source": [
    "enc_pis, enc_all = advi.encode_gmm(\n",
    "    advi_data_loader.trials, \n",
    "    train, test, y_train, y_pred)\n",
    "\n",
    "plt.figure(figsize=(4,3))\n",
    "plt.imshow(enc_all.mean(0), aspect='auto', cmap='cubehelix')\n",
    "plt.colorbar();"
   ]
  },
  {
   "cell_type": "code",
   "execution_count": 28,
   "id": "31014910-d89e-42d7-a89e-a6a124435899",
   "metadata": {},
   "outputs": [
    {
     "data": {
      "image/png": "[encoded data removed]",
      "text/plain": [
       "<Figure size 400x300 with 2 Axes>"
      ]
     },
     "metadata": {},
     "output_type": "display_data"
    }
   ],
   "source": [
    "plt.figure(figsize=(4,3))\n",
    "plt.imshow(enc_pis.mean(0), aspect='auto', cmap='cubehelix')\n",
    "plt.colorbar();"
   ]
  },
  {
   "cell_type": "code",
   "execution_count": 29,
   "id": "41b22eec-775d-4432-9fe3-c2dad61e341c",
   "metadata": {},
   "outputs": [
    {
     "name": "stdout",
     "output_type": "stream",
     "text": [
      "lr accuracy: 0.913\n"
     ]
    }
   ],
   "source": [
    "_, _, _, _, _ = static_decoder(enc_all, advi_data_loader.behavior, train, test)"
   ]
  },
  {
   "cell_type": "markdown",
   "id": "bbbba65e-2819-4995-a888-f1d98d526c3e",
   "metadata": {},
   "source": [
    "#### KS all units"
   ]
  },
  {
   "cell_type": "code",
   "execution_count": 30,
   "id": "31da5964-a403-4d8b-bb95-0a4f6c59dc7a",
   "metadata": {},
   "outputs": [
    {
     "name": "stdout",
     "output_type": "stream",
     "text": [
      "Found 74 KS units in region lp\n",
      "(230, 73, 30)\n"
     ]
    }
   ],
   "source": [
    "ks_all = np1_data_loader.load_all_units(region=region)\n",
    "ks_all = np.concatenate(ks_all)\n",
    "\n",
    "all_units = np1_data_loader.prepare_decoder_input(\n",
    "    ks_all, is_gmm = False, n_t_bins = 30, regional = True)\n",
    "print(all_units.shape)"
   ]
  },
  {
   "cell_type": "code",
   "execution_count": 31,
   "id": "5c1296fd-5f0f-43f2-87cd-d48ed27d50f5",
   "metadata": {},
   "outputs": [
    {
     "name": "stdout",
     "output_type": "stream",
     "text": [
      "lr accuracy: 0.913\n"
     ]
    }
   ],
   "source": [
    "_, _, _, _, _ = static_decoder(all_units, advi_data_loader.behavior, train, test)"
   ]
  },
  {
   "cell_type": "markdown",
   "id": "9405b64e-dcdc-4fb1-918b-7e644049704f",
   "metadata": {},
   "source": [
    "#### KS good units"
   ]
  },
  {
   "cell_type": "code",
   "execution_count": 32,
   "id": "fb0755bc-1b08-4724-927a-6c69232c34fb",
   "metadata": {},
   "outputs": [
    {
     "name": "stdout",
     "output_type": "stream",
     "text": [
      "Found 17 good units in region lp\n",
      "(230, 17, 30)\n"
     ]
    }
   ],
   "source": [
    "ks_good = np1_data_loader.load_good_units(region=region)\n",
    "ks_good = np.concatenate(ks_good)\n",
    "\n",
    "good_units = np1_data_loader.prepare_decoder_input(\n",
    "    ks_good, is_gmm = False, n_t_bins = 30, regional = True)\n",
    "print(good_units.shape)"
   ]
  },
  {
   "cell_type": "code",
   "execution_count": 33,
   "id": "b90df064-adf6-4e1b-9c29-8ced7b16aa77",
   "metadata": {},
   "outputs": [
    {
     "name": "stdout",
     "output_type": "stream",
     "text": [
      "lr accuracy: 0.696\n"
     ]
    }
   ],
   "source": [
    "_, _, _, _, _ = static_decoder(good_units, advi_data_loader.behavior, train, test)"
   ]
  },
  {
   "cell_type": "code",
   "execution_count": null,
   "id": "3faf9d90-acc3-4bae-9d21-9956b16de360",
   "metadata": {},
   "outputs": [],
   "source": []
  }
 ],
 "metadata": {
  "kernelspec": {
   "display_name": "Python 3 (ipykernel)",
   "language": "python",
   "name": "python3"
  },
  "language_info": {
   "codemirror_mode": {
    "name": "ipython",
    "version": 3
   },
   "file_extension": ".py",
   "mimetype": "text/x-python",
   "name": "python",
   "nbconvert_exporter": "python",
   "pygments_lexer": "ipython3",
   "version": "3.8.13"
  }
 },
 "nbformat": 4,
 "nbformat_minor": 5
}
