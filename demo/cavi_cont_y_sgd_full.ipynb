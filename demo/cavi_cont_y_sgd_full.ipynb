{
 "cells": [
  {
   "cell_type": "code",
   "execution_count": 1,
   "id": "f7a3a3c6-c029-486d-9a9b-d3bc1cf7c423",
   "metadata": {},
   "outputs": [],
   "source": [
    "import numpy as np\n",
    "import random\n",
    "import matplotlib.pyplot as plt\n",
    "\n",
    "from sklearn.linear_model import Ridge\n",
    "from sklearn.mixture import GaussianMixture\n",
    "from sklearn.metrics import r2_score\n",
    "\n",
    "import torch\n",
    "import torch.distributions as D\n",
    "\n",
    "from clusterless import preprocess\n",
    "from clusterless import decoder"
   ]
  },
  {
   "cell_type": "code",
   "execution_count": 2,
   "id": "4c83eddd-64ec-44da-91f6-be3c8880cdac",
   "metadata": {},
   "outputs": [],
   "source": [
    "seed = 666\n",
    "random.seed(seed)\n",
    "np.random.seed(seed)\n",
    "torch.manual_seed(seed)\n",
    "torch.set_default_dtype(torch.double)"
   ]
  },
  {
   "cell_type": "code",
   "execution_count": 3,
   "id": "804affc9-ffa2-4b40-98c1-e33a5fc928db",
   "metadata": {},
   "outputs": [],
   "source": [
    "SMALL_SIZE = 15\n",
    "MEDIUM_SIZE = 20\n",
    "BIGGER_SIZE = 25\n",
    "\n",
    "plt.rc('font', size=MEDIUM_SIZE)         \n",
    "plt.rc('axes', titlesize=MEDIUM_SIZE)     \n",
    "plt.rc('axes', labelsize=MEDIUM_SIZE) \n",
    "plt.rc('axes', linewidth = 1.5)\n",
    "plt.rc('xtick', labelsize=MEDIUM_SIZE)   \n",
    "plt.rc('ytick', labelsize=MEDIUM_SIZE)   \n",
    "plt.rc('legend', fontsize=MEDIUM_SIZE)   \n",
    "plt.rc('figure', titlesize=MEDIUM_SIZE)"
   ]
  },
  {
   "cell_type": "markdown",
   "id": "779810ad-6236-439a-9c42-920935cc363c",
   "metadata": {
    "tags": []
   },
   "source": [
    "#### load data"
   ]
  },
  {
   "cell_type": "code",
   "execution_count": 4,
   "id": "9cd1c562-85c3-4d92-98da-b1ae930d9edd",
   "metadata": {},
   "outputs": [],
   "source": [
    "pid = 'dab512bd-a02d-4c1f-8dbc-9155a163efc0'\n",
    "rootpath = '/mnt/3TB/yizi/Downloads/ONE/openalyx.internationalbrainlab.org'\n",
    "trial_data_path = rootpath + '/danlab/Subjects/DY_016/2020-09-12/001/alf'\n",
    "neural_data_path = '/mnt/3TB/yizi/danlab/Subjects/DY_016'\n",
    "behavior_data_path = rootpath + '/paper_repro_ephys_data/figure9_10/original_data'\n",
    "save_path = '../saved_results/danlab/Subjects/DY_016/cavi_results/'"
   ]
  },
  {
   "cell_type": "code",
   "execution_count": 5,
   "id": "f2d94ef8-0d09-4bb5-9342-3179e7c0ba04",
   "metadata": {},
   "outputs": [
    {
     "name": "stdout",
     "output_type": "stream",
     "text": [
      "pid: dab512bd-a02d-4c1f-8dbc-9155a163efc0\n",
      "eid: d23a44ef-1402-4ed7-97f5-47e9a7a504d9\n",
      "1st trial stim on time: 17.56, last trial stim on time 2310.24\n"
     ]
    }
   ],
   "source": [
    "unsorted_trials, stim_on_times, np1_channel_map = preprocess.load_neural_data(\n",
    "    pid=pid, \n",
    "    trial_data_path=trial_data_path,\n",
    "    neural_data_path=neural_data_path,\n",
    "    behavior_data_path=behavior_data_path,\n",
    "    keep_active_trials=True, \n",
    "    roi='all',\n",
    "    kilosort=False,\n",
    "    triage=False\n",
    ")\n",
    "\n",
    "behave_dict = preprocess.load_behaviors_data(behavior_data_path, pid)\n",
    "motion_energy, wheel_velocity, wheel_speed, paw_speed, nose_speed, pupil_diameter = preprocess.preprocess_dynamic_behaviors(behave_dict)"
   ]
  },
  {
   "cell_type": "code",
   "execution_count": 6,
   "id": "7da5cbb8-4cf4-45c4-a61e-97c97bf63423",
   "metadata": {},
   "outputs": [],
   "source": [
    "class DataLoader():\n",
    "    def __init__(self, data, y, stim_on_times, np1_channel_map, n_t_bins=30):\n",
    "        self.data = data\n",
    "        self.y = y\n",
    "        self.stim_on_times = stim_on_times\n",
    "        self.np1_channel_map = np1_channel_map\n",
    "        self.n_t_bins = n_t_bins\n",
    "        self.n_trials = stim_on_times.shape[0]\n",
    "        self.n_channels = np1_channel_map.shape[0]\n",
    "        self.t_binning = np.arange(0, 1.5, step = (1.5 - 0) / n_t_bins)\n",
    "        self.rand_trial_ids = np.arange(self.n_trials)\n",
    "        \n",
    "        # allocate unsorted data into trials\n",
    "        self.trial_ids = []\n",
    "        self.t_ids = []\n",
    "        self.trials = []\n",
    "        self.t_bins = []\n",
    "        for k in range(self.n_trials):\n",
    "            mask = np.logical_and(data[:,0] >= stim_on_times[k] - 0.5,\n",
    "                                  data[:,0] <= stim_on_times[k] + 1)\n",
    "            trial = data[mask,:]\n",
    "            trial[:,0] = trial[:,0] - trial[:,0].min()\n",
    "            t_bins = np.digitize(trial[:,0], self.t_binning, right = False) - 1\n",
    "            t_bin_lst = []\n",
    "            for t in range(self.n_t_bins):\n",
    "                t_bin = trial[t_bins == t,1:]\n",
    "                self.trial_ids.append(np.ones_like(t_bin[:,0]) * k)\n",
    "                self.t_ids.append(np.ones_like(t_bin[:,0]) * t)\n",
    "                t_bin_lst.append(t_bin)\n",
    "            self.trials.append(t_bin_lst)\n",
    "    \n",
    "    \n",
    "    def split_train_test(self, split=.8):\n",
    "        \n",
    "        self.train_ids = self.rand_trial_ids[:int(split * self.n_trials)]\n",
    "        self.test_ids = self.rand_trial_ids[int(split * self.n_trials):]\n",
    "        self.y_train = self.y[self.train_ids]\n",
    "        self.y_test = self.y[self.test_ids]\n",
    "        \n",
    "        trial_ids = np.concatenate(self.trial_ids)\n",
    "        t_ids = np.concatenate(self.t_ids)\n",
    "        trials = np.concatenate(np.concatenate(self.trials))\n",
    "\n",
    "        train_mask = np.sum([trial_ids == idx for idx in self.train_ids], axis=0).astype(bool)\n",
    "        test_mask = np.sum([trial_ids == idx for idx in self.test_ids], axis=0).astype(bool)\n",
    "        train_trial_ids, test_trial_ids = trial_ids[train_mask], trial_ids[test_mask]\n",
    "        train_t_ids, test_t_ids = t_ids[train_mask], t_ids[test_mask]\n",
    "        train_trials, test_trials = trials[train_mask], trials[test_mask]\n",
    "        \n",
    "        return train_trials, train_trial_ids, train_t_ids, \\\n",
    "               test_trials, test_trial_ids, test_t_ids"
   ]
  },
  {
   "cell_type": "code",
   "execution_count": 7,
   "id": "2a170e94-7388-43ae-8367-f680c532cf02",
   "metadata": {},
   "outputs": [],
   "source": [
    "data_loader = DataLoader(data = np.concatenate(unsorted_trials)[:,[0,2,3,4]], \n",
    "                         y = wheel_velocity, \n",
    "                         stim_on_times = stim_on_times, \n",
    "                         np1_channel_map = np1_channel_map, \n",
    "                         n_t_bins=30)"
   ]
  },
  {
   "cell_type": "code",
   "execution_count": 8,
   "id": "7b5143bd-bd3d-4f59-b420-f83402c51a8e",
   "metadata": {},
   "outputs": [
    {
     "name": "stderr",
     "output_type": "stream",
     "text": [
      "<__array_function__ internals>:180: VisibleDeprecationWarning: Creating an ndarray from ragged nested sequences (which is a list-or-tuple of lists-or-tuples-or ndarrays with different lengths or shapes) is deprecated. If you meant to do this, you must specify 'dtype=object' when creating the ndarray.\n"
     ]
    }
   ],
   "source": [
    "train_trials, train_trial_ids, train_t_ids, _, _, _ = data_loader.split_train_test(split=.2)"
   ]
  },
  {
   "cell_type": "code",
   "execution_count": 9,
   "id": "c4ec1c25-bef0-47bc-ae56-0e9e8652d24f",
   "metadata": {},
   "outputs": [
    {
     "data": {
      "text/plain": [
       "(150144, 3)"
      ]
     },
     "execution_count": 9,
     "metadata": {},
     "output_type": "execute_result"
    }
   ],
   "source": [
    "train_trials.shape"
   ]
  },
  {
   "cell_type": "code",
   "execution_count": 10,
   "id": "7484aa0b-7a3d-482a-ae88-0ba05c2ca98e",
   "metadata": {},
   "outputs": [
    {
     "data": {
      "text/html": [
       "<style>#sk-container-id-1 {color: black;background-color: white;}#sk-container-id-1 pre{padding: 0;}#sk-container-id-1 div.sk-toggleable {background-color: white;}#sk-container-id-1 label.sk-toggleable__label {cursor: pointer;display: block;width: 100%;margin-bottom: 0;padding: 0.3em;box-sizing: border-box;text-align: center;}#sk-container-id-1 label.sk-toggleable__label-arrow:before {content: \"▸\";float: left;margin-right: 0.25em;color: #696969;}#sk-container-id-1 label.sk-toggleable__label-arrow:hover:before {color: black;}#sk-container-id-1 div.sk-estimator:hover label.sk-toggleable__label-arrow:before {color: black;}#sk-container-id-1 div.sk-toggleable__content {max-height: 0;max-width: 0;overflow: hidden;text-align: left;background-color: #f0f8ff;}#sk-container-id-1 div.sk-toggleable__content pre {margin: 0.2em;color: black;border-radius: 0.25em;background-color: #f0f8ff;}#sk-container-id-1 input.sk-toggleable__control:checked~div.sk-toggleable__content {max-height: 200px;max-width: 100%;overflow: auto;}#sk-container-id-1 input.sk-toggleable__control:checked~label.sk-toggleable__label-arrow:before {content: \"▾\";}#sk-container-id-1 div.sk-estimator input.sk-toggleable__control:checked~label.sk-toggleable__label {background-color: #d4ebff;}#sk-container-id-1 div.sk-label input.sk-toggleable__control:checked~label.sk-toggleable__label {background-color: #d4ebff;}#sk-container-id-1 input.sk-hidden--visually {border: 0;clip: rect(1px 1px 1px 1px);clip: rect(1px, 1px, 1px, 1px);height: 1px;margin: -1px;overflow: hidden;padding: 0;position: absolute;width: 1px;}#sk-container-id-1 div.sk-estimator {font-family: monospace;background-color: #f0f8ff;border: 1px dotted black;border-radius: 0.25em;box-sizing: border-box;margin-bottom: 0.5em;}#sk-container-id-1 div.sk-estimator:hover {background-color: #d4ebff;}#sk-container-id-1 div.sk-parallel-item::after {content: \"\";width: 100%;border-bottom: 1px solid gray;flex-grow: 1;}#sk-container-id-1 div.sk-label:hover label.sk-toggleable__label {background-color: #d4ebff;}#sk-container-id-1 div.sk-serial::before {content: \"\";position: absolute;border-left: 1px solid gray;box-sizing: border-box;top: 0;bottom: 0;left: 50%;z-index: 0;}#sk-container-id-1 div.sk-serial {display: flex;flex-direction: column;align-items: center;background-color: white;padding-right: 0.2em;padding-left: 0.2em;position: relative;}#sk-container-id-1 div.sk-item {position: relative;z-index: 1;}#sk-container-id-1 div.sk-parallel {display: flex;align-items: stretch;justify-content: center;background-color: white;position: relative;}#sk-container-id-1 div.sk-item::before, #sk-container-id-1 div.sk-parallel-item::before {content: \"\";position: absolute;border-left: 1px solid gray;box-sizing: border-box;top: 0;bottom: 0;left: 50%;z-index: -1;}#sk-container-id-1 div.sk-parallel-item {display: flex;flex-direction: column;z-index: 1;position: relative;background-color: white;}#sk-container-id-1 div.sk-parallel-item:first-child::after {align-self: flex-end;width: 50%;}#sk-container-id-1 div.sk-parallel-item:last-child::after {align-self: flex-start;width: 50%;}#sk-container-id-1 div.sk-parallel-item:only-child::after {width: 0;}#sk-container-id-1 div.sk-dashed-wrapped {border: 1px dashed gray;margin: 0 0.4em 0.5em 0.4em;box-sizing: border-box;padding-bottom: 0.4em;background-color: white;}#sk-container-id-1 div.sk-label label {font-family: monospace;font-weight: bold;display: inline-block;line-height: 1.2em;}#sk-container-id-1 div.sk-label-container {text-align: center;}#sk-container-id-1 div.sk-container {/* jupyter's `normalize.less` sets `[hidden] { display: none; }` but bootstrap.min.css set `[hidden] { display: none !important; }` so we also need the `!important` here to be able to override the default hidden behavior on the sphinx rendered scikit-learn.org. See: https://github.com/scikit-learn/scikit-learn/issues/21755 */display: inline-block !important;position: relative;}#sk-container-id-1 div.sk-text-repr-fallback {display: none;}</style><div id=\"sk-container-id-1\" class=\"sk-top-container\"><div class=\"sk-text-repr-fallback\"><pre>GaussianMixture(init_params=&#x27;k-means++&#x27;, n_components=10)</pre><b>In a Jupyter environment, please rerun this cell to show the HTML representation or trust the notebook. <br />On GitHub, the HTML representation is unable to render, please try loading this page with nbviewer.org.</b></div><div class=\"sk-container\" hidden><div class=\"sk-item\"><div class=\"sk-estimator sk-toggleable\"><input class=\"sk-toggleable__control sk-hidden--visually\" id=\"sk-estimator-id-1\" type=\"checkbox\" checked><label for=\"sk-estimator-id-1\" class=\"sk-toggleable__label sk-toggleable__label-arrow\">GaussianMixture</label><div class=\"sk-toggleable__content\"><pre>GaussianMixture(init_params=&#x27;k-means++&#x27;, n_components=10)</pre></div></div></div></div></div>"
      ],
      "text/plain": [
       "GaussianMixture(init_params='k-means++', n_components=10)"
      ]
     },
     "execution_count": 10,
     "metadata": {},
     "output_type": "execute_result"
    }
   ],
   "source": [
    "gmm = GaussianMixture(n_components=10, \n",
    "                      covariance_type='full', \n",
    "                      init_params='k-means++',\n",
    "                      verbose=0)\n",
    "gmm.fit(train_trials)"
   ]
  },
  {
   "cell_type": "code",
   "execution_count": 11,
   "id": "4ea3b25d-4b85-4a19-850c-e2f17ac7b76d",
   "metadata": {},
   "outputs": [],
   "source": [
    "s = torch.tensor(train_trials)\n",
    "y = torch.tensor(data_loader.y_train)\n",
    "ks = torch.tensor(train_trial_ids)\n",
    "ts = torch.tensor(train_t_ids)\n",
    "\n",
    "Nk = len(data_loader.train_ids)\n",
    "Nt = data_loader.n_t_bins\n",
    "Nc = gmm.means_.shape[0]\n",
    "Nd = gmm.means_.shape[1]"
   ]
  },
  {
   "cell_type": "markdown",
   "id": "1b54db6c-22c2-4ac2-914a-3080c28a3f91",
   "metadata": {},
   "source": [
    "#### CAVI-SGD"
   ]
  },
  {
   "cell_type": "code",
   "execution_count": 12,
   "id": "492ce76e-fa9c-468e-a939-4f42136ff111",
   "metadata": {},
   "outputs": [],
   "source": [
    "def safe_log(x, minval=1e-10):\n",
    "    return torch.log(x + minval)"
   ]
  },
  {
   "cell_type": "code",
   "execution_count": 13,
   "id": "4f1111f2-813f-490f-9320-11305244d579",
   "metadata": {},
   "outputs": [],
   "source": [
    "class CAVI(torch.nn.Module):\n",
    "\n",
    "    def __init__(self, Nk, Nt, Nc, Nd, init_means, init_covs, ks, ts):\n",
    "        super(CAVI, self).__init__()\n",
    "        self.Nk = Nk\n",
    "        self.Nt = Nt\n",
    "        self.Nc = Nc\n",
    "        self.Nd = Nd\n",
    "        self.ks = ks\n",
    "        self.ts = ts\n",
    "        \n",
    "        # initialize variables for variational distribution\n",
    "        self.means = torch.nn.Parameter(torch.tensor(init_means))\n",
    "        self.covs = torch.nn.Parameter(torch.tensor(init_covs))\n",
    "        self.bs = torch.nn.Parameter(torch.randn((Nc)))\n",
    "        self.betas = torch.nn.Parameter(torch.randn((Nc, Nt, Nt)))\n",
    "\n",
    "        \n",
    "    def forward(self, s, y):\n",
    "        \n",
    "        # compute log-lambdas\n",
    "        log_lambdas = torch.zeros((Nk, Nc, Nt))\n",
    "        for k in range(Nk):\n",
    "            for t in range(Nt):\n",
    "                log_lambdas[k,:,t] = self.bs + self.betas[:,t] @ y[k]\n",
    "        \n",
    "        # compute mixing proportions \n",
    "        log_pis = log_lambdas - torch.logsumexp(log_lambdas, 1)[:,None,:]\n",
    "        \n",
    "        # compute log-likelihood\n",
    "        ll = torch.zeros((s.shape[0], Nc))\n",
    "        for j in range(Nc):\n",
    "            ll[:,j] = D.multivariate_normal.MultivariateNormal(\n",
    "                            loc=self.means[j], \n",
    "                            covariance_matrix=self.covs[j]\n",
    "                        ).log_prob(s)\n",
    "        \n",
    "        # order of update is: E step -> compute ELBO -> M step\n",
    "        # E step\n",
    "        r = torch.zeros((s.shape[0], Nc))\n",
    "        for k in range(Nk):\n",
    "            for t in range(Nt):\n",
    "                k_t_idx = torch.logical_and(self.ks == k, self.ts == t)\n",
    "                r[k_t_idx] = torch.exp( ll[k_t_idx] + log_pis[k,:,t] )\n",
    "                r[k_t_idx] = r[k_t_idx] / r[k_t_idx].sum(1)[:,None]\n",
    "                    \n",
    "        # compute ELBO\n",
    "        elbo_1 = 0; elbo_2 = 0; elbo_3 = 0\n",
    "        for k in range(Nk):\n",
    "            for t in range(Nt):\n",
    "                k_t_idx = torch.logical_and(self.ks == k, self.ts == t)\n",
    "                elbo_1 += torch.sum( r[k_t_idx] * ll[k_t_idx] )\n",
    "                elbo_2 += torch.sum( r[k_t_idx] * log_pis[k,:,t] )\n",
    "                elbo_3 += torch.sum( r[k_t_idx] * safe_log(r[k_t_idx]) )\n",
    "                \n",
    "        # M step is done via back propagation\n",
    "                \n",
    "        return elbo_1 + elbo_2 + elbo_3"
   ]
  },
  {
   "cell_type": "code",
   "execution_count": 14,
   "id": "ff3b3c74-68d0-44f3-8a79-b019d37793bd",
   "metadata": {},
   "outputs": [],
   "source": [
    "cavi = CAVI(Nk, Nt, Nc, Nd, gmm.means_, gmm.covariances_, ks, ts)\n",
    "optim = torch.optim.Adam(cavi.parameters(), lr=.1)"
   ]
  },
  {
   "cell_type": "code",
   "execution_count": null,
   "id": "924b92bc-5dfa-4b9c-a2bf-c6d30a8a07f3",
   "metadata": {},
   "outputs": [
    {
     "name": "stdout",
     "output_type": "stream",
     "text": [
      "iter: 1 elbo: -3503461.48\n",
      "iter: 2 elbo: -3175502.59\n",
      "iter: 3 elbo: -3005186.22\n",
      "iter: 4 elbo: -2920583.18\n",
      "iter: 5 elbo: -2865639.75\n",
      "iter: 6 elbo: -2816240.22\n",
      "iter: 7 elbo: -2765046.30\n",
      "iter: 8 elbo: -2726764.77\n",
      "iter: 9 elbo: -2697121.01\n",
      "iter: 10 elbo: -2670893.89\n",
      "iter: 11 elbo: -2647141.45\n",
      "iter: 12 elbo: -2620838.63\n",
      "iter: 13 elbo: -2593202.28\n",
      "iter: 14 elbo: -2566672.24\n",
      "iter: 15 elbo: -2546637.26\n",
      "iter: 16 elbo: -2533978.86\n",
      "iter: 17 elbo: -2519359.83\n",
      "iter: 18 elbo: -2500516.91\n",
      "iter: 19 elbo: -2480792.92\n",
      "iter: 20 elbo: -2468783.77\n",
      "iter: 21 elbo: -2455662.21\n",
      "iter: 22 elbo: -2443041.31\n",
      "iter: 23 elbo: -2432088.10\n",
      "iter: 24 elbo: -2422765.14\n",
      "iter: 25 elbo: -2413159.67\n",
      "iter: 26 elbo: -2404954.29\n",
      "iter: 27 elbo: -2394792.46\n",
      "iter: 28 elbo: -2385775.15\n",
      "iter: 29 elbo: -2379010.67\n",
      "iter: 30 elbo: -2373060.29\n",
      "iter: 31 elbo: -2366904.89\n",
      "iter: 32 elbo: -2360648.79\n",
      "iter: 33 elbo: -2354973.60\n",
      "iter: 34 elbo: -2350649.95\n",
      "iter: 35 elbo: -2345732.77\n",
      "iter: 36 elbo: -2339942.71\n",
      "iter: 37 elbo: -2334536.50\n",
      "iter: 38 elbo: -2330718.38\n",
      "iter: 39 elbo: -2326612.97\n",
      "iter: 40 elbo: -2323063.11\n",
      "iter: 41 elbo: -2319713.10\n",
      "iter: 42 elbo: -2316216.49\n",
      "iter: 43 elbo: -2313917.53\n",
      "iter: 44 elbo: -2311085.77\n",
      "iter: 45 elbo: -2307724.64\n",
      "iter: 46 elbo: -2304968.35\n",
      "iter: 47 elbo: -2302405.27\n",
      "iter: 48 elbo: -2299907.09\n",
      "iter: 49 elbo: -2297878.71\n",
      "iter: 50 elbo: -2295963.97\n",
      "iter: 51 elbo: -2293868.60\n",
      "iter: 52 elbo: -2291805.53\n",
      "iter: 53 elbo: -2289851.29\n",
      "iter: 54 elbo: -2288062.47\n",
      "iter: 55 elbo: -2286456.90\n",
      "iter: 56 elbo: -2284793.76\n",
      "iter: 57 elbo: -2283092.52\n",
      "iter: 58 elbo: -2281450.63\n",
      "iter: 59 elbo: -2280072.61\n",
      "iter: 60 elbo: -2278692.07\n",
      "iter: 61 elbo: -2277424.18\n",
      "iter: 62 elbo: -2276247.74\n",
      "iter: 63 elbo: -2275152.20\n",
      "iter: 64 elbo: -2274024.94\n",
      "iter: 65 elbo: -2272965.56\n",
      "iter: 66 elbo: -2271946.97\n",
      "iter: 67 elbo: -2271058.84\n",
      "iter: 68 elbo: -2270209.61\n",
      "iter: 69 elbo: -2269384.74\n",
      "iter: 70 elbo: -2268557.36\n",
      "iter: 71 elbo: -2267811.27\n",
      "iter: 72 elbo: -2267083.65\n",
      "iter: 73 elbo: -2266389.83\n",
      "iter: 74 elbo: -2265741.04\n",
      "iter: 75 elbo: -2265127.62\n",
      "iter: 76 elbo: -2264556.08\n",
      "iter: 77 elbo: -2263994.59\n",
      "iter: 78 elbo: -2263483.11\n",
      "iter: 79 elbo: -2262947.91\n",
      "iter: 80 elbo: -2262429.18\n",
      "iter: 81 elbo: -2261935.13\n",
      "iter: 82 elbo: -2261448.79\n",
      "iter: 83 elbo: -2260974.64\n",
      "iter: 84 elbo: -2260512.31\n",
      "iter: 85 elbo: -2260077.90\n",
      "iter: 86 elbo: -2259665.44\n",
      "iter: 87 elbo: -2259253.47\n",
      "iter: 88 elbo: -2258860.71\n",
      "iter: 89 elbo: -2258477.00\n",
      "iter: 90 elbo: -2258103.81\n",
      "iter: 91 elbo: -2257743.62\n",
      "iter: 92 elbo: -2257390.54\n",
      "iter: 93 elbo: -2257053.91\n",
      "iter: 94 elbo: -2256732.53\n",
      "iter: 95 elbo: -2256431.73\n",
      "iter: 96 elbo: -2256151.48\n",
      "iter: 97 elbo: -2255881.08\n",
      "iter: 98 elbo: -2255624.38\n",
      "iter: 99 elbo: -2255377.04\n",
      "iter: 100 elbo: -2255137.23\n",
      "iter: 101 elbo: -2254900.92\n",
      "iter: 102 elbo: -2254669.99\n",
      "iter: 103 elbo: -2254449.60\n",
      "iter: 104 elbo: -2254238.82\n",
      "iter: 105 elbo: -2254033.91\n",
      "iter: 106 elbo: -2253838.34\n",
      "iter: 107 elbo: -2253648.99\n",
      "iter: 108 elbo: -2253464.62\n",
      "iter: 109 elbo: -2253285.30\n",
      "iter: 110 elbo: -2253109.95\n",
      "iter: 111 elbo: -2252940.23\n",
      "iter: 112 elbo: -2252774.93\n",
      "iter: 113 elbo: -2252614.13\n",
      "iter: 114 elbo: -2252456.71\n",
      "iter: 115 elbo: -2252305.69\n",
      "iter: 116 elbo: -2252162.45\n",
      "iter: 117 elbo: -2252024.82\n",
      "iter: 118 elbo: -2251902.45\n",
      "iter: 119 elbo: -2251770.95\n",
      "iter: 120 elbo: -2251648.40\n",
      "iter: 121 elbo: -2251486.56\n",
      "iter: 122 elbo: -2251348.14\n",
      "iter: 123 elbo: -2251236.62\n",
      "iter: 124 elbo: -2251125.91\n",
      "iter: 125 elbo: -2251007.48\n",
      "iter: 126 elbo: -2250873.27\n",
      "iter: 127 elbo: -2250759.93\n",
      "iter: 128 elbo: -2250662.12\n",
      "iter: 129 elbo: -2250548.88\n",
      "iter: 130 elbo: -2250432.36\n",
      "iter: 131 elbo: -2250325.57\n",
      "iter: 132 elbo: -2250230.22\n",
      "iter: 133 elbo: -2250133.59\n",
      "iter: 134 elbo: -2250026.90\n",
      "iter: 135 elbo: -2249927.81\n"
     ]
    }
   ],
   "source": [
    "%%time\n",
    "max_iter = 200\n",
    "elbos = []\n",
    "for i in range(max_iter):\n",
    "    elbo = cavi(s, y)\n",
    "    loss = - elbo \n",
    "    print(f'iter: {i+1} elbo: {elbo:.2f}')\n",
    "    elbos.append(elbo)\n",
    "    optim.zero_grad()\n",
    "    loss.backward()\n",
    "    optim.step()"
   ]
  },
  {
   "cell_type": "code",
   "execution_count": null,
   "id": "82095003-f54d-4b03-a4ee-15642116a132",
   "metadata": {},
   "outputs": [],
   "source": [
    "elbos = [elbo.detach().numpy() for elbo in elbos]"
   ]
  },
  {
   "cell_type": "code",
   "execution_count": null,
   "id": "3079c2c6-e52f-411c-90e7-d3aa801e1201",
   "metadata": {},
   "outputs": [],
   "source": [
    "plt.figure(figsize=(4,2))\n",
    "plt.plot(elbos)\n",
    "plt.xlabel(\"Iteration\")\n",
    "plt.ylabel(\"ELBO\");"
   ]
  },
  {
   "cell_type": "code",
   "execution_count": 18,
   "id": "8cb15cc9-efcb-45f8-a35e-e83f6eeca259",
   "metadata": {},
   "outputs": [],
   "source": [
    "log_lambdas = torch.zeros((Nk, Nc, Nt))\n",
    "for k in range(Nk):\n",
    "    for t in range(Nt):\n",
    "        log_lambdas[k,:,t] = cavi.bs + cavi.betas[:,t] @ y[k]\n",
    "\n",
    "log_pis = log_lambdas - torch.logsumexp(log_lambdas, 1)[:,None,:]"
   ]
  },
  {
   "cell_type": "code",
   "execution_count": null,
   "id": "3332c075-0d43-4e7e-b58e-550a25717447",
   "metadata": {},
   "outputs": [],
   "source": [
    "plt.figure(figsize=(4,3))\n",
    "plt.imshow(torch.exp(log_pis.mean(0)).detach().numpy(), \n",
    "           aspect='auto', cmap='cubehelix')\n",
    "plt.colorbar();"
   ]
  },
  {
   "cell_type": "code",
   "execution_count": null,
   "id": "9b889923-398e-4bcf-9ae7-5c68ac3fcc10",
   "metadata": {},
   "outputs": [],
   "source": [
    "gmm.means_"
   ]
  },
  {
   "cell_type": "code",
   "execution_count": null,
   "id": "4ccef1f4-77da-4d5b-9c55-484ea773e65c",
   "metadata": {},
   "outputs": [],
   "source": [
    "cavi.means"
   ]
  },
  {
   "cell_type": "markdown",
   "id": "eeac0909-1811-46a8-b271-57c2cb42893b",
   "metadata": {},
   "source": [
    "#### encoding MoG"
   ]
  },
  {
   "cell_type": "code",
   "execution_count": 32,
   "id": "2fc1aefc-02e6-45c6-800b-66842b145b0c",
   "metadata": {},
   "outputs": [],
   "source": [
    "enc_pis = torch.exp(log_pis.mean(0)).detach().numpy()\n",
    "enc_means = cavi.means.detach().numpy()\n",
    "enc_covs = cavi.covs.detach().numpy()"
   ]
  },
  {
   "cell_type": "code",
   "execution_count": 88,
   "id": "2179523d-fd2f-4fc4-8b3d-7e3115a80030",
   "metadata": {},
   "outputs": [],
   "source": [
    "train = np.arange(data_loader.n_trials)[:int(.8*data_loader.n_trials)]\n",
    "test = np.arange(data_loader.n_trials)[int(.8*data_loader.n_trials):]\n",
    "\n",
    "all_data = []\n",
    "for k in range(data_loader.n_trials):\n",
    "    mask = np.logical_and(\n",
    "        data_loader.data[:,0] >= data_loader.stim_on_times[k]-0.5,\n",
    "        data_loader.data[:,0] <= data_loader.stim_on_times[k]+1\n",
    "        )\n",
    "    trial = data_loader.data[mask]\n",
    "    trial[:,0] = trial[:,0] - trial[:,0].min()\n",
    "    t_bins = np.digitize(trial[:,0], data_loader.t_binning, right=False)-1\n",
    "    t_bins_lst = []\n",
    "    for t in range(data_loader.n_t_bins):\n",
    "        t_bin = trial[t_bins == t, 1:]\n",
    "        t_bins_lst.append(t_bin)\n",
    "    all_data.append(t_bins_lst)"
   ]
  },
  {
   "cell_type": "code",
   "execution_count": 115,
   "id": "986f6b4c-e290-4e12-bf72-cba3447e0a53",
   "metadata": {},
   "outputs": [],
   "source": [
    "enc_all = np.zeros((data_loader.n_trials, Nc, Nt))\n",
    "\n",
    "for k in range(enc_all.shape[0]):\n",
    "    for t in range(Nt):\n",
    "        enc_gmm =  GaussianMixture(n_components=Nc, covariance_type='full')\n",
    "        enc_gmm.precisions_cholesky_ = np.linalg.cholesky(np.linalg.inv(enc_covs))\n",
    "        enc_gmm.weights_ = enc_pis[:,t]\n",
    "        enc_gmm.means_ = enc_means\n",
    "        enc_gmm.covariances_ = enc_covs\n",
    "        enc_all[k,:,t] = enc_gmm.predict_proba(all_data[k][t]).sum(0)"
   ]
  },
  {
   "cell_type": "code",
   "execution_count": 117,
   "id": "1d831e40-3c4e-4979-8d50-23f8369026c0",
   "metadata": {},
   "outputs": [
    {
     "data": {
      "image/png": "[encoded data removed]",
      "text/plain": [
       "<Figure size 400x300 with 2 Axes>"
      ]
     },
     "metadata": {},
     "output_type": "display_data"
    }
   ],
   "source": [
    "plt.figure(figsize=(4,3))\n",
    "plt.imshow(enc_all.mean(0), \n",
    "           aspect='auto', cmap='cubehelix')\n",
    "plt.colorbar();"
   ]
  },
  {
   "cell_type": "code",
   "execution_count": 118,
   "id": "c0804db9-353c-4ed7-90ff-46de20968f88",
   "metadata": {},
   "outputs": [],
   "source": [
    "windowed_enc_all, half_window_size, n_windows = decoder.sliding_window(\n",
    "    enc_all, \n",
    "    data_loader.n_trials,\n",
    "    window_size = 7\n",
    ")\n",
    "windowed_y = data_loader.y[:,half_window_size:n_windows].reshape(-1,1)"
   ]
  },
  {
   "cell_type": "code",
   "execution_count": 119,
   "id": "09992619-8523-4790-84c9-630197970298",
   "metadata": {},
   "outputs": [],
   "source": [
    "x_by_trial = windowed_enc_all.reshape((data_loader.n_trials, -1))\n",
    "y_by_trial = windowed_y.reshape((data_loader.n_trials, -1))\n",
    "x_train, x_test = x_by_trial[train], x_by_trial[test]\n",
    "y_train, y_test = y_by_trial[train], y_by_trial[test]\n",
    "\n",
    "x_train = x_train.reshape((-1, windowed_enc_all.shape[1]))\n",
    "x_test = x_test.reshape((-1, windowed_enc_all.shape[1]))\n",
    "y_train = y_train.flatten()\n",
    "y_test = y_test.flatten()"
   ]
  },
  {
   "cell_type": "code",
   "execution_count": 120,
   "id": "29e78690-3034-4202-aa85-07823ed08e4b",
   "metadata": {},
   "outputs": [],
   "source": [
    "ridge = Ridge(alpha=2000)\n",
    "ridge.fit(x_train, y_train)\n",
    "y_pred = ridge.predict(x_test)"
   ]
  },
  {
   "cell_type": "code",
   "execution_count": 121,
   "id": "a7c1fc1d-c476-4666-9719-040731a29bff",
   "metadata": {},
   "outputs": [
    {
     "data": {
      "text/plain": [
       "0.08875757686759089"
      ]
     },
     "execution_count": 121,
     "metadata": {},
     "output_type": "execute_result"
    }
   ],
   "source": [
    "r2_score(y_test, y_pred)"
   ]
  },
  {
   "cell_type": "code",
   "execution_count": 122,
   "id": "95a65abf-54cb-4523-8bc4-b166837c56b0",
   "metadata": {},
   "outputs": [
    {
     "data": {
      "image/png": "[encoded data removed]",
      "text/plain": [
       "<Figure size 1200x200 with 1 Axes>"
      ]
     },
     "metadata": {},
     "output_type": "display_data"
    }
   ],
   "source": [
    "plt.figure(figsize=(12, 2))\n",
    "plt.plot(y_test[:200], c='gray', linestyle='dashed', label='observed');\n",
    "plt.plot(y_pred[:200], c='blue', alpha=.6, label='predicted');\n",
    "# plt.legend();"
   ]
  },
  {
   "cell_type": "markdown",
   "id": "5c711b76-0f3d-4d9f-98e7-e2cf190c7af6",
   "metadata": {},
   "source": [
    "#### MoG only"
   ]
  },
  {
   "cell_type": "code",
   "execution_count": null,
   "id": "0bebb806-d8ca-4b1c-b6ef-42cee971ca16",
   "metadata": {},
   "outputs": [],
   "source": [
    "all_trials = np.concatenate(np.concatenate(data_loader.trials))\n",
    "spike_times = data_loader.data[:,0]\n",
    "\n",
    "spike_labels = []\n",
    "spike_probs = []\n",
    "spike_labels.extend(gmm.predict(all_trials))\n",
    "spike_probs.extend(gmm.predict_proba(all_trials))\n",
    "spike_labels = np.array(spike_labels)\n",
    "spike_probs = np.array(spike_probs)"
   ]
  },
  {
   "cell_type": "code",
   "execution_count": null,
   "id": "635d19c3-c7f5-4aca-aacc-a1e04625ec16",
   "metadata": {},
   "outputs": [],
   "source": [
    "enc_gmm = preprocess.compute_neural_activity(\n",
    "    (spike_times, spike_labels, spike_probs),\n",
    "    data_loader.stim_on_times,\n",
    "    'clusterless', \n",
    "    n_time_bins=data_loader.n_t_bins\n",
    ")\n",
    "print(enc_gmm.shape)"
   ]
  },
  {
   "cell_type": "code",
   "execution_count": null,
   "id": "411d31a0-b89e-453a-9941-85f78aebb79c",
   "metadata": {},
   "outputs": [],
   "source": [
    "windowed_enc_gmm, half_window_size, n_windows = decoder.sliding_window(\n",
    "    enc_gmm, \n",
    "    data_loader.n_trials,\n",
    "    window_size = 7\n",
    ")\n",
    "windowed_y = data_loader.y[:,half_window_size:n_windows].reshape(-1,1)"
   ]
  },
  {
   "cell_type": "code",
   "execution_count": null,
   "id": "77acf4af-a9ab-4841-8072-2c582b97b42c",
   "metadata": {},
   "outputs": [],
   "source": [
    "x_by_trial = windowed_enc_gmm.reshape((data_loader.n_trials, -1))\n",
    "y_by_trial = windowed_y.reshape((data_loader.n_trials, -1))\n",
    "x_train, x_test = x_by_trial[train], x_by_trial[test]\n",
    "y_train, y_test = y_by_trial[train], y_by_trial[test]\n",
    "\n",
    "x_train = x_train.reshape((-1, windowed_enc_gmm.shape[1]))\n",
    "x_test = x_test.reshape((-1, windowed_enc_gmm.shape[1]))\n",
    "y_train = y_train.flatten()\n",
    "y_test = y_test.flatten()\n",
    "\n",
    "ridge = Ridge(alpha=2000)\n",
    "ridge.fit(x_train, y_train)\n",
    "y_pred = ridge.predict(x_test)"
   ]
  },
  {
   "cell_type": "code",
   "execution_count": null,
   "id": "d19d9fa2-aa45-48a5-a3df-db5eec56eb05",
   "metadata": {},
   "outputs": [],
   "source": [
    "r2_score(y_test, y_pred)"
   ]
  },
  {
   "cell_type": "code",
   "execution_count": null,
   "id": "61a60620-f52e-4c0c-91dd-2e7f369a08ad",
   "metadata": {},
   "outputs": [],
   "source": [
    "plt.figure(figsize=(12, 2))\n",
    "plt.plot(y_test[:200], c='gray', linestyle='dashed', label='observed');\n",
    "plt.plot(y_pred[:200], c='blue', alpha=.6, label='predicted');\n",
    "# plt.legend();"
   ]
  },
  {
   "cell_type": "markdown",
   "id": "8afb67bf-39ec-4ef3-beff-f1e974be6f1c",
   "metadata": {},
   "source": [
    "#### KS & good IBL units"
   ]
  },
  {
   "cell_type": "code",
   "execution_count": null,
   "id": "1c2e6724-31c2-417a-902a-de4d37599768",
   "metadata": {},
   "outputs": [],
   "source": [
    "sorted_trials, good_sorted_trials, unsorted_trials, stim_on_times, np1_channel_map= preprocess.load_neural_data(\n",
    "    pid=pid, \n",
    "    trial_data_path=trial_data_path,\n",
    "    neural_data_path=neural_data_path,\n",
    "    behavior_data_path=behavior_data_path,\n",
    "    keep_active_trials=True, \n",
    "    roi='all',\n",
    "    kilosort=True,\n",
    "    triage=False,\n",
    "    good_units=True,\n",
    "    thresholding=True\n",
    ")\n",
    "\n",
    "n_trials = stim_on_times.shape[0]\n",
    "sorted = np.vstack([sorted_trials[i] for i in np.arange(n_trials)]) \n",
    "spike_times = sorted[:,0]\n",
    "spike_clusters = sorted[:,1]\n",
    "\n",
    "sorted_neural_data = preprocess.compute_neural_activity(\n",
    "    (spike_times, spike_clusters),\n",
    "    stim_on_times,\n",
    "    'sorted', \n",
    "    n_time_bins=30,\n",
    "    regional=False\n",
    ")\n",
    "print(f'sorted neural data shape: {sorted_neural_data.shape}')\n",
    "\n",
    "good_sorted = np.vstack([good_sorted_trials[i] for i in np.arange(n_trials)]) \n",
    "spike_times = good_sorted[:,0]\n",
    "spike_clusters = good_sorted[:,1]\n",
    "\n",
    "good_sorted_neural_data = preprocess.compute_neural_activity(\n",
    "    (spike_times, spike_clusters),\n",
    "    stim_on_times,\n",
    "    'sorted', \n",
    "    n_time_bins=30,\n",
    "    regional=False\n",
    ")\n",
    "print(f'good sorted neural data shape: {good_sorted_neural_data.shape}')"
   ]
  },
  {
   "cell_type": "code",
   "execution_count": null,
   "id": "e46b0947-c19c-43b2-a2ac-b8ee2d6a449d",
   "metadata": {},
   "outputs": [],
   "source": [
    "windowed_sorted, half_window_size, n_windows = decoder.sliding_window(\n",
    "    sorted_neural_data, \n",
    "    data_loader.n_trials,\n",
    "    window_size = 7\n",
    ")\n",
    "\n",
    "windowed_good_units, half_window_size, n_windows = decoder.sliding_window(\n",
    "    good_sorted_neural_data, \n",
    "    data_loader.n_trials,\n",
    "    window_size = 7\n",
    ")\n",
    "windowed_y = data_loader.y[:,half_window_size:n_windows].reshape(-1,1)"
   ]
  },
  {
   "cell_type": "code",
   "execution_count": null,
   "id": "ecb0480c-1c73-41ae-bbb5-b36f615fbab2",
   "metadata": {},
   "outputs": [],
   "source": [
    "x_by_trial = windowed_sorted.reshape((data_loader.n_trials, -1))\n",
    "y_by_trial = windowed_y.reshape((data_loader.n_trials, -1))\n",
    "x_train, x_test = x_by_trial[train], x_by_trial[test]\n",
    "y_train, y_test = y_by_trial[train], y_by_trial[test]\n",
    "\n",
    "x_train = x_train.reshape((-1, windowed_sorted.shape[1]))\n",
    "x_test = x_test.reshape((-1, windowed_sorted.shape[1]))\n",
    "y_train = y_train.flatten()\n",
    "y_test = y_test.flatten()\n",
    "\n",
    "ridge = Ridge(alpha=2000)\n",
    "ridge.fit(x_train, y_train)\n",
    "y_pred = ridge.predict(x_test)"
   ]
  },
  {
   "cell_type": "code",
   "execution_count": null,
   "id": "2b817a95-86fb-41be-b68f-0a22434c6f77",
   "metadata": {},
   "outputs": [],
   "source": [
    "r2_score(y_test, y_pred)"
   ]
  },
  {
   "cell_type": "code",
   "execution_count": null,
   "id": "1bed9dcd-4369-4deb-ab65-51fd444dfafa",
   "metadata": {},
   "outputs": [],
   "source": [
    "plt.figure(figsize=(12, 2))\n",
    "plt.plot(y_test[:200], c='gray', linestyle='dashed', label='observed');\n",
    "plt.plot(y_pred[:200], c='blue', alpha=.6, label='predicted');\n",
    "# plt.legend();"
   ]
  },
  {
   "cell_type": "code",
   "execution_count": null,
   "id": "ed60d8a2-76e4-41d4-8d29-f29f9880ce17",
   "metadata": {},
   "outputs": [],
   "source": [
    "x_by_trial = windowed_good_units.reshape((data_loader.n_trials, -1))\n",
    "y_by_trial = windowed_y.reshape((data_loader.n_trials, -1))\n",
    "x_train, x_test = x_by_trial[train], x_by_trial[test]\n",
    "y_train, y_test = y_by_trial[train], y_by_trial[test]\n",
    "\n",
    "x_train = x_train.reshape((-1, windowed_good_units.shape[1]))\n",
    "x_test = x_test.reshape((-1, windowed_good_units.shape[1]))\n",
    "y_train = y_train.flatten()\n",
    "y_test = y_test.flatten()\n",
    "\n",
    "ridge = Ridge(alpha=2000)\n",
    "ridge.fit(x_train, y_train)\n",
    "y_pred = ridge.predict(x_test)"
   ]
  },
  {
   "cell_type": "code",
   "execution_count": null,
   "id": "318b1872-6777-4625-b313-d8f9de7720f1",
   "metadata": {},
   "outputs": [],
   "source": [
    "r2_score(y_test, y_pred)"
   ]
  },
  {
   "cell_type": "code",
   "execution_count": null,
   "id": "bc906792-4516-46a7-9e42-1f124ee132e7",
   "metadata": {},
   "outputs": [],
   "source": [
    "plt.figure(figsize=(12, 2))\n",
    "plt.plot(y_test[:200], c='gray', linestyle='dashed', label='observed');\n",
    "plt.plot(y_pred[:200], c='blue', alpha=.6, label='predicted');\n",
    "# plt.legend();"
   ]
  },
  {
   "cell_type": "code",
   "execution_count": null,
   "id": "fb0755bc-1b08-4724-927a-6c69232c34fb",
   "metadata": {},
   "outputs": [],
   "source": []
  }
 ],
 "metadata": {
  "kernelspec": {
   "display_name": "Python 3 (ipykernel)",
   "language": "python",
   "name": "python3"
  },
  "language_info": {
   "codemirror_mode": {
    "name": "ipython",
    "version": 3
   },
   "file_extension": ".py",
   "mimetype": "text/x-python",
   "name": "python",
   "nbconvert_exporter": "python",
   "pygments_lexer": "ipython3",
   "version": "3.8.13"
  }
 },
 "nbformat": 4,
 "nbformat_minor": 5
}
