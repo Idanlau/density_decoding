{
 "cells": [
  {
   "cell_type": "code",
   "execution_count": 1,
   "id": "f7a3a3c6-c029-486d-9a9b-d3bc1cf7c423",
   "metadata": {},
   "outputs": [],
   "source": [
    "import numpy as np\n",
    "import random\n",
    "import matplotlib.pyplot as plt\n",
    "\n",
    "from sklearn.mixture import GaussianMixture\n",
    "from scipy.stats import multivariate_normal\n",
    "from sklearn.model_selection import KFold\n",
    "from sklearn.metrics import accuracy_score, roc_auc_score\n",
    "\n",
    "import torch\n",
    "\n",
    "from clusterless.utils import NP1DataLoader, ADVIDataLoader, fit_initial_gmm\n",
    "# from clusterless.encoder import CAVI"
   ]
  },
  {
   "cell_type": "code",
   "execution_count": 2,
   "id": "4c83eddd-64ec-44da-91f6-be3c8880cdac",
   "metadata": {},
   "outputs": [],
   "source": [
    "seed = 666\n",
    "random.seed(seed)\n",
    "np.random.seed(seed)\n",
    "torch.manual_seed(seed)\n",
    "torch.set_default_dtype(torch.double)"
   ]
  },
  {
   "cell_type": "code",
   "execution_count": 3,
   "id": "804affc9-ffa2-4b40-98c1-e33a5fc928db",
   "metadata": {},
   "outputs": [],
   "source": [
    "SMALL_SIZE = 15\n",
    "MEDIUM_SIZE = 20\n",
    "BIGGER_SIZE = 25\n",
    "\n",
    "plt.rc('font', size=MEDIUM_SIZE)         \n",
    "plt.rc('axes', titlesize=MEDIUM_SIZE)     \n",
    "plt.rc('axes', labelsize=MEDIUM_SIZE) \n",
    "plt.rc('axes', linewidth = 1.5)\n",
    "plt.rc('xtick', labelsize=MEDIUM_SIZE)   \n",
    "plt.rc('ytick', labelsize=MEDIUM_SIZE)   \n",
    "plt.rc('legend', fontsize=MEDIUM_SIZE)   \n",
    "plt.rc('figure', titlesize=MEDIUM_SIZE)"
   ]
  },
  {
   "cell_type": "markdown",
   "id": "779810ad-6236-439a-9c42-920935cc363c",
   "metadata": {
    "tags": []
   },
   "source": [
    "#### load data"
   ]
  },
  {
   "cell_type": "code",
   "execution_count": 4,
   "id": "4bb4cced-b5ae-4400-9665-e0b4a96c4aed",
   "metadata": {},
   "outputs": [],
   "source": [
    "# np1_data_loader = NP1DataLoader(\n",
    "#     probe_id = 'dab512bd-a02d-4c1f-8dbc-9155a163efc0', \n",
    "#     geom_path = '/mnt/3TB/yizi/danlab/Subjects/DY_016/np1_channel_map.npy', \n",
    "#     ephys_path = '/mnt/3TB/yizi/danlab/Subjects/DY_016/subtraction_results_threshold_5', \n",
    "#     behavior_path = '/mnt/3TB/yizi/Downloads/ONE/openalyx.internationalbrainlab.org/paper_repro_ephys_data/figure9_10/original_data'\n",
    "# )"
   ]
  },
  {
   "cell_type": "code",
   "execution_count": 5,
   "id": "342c1a38-c4be-4e72-819d-eca38a9b3d8f",
   "metadata": {},
   "outputs": [
    {
     "name": "stdout",
     "output_type": "stream",
     "text": [
      "Session ID: db4df448-e449-4a6f-a0e7-288711e7a75a\n",
      "Probe ID: febb430e-2d50-4f83-87a0-b5ffbb9a4943 (probe00)\n",
      "First trial stimulus onset time: 40.81 sec\n",
      "Last trial stimulus onset time: 2252.10 sec\n"
     ]
    }
   ],
   "source": [
    "np1_data_loader = NP1DataLoader(\n",
    "    probe_id = 'febb430e-2d50-4f83-87a0-b5ffbb9a4943', \n",
    "    geom_path = '/mnt/3TB/yizi/danlab/Subjects/DY_009/np1_channel_map.npy', \n",
    "    ephys_path = '/mnt/3TB/yizi/danlab/Subjects/DY_009/subtraction_results_threshold_5', \n",
    "    # ephys_path = '/mnt/3TB/yizi/danlab/Subjects/DY_009/subtract_res_wf_pcs', \n",
    "    behavior_path = '/mnt/3TB/yizi/Downloads/ONE/openalyx.internationalbrainlab.org/paper_repro_ephys_data/figure9_10/original_data'\n",
    ")"
   ]
  },
  {
   "cell_type": "code",
   "execution_count": 6,
   "id": "855deebc-51ce-4c98-9bed-3cca5c0abce8",
   "metadata": {},
   "outputs": [],
   "source": [
    "region = 'po'"
   ]
  },
  {
   "cell_type": "code",
   "execution_count": 7,
   "id": "ddc2f33c-5da7-4daa-9ec3-ecc67cc601e4",
   "metadata": {},
   "outputs": [],
   "source": [
    "# trials = np1_data_loader.load_spike_features(region = 'vis')"
   ]
  },
  {
   "cell_type": "code",
   "execution_count": 12,
   "id": "b6b049ee-4866-4ad2-b2a4-944f7841879b",
   "metadata": {},
   "outputs": [
    {
     "name": "stdout",
     "output_type": "stream",
     "text": [
      "Found 64 channels in region po\n"
     ]
    }
   ],
   "source": [
    "trials = np1_data_loader.relocalize_kilosort(\n",
    "    data_path = '/mnt/3TB/yizi/danlab/Subjects/DY_009/kilosort_localizations',\n",
    "    region = region)"
   ]
  },
  {
   "cell_type": "code",
   "execution_count": 13,
   "id": "604d7793-de36-4558-a1b2-658d66793075",
   "metadata": {},
   "outputs": [
    {
     "data": {
      "text/plain": [
       "array([2253.09932098,  253.        ,  102.8763763 , 2580.34814039,\n",
       "         34.50404739])"
      ]
     },
     "execution_count": 13,
     "metadata": {},
     "output_type": "execute_result"
    }
   ],
   "source": [
    "trials[-1].max(0)"
   ]
  },
  {
   "cell_type": "code",
   "execution_count": 14,
   "id": "7d4f5ea8-e872-4dfc-99a6-07d89554439b",
   "metadata": {},
   "outputs": [
    {
     "name": "stdout",
     "output_type": "stream",
     "text": [
      "Choices left: 0.361, right: 0.639\n",
      "Stimuli left: 0.430, right: 0.570\n",
      "Reward wrong: 0.087, correct: 0.913\n"
     ]
    }
   ],
   "source": [
    "choices, stimuli, transformed_stimuli, one_hot_stimuli, enc_categories_, rewards, priors = \\\n",
    "    np1_data_loader.load_behaviors('static')"
   ]
  },
  {
   "cell_type": "code",
   "execution_count": 15,
   "id": "2a170e94-7388-43ae-8367-f680c532cf02",
   "metadata": {},
   "outputs": [],
   "source": [
    "advi_data_loader = ADVIDataLoader(\n",
    "                         data = trials, \n",
    "                         behavior = choices.argmax(1), \n",
    "                         n_t_bins = 30)"
   ]
  },
  {
   "cell_type": "code",
   "execution_count": 16,
   "id": "565f700d-5340-4d47-98b8-707e86128b81",
   "metadata": {},
   "outputs": [],
   "source": [
    "kf = KFold(n_splits=5, shuffle=True, random_state=seed)\n",
    "kf_train_ids = []\n",
    "kf_test_ids = []\n",
    "for i, (train_ids, test_ids) in enumerate(kf.split(advi_data_loader.behavior)):\n",
    "    kf_train_ids.append(train_ids)\n",
    "    kf_test_ids.append(test_ids)"
   ]
  },
  {
   "cell_type": "code",
   "execution_count": 17,
   "id": "7b5143bd-bd3d-4f59-b420-f83402c51a8e",
   "metadata": {},
   "outputs": [
    {
     "name": "stderr",
     "output_type": "stream",
     "text": [
      "<__array_function__ internals>:180: VisibleDeprecationWarning: Creating an ndarray from ragged nested sequences (which is a list-or-tuple of lists-or-tuples-or ndarrays with different lengths or shapes) is deprecated. If you meant to do this, you must specify 'dtype=object' when creating the ndarray.\n"
     ]
    }
   ],
   "source": [
    "i = 0\n",
    "train_trials, train_trial_ids, train_time_ids, test_trials, test_trial_ids, test_time_ids = \\\n",
    "    advi_data_loader.split_train_test(kf_train_ids[i], kf_test_ids[i])"
   ]
  },
  {
   "cell_type": "code",
   "execution_count": 18,
   "id": "c4ec1c25-bef0-47bc-ae56-0e9e8652d24f",
   "metadata": {},
   "outputs": [
    {
     "data": {
      "text/plain": [
       "array([ 253.        ,  159.        , 2640.        ,   52.97673035])"
      ]
     },
     "execution_count": 18,
     "metadata": {},
     "output_type": "execute_result"
    }
   ],
   "source": [
    "train_trials.max(0)"
   ]
  },
  {
   "cell_type": "code",
   "execution_count": 27,
   "id": "a9c99f75-46ca-4638-9b8e-91e2510f1ca3",
   "metadata": {},
   "outputs": [
    {
     "data": {
      "text/html": [
       "<style>#sk-container-id-2 {color: black;background-color: white;}#sk-container-id-2 pre{padding: 0;}#sk-container-id-2 div.sk-toggleable {background-color: white;}#sk-container-id-2 label.sk-toggleable__label {cursor: pointer;display: block;width: 100%;margin-bottom: 0;padding: 0.3em;box-sizing: border-box;text-align: center;}#sk-container-id-2 label.sk-toggleable__label-arrow:before {content: \"▸\";float: left;margin-right: 0.25em;color: #696969;}#sk-container-id-2 label.sk-toggleable__label-arrow:hover:before {color: black;}#sk-container-id-2 div.sk-estimator:hover label.sk-toggleable__label-arrow:before {color: black;}#sk-container-id-2 div.sk-toggleable__content {max-height: 0;max-width: 0;overflow: hidden;text-align: left;background-color: #f0f8ff;}#sk-container-id-2 div.sk-toggleable__content pre {margin: 0.2em;color: black;border-radius: 0.25em;background-color: #f0f8ff;}#sk-container-id-2 input.sk-toggleable__control:checked~div.sk-toggleable__content {max-height: 200px;max-width: 100%;overflow: auto;}#sk-container-id-2 input.sk-toggleable__control:checked~label.sk-toggleable__label-arrow:before {content: \"▾\";}#sk-container-id-2 div.sk-estimator input.sk-toggleable__control:checked~label.sk-toggleable__label {background-color: #d4ebff;}#sk-container-id-2 div.sk-label input.sk-toggleable__control:checked~label.sk-toggleable__label {background-color: #d4ebff;}#sk-container-id-2 input.sk-hidden--visually {border: 0;clip: rect(1px 1px 1px 1px);clip: rect(1px, 1px, 1px, 1px);height: 1px;margin: -1px;overflow: hidden;padding: 0;position: absolute;width: 1px;}#sk-container-id-2 div.sk-estimator {font-family: monospace;background-color: #f0f8ff;border: 1px dotted black;border-radius: 0.25em;box-sizing: border-box;margin-bottom: 0.5em;}#sk-container-id-2 div.sk-estimator:hover {background-color: #d4ebff;}#sk-container-id-2 div.sk-parallel-item::after {content: \"\";width: 100%;border-bottom: 1px solid gray;flex-grow: 1;}#sk-container-id-2 div.sk-label:hover label.sk-toggleable__label {background-color: #d4ebff;}#sk-container-id-2 div.sk-serial::before {content: \"\";position: absolute;border-left: 1px solid gray;box-sizing: border-box;top: 0;bottom: 0;left: 50%;z-index: 0;}#sk-container-id-2 div.sk-serial {display: flex;flex-direction: column;align-items: center;background-color: white;padding-right: 0.2em;padding-left: 0.2em;position: relative;}#sk-container-id-2 div.sk-item {position: relative;z-index: 1;}#sk-container-id-2 div.sk-parallel {display: flex;align-items: stretch;justify-content: center;background-color: white;position: relative;}#sk-container-id-2 div.sk-item::before, #sk-container-id-2 div.sk-parallel-item::before {content: \"\";position: absolute;border-left: 1px solid gray;box-sizing: border-box;top: 0;bottom: 0;left: 50%;z-index: -1;}#sk-container-id-2 div.sk-parallel-item {display: flex;flex-direction: column;z-index: 1;position: relative;background-color: white;}#sk-container-id-2 div.sk-parallel-item:first-child::after {align-self: flex-end;width: 50%;}#sk-container-id-2 div.sk-parallel-item:last-child::after {align-self: flex-start;width: 50%;}#sk-container-id-2 div.sk-parallel-item:only-child::after {width: 0;}#sk-container-id-2 div.sk-dashed-wrapped {border: 1px dashed gray;margin: 0 0.4em 0.5em 0.4em;box-sizing: border-box;padding-bottom: 0.4em;background-color: white;}#sk-container-id-2 div.sk-label label {font-family: monospace;font-weight: bold;display: inline-block;line-height: 1.2em;}#sk-container-id-2 div.sk-label-container {text-align: center;}#sk-container-id-2 div.sk-container {/* jupyter's `normalize.less` sets `[hidden] { display: none; }` but bootstrap.min.css set `[hidden] { display: none !important; }` so we also need the `!important` here to be able to override the default hidden behavior on the sphinx rendered scikit-learn.org. See: https://github.com/scikit-learn/scikit-learn/issues/21755 */display: inline-block !important;position: relative;}#sk-container-id-2 div.sk-text-repr-fallback {display: none;}</style><div id=\"sk-container-id-2\" class=\"sk-top-container\"><div class=\"sk-text-repr-fallback\"><pre>GaussianMixture(init_params=&#x27;k-means++&#x27;, n_components=50)</pre><b>In a Jupyter environment, please rerun this cell to show the HTML representation or trust the notebook. <br />On GitHub, the HTML representation is unable to render, please try loading this page with nbviewer.org.</b></div><div class=\"sk-container\" hidden><div class=\"sk-item\"><div class=\"sk-estimator sk-toggleable\"><input class=\"sk-toggleable__control sk-hidden--visually\" id=\"sk-estimator-id-2\" type=\"checkbox\" checked><label for=\"sk-estimator-id-2\" class=\"sk-toggleable__label sk-toggleable__label-arrow\">GaussianMixture</label><div class=\"sk-toggleable__content\"><pre>GaussianMixture(init_params=&#x27;k-means++&#x27;, n_components=50)</pre></div></div></div></div></div>"
      ],
      "text/plain": [
       "GaussianMixture(init_params='k-means++', n_components=50)"
      ]
     },
     "execution_count": 27,
     "metadata": {},
     "output_type": "execute_result"
    }
   ],
   "source": [
    "# gmm = fit_initial_gmm(np.concatenate(trials)[:,1:])\n",
    "C = 50\n",
    "gmm = GaussianMixture(n_components = C, \n",
    "                      covariance_type = 'full', \n",
    "                      init_params = 'k-means++')\n",
    "gmm.fit(train_trials[:,1:])"
   ]
  },
  {
   "cell_type": "code",
   "execution_count": 28,
   "id": "23124592-f67f-47a4-b95b-fc9204b3dc58",
   "metadata": {},
   "outputs": [
    {
     "data": {
      "image/png": "[encoded data removed]",
      "text/plain": [
       "<Figure size 1500x500 with 6 Axes>"
      ]
     },
     "metadata": {},
     "output_type": "display_data"
    }
   ],
   "source": [
    "lambdas, p = advi_data_loader.compute_lambda(gmm)\n",
    "\n",
    "fig, (ax1, ax2, ax3) = plt.subplots(1,3, figsize=(15,5))\n",
    "\n",
    "f1 = ax1.imshow(lambdas[:,:,0], aspect='auto', cmap='cubehelix')\n",
    "ax1.set_title(f'left ({p:.2f})')\n",
    "ax1.set_xlabel('time')\n",
    "ax1.set_ylabel('component')\n",
    "fig.colorbar(f1, ax = ax1)\n",
    "\n",
    "f2 = ax2.imshow(lambdas[:,:,1], aspect='auto', cmap='cubehelix')\n",
    "ax2.set_title(f'right ({1-p:.2f})')\n",
    "ax2.set_xlabel('time')\n",
    "fig.colorbar(f2, ax = ax2)\n",
    "\n",
    "f3 = ax3.imshow(lambdas[:,:,0] - lambdas[:,:,1], aspect='auto', cmap='cubehelix')\n",
    "ax3.set_title('left - right')\n",
    "ax3.set_xlabel('time')\n",
    "fig.colorbar(f3, ax = ax3)\n",
    "\n",
    "plt.tight_layout()"
   ]
  },
  {
   "cell_type": "markdown",
   "id": "1b54db6c-22c2-4ac2-914a-3080c28a3f91",
   "metadata": {},
   "source": [
    "#### CAVI"
   ]
  },
  {
   "cell_type": "code",
   "execution_count": 21,
   "id": "2f46d4d5-97c9-4f96-ab84-66a2b025b2bb",
   "metadata": {},
   "outputs": [],
   "source": [
    "def safe_log(x, minval=1e-10):\n",
    "    return torch.log(x + minval)\n",
    "\n",
    "def safe_divide(x, y):\n",
    "    return torch.clip(x / y, min = 0, max = 1)"
   ]
  },
  {
   "cell_type": "code",
   "execution_count": 22,
   "id": "4f297215-efcd-408c-a401-8c07d2a07081",
   "metadata": {},
   "outputs": [],
   "source": [
    "class CAVI():\n",
    "    def __init__(self, init_mu, init_cov, init_lam, \n",
    "                 train_k_ids, train_t_ids, test_k_ids, test_t_ids):\n",
    "        \n",
    "        self.train_K = len(train_k_ids)\n",
    "        self.test_K = len(test_k_ids)\n",
    "        self.T = len(train_t_ids)\n",
    "        self.C = init_mu.shape[0]\n",
    "        self.D = init_mu.shape[1]\n",
    "        self.init_mu = init_mu\n",
    "        self.init_cov = init_cov\n",
    "        self.init_lam = init_lam\n",
    "        self.train_k_ids = train_k_ids\n",
    "        self.train_t_ids = train_t_ids\n",
    "        self.test_k_ids = test_k_ids\n",
    "        self.test_t_ids = test_t_ids\n",
    "        \n",
    "    \n",
    "    def _compute_normal_log_dens(self, s, mu, cov):\n",
    "        \n",
    "        log_dens = []\n",
    "        for j in range(self.C):\n",
    "            log_dens.append(\n",
    "                torch.tensor(\n",
    "                    multivariate_normal.logpdf(s, mu[j], cov[j])\n",
    "                )\n",
    "            )\n",
    "        return torch.vstack(log_dens).T # (*, C)\n",
    "    \n",
    "    \n",
    "    def _compute_enc_elbo(self, r, y, log_dens, norm_lam):\n",
    "        \n",
    "        elbo_1 = torch.sum(torch.tensor(\n",
    "            [torch.einsum('i,i->', r[:,j], log_dens[:,j]) for j in range(self.C)]\n",
    "        ))\n",
    "\n",
    "        elbo_2 = torch.tensor(\n",
    "            [ torch.einsum('ij,il,j->', r[self.train_t_ids[t]], \n",
    "                           y[self.train_t_ids[t]], norm_lam[:,t,1]) +\n",
    "              torch.einsum('ij,il,j->', r[self.train_t_ids[t]], \n",
    "                           1-y[self.train_t_ids[t]], norm_lam[:,t,0]) for t in range(self.T) ]\n",
    "            ).sum()\n",
    "\n",
    "        elbo_3 = - torch.einsum('ij,ij->', safe_log(r), r)\n",
    "\n",
    "        elbo = elbo_1 + elbo_2 + elbo_3 \n",
    "\n",
    "        return elbo\n",
    "    \n",
    "    \n",
    "    def _compute_dec_elbo(self, r, log_dens, norm_lam, nu, nu_k, p):\n",
    "        \n",
    "        elbo_1 = torch.sum(torch.tensor(\n",
    "            [torch.einsum('i,i->', r[:,j], log_dens[:,j]) for j in range(self.C)]\n",
    "        ))\n",
    "\n",
    "        elbo_2 = torch.tensor(\n",
    "            [ torch.einsum('ij,il,j->', r[self.test_t_ids[t]], \n",
    "                           nu[self.test_t_ids[t]], norm_lam[:,t,1]) +\n",
    "              torch.einsum('ij,il,j->', r[self.test_t_ids[t]], \n",
    "                           1-nu[self.test_t_ids[t]], norm_lam[:,t,0]) for t in range(self.T) ]\n",
    "            ).sum()\n",
    "\n",
    "        elbo_3 = torch.sum(nu_k * safe_log(p) + (1-nu_k) * safe_log(1-p))\n",
    "\n",
    "        elbo_4 = - torch.einsum('ij,ij->', safe_log(r), r)\n",
    "\n",
    "        elbo_5 = - torch.sum(safe_log(nu_k) * nu_k)\n",
    "\n",
    "        elbo = elbo_1 + elbo_2 + elbo_3 + elbo_4 + elbo_5\n",
    "\n",
    "        return elbo\n",
    "    \n",
    "    \n",
    "    def _encode_e_step(self, r, y, log_dens, norm_lam):\n",
    "        \n",
    "        for t in range(self.T):\n",
    "            r[self.train_t_ids[t]] = torch.exp( log_dens[self.train_t_ids[t]] + \\\n",
    "                      torch.einsum('il,j->ij', y[self.train_t_ids[t]], norm_lam[:,t,1]) + \\\n",
    "                      torch.einsum('il,j->ij', 1-y[self.train_t_ids[t]], norm_lam[:,t,0])\n",
    "            )\n",
    "            r[self.train_t_ids[t]] = torch.einsum('ij,i->ij', r[self.train_t_ids[t]], 1/r[self.train_t_ids[t]].sum(1))\n",
    "        return r\n",
    "        \n",
    "    \n",
    "    def _encode_m_step(self, s, r, y, mu, lam):\n",
    "        \n",
    "        for j in range(self.C):\n",
    "            no_j_idx = torch.cat([torch.arange(j), torch.arange(j+1, self.C)])\n",
    "            lam_sum_no_j = lam[no_j_idx,:,:].sum(0)\n",
    "            for t in range(self.T):\n",
    "                num1 = torch.einsum('i,il,->', r[self.train_t_ids[t],j], y[self.train_t_ids[t]], lam_sum_no_j[t,1])\n",
    "                denom1 = np.einsum('ij,il->', r[self.train_t_ids[t]][:,no_j_idx], y[self.train_t_ids[t]])\n",
    "                num0 = torch.einsum('i,il,->', r[self.train_t_ids[t],j], 1-y[self.train_t_ids[t]], lam_sum_no_j[t,0])\n",
    "                denom0 = np.einsum('ij,il->', r[self.train_t_ids[t]][:,no_j_idx], 1-y[self.train_t_ids[t]])\n",
    "                lam[j,t,1], lam[j,t,0] = num1 / denom1, num0 / denom0\n",
    "        norm_lam = safe_log(lam) - safe_log(lam.sum(0))\n",
    "\n",
    "        norm = r.sum(0)\n",
    "        mu = torch.einsum('j,ij,ip->jp', 1/norm, r, s)\n",
    "        cov = [torch.einsum(\n",
    "            ',i,ip,id->pd', 1/norm[j], r[:,j], s-mu[j], s-mu[j] ) for j in range(self.C)]\n",
    "        \n",
    "        return mu, cov, lam, norm_lam\n",
    "    \n",
    "    \n",
    "    def _decode_e_step(self, r, log_dens, norm_lam, nu, nu_k, p):\n",
    "        \n",
    "        for t in range(self.T):\n",
    "            r[self.test_t_ids[t]] = torch.exp( log_dens[self.test_t_ids[t]] + \\\n",
    "                      torch.einsum('il,j->ij', nu[self.test_t_ids[t]], norm_lam[:,t,1]) + \\\n",
    "                      torch.einsum('il,j->ij', 1-nu[self.test_t_ids[t]], norm_lam[:,t,0])\n",
    "            )\n",
    "            r[self.test_t_ids[t]] = torch.einsum('ij,i->ij', r[self.test_t_ids[t]], 1/r[self.test_t_ids[t]].sum(1))\n",
    "        \n",
    "        for k in range(self.test_K):\n",
    "            y_tilde0, y_tilde1 = safe_log(1-p), safe_log(p)\n",
    "            for t in range(self.T):\n",
    "                k_t_ids = np.intersect1d(self.test_k_ids[k], self.test_t_ids[t])\n",
    "                y_tilde0 += torch.einsum('ij,j->', r[k_t_ids], norm_lam[:,t,0])\n",
    "                y_tilde1 += torch.einsum('ij,j->', r[k_t_ids], norm_lam[:,t,1])\n",
    "            # y_tilde explode to 0 after exp(); need offset to ensure y_tilde stay in range\n",
    "            offset = 1. / (torch.min(torch.tensor([y_tilde0, y_tilde1])) / -745.) \n",
    "            y_tilde0, y_tilde1 = torch.exp(y_tilde0 * offset), torch.exp(y_tilde1 * offset)\n",
    "            nu_k[k] = safe_divide(y_tilde1, y_tilde0 + y_tilde1)\n",
    "            nu[self.test_k_ids[k]] = nu_k[k]\n",
    "            \n",
    "        return r, nu, nu_k\n",
    "    \n",
    "    \n",
    "    def _decode_m_step(self, s, r, nu_k, mu):\n",
    "        \n",
    "        p = nu_k.sum() / self.test_K\n",
    "    \n",
    "        norm = r.sum(0)\n",
    "        mu = torch.einsum('j,ij,ip->jp', 1/norm, r, s)\n",
    "        cov = [torch.einsum(\n",
    "            ',i,ip,id->pd', 1/norm[j], r[:,j], s-mu[j], s-mu[j]) for j in range(self.C)]\n",
    "        \n",
    "        return p, mu, cov\n",
    "    \n",
    "    \n",
    "    def encode(self, s, y, max_iter=20, eps=1e-6):\n",
    "        # initialize\n",
    "        r = torch.ones((s.shape[0], self.C)) / self.C\n",
    "        lam = self.init_lam.clone()\n",
    "        mu, cov = self.init_mu.clone(), self.init_cov.clone()\n",
    "        norm_lam = safe_log(lam) - safe_log(lam.sum(0))\n",
    "        \n",
    "        # compute initial elbo\n",
    "        log_dens = self._compute_normal_log_dens(s, mu, cov)\n",
    "        elbo = self._compute_enc_elbo(r, y, log_dens, norm_lam)\n",
    "        convergence = 1.\n",
    "        elbos = [elbo]\n",
    "        print(f'initial elbo: {elbos[-1]:.2f}')\n",
    "        \n",
    "        it = 1\n",
    "        while convergence > eps or convergence < 0: \n",
    "            # E step\n",
    "            r = self._encode_e_step(r, y, log_dens, norm_lam)\n",
    "            \n",
    "            # M step\n",
    "            mu, cov, lam, norm_lam = self._encode_m_step(s, r, y, mu, lam)\n",
    "            \n",
    "            # compute new elbo\n",
    "            log_dens = self._compute_normal_log_dens(s, mu, cov)\n",
    "            elbo = self._compute_enc_elbo(r, y, log_dens, norm_lam)\n",
    "            elbos.append(elbo)\n",
    "            convergence = elbos[-1] - elbos[-2]\n",
    "\n",
    "            print(f'iter: {it} elbo: {elbos[-1]:.2f}.')\n",
    "            it +=1 \n",
    "            if it > max_iter: \n",
    "                print('reached max iter allowed.')\n",
    "                break\n",
    "\n",
    "        if abs(convergence) <= eps:\n",
    "            print('converged.')\n",
    "            \n",
    "        return r, lam, mu, torch.stack(cov), elbos\n",
    "    \n",
    "    \n",
    "    def decode(self, s, init_p, init_mu, init_cov, init_lam, \n",
    "                test_k_ids, test_ids, max_iter=20, eps=1e-6):\n",
    "        # initialize\n",
    "        p = init_p.clone()\n",
    "        r = torch.ones((s.shape[0], self.C)) / self.C\n",
    "        mu, cov = init_mu.clone(), init_cov.clone()\n",
    "        lam = init_lam.clone()\n",
    "        norm_lam = safe_log(lam) - safe_log(lam.sum(0))\n",
    "        nu_k = torch.rand(self.test_K)\n",
    "        nu = torch.zeros(s.shape[0])\n",
    "        for k in range(self.test_K):\n",
    "            nu[test_k_ids == test_ids[k]] = nu_k[k]\n",
    "        nu = nu.reshape(-1,1)\n",
    "        \n",
    "        # compute initial elbo\n",
    "        log_dens = self._compute_normal_log_dens(s, mu, cov)\n",
    "        elbo = self._compute_dec_elbo(r, log_dens, norm_lam, nu, nu_k, p)\n",
    "        convergence = 1.\n",
    "        elbos = [elbo]\n",
    "        print(f'initial elbo: {elbos[-1]:.2f}')\n",
    "        \n",
    "        it = 1\n",
    "        while convergence > eps or convergence < 0:\n",
    "            # E step\n",
    "            r, nu, nu_k = self._decode_e_step(r, log_dens, norm_lam, nu, nu_k, p)\n",
    "            \n",
    "            # M step\n",
    "            p, mu, cov = self._decode_m_step(s, r, nu_k, mu)\n",
    "            \n",
    "            # compute new elbo\n",
    "            log_dens = self._compute_normal_log_dens(s, mu, cov)\n",
    "            elbo = self._compute_dec_elbo(r, log_dens, norm_lam, nu, nu_k, p)\n",
    "            elbos.append(elbo)\n",
    "            convergence = elbos[-1] - elbos[-2]\n",
    "\n",
    "            print(f'iter: {it} elbo: {elbos[-1]:.2f}.')\n",
    "            it +=1 \n",
    "            if it > max_iter: \n",
    "                print('reached max iter allowed.')\n",
    "                break\n",
    "\n",
    "        if abs(convergence) <= eps:\n",
    "            print('converged.')\n",
    "    \n",
    "        return r, nu_k, mu, torch.stack(cov), p, elbos\n",
    "    \n",
    "    \n",
    "    def eval_performance(self, nu_k, y_test):\n",
    "        acc = accuracy_score(y_test, 1. * ( nu_k > .5 ))\n",
    "        auc = roc_auc_score(y_test, nu_k)\n",
    "        print(f'decoding accuracy is {acc:.2f}')\n",
    "        print(f'decoding auc is {auc:.2f}')\n",
    "        return acc, auc\n",
    "    \n",
    "    \n",
    "    \n",
    "    def encode_gmm(self, trials, lams, means, covs, train, test, y_train, y_hat):\n",
    "        \n",
    "        enc_pis = lams / lams.sum(0)\n",
    "        \n",
    "        enc_all = np.zeros((len(train) + len(test), self.C, self.T))\n",
    "        for i, k in enumerate(train):\n",
    "            for t in range(self.T):\n",
    "                enc_gmm = GaussianMixture(n_components=self.C, covariance_type='full')\n",
    "                enc_gmm.precisions_cholesky_ = np.linalg.cholesky(np.linalg.inv(covs))\n",
    "                enc_gmm.weights_ = enc_pis[:,t,y_train[i]]\n",
    "                enc_gmm.means_ = means\n",
    "                enc_gmm.covariances_ = covs\n",
    "                if len(trials[k][t]) > 0:\n",
    "                    enc_all[k,:,t] = enc_gmm.predict_proba(trials[k][t][:,1:]).sum(0)\n",
    "                    \n",
    "        for i, k in enumerate(test):\n",
    "            for t in range(self.T):\n",
    "                enc_gmm = GaussianMixture(n_components=self.C, covariance_type='full')\n",
    "                enc_gmm.precisions_cholesky_ = np.linalg.cholesky(np.linalg.inv(covs))\n",
    "                enc_gmm.weights_ = enc_pis[:,t,y_hat[i]]\n",
    "                enc_gmm.means_ = means\n",
    "                enc_gmm.covariances_ = covs\n",
    "                if len(trials[k][t]) > 0:\n",
    "                    enc_all[k,:,t] = enc_gmm.predict_proba(trials[k][t][:,1:]).sum(0)\n",
    "        \n",
    "        return enc_pis, enc_all"
   ]
  },
  {
   "cell_type": "markdown",
   "id": "20fd2c4d-6096-4c73-92eb-b6eb94f33a95",
   "metadata": {},
   "source": [
    "#### Train"
   ]
  },
  {
   "cell_type": "code",
   "execution_count": 29,
   "id": "5f45cb5f-3341-42fe-a930-a5a6020afebd",
   "metadata": {},
   "outputs": [],
   "source": [
    "C = len(gmm.means_)\n",
    "T = lambdas.shape[1]\n",
    "\n",
    "y_train = torch.zeros(train_trials.shape[0])\n",
    "for k_idx, k in enumerate(advi_data_loader.train_ids):\n",
    "    y_train[train_trial_ids == k] = advi_data_loader.train_behavior[k_idx]\n",
    "y_train = y_train.reshape(-1,1)"
   ]
  },
  {
   "cell_type": "code",
   "execution_count": 30,
   "id": "20ad028e-5ee1-410b-a401-8ae282f40fb6",
   "metadata": {},
   "outputs": [],
   "source": [
    "cavi = CAVI(\n",
    "    init_mu = torch.tensor(gmm.means_), \n",
    "    init_cov = torch.tensor(gmm.covariances_), \n",
    "    init_lam = torch.tensor(lambdas), \n",
    "    train_k_ids = [torch.argwhere(torch.tensor(train_trial_ids) == k).reshape(-1) for k in advi_data_loader.train_ids], \n",
    "    train_t_ids = [torch.argwhere(torch.tensor(train_time_ids) == t).reshape(-1) for t in range(T)],\n",
    "    test_k_ids = [torch.argwhere(torch.tensor(test_trial_ids) == k).reshape(-1) for k in advi_data_loader.test_ids],\n",
    "    test_t_ids = [torch.argwhere(torch.tensor(test_time_ids) == t).reshape(-1) for t in range(T)]\n",
    ")"
   ]
  },
  {
   "cell_type": "code",
   "execution_count": 31,
   "id": "abe4a784-9a23-456e-b69f-fe0c873ae50f",
   "metadata": {},
   "outputs": [
    {
     "name": "stdout",
     "output_type": "stream",
     "text": [
      "initial elbo: -2136542824.45\n",
      "iter: 1 elbo: -782084.83.\n",
      "iter: 2 elbo: -781922.34.\n",
      "iter: 3 elbo: -781813.83.\n",
      "iter: 4 elbo: -781663.35.\n",
      "iter: 5 elbo: -781515.29.\n",
      "iter: 6 elbo: -781397.40.\n",
      "iter: 7 elbo: -781304.51.\n",
      "iter: 8 elbo: -781207.24.\n",
      "iter: 9 elbo: -781088.10.\n",
      "iter: 10 elbo: -780934.43.\n",
      "iter: 11 elbo: -780756.64.\n",
      "iter: 12 elbo: -780633.36.\n",
      "iter: 13 elbo: -780542.21.\n",
      "iter: 14 elbo: -780453.63.\n",
      "iter: 15 elbo: -780381.06.\n",
      "iter: 16 elbo: -780312.42.\n",
      "iter: 17 elbo: -780243.03.\n",
      "iter: 18 elbo: -780180.39.\n",
      "iter: 19 elbo: -780125.93.\n",
      "iter: 20 elbo: -780078.15.\n",
      "iter: 21 elbo: -780029.29.\n",
      "iter: 22 elbo: -779964.36.\n",
      "iter: 23 elbo: -779890.34.\n",
      "iter: 24 elbo: -779830.79.\n",
      "iter: 25 elbo: -779790.89.\n",
      "iter: 26 elbo: -779764.51.\n",
      "iter: 27 elbo: -779744.53.\n",
      "iter: 28 elbo: -779729.06.\n",
      "iter: 29 elbo: -779716.81.\n",
      "iter: 30 elbo: -779706.50.\n",
      "reached max iter allowed.\n",
      "CPU times: user 8min 44s, sys: 14.1 s, total: 8min 58s\n",
      "Wall time: 1min 7s\n"
     ]
    }
   ],
   "source": [
    "%%time\n",
    "enc_r, enc_lam, enc_mu, enc_cov, enc_elbo = cavi.encode(\n",
    "    s = torch.tensor(train_trials[:,1:]),\n",
    "    y = y_train, max_iter=30)"
   ]
  },
  {
   "cell_type": "code",
   "execution_count": 32,
   "id": "3079c2c6-e52f-411c-90e7-d3aa801e1201",
   "metadata": {},
   "outputs": [
    {
     "data": {
      "image/png": "[encoded data removed]",
      "text/plain": [
       "<Figure size 400x200 with 1 Axes>"
      ]
     },
     "metadata": {},
     "output_type": "display_data"
    }
   ],
   "source": [
    "plt.figure(figsize=(4,2))\n",
    "plt.plot(enc_elbo)\n",
    "plt.xlabel(\"Iteration\")\n",
    "plt.ylabel(\"ELBO\");"
   ]
  },
  {
   "cell_type": "code",
   "execution_count": 33,
   "id": "36f4cffb-f7d4-4201-bea4-732a9afedad6",
   "metadata": {},
   "outputs": [
    {
     "name": "stdout",
     "output_type": "stream",
     "text": [
      "initial elbo: -547020527.95\n",
      "iter: 1 elbo: -189067.71.\n",
      "iter: 2 elbo: -188467.25.\n",
      "iter: 3 elbo: -188389.79.\n",
      "iter: 4 elbo: -188367.41.\n",
      "iter: 5 elbo: -188354.03.\n",
      "iter: 6 elbo: -188345.47.\n",
      "iter: 7 elbo: -188339.72.\n",
      "iter: 8 elbo: -188334.94.\n",
      "iter: 9 elbo: -188330.51.\n",
      "iter: 10 elbo: -188326.39.\n",
      "reached max iter allowed.\n"
     ]
    }
   ],
   "source": [
    "dec_r, dec_nu, dec_mu, dec_cov, dec_p, dec_elbo = cavi.decode(\n",
    "    s = torch.tensor(test_trials[:,1:]),\n",
    "    init_p = torch.tensor([p]), \n",
    "    init_mu = enc_mu, \n",
    "    init_cov = enc_cov, \n",
    "    init_lam = enc_lam, \n",
    "    test_k_ids = test_trial_ids, \n",
    "    test_ids = advi_data_loader.test_ids, \n",
    "    max_iter=10\n",
    ")"
   ]
  },
  {
   "cell_type": "code",
   "execution_count": 34,
   "id": "ff106154-1e85-4b30-bcc6-3bc666f445df",
   "metadata": {},
   "outputs": [
    {
     "data": {
      "image/png": "[encoded data removed]",
      "text/plain": [
       "<Figure size 400x200 with 1 Axes>"
      ]
     },
     "metadata": {},
     "output_type": "display_data"
    }
   ],
   "source": [
    "plt.figure(figsize=(4,2))\n",
    "plt.plot(dec_elbo)\n",
    "plt.xlabel(\"Iteration\")\n",
    "plt.ylabel(\"ELBO\");"
   ]
  },
  {
   "cell_type": "code",
   "execution_count": 35,
   "id": "8940c66c-c624-4924-8a95-d665183e31a2",
   "metadata": {},
   "outputs": [],
   "source": [
    "from sklearn.linear_model import LogisticRegression\n",
    "\n",
    "def static_decoder(x, y, train, test):\n",
    "    '''\n",
    "    \n",
    "    '''\n",
    "    x_train = x.reshape(-1, x.shape[1] * x.shape[2])[train]\n",
    "    x_test = x.reshape(-1, x.shape[1] * x.shape[2])[test]\n",
    "    y_train = y[train]\n",
    "    y_test = y[test]\n",
    "\n",
    "    ridge = LogisticRegression(solver='liblinear')\n",
    "    ridge.fit(x_train, y_train)\n",
    "    y_prob = ridge.predict_proba(x_test)\n",
    "    y_pred = y_prob.argmax(1)\n",
    "    \n",
    "    print(f'accuracy: {accuracy_score(y_test, y_pred):.3f}')\n",
    "    \n",
    "    return y_train, y_test, y_pred, y_prob"
   ]
  },
  {
   "cell_type": "markdown",
   "id": "57f478d5-fcdb-44e8-b727-26e0d0e8161a",
   "metadata": {},
   "source": [
    "#### GMM"
   ]
  },
  {
   "cell_type": "code",
   "execution_count": 36,
   "id": "3761fc5b-1dae-4544-8423-85568ef02c20",
   "metadata": {},
   "outputs": [],
   "source": [
    "train = advi_data_loader.train_ids\n",
    "test = advi_data_loader.test_ids"
   ]
  },
  {
   "cell_type": "code",
   "execution_count": 37,
   "id": "57025206-13d8-43c7-9bbf-075b58d39957",
   "metadata": {},
   "outputs": [
    {
     "name": "stdout",
     "output_type": "stream",
     "text": [
      "(230, 50, 30)\n"
     ]
    }
   ],
   "source": [
    "spike_train = np.concatenate(trials)\n",
    "spike_times = spike_train[:,0]\n",
    "spike_labels = gmm.predict(spike_train[:,2:])\n",
    "spike_probs = gmm.predict_proba(spike_train[:,2:])\n",
    "\n",
    "vanilla_gmm = np1_data_loader.prepare_decoder_input(\n",
    "    np.c_[spike_times, spike_labels, spike_probs],\n",
    "    is_gmm = True, n_t_bins = 30, regional = True)\n",
    "print(vanilla_gmm.shape)"
   ]
  },
  {
   "cell_type": "code",
   "execution_count": 38,
   "id": "f5ca8fdd-62b2-4b07-9b43-8afe4b13183a",
   "metadata": {},
   "outputs": [
    {
     "name": "stdout",
     "output_type": "stream",
     "text": [
      "accuracy: 0.891\n"
     ]
    }
   ],
   "source": [
    "y_train, y_test, y_pred, _ = static_decoder(vanilla_gmm, advi_data_loader.behavior, train, test)"
   ]
  },
  {
   "cell_type": "markdown",
   "id": "e345fc35-5a82-42f8-aba0-c9f45df65925",
   "metadata": {},
   "source": [
    "#### multi-unit thresholding"
   ]
  },
  {
   "cell_type": "code",
   "execution_count": 39,
   "id": "c729aeaa-fb9c-4619-939e-2075a6703f90",
   "metadata": {},
   "outputs": [
    {
     "name": "stdout",
     "output_type": "stream",
     "text": [
      "(230, 39, 30)\n"
     ]
    }
   ],
   "source": [
    "spike_channels = spike_train[:,1]\n",
    "\n",
    "thresholded = np1_data_loader.prepare_decoder_input(\n",
    "    np.c_[spike_times, spike_channels],\n",
    "    is_gmm = False, n_t_bins = 30, regional = True)\n",
    "print(thresholded.shape)"
   ]
  },
  {
   "cell_type": "code",
   "execution_count": 41,
   "id": "7ededf5d-4df9-40a4-a9d6-126bd8441dbb",
   "metadata": {},
   "outputs": [
    {
     "name": "stdout",
     "output_type": "stream",
     "text": [
      "accuracy: 0.913\n"
     ]
    }
   ],
   "source": [
    "y_train, y_test, y_pred, _ = static_decoder(thresholded, advi_data_loader.behavior, train, test)"
   ]
  },
  {
   "cell_type": "markdown",
   "id": "c0e39ef5-25d8-4946-aa6d-02f3f687f180",
   "metadata": {},
   "source": [
    "#### encoding MoG"
   ]
  },
  {
   "cell_type": "code",
   "execution_count": 43,
   "id": "23d659b8-2d39-4a09-8ee5-5926c75e48b2",
   "metadata": {},
   "outputs": [
    {
     "name": "stdout",
     "output_type": "stream",
     "text": [
      "decoding accuracy is 0.85\n",
      "decoding auc is 0.93\n"
     ]
    }
   ],
   "source": [
    "cavi.eval_performance(dec_nu, advi_data_loader.test_behavior);"
   ]
  },
  {
   "cell_type": "code",
   "execution_count": 44,
   "id": "a399bb78-b5a2-47e4-b8af-da138f0800a7",
   "metadata": {},
   "outputs": [
    {
     "data": {
      "image/png": "[encoded data removed]",
      "text/plain": [
       "<Figure size 400x300 with 2 Axes>"
      ]
     },
     "metadata": {},
     "output_type": "display_data"
    }
   ],
   "source": [
    "enc_pis, enc_all = cavi.encode_gmm(\n",
    "    advi_data_loader.trials, \n",
    "    enc_lam.numpy(), \n",
    "    dec_mu.numpy(), \n",
    "    dec_cov.numpy(), \n",
    "    train, \n",
    "    test, \n",
    "    y_train, \n",
    "    y_pred)\n",
    "\n",
    "plt.figure(figsize=(4,3))\n",
    "plt.imshow(enc_all.mean(0), aspect='auto', cmap='cubehelix')\n",
    "plt.colorbar();"
   ]
  },
  {
   "cell_type": "code",
   "execution_count": 45,
   "id": "41b22eec-775d-4432-9fe3-c2dad61e341c",
   "metadata": {},
   "outputs": [
    {
     "name": "stdout",
     "output_type": "stream",
     "text": [
      "accuracy: 0.935\n"
     ]
    }
   ],
   "source": [
    "_, _, _, _ = static_decoder(enc_all, advi_data_loader.behavior, train, test)"
   ]
  },
  {
   "cell_type": "markdown",
   "id": "bbbba65e-2819-4995-a888-f1d98d526c3e",
   "metadata": {},
   "source": [
    "#### KS all units"
   ]
  },
  {
   "cell_type": "code",
   "execution_count": 46,
   "id": "31da5964-a403-4d8b-bb95-0a4f6c59dc7a",
   "metadata": {},
   "outputs": [
    {
     "name": "stdout",
     "output_type": "stream",
     "text": [
      "Found 88 KS units in region po\n",
      "(230, 86, 30)\n"
     ]
    }
   ],
   "source": [
    "ks_all = np1_data_loader.load_all_units(region=region)\n",
    "ks_all = np.concatenate(ks_all)\n",
    "\n",
    "all_units = np1_data_loader.prepare_decoder_input(\n",
    "    ks_all, is_gmm = False, n_t_bins = 30, regional = True)\n",
    "print(all_units.shape)"
   ]
  },
  {
   "cell_type": "code",
   "execution_count": 47,
   "id": "5c1296fd-5f0f-43f2-87cd-d48ed27d50f5",
   "metadata": {},
   "outputs": [
    {
     "name": "stdout",
     "output_type": "stream",
     "text": [
      "accuracy: 0.935\n"
     ]
    }
   ],
   "source": [
    "_, _, _, _ = static_decoder(all_units, advi_data_loader.behavior, train, test)"
   ]
  },
  {
   "cell_type": "markdown",
   "id": "9405b64e-dcdc-4fb1-918b-7e644049704f",
   "metadata": {},
   "source": [
    "#### KS good units"
   ]
  },
  {
   "cell_type": "code",
   "execution_count": 48,
   "id": "fb0755bc-1b08-4724-927a-6c69232c34fb",
   "metadata": {},
   "outputs": [
    {
     "name": "stdout",
     "output_type": "stream",
     "text": [
      "Found 18 good units in region po\n",
      "(230, 18, 30)\n"
     ]
    }
   ],
   "source": [
    "ks_good = np1_data_loader.load_good_units(region=region)\n",
    "ks_good = np.concatenate(ks_good)\n",
    "\n",
    "good_units = np1_data_loader.prepare_decoder_input(\n",
    "    ks_good, is_gmm = False, n_t_bins = 30, regional = True)\n",
    "print(good_units.shape)"
   ]
  },
  {
   "cell_type": "code",
   "execution_count": 49,
   "id": "b90df064-adf6-4e1b-9c29-8ced7b16aa77",
   "metadata": {},
   "outputs": [
    {
     "name": "stdout",
     "output_type": "stream",
     "text": [
      "accuracy: 0.674\n"
     ]
    }
   ],
   "source": [
    "_, _, _, _ = static_decoder(good_units, advi_data_loader.behavior, train, test)"
   ]
  },
  {
   "cell_type": "code",
   "execution_count": null,
   "id": "3faf9d90-acc3-4bae-9d21-9956b16de360",
   "metadata": {},
   "outputs": [],
   "source": []
  }
 ],
 "metadata": {
  "kernelspec": {
   "display_name": "Python 3 (ipykernel)",
   "language": "python",
   "name": "python3"
  },
  "language_info": {
   "codemirror_mode": {
    "name": "ipython",
    "version": 3
   },
   "file_extension": ".py",
   "mimetype": "text/x-python",
   "name": "python",
   "nbconvert_exporter": "python",
   "pygments_lexer": "ipython3",
   "version": "3.8.13"
  }
 },
 "nbformat": 4,
 "nbformat_minor": 5
}
