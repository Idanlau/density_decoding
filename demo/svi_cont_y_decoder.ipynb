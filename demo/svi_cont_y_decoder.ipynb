{
 "cells": [
  {
   "cell_type": "markdown",
   "id": "2eeb956a-e7c2-417f-b937-f996edf94acb",
   "metadata": {},
   "source": [
    "svi - decoder for continuous y:\n",
    "    \n",
    "the key is to represent important quantities as random variables, and then sample from them:\n",
    "    \n",
    "$s \\sim \\mathcal{N}(\\cdot, \\cdot)$,\n",
    "\n",
    "$z \\sim \\text{Categorical}(\\pi)$,\n",
    "\n",
    "$\\pi = \\lambda / \\sum \\lambda$,\n",
    "\n",
    "$\\log(\\lambda) \\sim \\mathcal{N}(b + \\beta y, 0)$,\n",
    "\n",
    "$y \\sim \\mathcal{GP}(\\cdot, \\cdot)$\n",
    "\n",
    "(remember to specify the priors for these R.V.s)\n",
    "\n",
    "when calculate the elbo, we can sample from these R.V.s and then use `pytorch`'s existing functionality to compute the log-likelihood and differential entropy terms.\n",
    "\n",
    "**caveat**: since a finite subset of GP is just a multivariate normal, we can set its mean and kernel function as parameters to be learned by SGD, and then do everything else w.r.t. the multivariate normal. (see [gaussian-process-tutorial](https://peterroelants.github.io/posts/gaussian-process-tutorial/))\n",
    "\n",
    "we can still keep the cavi encoder but implement a svi decoder. the principle is that if we can get exact estimates (cavi) then exact is prefered over stochastic (svi)."
   ]
  },
  {
   "cell_type": "code",
   "execution_count": 1,
   "id": "169b9825-6096-4589-90bb-40d7b5e2c1ab",
   "metadata": {},
   "outputs": [],
   "source": [
    "import numpy as np\n",
    "import random\n",
    "import matplotlib.pyplot as plt\n",
    "\n",
    "from sklearn.linear_model import Ridge\n",
    "from sklearn.mixture import GaussianMixture\n",
    "from sklearn.metrics import r2_score\n",
    "\n",
    "import torch\n",
    "import torch.distributions as D\n",
    "\n",
    "from clusterless import preprocess\n",
    "from clusterless import decoder"
   ]
  },
  {
   "cell_type": "code",
   "execution_count": 2,
   "id": "8946fa03-525d-4388-ad43-b0740fc38180",
   "metadata": {},
   "outputs": [],
   "source": [
    "seed = 666\n",
    "random.seed(seed)\n",
    "np.random.seed(seed)\n",
    "torch.manual_seed(seed)\n",
    "torch.set_default_dtype(torch.double)"
   ]
  },
  {
   "cell_type": "code",
   "execution_count": 3,
   "id": "6184b37c-993a-4976-ad99-eeb205b80233",
   "metadata": {},
   "outputs": [],
   "source": [
    "SMALL_SIZE = 15\n",
    "MEDIUM_SIZE = 20\n",
    "BIGGER_SIZE = 25\n",
    "\n",
    "plt.rc('font', size=MEDIUM_SIZE)         \n",
    "plt.rc('axes', titlesize=MEDIUM_SIZE)     \n",
    "plt.rc('axes', labelsize=MEDIUM_SIZE) \n",
    "plt.rc('axes', linewidth = 1.5)\n",
    "plt.rc('xtick', labelsize=MEDIUM_SIZE)   \n",
    "plt.rc('ytick', labelsize=MEDIUM_SIZE)   \n",
    "plt.rc('legend', fontsize=MEDIUM_SIZE)   \n",
    "plt.rc('figure', titlesize=MEDIUM_SIZE)"
   ]
  },
  {
   "cell_type": "markdown",
   "id": "94d961e4-8d82-48d4-90f6-cfcc98437449",
   "metadata": {},
   "source": [
    "#### data"
   ]
  },
  {
   "cell_type": "code",
   "execution_count": 4,
   "id": "40112036-8b3f-432b-a902-2c6323f0fe0a",
   "metadata": {},
   "outputs": [],
   "source": [
    "pid = 'dab512bd-a02d-4c1f-8dbc-9155a163efc0'\n",
    "rootpath = '/mnt/3TB/yizi/Downloads/ONE/openalyx.internationalbrainlab.org'\n",
    "trial_data_path = rootpath + '/danlab/Subjects/DY_016/2020-09-12/001/alf'\n",
    "neural_data_path = '/mnt/3TB/yizi/danlab/Subjects/DY_016'\n",
    "behavior_data_path = rootpath + '/paper_repro_ephys_data/figure9_10/original_data'\n",
    "save_path = '../saved_results/danlab/Subjects/DY_016/cavi_results/continuous/'"
   ]
  },
  {
   "cell_type": "code",
   "execution_count": 5,
   "id": "b11221e0-0d6a-44f7-a187-f90eddfe46fd",
   "metadata": {},
   "outputs": [
    {
     "name": "stdout",
     "output_type": "stream",
     "text": [
      "pid: dab512bd-a02d-4c1f-8dbc-9155a163efc0\n",
      "eid: d23a44ef-1402-4ed7-97f5-47e9a7a504d9\n",
      "1st trial stim on time: 17.56, last trial stim on time 2310.24\n"
     ]
    }
   ],
   "source": [
    "unsorted_trials, stim_on_times, np1_channel_map = preprocess.load_neural_data(\n",
    "    pid=pid, \n",
    "    trial_data_path=trial_data_path,\n",
    "    neural_data_path=neural_data_path,\n",
    "    behavior_data_path=behavior_data_path,\n",
    "    keep_active_trials=True, \n",
    "    roi='all',\n",
    "    kilosort=False,\n",
    "    triage=False\n",
    ")\n",
    "\n",
    "behave_dict = preprocess.load_behaviors_data(behavior_data_path, pid)\n",
    "_, wheel_velocity, _, _, _, _ = preprocess.preprocess_dynamic_behaviors(behave_dict)"
   ]
  },
  {
   "cell_type": "code",
   "execution_count": 6,
   "id": "77834d82-67e7-4a30-a891-a2a24fd55419",
   "metadata": {},
   "outputs": [],
   "source": [
    "class DataLoader():\n",
    "    def __init__(self, data, y, stim_on_times, np1_channel_map, n_t_bins=30):\n",
    "        self.data = data\n",
    "        self.y = y\n",
    "        self.stim_on_times = stim_on_times\n",
    "        self.np1_channel_map = np1_channel_map\n",
    "        self.n_t_bins = n_t_bins\n",
    "        self.n_trials = stim_on_times.shape[0]\n",
    "        self.n_channels = np1_channel_map.shape[0]\n",
    "        self.t_binning = np.arange(0, 1.5, step = (1.5 - 0) / n_t_bins)\n",
    "        self.rand_trial_ids = np.arange(self.n_trials)\n",
    "        \n",
    "        # allocate unsorted data into trials\n",
    "        self.trial_ids = []\n",
    "        self.t_ids = []\n",
    "        self.trials = []\n",
    "        self.t_bins = []\n",
    "        for k in range(self.n_trials):\n",
    "            mask = np.logical_and(data[:,0] >= stim_on_times[k] - 0.5,\n",
    "                                  data[:,0] <= stim_on_times[k] + 1)\n",
    "            trial = data[mask,:]\n",
    "            trial[:,0] = trial[:,0] - trial[:,0].min()\n",
    "            t_bins = np.digitize(trial[:,0], self.t_binning, right = False) - 1\n",
    "            t_bin_lst = []\n",
    "            for t in range(self.n_t_bins):\n",
    "                t_bin = trial[t_bins == t,1:]\n",
    "                self.trial_ids.append(np.ones_like(t_bin[:,0]) * k)\n",
    "                self.t_ids.append(np.ones_like(t_bin[:,0]) * t)\n",
    "                t_bin_lst.append(t_bin)\n",
    "            self.trials.append(t_bin_lst)\n",
    "    \n",
    "    \n",
    "    def split_train_test(self, split=.8):\n",
    "        \n",
    "        self.train_ids = self.rand_trial_ids[:int(split * self.n_trials)]\n",
    "        self.test_ids = self.rand_trial_ids[int(split * self.n_trials):]\n",
    "        self.y_train = self.y[self.train_ids]\n",
    "        self.y_test = self.y[self.test_ids]\n",
    "        \n",
    "        trial_ids = np.concatenate(self.trial_ids)\n",
    "        t_ids = np.concatenate(self.t_ids)\n",
    "        trials = np.concatenate(np.concatenate(self.trials))\n",
    "\n",
    "        train_mask = np.sum([trial_ids == idx for idx in self.train_ids], axis=0).astype(bool)\n",
    "        test_mask = np.sum([trial_ids == idx for idx in self.test_ids], axis=0).astype(bool)\n",
    "        train_k_ids, test_k_ids = trial_ids[train_mask], trial_ids[test_mask]\n",
    "        train_t_ids, test_t_ids = t_ids[train_mask], t_ids[test_mask]\n",
    "        train_trials, test_trials = trials[train_mask], trials[test_mask]\n",
    "        \n",
    "        return train_trials, train_k_ids, train_t_ids, \\\n",
    "               test_trials, test_k_ids, test_t_ids"
   ]
  },
  {
   "cell_type": "code",
   "execution_count": 7,
   "id": "4077bb0d-08ab-4860-86d1-99cf6869de75",
   "metadata": {},
   "outputs": [],
   "source": [
    "data_loader = DataLoader(data = np.concatenate(unsorted_trials)[:,[0,2,3,4]], \n",
    "                         y = wheel_velocity, \n",
    "                         stim_on_times = stim_on_times, \n",
    "                         np1_channel_map = np1_channel_map, \n",
    "                         n_t_bins=30)"
   ]
  },
  {
   "cell_type": "code",
   "execution_count": 8,
   "id": "e01ea19c-2a77-4d2b-afdc-60902445a13d",
   "metadata": {},
   "outputs": [
    {
     "name": "stderr",
     "output_type": "stream",
     "text": [
      "<__array_function__ internals>:180: VisibleDeprecationWarning: Creating an ndarray from ragged nested sequences (which is a list-or-tuple of lists-or-tuples-or ndarrays with different lengths or shapes) is deprecated. If you meant to do this, you must specify 'dtype=object' when creating the ndarray.\n"
     ]
    }
   ],
   "source": [
    "train_trials, train_k_ids, train_t_ids, test_trials, test_k_ids, test_t_ids = \\\n",
    "    data_loader.split_train_test(split=.98)"
   ]
  },
  {
   "cell_type": "code",
   "execution_count": 9,
   "id": "302554bd-8ebc-41a7-841a-64e092b21527",
   "metadata": {},
   "outputs": [
    {
     "data": {
      "text/html": [
       "<style>#sk-container-id-1 {color: black;background-color: white;}#sk-container-id-1 pre{padding: 0;}#sk-container-id-1 div.sk-toggleable {background-color: white;}#sk-container-id-1 label.sk-toggleable__label {cursor: pointer;display: block;width: 100%;margin-bottom: 0;padding: 0.3em;box-sizing: border-box;text-align: center;}#sk-container-id-1 label.sk-toggleable__label-arrow:before {content: \"▸\";float: left;margin-right: 0.25em;color: #696969;}#sk-container-id-1 label.sk-toggleable__label-arrow:hover:before {color: black;}#sk-container-id-1 div.sk-estimator:hover label.sk-toggleable__label-arrow:before {color: black;}#sk-container-id-1 div.sk-toggleable__content {max-height: 0;max-width: 0;overflow: hidden;text-align: left;background-color: #f0f8ff;}#sk-container-id-1 div.sk-toggleable__content pre {margin: 0.2em;color: black;border-radius: 0.25em;background-color: #f0f8ff;}#sk-container-id-1 input.sk-toggleable__control:checked~div.sk-toggleable__content {max-height: 200px;max-width: 100%;overflow: auto;}#sk-container-id-1 input.sk-toggleable__control:checked~label.sk-toggleable__label-arrow:before {content: \"▾\";}#sk-container-id-1 div.sk-estimator input.sk-toggleable__control:checked~label.sk-toggleable__label {background-color: #d4ebff;}#sk-container-id-1 div.sk-label input.sk-toggleable__control:checked~label.sk-toggleable__label {background-color: #d4ebff;}#sk-container-id-1 input.sk-hidden--visually {border: 0;clip: rect(1px 1px 1px 1px);clip: rect(1px, 1px, 1px, 1px);height: 1px;margin: -1px;overflow: hidden;padding: 0;position: absolute;width: 1px;}#sk-container-id-1 div.sk-estimator {font-family: monospace;background-color: #f0f8ff;border: 1px dotted black;border-radius: 0.25em;box-sizing: border-box;margin-bottom: 0.5em;}#sk-container-id-1 div.sk-estimator:hover {background-color: #d4ebff;}#sk-container-id-1 div.sk-parallel-item::after {content: \"\";width: 100%;border-bottom: 1px solid gray;flex-grow: 1;}#sk-container-id-1 div.sk-label:hover label.sk-toggleable__label {background-color: #d4ebff;}#sk-container-id-1 div.sk-serial::before {content: \"\";position: absolute;border-left: 1px solid gray;box-sizing: border-box;top: 0;bottom: 0;left: 50%;z-index: 0;}#sk-container-id-1 div.sk-serial {display: flex;flex-direction: column;align-items: center;background-color: white;padding-right: 0.2em;padding-left: 0.2em;position: relative;}#sk-container-id-1 div.sk-item {position: relative;z-index: 1;}#sk-container-id-1 div.sk-parallel {display: flex;align-items: stretch;justify-content: center;background-color: white;position: relative;}#sk-container-id-1 div.sk-item::before, #sk-container-id-1 div.sk-parallel-item::before {content: \"\";position: absolute;border-left: 1px solid gray;box-sizing: border-box;top: 0;bottom: 0;left: 50%;z-index: -1;}#sk-container-id-1 div.sk-parallel-item {display: flex;flex-direction: column;z-index: 1;position: relative;background-color: white;}#sk-container-id-1 div.sk-parallel-item:first-child::after {align-self: flex-end;width: 50%;}#sk-container-id-1 div.sk-parallel-item:last-child::after {align-self: flex-start;width: 50%;}#sk-container-id-1 div.sk-parallel-item:only-child::after {width: 0;}#sk-container-id-1 div.sk-dashed-wrapped {border: 1px dashed gray;margin: 0 0.4em 0.5em 0.4em;box-sizing: border-box;padding-bottom: 0.4em;background-color: white;}#sk-container-id-1 div.sk-label label {font-family: monospace;font-weight: bold;display: inline-block;line-height: 1.2em;}#sk-container-id-1 div.sk-label-container {text-align: center;}#sk-container-id-1 div.sk-container {/* jupyter's `normalize.less` sets `[hidden] { display: none; }` but bootstrap.min.css set `[hidden] { display: none !important; }` so we also need the `!important` here to be able to override the default hidden behavior on the sphinx rendered scikit-learn.org. See: https://github.com/scikit-learn/scikit-learn/issues/21755 */display: inline-block !important;position: relative;}#sk-container-id-1 div.sk-text-repr-fallback {display: none;}</style><div id=\"sk-container-id-1\" class=\"sk-top-container\"><div class=\"sk-text-repr-fallback\"><pre>GaussianMixture(init_params=&#x27;k-means++&#x27;, n_components=10)</pre><b>In a Jupyter environment, please rerun this cell to show the HTML representation or trust the notebook. <br />On GitHub, the HTML representation is unable to render, please try loading this page with nbviewer.org.</b></div><div class=\"sk-container\" hidden><div class=\"sk-item\"><div class=\"sk-estimator sk-toggleable\"><input class=\"sk-toggleable__control sk-hidden--visually\" id=\"sk-estimator-id-1\" type=\"checkbox\" checked><label for=\"sk-estimator-id-1\" class=\"sk-toggleable__label sk-toggleable__label-arrow\">GaussianMixture</label><div class=\"sk-toggleable__content\"><pre>GaussianMixture(init_params=&#x27;k-means++&#x27;, n_components=10)</pre></div></div></div></div></div>"
      ],
      "text/plain": [
       "GaussianMixture(init_params='k-means++', n_components=10)"
      ]
     },
     "execution_count": 9,
     "metadata": {},
     "output_type": "execute_result"
    }
   ],
   "source": [
    "gmm = GaussianMixture(n_components=10, \n",
    "                      covariance_type='full', \n",
    "                      init_params='k-means++',\n",
    "                      verbose=0)\n",
    "gmm.fit(train_trials)"
   ]
  },
  {
   "cell_type": "code",
   "execution_count": 9,
   "id": "03422002-8fd1-44f8-8921-9d603f70d765",
   "metadata": {},
   "outputs": [],
   "source": [
    "s = torch.tensor(test_trials)\n",
    "y = torch.tensor(data_loader.y_test)\n",
    "\n",
    "Nk = len(data_loader.test_ids)\n",
    "Nt = data_loader.n_t_bins\n",
    "Nc = 10\n",
    "Nd = s.shape[1]"
   ]
  },
  {
   "cell_type": "markdown",
   "id": "32774550-0ea7-4971-bc99-318d162deddf",
   "metadata": {},
   "source": [
    "#### decoder"
   ]
  },
  {
   "cell_type": "code",
   "execution_count": 10,
   "id": "6be5b3ff-d29d-4c92-858c-a1954fc4841b",
   "metadata": {},
   "outputs": [],
   "source": [
    "def safe_log(x, minval=1e-10):\n",
    "    return torch.log(x + minval)"
   ]
  },
  {
   "cell_type": "code",
   "execution_count": 24,
   "id": "af678557-5d1b-4d18-a74a-72bd9f97f067",
   "metadata": {},
   "outputs": [],
   "source": [
    "class SVI(torch.nn.Module):\n",
    "\n",
    "    def __init__(self, \n",
    "                 Nk, Nt, Nc, Nd, \n",
    "                 init_means, init_covs, init_ys,\n",
    "                 init_bs, init_betas,\n",
    "                 ks, ts):\n",
    "        super(SVI, self).__init__()\n",
    "        self.Nk = Nk\n",
    "        self.Nt = Nt\n",
    "        self.Nc = Nc\n",
    "        self.Nd = Nd\n",
    "        self.ks = ks\n",
    "        self.ts = ts\n",
    "        \n",
    "        # initialize parameters for variational distribution\n",
    "        self.means = torch.nn.Parameter(init_means, requires_grad=False)\n",
    "        self.covs = torch.nn.Parameter(init_covs, requires_grad=False)\n",
    "        self.bs = torch.nn.Parameter(init_bs, requires_grad=False)\n",
    "        self.betas = torch.nn.Parameter(init_betas, requires_grad=False)\n",
    "        \n",
    "        # latent y\n",
    "        self.yhat = torch.nn.Parameter(torch.randn((Nk, Nt)), requires_grad=True)\n",
    "        # self.yhat = torch.nn.Parameter(torch.ones((Nk, Nt)) * torch.tensor(init_ys), requires_grad=True)\n",
    "        \n",
    "        \n",
    "    def forward(self, s, M=100):\n",
    "        \n",
    "        # compute log(lambda_kjt)\n",
    "        log_lambdas = torch.zeros((self.Nk, self.Nc, self.Nt))\n",
    "        for k in range(self.Nk):\n",
    "            for t in range(self.Nt):\n",
    "                log_lambdas[k,:,t] = self.bs + self.betas[:,t] @ self.yhat[k]\n",
    "        \n",
    "        # compute log(pi_kjt)\n",
    "        self.log_pis = log_lambdas - torch.logsumexp(log_lambdas, 1)[:,None,:]\n",
    "        \n",
    "        \n",
    "        # compute log-likelihood\n",
    "        ll = torch.zeros((s.shape[0], self.Nc))\n",
    "        for j in range(self.Nc):\n",
    "            ll[:,j] = D.multivariate_normal.MultivariateNormal(\n",
    "                            loc=self.means[j], \n",
    "                            covariance_matrix=self.covs[j]\n",
    "                        ).log_prob(s)\n",
    "        \n",
    "        \n",
    "        # compute exact update for q(z)\n",
    "        q_z = torch.zeros((s.shape[0], self.Nc))\n",
    "        for k in range(self.Nk):\n",
    "            for t in range(self.Nt):\n",
    "                k_t_idx = torch.logical_and(self.ks == torch.unique(self.ks)[k], self.ts == t)\n",
    "                q_z[k_t_idx] = torch.exp( ll[k_t_idx] + self.log_pis[k,:,t] )\n",
    "                q_z[k_t_idx] = q_z[k_t_idx] / q_z[k_t_idx].sum(1)[:,None]\n",
    "        \n",
    "        \n",
    "        # compute ELBO = E_z,y[logp(s,z,y)] - E_z,y[logq(z,y)]\n",
    "        # E_z,y[logp(s,z,y)] = E_z,y[logp(s|z) + logp(z|y) + logp(y)]\n",
    "        \n",
    "        E_q_log_p_s_cond_z = 0\n",
    "        E_q_log_p_z_cond_y = 0\n",
    "        H_z = 0\n",
    "        for k in range(Nk):\n",
    "            for t in range(Nt):\n",
    "                k_t_idx = torch.logical_and(self.ks == torch.unique(self.ks)[k], self.ts == t)\n",
    "                E_q_log_p_s_cond_z += torch.sum( q_z[k_t_idx] * ll[k_t_idx] )\n",
    "                E_q_log_p_z_cond_y += torch.sum( q_z[k_t_idx] * self.log_pis[k,:,t] )\n",
    "                H_z -= torch.sum( q_z[k_t_idx] * safe_log(q_z[k_t_idx]) )\n",
    "                \n",
    "                \n",
    "        # print(f'E_q(z)[logp(s|z)] = {E_q_log_p_s_cond_z}')\n",
    "        # print(f'E_q(z)[logp(z|y)] = {E_q_log_p_z_cond_y}')\n",
    "        # print(f'E_q(z)[logq(z)] = {H_z}')\n",
    "        \n",
    "        return E_q_log_p_s_cond_z + E_q_log_p_z_cond_y + H_z"
   ]
  },
  {
   "cell_type": "code",
   "execution_count": 38,
   "id": "210bcc88-c925-4e11-83ff-1f8cfc4a1b2b",
   "metadata": {},
   "outputs": [],
   "source": [
    "enc = np.load('../saved_results/danlab/Subjects/DY_016/cavi_results/' + f'cont_y_enc_res_c{Nc}.npy', allow_pickle=True).item()"
   ]
  },
  {
   "cell_type": "code",
   "execution_count": 39,
   "id": "cb113b6f-c39f-4113-a74e-49d2393a8d14",
   "metadata": {},
   "outputs": [],
   "source": [
    "svi = SVI(Nk, Nt, Nc, Nd, \n",
    "          enc['means'].requires_grad_(False), \n",
    "          enc['covs'].requires_grad_(False), \n",
    "          data_loader.y_train.mean(0),\n",
    "          enc['bs'].requires_grad_(False),\n",
    "          enc['betas'].requires_grad_(False),\n",
    "          torch.tensor(test_k_ids), \n",
    "          torch.tensor(test_t_ids)\n",
    "         )\n",
    "optim = torch.optim.Adam(svi.parameters(), lr=1e-1)"
   ]
  },
  {
   "cell_type": "code",
   "execution_count": 40,
   "id": "0e134817-9635-44ed-a098-a2d509a416af",
   "metadata": {},
   "outputs": [
    {
     "name": "stdout",
     "output_type": "stream",
     "text": [
      "iter: 1 elbo: -414067.93\n",
      "iter: 2 elbo: -395231.50\n",
      "iter: 3 elbo: -377531.74\n",
      "iter: 4 elbo: -361266.33\n",
      "iter: 5 elbo: -346287.28\n",
      "iter: 6 elbo: -333207.97\n",
      "iter: 7 elbo: -322491.81\n",
      "iter: 8 elbo: -313455.96\n",
      "iter: 9 elbo: -305442.37\n",
      "iter: 10 elbo: -298383.80\n",
      "iter: 11 elbo: -292316.05\n",
      "iter: 12 elbo: -287050.01\n",
      "iter: 13 elbo: -282512.49\n",
      "iter: 14 elbo: -278632.59\n",
      "iter: 15 elbo: -275179.42\n",
      "iter: 16 elbo: -272161.75\n",
      "iter: 17 elbo: -269618.15\n",
      "iter: 18 elbo: -267453.75\n",
      "iter: 19 elbo: -265573.88\n",
      "iter: 20 elbo: -263898.11\n",
      "iter: 21 elbo: -262288.70\n",
      "iter: 22 elbo: -260645.36\n",
      "iter: 23 elbo: -258984.91\n",
      "iter: 24 elbo: -257428.24\n",
      "iter: 25 elbo: -256049.60\n",
      "iter: 26 elbo: -254818.19\n",
      "iter: 27 elbo: -253650.01\n",
      "iter: 28 elbo: -252409.06\n",
      "iter: 29 elbo: -251081.18\n",
      "iter: 30 elbo: -249829.88\n",
      "iter: 31 elbo: -248833.69\n",
      "iter: 32 elbo: -248120.96\n",
      "iter: 33 elbo: -247579.74\n",
      "iter: 34 elbo: -247145.45\n",
      "iter: 35 elbo: -246851.18\n",
      "iter: 36 elbo: -246687.57\n",
      "iter: 37 elbo: -246524.84\n",
      "iter: 38 elbo: -246227.61\n",
      "iter: 39 elbo: -245772.06\n",
      "iter: 40 elbo: -245247.65\n",
      "iter: 41 elbo: -244777.14\n",
      "iter: 42 elbo: -244429.57\n",
      "iter: 43 elbo: -244221.02\n",
      "iter: 44 elbo: -244143.62\n",
      "iter: 45 elbo: -244161.78\n",
      "iter: 46 elbo: -244207.86\n",
      "iter: 47 elbo: -244210.20\n",
      "iter: 48 elbo: -244138.48\n",
      "iter: 49 elbo: -244010.26\n",
      "iter: 50 elbo: -243865.40\n",
      "iter: 51 elbo: -243739.52\n",
      "iter: 52 elbo: -243651.51\n",
      "iter: 53 elbo: -243592.06\n",
      "iter: 54 elbo: -243529.73\n",
      "iter: 55 elbo: -243445.59\n",
      "iter: 56 elbo: -243348.41\n",
      "iter: 57 elbo: -243256.52\n",
      "iter: 58 elbo: -243178.95\n",
      "iter: 59 elbo: -243115.86\n",
      "iter: 60 elbo: -243069.26\n",
      "iter: 61 elbo: -243041.29\n",
      "iter: 62 elbo: -243023.37\n",
      "iter: 63 elbo: -243000.39\n",
      "iter: 64 elbo: -242967.86\n",
      "iter: 65 elbo: -242933.73\n",
      "iter: 66 elbo: -242904.24\n",
      "iter: 67 elbo: -242880.09\n",
      "iter: 68 elbo: -242861.93\n",
      "iter: 69 elbo: -242847.40\n",
      "iter: 70 elbo: -242829.99\n",
      "iter: 71 elbo: -242808.58\n",
      "iter: 72 elbo: -242789.18\n",
      "iter: 73 elbo: -242775.31\n",
      "iter: 74 elbo: -242764.67\n",
      "iter: 75 elbo: -242754.47\n",
      "iter: 76 elbo: -242743.49\n",
      "iter: 77 elbo: -242730.43\n",
      "iter: 78 elbo: -242714.59\n",
      "iter: 79 elbo: -242698.05\n",
      "iter: 80 elbo: -242684.94\n",
      "iter: 81 elbo: -242677.46\n",
      "iter: 82 elbo: -242673.58\n",
      "iter: 83 elbo: -242669.74\n",
      "iter: 84 elbo: -242664.59\n",
      "iter: 85 elbo: -242658.43\n",
      "iter: 86 elbo: -242651.29\n",
      "iter: 87 elbo: -242643.55\n",
      "iter: 88 elbo: -242636.53\n",
      "iter: 89 elbo: -242630.86\n",
      "iter: 90 elbo: -242625.95\n",
      "iter: 91 elbo: -242621.31\n",
      "iter: 92 elbo: -242616.86\n",
      "iter: 93 elbo: -242612.34\n",
      "iter: 94 elbo: -242607.70\n",
      "iter: 95 elbo: -242603.40\n",
      "iter: 96 elbo: -242599.57\n",
      "iter: 97 elbo: -242595.87\n",
      "iter: 98 elbo: -242592.07\n",
      "iter: 99 elbo: -242588.32\n",
      "iter: 100 elbo: -242584.84\n",
      "iter: 101 elbo: -242581.74\n",
      "iter: 102 elbo: -242579.09\n",
      "iter: 103 elbo: -242576.74\n",
      "iter: 104 elbo: -242574.35\n",
      "iter: 105 elbo: -242571.66\n",
      "iter: 106 elbo: -242568.85\n",
      "iter: 107 elbo: -242566.29\n",
      "iter: 108 elbo: -242564.07\n",
      "iter: 109 elbo: -242562.01\n",
      "iter: 110 elbo: -242559.95\n",
      "iter: 111 elbo: -242557.79\n",
      "iter: 112 elbo: -242555.50\n",
      "iter: 113 elbo: -242553.29\n",
      "iter: 114 elbo: -242551.31\n",
      "iter: 115 elbo: -242549.53\n",
      "iter: 116 elbo: -242547.85\n",
      "iter: 117 elbo: -242546.20\n",
      "iter: 118 elbo: -242544.56\n",
      "iter: 119 elbo: -242542.92\n",
      "iter: 120 elbo: -242541.30\n",
      "iter: 121 elbo: -242539.78\n",
      "iter: 122 elbo: -242538.36\n",
      "iter: 123 elbo: -242536.99\n",
      "iter: 124 elbo: -242535.64\n",
      "iter: 125 elbo: -242534.30\n",
      "iter: 126 elbo: -242532.97\n",
      "iter: 127 elbo: -242531.69\n",
      "iter: 128 elbo: -242530.47\n",
      "iter: 129 elbo: -242529.30\n",
      "iter: 130 elbo: -242528.14\n",
      "iter: 131 elbo: -242527.01\n",
      "iter: 132 elbo: -242525.92\n",
      "iter: 133 elbo: -242524.86\n",
      "iter: 134 elbo: -242523.85\n",
      "iter: 135 elbo: -242522.87\n",
      "iter: 136 elbo: -242521.89\n",
      "iter: 137 elbo: -242520.94\n",
      "iter: 138 elbo: -242520.01\n",
      "iter: 139 elbo: -242519.13\n",
      "iter: 140 elbo: -242518.26\n",
      "iter: 141 elbo: -242517.40\n",
      "iter: 142 elbo: -242516.56\n",
      "iter: 143 elbo: -242515.74\n",
      "iter: 144 elbo: -242514.94\n",
      "iter: 145 elbo: -242514.18\n",
      "iter: 146 elbo: -242513.45\n",
      "iter: 147 elbo: -242512.73\n",
      "iter: 148 elbo: -242512.02\n",
      "iter: 149 elbo: -242511.32\n",
      "iter: 150 elbo: -242510.64\n",
      "iter: 151 elbo: -242509.97\n",
      "iter: 152 elbo: -242509.33\n",
      "iter: 153 elbo: -242508.71\n",
      "iter: 154 elbo: -242508.10\n",
      "iter: 155 elbo: -242507.50\n",
      "iter: 156 elbo: -242506.91\n",
      "iter: 157 elbo: -242506.34\n",
      "iter: 158 elbo: -242505.78\n",
      "iter: 159 elbo: -242505.23\n",
      "iter: 160 elbo: -242504.70\n",
      "iter: 161 elbo: -242504.17\n",
      "iter: 162 elbo: -242503.66\n",
      "iter: 163 elbo: -242503.16\n",
      "iter: 164 elbo: -242502.67\n",
      "iter: 165 elbo: -242502.19\n",
      "iter: 166 elbo: -242501.72\n",
      "iter: 167 elbo: -242501.26\n",
      "iter: 168 elbo: -242500.81\n",
      "iter: 169 elbo: -242500.37\n",
      "iter: 170 elbo: -242499.94\n",
      "iter: 171 elbo: -242499.52\n",
      "iter: 172 elbo: -242499.10\n",
      "iter: 173 elbo: -242498.69\n",
      "iter: 174 elbo: -242498.29\n",
      "iter: 175 elbo: -242497.90\n",
      "iter: 176 elbo: -242497.52\n",
      "iter: 177 elbo: -242497.14\n",
      "iter: 178 elbo: -242496.77\n",
      "iter: 179 elbo: -242496.40\n",
      "iter: 180 elbo: -242496.05\n",
      "iter: 181 elbo: -242495.70\n",
      "iter: 182 elbo: -242495.35\n",
      "iter: 183 elbo: -242495.01\n",
      "iter: 184 elbo: -242494.68\n",
      "iter: 185 elbo: -242494.35\n",
      "iter: 186 elbo: -242494.03\n",
      "iter: 187 elbo: -242493.71\n",
      "iter: 188 elbo: -242493.40\n",
      "iter: 189 elbo: -242493.09\n",
      "iter: 190 elbo: -242492.79\n",
      "iter: 191 elbo: -242492.49\n",
      "iter: 192 elbo: -242492.20\n",
      "iter: 193 elbo: -242491.91\n",
      "iter: 194 elbo: -242491.62\n",
      "iter: 195 elbo: -242491.34\n",
      "iter: 196 elbo: -242491.07\n",
      "iter: 197 elbo: -242490.79\n",
      "iter: 198 elbo: -242490.52\n",
      "iter: 199 elbo: -242490.26\n",
      "iter: 200 elbo: -242490.00\n",
      "CPU times: user 9min 57s, sys: 26.1 s, total: 10min 23s\n",
      "Wall time: 1min 19s\n"
     ]
    }
   ],
   "source": [
    "%%time\n",
    "max_iter = 200\n",
    "elbos = []\n",
    "for i in range(max_iter):\n",
    "    elbo = svi(s, M=1000)\n",
    "    loss = - elbo \n",
    "    print(f'iter: {i+1} elbo: {elbo:.2f}')\n",
    "    elbos.append(elbo)\n",
    "    optim.zero_grad()\n",
    "    loss.backward()\n",
    "    optim.step()"
   ]
  },
  {
   "cell_type": "code",
   "execution_count": 41,
   "id": "7a22e195-e3b2-4d61-a5ad-0b659a472732",
   "metadata": {},
   "outputs": [],
   "source": [
    "elbos = [elbo.detach().numpy() for elbo in elbos]"
   ]
  },
  {
   "cell_type": "code",
   "execution_count": 42,
   "id": "0cfdf480-e3cc-4114-adc7-23ab905d0c96",
   "metadata": {},
   "outputs": [
    {
     "data": {
      "image/png": "[encoded data removed]",
      "text/plain": [
       "<Figure size 400x200 with 1 Axes>"
      ]
     },
     "metadata": {},
     "output_type": "display_data"
    }
   ],
   "source": [
    "plt.figure(figsize=(4,2))\n",
    "plt.plot(elbos)\n",
    "plt.xlabel(\"Iteration\")\n",
    "plt.ylabel(\"ELBO\");"
   ]
  },
  {
   "cell_type": "code",
   "execution_count": 48,
   "id": "4731f8c4-5285-471a-85a7-038645ce716a",
   "metadata": {},
   "outputs": [
    {
     "data": {
      "text/plain": [
       "0.05677407672582069"
      ]
     },
     "execution_count": 48,
     "metadata": {},
     "output_type": "execute_result"
    }
   ],
   "source": [
    "y_true = np.hstack(y)\n",
    "y_pred = np.hstack([svi.yhat[k].detach().numpy() for k in range(len(data_loader.test_ids))])\n",
    "r2_score(y_true, y_pred)"
   ]
  },
  {
   "cell_type": "code",
   "execution_count": 49,
   "id": "146f0a95-0d14-4334-aa05-f5fe9fb792c5",
   "metadata": {},
   "outputs": [
    {
     "data": {
      "image/png": "[encoded data removed]",
      "text/plain": [
       "<Figure size 1200x200 with 1 Axes>"
      ]
     },
     "metadata": {},
     "output_type": "display_data"
    }
   ],
   "source": [
    "plt.figure(figsize=(12, 2))\n",
    "plt.plot(y_true[:150], c='gray', linestyle='dashed', label='observed');\n",
    "plt.plot(y_pred[:150], c='blue', alpha=.6, label='predicted');"
   ]
  },
  {
   "cell_type": "code",
   "execution_count": 55,
   "id": "913fe415-5081-4126-b6d6-15ea2db688a2",
   "metadata": {},
   "outputs": [
    {
     "data": {
      "image/png": "[encoded data removed]",
      "text/plain": [
       "<Figure size 500x200 with 1 Axes>"
      ]
     },
     "metadata": {},
     "output_type": "display_data"
    }
   ],
   "source": [
    "i = -1\n",
    "plt.figure(figsize=(5,2))\n",
    "plt.plot(svi.yhat[i].detach().numpy());"
   ]
  },
  {
   "cell_type": "code",
   "execution_count": 56,
   "id": "b3bca2d6-e596-4672-bade-f938bbaf404d",
   "metadata": {},
   "outputs": [
    {
     "data": {
      "image/png": "[encoded data removed]",
      "text/plain": [
       "<Figure size 500x200 with 1 Axes>"
      ]
     },
     "metadata": {},
     "output_type": "display_data"
    }
   ],
   "source": [
    "plt.figure(figsize=(5,2))\n",
    "plt.plot(y[i]);"
   ]
  },
  {
   "cell_type": "code",
   "execution_count": 47,
   "id": "f106e168-2f9c-48ac-9c6c-bcdb7312caeb",
   "metadata": {},
   "outputs": [
    {
     "data": {
      "image/png": "[encoded data removed]",
      "text/plain": [
       "<Figure size 400x300 with 2 Axes>"
      ]
     },
     "metadata": {},
     "output_type": "display_data"
    }
   ],
   "source": [
    "plt.figure(figsize=(4,3))\n",
    "plt.imshow(torch.exp(svi.log_pis[i]).detach().numpy(), \n",
    "           aspect='auto', cmap='cubehelix')\n",
    "plt.colorbar();"
   ]
  },
  {
   "cell_type": "code",
   "execution_count": null,
   "id": "124c5ae4-530e-46a6-9e6f-0b95d76e48ef",
   "metadata": {},
   "outputs": [],
   "source": []
  },
  {
   "cell_type": "code",
   "execution_count": null,
   "id": "bfffa220-3b44-4169-9c26-f58adf0fb059",
   "metadata": {},
   "outputs": [],
   "source": []
  }
 ],
 "metadata": {
  "kernelspec": {
   "display_name": "Python 3 (ipykernel)",
   "language": "python",
   "name": "python3"
  },
  "language_info": {
   "codemirror_mode": {
    "name": "ipython",
    "version": 3
   },
   "file_extension": ".py",
   "mimetype": "text/x-python",
   "name": "python",
   "nbconvert_exporter": "python",
   "pygments_lexer": "ipython3",
   "version": "3.8.13"
  }
 },
 "nbformat": 4,
 "nbformat_minor": 5
}
