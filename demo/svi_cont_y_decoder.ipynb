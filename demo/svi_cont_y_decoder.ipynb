{
 "cells": [
  {
   "cell_type": "markdown",
   "id": "2eeb956a-e7c2-417f-b937-f996edf94acb",
   "metadata": {},
   "source": [
    "svi - decoder for continuous y:\n",
    "    \n",
    "the key is to represent important quantities as random variables, and then sample from them:\n",
    "    \n",
    "$s \\sim \\mathcal{N}(\\cdot, \\cdot)$,\n",
    "\n",
    "$z \\sim \\text{Categorical}(\\pi)$,\n",
    "\n",
    "$\\pi = \\lambda / \\sum \\lambda$,\n",
    "\n",
    "$\\log(\\lambda) \\sim \\mathcal{N}(b + \\beta y, 0)$,\n",
    "\n",
    "$y \\sim \\mathcal{GP}(\\cdot, \\cdot)$\n",
    "\n",
    "(remember to specify the priors for these R.V.s)\n",
    "\n",
    "when calculate the elbo, we can sample from these R.V.s and then use `pytorch`'s existing functionality to compute the log-likelihood and differential entropy terms.\n",
    "\n",
    "**caveat**: since a finite subset of GP is just a multivariate normal, we can set its mean and kernel function as parameters to be learned by SGD, and then do everything else w.r.t. the multivariate normal. (see [gaussian-process-tutorial](https://peterroelants.github.io/posts/gaussian-process-tutorial/))\n",
    "\n",
    "we can still keep the cavi encoder but implement a svi decoder. the principle is that if we can get exact estimates (cavi) then exact is prefered over stochastic (svi)."
   ]
  },
  {
   "cell_type": "code",
   "execution_count": 1,
   "id": "169b9825-6096-4589-90bb-40d7b5e2c1ab",
   "metadata": {},
   "outputs": [],
   "source": [
    "import numpy as np\n",
    "import random\n",
    "import matplotlib.pyplot as plt\n",
    "\n",
    "from sklearn.linear_model import Ridge\n",
    "from sklearn.mixture import GaussianMixture\n",
    "from sklearn.metrics import r2_score\n",
    "\n",
    "import torch\n",
    "import torch.distributions as D\n",
    "\n",
    "from clusterless import preprocess\n",
    "from clusterless import decoder"
   ]
  },
  {
   "cell_type": "code",
   "execution_count": 2,
   "id": "8946fa03-525d-4388-ad43-b0740fc38180",
   "metadata": {},
   "outputs": [],
   "source": [
    "seed = 666\n",
    "random.seed(seed)\n",
    "np.random.seed(seed)\n",
    "torch.manual_seed(seed)\n",
    "torch.set_default_dtype(torch.double)"
   ]
  },
  {
   "cell_type": "code",
   "execution_count": 3,
   "id": "6184b37c-993a-4976-ad99-eeb205b80233",
   "metadata": {},
   "outputs": [],
   "source": [
    "SMALL_SIZE = 15\n",
    "MEDIUM_SIZE = 20\n",
    "BIGGER_SIZE = 25\n",
    "\n",
    "plt.rc('font', size=MEDIUM_SIZE)         \n",
    "plt.rc('axes', titlesize=MEDIUM_SIZE)     \n",
    "plt.rc('axes', labelsize=MEDIUM_SIZE) \n",
    "plt.rc('axes', linewidth = 1.5)\n",
    "plt.rc('xtick', labelsize=MEDIUM_SIZE)   \n",
    "plt.rc('ytick', labelsize=MEDIUM_SIZE)   \n",
    "plt.rc('legend', fontsize=MEDIUM_SIZE)   \n",
    "plt.rc('figure', titlesize=MEDIUM_SIZE)"
   ]
  },
  {
   "cell_type": "markdown",
   "id": "94d961e4-8d82-48d4-90f6-cfcc98437449",
   "metadata": {},
   "source": [
    "#### data"
   ]
  },
  {
   "cell_type": "code",
   "execution_count": 4,
   "id": "40112036-8b3f-432b-a902-2c6323f0fe0a",
   "metadata": {},
   "outputs": [],
   "source": [
    "pid = 'dab512bd-a02d-4c1f-8dbc-9155a163efc0'\n",
    "rootpath = '/mnt/3TB/yizi/Downloads/ONE/openalyx.internationalbrainlab.org'\n",
    "trial_data_path = rootpath + '/danlab/Subjects/DY_016/2020-09-12/001/alf'\n",
    "neural_data_path = '/mnt/3TB/yizi/danlab/Subjects/DY_016'\n",
    "behavior_data_path = rootpath + '/paper_repro_ephys_data/figure9_10/original_data'\n",
    "save_path = '../saved_results/danlab/Subjects/DY_016/cavi_results/continuous/'"
   ]
  },
  {
   "cell_type": "code",
   "execution_count": 5,
   "id": "b11221e0-0d6a-44f7-a187-f90eddfe46fd",
   "metadata": {},
   "outputs": [
    {
     "name": "stdout",
     "output_type": "stream",
     "text": [
      "pid: dab512bd-a02d-4c1f-8dbc-9155a163efc0\n",
      "eid: d23a44ef-1402-4ed7-97f5-47e9a7a504d9\n",
      "1st trial stim on time: 17.56, last trial stim on time 2310.24\n"
     ]
    }
   ],
   "source": [
    "unsorted_trials, stim_on_times, np1_channel_map = preprocess.load_neural_data(\n",
    "    pid=pid, \n",
    "    trial_data_path=trial_data_path,\n",
    "    neural_data_path=neural_data_path,\n",
    "    behavior_data_path=behavior_data_path,\n",
    "    keep_active_trials=True, \n",
    "    roi='all',\n",
    "    kilosort=False,\n",
    "    triage=False\n",
    ")\n",
    "\n",
    "behave_dict = preprocess.load_behaviors_data(behavior_data_path, pid)\n",
    "_, wheel_velocity, _, _, _, _ = preprocess.preprocess_dynamic_behaviors(behave_dict)"
   ]
  },
  {
   "cell_type": "code",
   "execution_count": 6,
   "id": "77834d82-67e7-4a30-a891-a2a24fd55419",
   "metadata": {},
   "outputs": [],
   "source": [
    "class DataLoader():\n",
    "    def __init__(self, data, y, stim_on_times, np1_channel_map, n_t_bins=30):\n",
    "        self.data = data\n",
    "        self.y = y\n",
    "        self.stim_on_times = stim_on_times\n",
    "        self.np1_channel_map = np1_channel_map\n",
    "        self.n_t_bins = n_t_bins\n",
    "        self.n_trials = stim_on_times.shape[0]\n",
    "        self.n_channels = np1_channel_map.shape[0]\n",
    "        self.t_binning = np.arange(0, 1.5, step = (1.5 - 0) / n_t_bins)\n",
    "        self.rand_trial_ids = np.arange(self.n_trials)\n",
    "        \n",
    "        # allocate unsorted data into trials\n",
    "        self.trial_ids = []\n",
    "        self.t_ids = []\n",
    "        self.trials = []\n",
    "        self.t_bins = []\n",
    "        for k in range(self.n_trials):\n",
    "            mask = np.logical_and(data[:,0] >= stim_on_times[k] - 0.5,\n",
    "                                  data[:,0] <= stim_on_times[k] + 1)\n",
    "            trial = data[mask,:]\n",
    "            trial[:,0] = trial[:,0] - trial[:,0].min()\n",
    "            t_bins = np.digitize(trial[:,0], self.t_binning, right = False) - 1\n",
    "            t_bin_lst = []\n",
    "            for t in range(self.n_t_bins):\n",
    "                t_bin = trial[t_bins == t,1:]\n",
    "                self.trial_ids.append(np.ones_like(t_bin[:,0]) * k)\n",
    "                self.t_ids.append(np.ones_like(t_bin[:,0]) * t)\n",
    "                t_bin_lst.append(t_bin)\n",
    "            self.trials.append(t_bin_lst)\n",
    "    \n",
    "    \n",
    "    def split_train_test(self, split=.8):\n",
    "        \n",
    "        self.train_ids = self.rand_trial_ids[:int(split * self.n_trials)]\n",
    "        self.test_ids = self.rand_trial_ids[int(split * self.n_trials):]\n",
    "        self.y_train = self.y[self.train_ids]\n",
    "        self.y_test = self.y[self.test_ids]\n",
    "        \n",
    "        trial_ids = np.concatenate(self.trial_ids)\n",
    "        t_ids = np.concatenate(self.t_ids)\n",
    "        trials = np.concatenate(np.concatenate(self.trials))\n",
    "\n",
    "        train_mask = np.sum([trial_ids==idx for idx in self.train_ids], axis=0).astype(bool)\n",
    "        test_mask = np.sum([trial_ids==idx for idx in self.test_ids], axis=0).astype(bool)\n",
    "        train_k_ids, test_k_ids = trial_ids[train_mask], trial_ids[test_mask]\n",
    "        train_t_ids, test_t_ids = t_ids[train_mask], t_ids[test_mask]\n",
    "        train_k_ids = [torch.argwhere(torch.tensor(train_k_ids)==k).reshape(-1) for k in self.train_ids]\n",
    "        train_t_ids = [torch.argwhere(torch.tensor(train_t_ids)==t).reshape(-1) for t in range(self.n_t_bins)]\n",
    "        test_k_ids = [torch.argwhere(torch.tensor(test_k_ids)==k).reshape(-1) for k in self.test_ids]\n",
    "        test_t_ids = [torch.argwhere(torch.tensor(test_t_ids)==t).reshape(-1) for t in range(self.n_t_bins)]\n",
    "        train_trials, test_trials = trials[train_mask], trials[test_mask]\n",
    "        \n",
    "        return train_trials, train_k_ids, train_t_ids, \\\n",
    "               test_trials, test_k_ids, test_t_ids"
   ]
  },
  {
   "cell_type": "code",
   "execution_count": 7,
   "id": "4077bb0d-08ab-4860-86d1-99cf6869de75",
   "metadata": {},
   "outputs": [],
   "source": [
    "data_loader = DataLoader(data = np.concatenate(unsorted_trials)[:,[0,2,3,4]], \n",
    "                         y = wheel_velocity, \n",
    "                         stim_on_times = stim_on_times, \n",
    "                         np1_channel_map = np1_channel_map, \n",
    "                         n_t_bins=30)"
   ]
  },
  {
   "cell_type": "code",
   "execution_count": 8,
   "id": "e01ea19c-2a77-4d2b-afdc-60902445a13d",
   "metadata": {},
   "outputs": [
    {
     "name": "stderr",
     "output_type": "stream",
     "text": [
      "<__array_function__ internals>:180: VisibleDeprecationWarning: Creating an ndarray from ragged nested sequences (which is a list-or-tuple of lists-or-tuples-or ndarrays with different lengths or shapes) is deprecated. If you meant to do this, you must specify 'dtype=object' when creating the ndarray.\n"
     ]
    }
   ],
   "source": [
    "train_trials, train_k_ids, train_t_ids, test_trials, test_k_ids, test_t_ids = \\\n",
    "    data_loader.split_train_test(split=.975)"
   ]
  },
  {
   "cell_type": "code",
   "execution_count": null,
   "id": "302554bd-8ebc-41a7-841a-64e092b21527",
   "metadata": {},
   "outputs": [],
   "source": [
    "gmm = GaussianMixture(n_components=15, \n",
    "                      covariance_type='full', \n",
    "                      init_params='k-means++',\n",
    "                      verbose=0)\n",
    "gmm.fit(train_trials)"
   ]
  },
  {
   "cell_type": "code",
   "execution_count": 9,
   "id": "03422002-8fd1-44f8-8921-9d603f70d765",
   "metadata": {},
   "outputs": [],
   "source": [
    "s = torch.tensor(test_trials)\n",
    "y = torch.tensor(data_loader.y_test)\n",
    "\n",
    "Nk = len(data_loader.test_ids)\n",
    "Nt = data_loader.n_t_bins\n",
    "Nc = 15\n",
    "Nd = s.shape[1]"
   ]
  },
  {
   "cell_type": "markdown",
   "id": "32774550-0ea7-4971-bc99-318d162deddf",
   "metadata": {},
   "source": [
    "#### decoder"
   ]
  },
  {
   "cell_type": "code",
   "execution_count": 10,
   "id": "6be5b3ff-d29d-4c92-858c-a1954fc4841b",
   "metadata": {},
   "outputs": [],
   "source": [
    "def safe_log(x, minval=1e-10):\n",
    "    return torch.log(x + minval)\n",
    "\n",
    "def rbf_kernel(x, y, inv_sigma_sq):\n",
    "    '''\n",
    "    L2 norm. inv_sigma_sq is a parameter to be learned.\n",
    "    '''\n",
    "    sq_norm = -0.5 * inv_sigma_sq * torch.cdist(x[:,None], y[:,None], p = 2.0)\n",
    "    return torch.exp(sq_norm)"
   ]
  },
  {
   "cell_type": "code",
   "execution_count": 68,
   "id": "27b92f2e-98b2-4948-8283-71bdad7e8a01",
   "metadata": {},
   "outputs": [
    {
     "data": {
      "image/png": "[encoded data removed]",
      "text/plain": [
       "<Figure size 300x300 with 2 Axes>"
      ]
     },
     "metadata": {},
     "output_type": "display_data"
    }
   ],
   "source": [
    "gp_cov = rbf_kernel(y[1], y[1], 1.)\n",
    "plt.figure(figsize=(3,3))\n",
    "plt.imshow(gp_cov, cmap='YlGnBu');\n",
    "plt.colorbar();"
   ]
  },
  {
   "cell_type": "code",
   "execution_count": 65,
   "id": "b2f6f9f4-5657-49d3-aebf-c9c36d1c381f",
   "metadata": {},
   "outputs": [
    {
     "data": {
      "image/png": "[encoded data removed]",
      "text/plain": [
       "<Figure size 500x200 with 1 Axes>"
      ]
     },
     "metadata": {},
     "output_type": "display_data"
    }
   ],
   "source": [
    "q_y = D.multivariate_normal.MultivariateNormal(\n",
    "        loc=torch.tensor(data_loader.y_train).mean(0), \n",
    "        covariance_matrix=rbf_kernel(torch.linspace(0,29,30), \n",
    "                                     torch.linspace(0,29,30),\n",
    "                                     torch.tensor([.01]))\n",
    ")\n",
    "y_sample = q_y.sample((10,))\n",
    "plt.figure(figsize=(5,2))\n",
    "plt.plot(y_sample[0]);"
   ]
  },
  {
   "cell_type": "code",
   "execution_count": 70,
   "id": "af678557-5d1b-4d18-a74a-72bd9f97f067",
   "metadata": {},
   "outputs": [],
   "source": [
    "class SVI(torch.nn.Module):\n",
    "\n",
    "    def __init__(self, \n",
    "                 Nk, Nt, Nc, Nd, \n",
    "                 init_means, init_covs, init_ys,\n",
    "                 init_bs, init_betas,\n",
    "                 ks, ts):\n",
    "        super(SVI, self).__init__()\n",
    "        self.Nk = Nk\n",
    "        self.Nt = Nt\n",
    "        self.Nc = Nc\n",
    "        self.Nd = Nd\n",
    "        self.ks = ks\n",
    "        self.ts = ts\n",
    "        \n",
    "        # initialize parameters for variational distribution\n",
    "        self.means = torch.nn.Parameter(init_means, requires_grad=True)\n",
    "        self.covs = torch.nn.Parameter(init_covs, requires_grad=True)\n",
    "        self.bs = torch.nn.Parameter(init_bs, requires_grad=False)\n",
    "        self.betas = torch.nn.Parameter(init_betas, requires_grad=False)\n",
    "        \n",
    "        # initialize parameters for GP\n",
    "        self.y_support = torch.nn.Parameter(torch.linspace(0,Nt-1,Nt), requires_grad=False)\n",
    "        # self.gp_mean = torch.nn.Parameter(torch.tensor(init_ys), requires_grad=True)\n",
    "        # self.gp_sigma = torch.nn.Parameter(torch.tensor([1.]), requires_grad=True)\n",
    "        self.gp_mean = torch.nn.Parameter(torch.randn((Nk,Nt)), requires_grad=True)\n",
    "        self.gp_sigma = torch.nn.Parameter(torch.ones((Nk,)), requires_grad=True)\n",
    "        \n",
    "        # prior for y\n",
    "        self.y_prior = D.multivariate_normal.MultivariateNormal(\n",
    "                            loc=torch.tensor(init_ys), \n",
    "                            covariance_matrix=rbf_kernel(\n",
    "                                self.y_support, self.y_support,\n",
    "                                torch.tensor([1.])\n",
    "                            )\n",
    "            )\n",
    "        \n",
    "        \n",
    "    def forward(self, s, M=1000):\n",
    "        '''\n",
    "        M = number of Monte Carlo samples to be drawn.\n",
    "        '''\n",
    "        # FIX: ALLOW K GP PRIORS ?\n",
    "        # specify the variational dist. for y\n",
    "        # self.y = D.multivariate_normal.MultivariateNormal(\n",
    "        #                     loc=self.gp_mean, \n",
    "        #                     covariance_matrix=rbf_kernel(\n",
    "        #                         self.y_support, self.y_support,\n",
    "        #                         1./(torch.square(self.gp_sigma))\n",
    "        #                     )\n",
    "        #     )\n",
    "        self.y = []\n",
    "        for k in range(Nk):\n",
    "            self.y.append( D.multivariate_normal.MultivariateNormal(\n",
    "                                loc=self.gp_mean[k], \n",
    "                                covariance_matrix=rbf_kernel(\n",
    "                                    self.y_support, self.y_support,\n",
    "                                    1./(torch.square(self.gp_sigma[k]))\n",
    "                                )\n",
    "                            )\n",
    "                         )\n",
    "        \n",
    "        # sampling y \n",
    "        # FIX: \n",
    "        self.q_y = torch.zeros((Nk, Nt))\n",
    "        for k in range(Nk):\n",
    "            self.q_y[k] = self.y[k].sample((M,)).mean(0)\n",
    "        \n",
    "        \n",
    "        # compute log-lambdas\n",
    "        log_lambdas = torch.zeros((self.Nk, self.Nc, self.Nt))\n",
    "        for k in range(self.Nk):\n",
    "            for t in range(self.Nt):\n",
    "                log_lambdas[k,:,t] = self.bs + self.betas[:,t] @ self.q_y[k]\n",
    "        \n",
    "        # compute mixing proportions \n",
    "        self.log_pis = log_lambdas - torch.logsumexp(log_lambdas, 1)[:,None,:]\n",
    "        \n",
    "        \n",
    "        # specify the variational dist. for z\n",
    "        z = []\n",
    "        for k in range(Nk):\n",
    "            z_k = []\n",
    "            for t in range(Nt):\n",
    "                z_k.append(D.categorical.Categorical(probs=torch.exp(self.log_pis)[k,:,t]))\n",
    "            z.append(z_k)\n",
    "        \n",
    "        # Unlike CAVI where we have exact formula for q(z), \n",
    "        # we'd have to sample z from q in SVI.\n",
    "        # sampling z\n",
    "        # FIX: \n",
    "        q_z = []\n",
    "        for k in range(Nk):\n",
    "            q_z_k = []\n",
    "            for t in range(Nt):\n",
    "                k_t_idx = np.intersect1d(self.ks[k], self.ts[t])\n",
    "                z_sample = z[k][t].sample((s[k_t_idx].shape[0], M))\n",
    "                q_z_k_t = torch.zeros((s[k_t_idx].shape[0], Nc))\n",
    "                for j in range(Nc):\n",
    "                    q_z_k_t[:,j] = (z_sample == j).sum(1) / M\n",
    "                q_z_k.append(q_z_k_t)\n",
    "            q_z.append(q_z_k)\n",
    "                    \n",
    "        \n",
    "        # compute log-likelihood for s as mixture density\n",
    "        ll = torch.zeros((s.shape[0], self.Nc))\n",
    "        for j in range(self.Nc):\n",
    "            ll[:,j] = D.multivariate_normal.MultivariateNormal(\n",
    "                            loc=self.means[j], \n",
    "                            covariance_matrix=self.covs[j]\n",
    "                        ).log_prob(s)\n",
    "            \n",
    "        \n",
    "        # FIX: WRONG ELBO ! \n",
    "        # compute ELBO = E_z,y[logp(s,z,y)] - E_z,y[logq(z,y)]\n",
    "        # E_z,y[logp(s,z,y)] = E_z,y[logp(s|z) + logp(z|y) + logp(y)]\n",
    "        \n",
    "        # E_z[logp(s|z)]\n",
    "        log_p_s_cond_z = 0\n",
    "        for k in range(Nk):\n",
    "            for t in range(Nt):\n",
    "                k_t_idx = np.intersect1d(self.ks[k], self.ts[t])\n",
    "                log_p_s_cond_z += (q_z[k][t] * ll[k_t_idx]).sum()\n",
    "        \n",
    "        # E_z[logp(z|y)]\n",
    "        log_p_z_cond_y = 0\n",
    "        for k in range(Nk):\n",
    "            for t in range(Nt):\n",
    "                log_p_z_cond_y += (q_z[k][t] * self.log_pis[k,:,t]).sum()\n",
    "        \n",
    "        # E_q(y)[logp(y)] (need differenial entropy?)\n",
    "        log_p_y = 0\n",
    "        for k in range(Nk):\n",
    "            log_p_y += (self.y[k].log_prob(self.q_y[k]).exp() * self.y_prior.log_prob(self.q_y[k])).sum()\n",
    "        \n",
    "        # Entropy E_z[logq(z)] \n",
    "        entropy_z = 0\n",
    "        for k in range(Nk):\n",
    "            for t in range(Nt):\n",
    "                entropy_z += (q_z[k][t] * safe_log(q_z[k][t])).sum()\n",
    "        \n",
    "        # Entropy E_q(y)[logq(y)] (need differenial entropy?)\n",
    "        entropy_y = 0\n",
    "        for k in range(Nk):\n",
    "            entropy_y += (self.y[k].log_prob(self.q_y[k]).exp() * self.y[k].log_prob(self.q_y[k])).sum()\n",
    "        \n",
    "        # print(f'E_z[logp(s|z)] = {log_p_s_cond_z}')\n",
    "        # print(f'E_z[logp(z|y)] = {log_p_z_cond_y}')\n",
    "        # print(f'E_y[logp(y)] = {log_p_y}')\n",
    "        # print(f'E_z[logq(z)] = {entropy_z}')\n",
    "        # print(f'E_y[logq(y)] = {entropy_y}')\n",
    "        \n",
    "        return log_p_s_cond_z + log_p_z_cond_y + log_p_y - entropy_z - entropy_y"
   ]
  },
  {
   "cell_type": "code",
   "execution_count": 71,
   "id": "210bcc88-c925-4e11-83ff-1f8cfc4a1b2b",
   "metadata": {},
   "outputs": [],
   "source": [
    "enc = np.load(save_path + f'cont_y_enc_res_c{Nc}.npy', allow_pickle=True).item()"
   ]
  },
  {
   "cell_type": "code",
   "execution_count": 72,
   "id": "cb113b6f-c39f-4113-a74e-49d2393a8d14",
   "metadata": {},
   "outputs": [],
   "source": [
    "svi = SVI(Nk, Nt, Nc, Nd, \n",
    "          enc['means'].requires_grad_(False), \n",
    "          enc['covs'].requires_grad_(False), \n",
    "          data_loader.y_train.mean(0),\n",
    "          enc['bs'].requires_grad_(False),\n",
    "          enc['betas'].requires_grad_(False),\n",
    "          test_k_ids, test_t_ids)\n",
    "optim = torch.optim.Adam(svi.parameters(), lr=1e-1)"
   ]
  },
  {
   "cell_type": "code",
   "execution_count": 73,
   "id": "0e134817-9635-44ed-a098-a2d509a416af",
   "metadata": {},
   "outputs": [
    {
     "name": "stdout",
     "output_type": "stream",
     "text": [
      "iter: 1 elbo: -44994016.37\n",
      "iter: 2 elbo: -44348860.90\n",
      "iter: 3 elbo: -44105340.30\n",
      "iter: 4 elbo: -43216361.21\n",
      "iter: 5 elbo: -43679984.84\n",
      "iter: 6 elbo: -42631767.95\n",
      "iter: 7 elbo: -42847866.36\n",
      "iter: 8 elbo: -42050321.28\n",
      "iter: 9 elbo: -42269898.13\n",
      "iter: 10 elbo: -41894038.03\n",
      "iter: 11 elbo: -41393719.34\n",
      "iter: 12 elbo: -41239204.53\n",
      "iter: 13 elbo: -40737084.89\n",
      "iter: 14 elbo: -40457980.41\n",
      "iter: 15 elbo: -40289156.12\n",
      "iter: 16 elbo: -39674515.37\n",
      "iter: 17 elbo: -39934836.19\n",
      "iter: 18 elbo: -39088262.45\n",
      "iter: 19 elbo: -39401976.88\n",
      "iter: 20 elbo: -38828960.14\n",
      "iter: 21 elbo: -38962006.20\n",
      "iter: 22 elbo: -39137813.90\n",
      "iter: 23 elbo: -38266998.82\n",
      "iter: 24 elbo: -38076227.74\n",
      "iter: 25 elbo: -38323046.32\n",
      "iter: 26 elbo: -38045941.19\n",
      "iter: 27 elbo: -37613661.90\n",
      "iter: 28 elbo: -37087611.24\n",
      "iter: 29 elbo: -37534178.60\n",
      "iter: 30 elbo: -37213699.79\n",
      "iter: 31 elbo: -36614097.85\n",
      "iter: 32 elbo: -36755346.75\n",
      "iter: 33 elbo: -36599872.65\n",
      "iter: 34 elbo: -36614170.79\n",
      "iter: 35 elbo: -36253233.47\n",
      "iter: 36 elbo: -36230436.72\n",
      "iter: 37 elbo: -36354654.69\n",
      "iter: 38 elbo: -35764966.17\n",
      "iter: 39 elbo: -35921661.17\n",
      "iter: 40 elbo: -35399496.21\n",
      "iter: 41 elbo: -35871164.83\n",
      "iter: 42 elbo: -35172839.20\n",
      "iter: 43 elbo: -35507238.84\n",
      "iter: 44 elbo: -34940831.67\n",
      "iter: 45 elbo: -35050705.74\n",
      "iter: 46 elbo: -35035688.83\n",
      "iter: 47 elbo: -34508587.73\n",
      "iter: 48 elbo: -34139160.32\n",
      "iter: 49 elbo: -34465858.21\n",
      "iter: 50 elbo: -34412215.15\n",
      "iter: 51 elbo: -34208469.05\n",
      "iter: 52 elbo: -34401980.64\n",
      "iter: 53 elbo: -34110892.75\n",
      "iter: 54 elbo: -33653235.50\n",
      "iter: 55 elbo: -33979288.75\n",
      "iter: 56 elbo: -33624792.07\n",
      "iter: 57 elbo: -34048354.87\n",
      "iter: 58 elbo: -33711354.88\n",
      "iter: 59 elbo: -33663340.43\n",
      "iter: 60 elbo: -33544936.19\n",
      "iter: 61 elbo: -33184041.51\n",
      "iter: 62 elbo: -33435446.39\n",
      "iter: 63 elbo: -33045189.67\n",
      "iter: 64 elbo: -33184619.07\n",
      "iter: 65 elbo: -33080251.02\n",
      "iter: 66 elbo: -32983666.64\n",
      "iter: 67 elbo: -33136856.24\n",
      "iter: 68 elbo: -33266245.27\n",
      "iter: 69 elbo: -32685066.26\n",
      "iter: 70 elbo: -32617323.13\n",
      "iter: 71 elbo: -32111506.26\n",
      "iter: 72 elbo: -32587874.40\n",
      "iter: 73 elbo: -32518699.39\n",
      "iter: 74 elbo: -32598818.02\n",
      "iter: 75 elbo: -32465541.12\n",
      "iter: 76 elbo: -32268698.44\n",
      "iter: 77 elbo: -32684805.74\n",
      "iter: 78 elbo: -32121798.55\n",
      "iter: 79 elbo: -31729209.69\n",
      "iter: 80 elbo: -31886415.35\n",
      "iter: 81 elbo: -32093560.70\n",
      "iter: 82 elbo: -31621956.55\n",
      "iter: 83 elbo: -31938659.82\n",
      "iter: 84 elbo: -31790576.15\n",
      "iter: 85 elbo: -31486481.23\n",
      "iter: 86 elbo: -31366543.69\n",
      "iter: 87 elbo: -31263511.62\n",
      "iter: 88 elbo: -31634051.63\n",
      "iter: 89 elbo: -31438208.89\n",
      "iter: 90 elbo: -31368941.18\n",
      "iter: 91 elbo: -31180027.67\n",
      "iter: 92 elbo: -31196029.63\n",
      "iter: 93 elbo: -31205065.29\n",
      "iter: 94 elbo: -30791483.18\n",
      "iter: 95 elbo: -31289795.50\n",
      "iter: 96 elbo: -30669998.85\n",
      "iter: 97 elbo: -31132505.24\n",
      "iter: 98 elbo: -30768788.73\n",
      "iter: 99 elbo: -30861641.59\n",
      "iter: 100 elbo: -30963313.92\n",
      "CPU times: user 37min 17s, sys: 2min 20s, total: 39min 37s\n",
      "Wall time: 7min 42s\n"
     ]
    }
   ],
   "source": [
    "%%time\n",
    "max_iter = 100\n",
    "elbos = []\n",
    "for i in range(max_iter):\n",
    "    elbo = svi(s, M=1000)\n",
    "    loss = - elbo \n",
    "    print(f'iter: {i+1} elbo: {elbo:.2f}')\n",
    "    elbos.append(elbo)\n",
    "    optim.zero_grad()\n",
    "    loss.backward()\n",
    "    optim.step()"
   ]
  },
  {
   "cell_type": "code",
   "execution_count": 74,
   "id": "7a22e195-e3b2-4d61-a5ad-0b659a472732",
   "metadata": {},
   "outputs": [],
   "source": [
    "elbos = [elbo.detach().numpy() for elbo in elbos]"
   ]
  },
  {
   "cell_type": "code",
   "execution_count": 75,
   "id": "0cfdf480-e3cc-4114-adc7-23ab905d0c96",
   "metadata": {},
   "outputs": [
    {
     "data": {
      "image/png": "[encoded data removed]",
      "text/plain": [
       "<Figure size 400x200 with 1 Axes>"
      ]
     },
     "metadata": {},
     "output_type": "display_data"
    }
   ],
   "source": [
    "plt.figure(figsize=(4,2))\n",
    "plt.plot(elbos)\n",
    "plt.xlabel(\"Iteration\")\n",
    "plt.ylabel(\"ELBO\");"
   ]
  },
  {
   "cell_type": "code",
   "execution_count": 76,
   "id": "def9374d-e48b-443a-b276-368761bdd520",
   "metadata": {},
   "outputs": [
    {
     "data": {
      "text/plain": [
       "Parameter containing:\n",
       "tensor([0.1000, 0.1000, 0.1000, 0.1000, 0.1000, 0.1000, 0.1000],\n",
       "       requires_grad=True)"
      ]
     },
     "execution_count": 76,
     "metadata": {},
     "output_type": "execute_result"
    }
   ],
   "source": [
    "svi.gp_sigma"
   ]
  },
  {
   "cell_type": "code",
   "execution_count": 77,
   "id": "72d9909e-91ee-46ed-b04b-d970c7ed6cb5",
   "metadata": {},
   "outputs": [
    {
     "data": {
      "image/png": "[encoded data removed]",
      "text/plain": [
       "<Figure size 500x200 with 1 Axes>"
      ]
     },
     "metadata": {},
     "output_type": "display_data"
    }
   ],
   "source": [
    "plt.figure(figsize=(5,2))\n",
    "plt.plot(svi.y_prior.loc.detach().numpy());"
   ]
  },
  {
   "cell_type": "code",
   "execution_count": 83,
   "id": "146f0a95-0d14-4334-aa05-f5fe9fb792c5",
   "metadata": {},
   "outputs": [
    {
     "data": {
      "image/png": "[encoded data removed]",
      "text/plain": [
       "<Figure size 500x200 with 1 Axes>"
      ]
     },
     "metadata": {},
     "output_type": "display_data"
    }
   ],
   "source": [
    "plt.figure(figsize=(5,2))\n",
    "plt.plot(svi.q_y[5].detach().numpy());"
   ]
  },
  {
   "cell_type": "code",
   "execution_count": 79,
   "id": "b3bca2d6-e596-4672-bade-f938bbaf404d",
   "metadata": {},
   "outputs": [
    {
     "data": {
      "image/png": "[encoded data removed]",
      "text/plain": [
       "<Figure size 500x200 with 1 Axes>"
      ]
     },
     "metadata": {},
     "output_type": "display_data"
    }
   ],
   "source": [
    "plt.figure(figsize=(5,2))\n",
    "plt.plot(y[2]);"
   ]
  },
  {
   "cell_type": "code",
   "execution_count": 80,
   "id": "f106e168-2f9c-48ac-9c6c-bcdb7312caeb",
   "metadata": {},
   "outputs": [
    {
     "data": {
      "image/png": "[encoded data removed]",
      "text/plain": [
       "<Figure size 400x300 with 2 Axes>"
      ]
     },
     "metadata": {},
     "output_type": "display_data"
    }
   ],
   "source": [
    "plt.figure(figsize=(4,3))\n",
    "plt.imshow(torch.exp(svi.log_pis[0]).detach().numpy(), \n",
    "           aspect='auto', cmap='cubehelix')\n",
    "plt.colorbar();"
   ]
  },
  {
   "cell_type": "code",
   "execution_count": null,
   "id": "124c5ae4-530e-46a6-9e6f-0b95d76e48ef",
   "metadata": {},
   "outputs": [],
   "source": []
  }
 ],
 "metadata": {
  "kernelspec": {
   "display_name": "Python 3 (ipykernel)",
   "language": "python",
   "name": "python3"
  },
  "language_info": {
   "codemirror_mode": {
    "name": "ipython",
    "version": 3
   },
   "file_extension": ".py",
   "mimetype": "text/x-python",
   "name": "python",
   "nbconvert_exporter": "python",
   "pygments_lexer": "ipython3",
   "version": "3.8.13"
  }
 },
 "nbformat": 4,
 "nbformat_minor": 5
}
