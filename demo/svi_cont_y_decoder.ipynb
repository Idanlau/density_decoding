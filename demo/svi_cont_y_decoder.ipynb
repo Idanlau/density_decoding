{
 "cells": [
  {
   "cell_type": "markdown",
   "id": "2eeb956a-e7c2-417f-b937-f996edf94acb",
   "metadata": {},
   "source": [
    "svi - decoder for continuous y:\n",
    "    \n",
    "the key is to represent important quantities as random variables, and then sample from them:\n",
    "    \n",
    "$s \\sim \\mathcal{N}(\\cdot, \\cdot)$,\n",
    "\n",
    "$z \\sim \\text{Categorical}(\\pi)$,\n",
    "\n",
    "$\\pi = \\lambda / \\sum \\lambda$,\n",
    "\n",
    "$\\log(\\lambda) \\sim \\mathcal{N}(b + \\beta y, 0)$,\n",
    "\n",
    "$y \\sim \\mathcal{GP}(\\cdot, \\cdot)$\n",
    "\n",
    "(remember to specify the priors for these R.V.s)\n",
    "\n",
    "when calculate the elbo, we can sample from these R.V.s and then use `pytorch`'s existing functionality to compute the log-likelihood and differential entropy terms.\n",
    "\n",
    "**caveat**: since a finite subset of GP is just a multivariate normal, we can set its mean and kernel function as parameters to be learned by SGD, and then do everything else w.r.t. the multivariate normal. (see [gaussian-process-tutorial](https://peterroelants.github.io/posts/gaussian-process-tutorial/))\n",
    "\n",
    "we can still keep the cavi encoder but implement a svi decoder. the principle is that if we can get exact estimates (cavi) then exact is prefered over stochastic (svi)."
   ]
  },
  {
   "cell_type": "code",
   "execution_count": 1,
   "id": "169b9825-6096-4589-90bb-40d7b5e2c1ab",
   "metadata": {},
   "outputs": [],
   "source": [
    "import numpy as np\n",
    "import random\n",
    "import matplotlib.pyplot as plt\n",
    "\n",
    "from sklearn.linear_model import Ridge\n",
    "from sklearn.mixture import GaussianMixture\n",
    "from sklearn.metrics import r2_score\n",
    "\n",
    "import torch\n",
    "import torch.distributions as D\n",
    "\n",
    "from clusterless import preprocess\n",
    "from clusterless import decoder"
   ]
  },
  {
   "cell_type": "code",
   "execution_count": 2,
   "id": "8946fa03-525d-4388-ad43-b0740fc38180",
   "metadata": {},
   "outputs": [],
   "source": [
    "seed = 666\n",
    "random.seed(seed)\n",
    "np.random.seed(seed)\n",
    "torch.manual_seed(seed)\n",
    "torch.set_default_dtype(torch.double)"
   ]
  },
  {
   "cell_type": "code",
   "execution_count": 3,
   "id": "6184b37c-993a-4976-ad99-eeb205b80233",
   "metadata": {},
   "outputs": [],
   "source": [
    "SMALL_SIZE = 15\n",
    "MEDIUM_SIZE = 20\n",
    "BIGGER_SIZE = 25\n",
    "\n",
    "plt.rc('font', size=MEDIUM_SIZE)         \n",
    "plt.rc('axes', titlesize=MEDIUM_SIZE)     \n",
    "plt.rc('axes', labelsize=MEDIUM_SIZE) \n",
    "plt.rc('axes', linewidth = 1.5)\n",
    "plt.rc('xtick', labelsize=MEDIUM_SIZE)   \n",
    "plt.rc('ytick', labelsize=MEDIUM_SIZE)   \n",
    "plt.rc('legend', fontsize=MEDIUM_SIZE)   \n",
    "plt.rc('figure', titlesize=MEDIUM_SIZE)"
   ]
  },
  {
   "cell_type": "markdown",
   "id": "94d961e4-8d82-48d4-90f6-cfcc98437449",
   "metadata": {},
   "source": [
    "#### data"
   ]
  },
  {
   "cell_type": "code",
   "execution_count": 4,
   "id": "40112036-8b3f-432b-a902-2c6323f0fe0a",
   "metadata": {},
   "outputs": [],
   "source": [
    "pid = 'dab512bd-a02d-4c1f-8dbc-9155a163efc0'\n",
    "rootpath = '/mnt/3TB/yizi/Downloads/ONE/openalyx.internationalbrainlab.org'\n",
    "trial_data_path = rootpath + '/danlab/Subjects/DY_016/2020-09-12/001/alf'\n",
    "neural_data_path = '/mnt/3TB/yizi/danlab/Subjects/DY_016'\n",
    "behavior_data_path = rootpath + '/paper_repro_ephys_data/figure9_10/original_data'\n",
    "save_path = '../saved_results/danlab/Subjects/DY_016/cavi_results/continuous/'"
   ]
  },
  {
   "cell_type": "code",
   "execution_count": 5,
   "id": "b11221e0-0d6a-44f7-a187-f90eddfe46fd",
   "metadata": {},
   "outputs": [
    {
     "name": "stdout",
     "output_type": "stream",
     "text": [
      "pid: dab512bd-a02d-4c1f-8dbc-9155a163efc0\n",
      "eid: d23a44ef-1402-4ed7-97f5-47e9a7a504d9\n",
      "1st trial stim on time: 17.56, last trial stim on time 2310.24\n"
     ]
    }
   ],
   "source": [
    "unsorted_trials, stim_on_times, np1_channel_map = preprocess.load_neural_data(\n",
    "    pid=pid, \n",
    "    trial_data_path=trial_data_path,\n",
    "    neural_data_path=neural_data_path,\n",
    "    behavior_data_path=behavior_data_path,\n",
    "    keep_active_trials=True, \n",
    "    roi='all',\n",
    "    kilosort=False,\n",
    "    triage=False\n",
    ")\n",
    "\n",
    "behave_dict = preprocess.load_behaviors_data(behavior_data_path, pid)\n",
    "_, wheel_velocity, _, _, _, _ = preprocess.preprocess_dynamic_behaviors(behave_dict)"
   ]
  },
  {
   "cell_type": "code",
   "execution_count": 6,
   "id": "77834d82-67e7-4a30-a891-a2a24fd55419",
   "metadata": {},
   "outputs": [],
   "source": [
    "class DataLoader():\n",
    "    def __init__(self, data, y, stim_on_times, np1_channel_map, n_t_bins=30):\n",
    "        self.data = data\n",
    "        self.y = y\n",
    "        self.stim_on_times = stim_on_times\n",
    "        self.np1_channel_map = np1_channel_map\n",
    "        self.n_t_bins = n_t_bins\n",
    "        self.n_trials = stim_on_times.shape[0]\n",
    "        self.n_channels = np1_channel_map.shape[0]\n",
    "        self.t_binning = np.arange(0, 1.5, step = (1.5 - 0) / n_t_bins)\n",
    "        self.rand_trial_ids = np.arange(self.n_trials)\n",
    "        \n",
    "        # allocate unsorted data into trials\n",
    "        self.trial_ids = []\n",
    "        self.t_ids = []\n",
    "        self.trials = []\n",
    "        self.t_bins = []\n",
    "        for k in range(self.n_trials):\n",
    "            mask = np.logical_and(data[:,0] >= stim_on_times[k] - 0.5,\n",
    "                                  data[:,0] <= stim_on_times[k] + 1)\n",
    "            trial = data[mask,:]\n",
    "            trial[:,0] = trial[:,0] - trial[:,0].min()\n",
    "            t_bins = np.digitize(trial[:,0], self.t_binning, right = False) - 1\n",
    "            t_bin_lst = []\n",
    "            for t in range(self.n_t_bins):\n",
    "                t_bin = trial[t_bins == t,1:]\n",
    "                self.trial_ids.append(np.ones_like(t_bin[:,0]) * k)\n",
    "                self.t_ids.append(np.ones_like(t_bin[:,0]) * t)\n",
    "                t_bin_lst.append(t_bin)\n",
    "            self.trials.append(t_bin_lst)\n",
    "    \n",
    "    \n",
    "    def split_train_test(self, split=.8):\n",
    "        \n",
    "        self.train_ids = self.rand_trial_ids[:int(split * self.n_trials)]\n",
    "        self.test_ids = self.rand_trial_ids[int(split * self.n_trials):]\n",
    "        self.y_train = self.y[self.train_ids]\n",
    "        self.y_test = self.y[self.test_ids]\n",
    "        \n",
    "        trial_ids = np.concatenate(self.trial_ids)\n",
    "        t_ids = np.concatenate(self.t_ids)\n",
    "        trials = np.concatenate(np.concatenate(self.trials))\n",
    "\n",
    "        train_mask = np.sum([trial_ids==idx for idx in self.train_ids], axis=0).astype(bool)\n",
    "        test_mask = np.sum([trial_ids==idx for idx in self.test_ids], axis=0).astype(bool)\n",
    "        train_k_ids, test_k_ids = trial_ids[train_mask], trial_ids[test_mask]\n",
    "        train_t_ids, test_t_ids = t_ids[train_mask], t_ids[test_mask]\n",
    "        train_k_ids = [torch.argwhere(torch.tensor(train_k_ids)==k).reshape(-1) for k in self.train_ids]\n",
    "        train_t_ids = [torch.argwhere(torch.tensor(train_t_ids)==t).reshape(-1) for t in range(self.n_t_bins)]\n",
    "        test_k_ids = [torch.argwhere(torch.tensor(test_k_ids)==k).reshape(-1) for k in self.test_ids]\n",
    "        test_t_ids = [torch.argwhere(torch.tensor(test_t_ids)==t).reshape(-1) for t in range(self.n_t_bins)]\n",
    "        train_trials, test_trials = trials[train_mask], trials[test_mask]\n",
    "        \n",
    "        return train_trials, train_k_ids, train_t_ids, \\\n",
    "               test_trials, test_k_ids, test_t_ids"
   ]
  },
  {
   "cell_type": "code",
   "execution_count": 7,
   "id": "4077bb0d-08ab-4860-86d1-99cf6869de75",
   "metadata": {},
   "outputs": [],
   "source": [
    "data_loader = DataLoader(data = np.concatenate(unsorted_trials)[:,[0,2,3,4]], \n",
    "                         y = wheel_velocity, \n",
    "                         stim_on_times = stim_on_times, \n",
    "                         np1_channel_map = np1_channel_map, \n",
    "                         n_t_bins=30)"
   ]
  },
  {
   "cell_type": "code",
   "execution_count": 8,
   "id": "e01ea19c-2a77-4d2b-afdc-60902445a13d",
   "metadata": {},
   "outputs": [
    {
     "name": "stderr",
     "output_type": "stream",
     "text": [
      "<__array_function__ internals>:180: VisibleDeprecationWarning: Creating an ndarray from ragged nested sequences (which is a list-or-tuple of lists-or-tuples-or ndarrays with different lengths or shapes) is deprecated. If you meant to do this, you must specify 'dtype=object' when creating the ndarray.\n"
     ]
    }
   ],
   "source": [
    "train_trials, train_k_ids, train_t_ids, test_trials, test_k_ids, test_t_ids = \\\n",
    "    data_loader.split_train_test(split=.95)"
   ]
  },
  {
   "cell_type": "code",
   "execution_count": 9,
   "id": "302554bd-8ebc-41a7-841a-64e092b21527",
   "metadata": {},
   "outputs": [
    {
     "data": {
      "text/html": [
       "<style>#sk-container-id-1 {color: black;background-color: white;}#sk-container-id-1 pre{padding: 0;}#sk-container-id-1 div.sk-toggleable {background-color: white;}#sk-container-id-1 label.sk-toggleable__label {cursor: pointer;display: block;width: 100%;margin-bottom: 0;padding: 0.3em;box-sizing: border-box;text-align: center;}#sk-container-id-1 label.sk-toggleable__label-arrow:before {content: \"▸\";float: left;margin-right: 0.25em;color: #696969;}#sk-container-id-1 label.sk-toggleable__label-arrow:hover:before {color: black;}#sk-container-id-1 div.sk-estimator:hover label.sk-toggleable__label-arrow:before {color: black;}#sk-container-id-1 div.sk-toggleable__content {max-height: 0;max-width: 0;overflow: hidden;text-align: left;background-color: #f0f8ff;}#sk-container-id-1 div.sk-toggleable__content pre {margin: 0.2em;color: black;border-radius: 0.25em;background-color: #f0f8ff;}#sk-container-id-1 input.sk-toggleable__control:checked~div.sk-toggleable__content {max-height: 200px;max-width: 100%;overflow: auto;}#sk-container-id-1 input.sk-toggleable__control:checked~label.sk-toggleable__label-arrow:before {content: \"▾\";}#sk-container-id-1 div.sk-estimator input.sk-toggleable__control:checked~label.sk-toggleable__label {background-color: #d4ebff;}#sk-container-id-1 div.sk-label input.sk-toggleable__control:checked~label.sk-toggleable__label {background-color: #d4ebff;}#sk-container-id-1 input.sk-hidden--visually {border: 0;clip: rect(1px 1px 1px 1px);clip: rect(1px, 1px, 1px, 1px);height: 1px;margin: -1px;overflow: hidden;padding: 0;position: absolute;width: 1px;}#sk-container-id-1 div.sk-estimator {font-family: monospace;background-color: #f0f8ff;border: 1px dotted black;border-radius: 0.25em;box-sizing: border-box;margin-bottom: 0.5em;}#sk-container-id-1 div.sk-estimator:hover {background-color: #d4ebff;}#sk-container-id-1 div.sk-parallel-item::after {content: \"\";width: 100%;border-bottom: 1px solid gray;flex-grow: 1;}#sk-container-id-1 div.sk-label:hover label.sk-toggleable__label {background-color: #d4ebff;}#sk-container-id-1 div.sk-serial::before {content: \"\";position: absolute;border-left: 1px solid gray;box-sizing: border-box;top: 0;bottom: 0;left: 50%;z-index: 0;}#sk-container-id-1 div.sk-serial {display: flex;flex-direction: column;align-items: center;background-color: white;padding-right: 0.2em;padding-left: 0.2em;position: relative;}#sk-container-id-1 div.sk-item {position: relative;z-index: 1;}#sk-container-id-1 div.sk-parallel {display: flex;align-items: stretch;justify-content: center;background-color: white;position: relative;}#sk-container-id-1 div.sk-item::before, #sk-container-id-1 div.sk-parallel-item::before {content: \"\";position: absolute;border-left: 1px solid gray;box-sizing: border-box;top: 0;bottom: 0;left: 50%;z-index: -1;}#sk-container-id-1 div.sk-parallel-item {display: flex;flex-direction: column;z-index: 1;position: relative;background-color: white;}#sk-container-id-1 div.sk-parallel-item:first-child::after {align-self: flex-end;width: 50%;}#sk-container-id-1 div.sk-parallel-item:last-child::after {align-self: flex-start;width: 50%;}#sk-container-id-1 div.sk-parallel-item:only-child::after {width: 0;}#sk-container-id-1 div.sk-dashed-wrapped {border: 1px dashed gray;margin: 0 0.4em 0.5em 0.4em;box-sizing: border-box;padding-bottom: 0.4em;background-color: white;}#sk-container-id-1 div.sk-label label {font-family: monospace;font-weight: bold;display: inline-block;line-height: 1.2em;}#sk-container-id-1 div.sk-label-container {text-align: center;}#sk-container-id-1 div.sk-container {/* jupyter's `normalize.less` sets `[hidden] { display: none; }` but bootstrap.min.css set `[hidden] { display: none !important; }` so we also need the `!important` here to be able to override the default hidden behavior on the sphinx rendered scikit-learn.org. See: https://github.com/scikit-learn/scikit-learn/issues/21755 */display: inline-block !important;position: relative;}#sk-container-id-1 div.sk-text-repr-fallback {display: none;}</style><div id=\"sk-container-id-1\" class=\"sk-top-container\"><div class=\"sk-text-repr-fallback\"><pre>GaussianMixture(init_params=&#x27;k-means++&#x27;, n_components=10)</pre><b>In a Jupyter environment, please rerun this cell to show the HTML representation or trust the notebook. <br />On GitHub, the HTML representation is unable to render, please try loading this page with nbviewer.org.</b></div><div class=\"sk-container\" hidden><div class=\"sk-item\"><div class=\"sk-estimator sk-toggleable\"><input class=\"sk-toggleable__control sk-hidden--visually\" id=\"sk-estimator-id-1\" type=\"checkbox\" checked><label for=\"sk-estimator-id-1\" class=\"sk-toggleable__label sk-toggleable__label-arrow\">GaussianMixture</label><div class=\"sk-toggleable__content\"><pre>GaussianMixture(init_params=&#x27;k-means++&#x27;, n_components=10)</pre></div></div></div></div></div>"
      ],
      "text/plain": [
       "GaussianMixture(init_params='k-means++', n_components=10)"
      ]
     },
     "execution_count": 9,
     "metadata": {},
     "output_type": "execute_result"
    }
   ],
   "source": [
    "gmm = GaussianMixture(n_components=10, \n",
    "                      covariance_type='full', \n",
    "                      init_params='k-means++',\n",
    "                      verbose=0)\n",
    "gmm.fit(train_trials)"
   ]
  },
  {
   "cell_type": "code",
   "execution_count": 10,
   "id": "03422002-8fd1-44f8-8921-9d603f70d765",
   "metadata": {},
   "outputs": [],
   "source": [
    "s = torch.tensor(test_trials)\n",
    "y = torch.tensor(data_loader.y_test)\n",
    "\n",
    "Nk = len(data_loader.test_ids)\n",
    "Nt = data_loader.n_t_bins\n",
    "Nc = 10\n",
    "Nd = s.shape[1]"
   ]
  },
  {
   "cell_type": "markdown",
   "id": "32774550-0ea7-4971-bc99-318d162deddf",
   "metadata": {},
   "source": [
    "#### decoder"
   ]
  },
  {
   "cell_type": "code",
   "execution_count": 11,
   "id": "6be5b3ff-d29d-4c92-858c-a1954fc4841b",
   "metadata": {},
   "outputs": [],
   "source": [
    "def safe_log(x, minval=1e-10):\n",
    "    return torch.log(x + minval)\n",
    "\n",
    "def rbf_kernel(x, y, inv_sigma_sq):\n",
    "    '''\n",
    "    L2 norm. inv_sigma_sq is a parameter to be learned.\n",
    "    '''\n",
    "    sq_norm = -0.5 * inv_sigma_sq * torch.cdist(x[:,None], y[:,None], p = 2.0)\n",
    "    return torch.exp(sq_norm)"
   ]
  },
  {
   "cell_type": "code",
   "execution_count": 12,
   "id": "27b92f2e-98b2-4948-8283-71bdad7e8a01",
   "metadata": {},
   "outputs": [
    {
     "data": {
      "image/png": "[encoded data removed]",
      "text/plain": [
       "<Figure size 300x300 with 2 Axes>"
      ]
     },
     "metadata": {},
     "output_type": "display_data"
    }
   ],
   "source": [
    "gp_cov = rbf_kernel(y[1], y[1], 1.)\n",
    "plt.figure(figsize=(3,3))\n",
    "plt.imshow(gp_cov, cmap='YlGnBu');\n",
    "plt.colorbar();"
   ]
  },
  {
   "cell_type": "code",
   "execution_count": 13,
   "id": "b2f6f9f4-5657-49d3-aebf-c9c36d1c381f",
   "metadata": {},
   "outputs": [
    {
     "data": {
      "image/png": "[encoded data removed]",
      "text/plain": [
       "<Figure size 500x200 with 1 Axes>"
      ]
     },
     "metadata": {},
     "output_type": "display_data"
    }
   ],
   "source": [
    "q_y = D.multivariate_normal.MultivariateNormal(\n",
    "        loc=torch.tensor(data_loader.y_train).mean(0), \n",
    "        covariance_matrix=rbf_kernel(torch.linspace(0,29,30), \n",
    "                                     torch.linspace(0,29,30),\n",
    "                                     torch.tensor([.01]))\n",
    ")\n",
    "y_sample = q_y.sample((10,))\n",
    "plt.figure(figsize=(5,2))\n",
    "plt.plot(y_sample[0]);"
   ]
  },
  {
   "cell_type": "code",
   "execution_count": 64,
   "id": "af678557-5d1b-4d18-a74a-72bd9f97f067",
   "metadata": {},
   "outputs": [],
   "source": [
    "class SVI(torch.nn.Module):\n",
    "\n",
    "    def __init__(self, \n",
    "                 Nk, Nt, Nc, Nd, \n",
    "                 init_means, init_covs, init_ys,\n",
    "                 init_bs, init_betas,\n",
    "                 ks, ts):\n",
    "        super(SVI, self).__init__()\n",
    "        self.Nk = Nk\n",
    "        self.Nt = Nt\n",
    "        self.Nc = Nc\n",
    "        self.Nd = Nd\n",
    "        self.ks = ks\n",
    "        self.ts = ts\n",
    "        \n",
    "        # initialize parameters for variational distribution\n",
    "        self.means = torch.nn.Parameter(init_means, requires_grad=True)\n",
    "        self.covs = torch.nn.Parameter(init_covs, requires_grad=True)\n",
    "        self.bs = torch.nn.Parameter(init_bs, requires_grad=False)\n",
    "        self.betas = torch.nn.Parameter(init_betas, requires_grad=False)\n",
    "        \n",
    "        # initialize parameters for GP\n",
    "        self.y_support = torch.nn.Parameter(torch.linspace(0, Nt-1, Nt), requires_grad=False)\n",
    "        self.gp_mean = torch.nn.Parameter(torch.randn((Nk, Nt)), requires_grad=True)\n",
    "        self.gp_sigma = torch.nn.Parameter(torch.rand((Nk,)), requires_grad=True)\n",
    "        \n",
    "        # prior for y\n",
    "        self.y_prior = D.multivariate_normal.MultivariateNormal(\n",
    "                            loc=torch.tensor(init_ys),\n",
    "                            # loc=torch.zeros((Nt,)),\n",
    "                            covariance_matrix=rbf_kernel(\n",
    "                                self.y_support, self.y_support,\n",
    "                                torch.tensor([.1])\n",
    "                            )\n",
    "                        )\n",
    "        \n",
    "        \n",
    "    def forward(self, s, M=100):\n",
    "        \n",
    "        # define variational distribution q(y)\n",
    "        self.q_y = []\n",
    "        for k in range(Nk):\n",
    "            self.q_y.append( \n",
    "                D.multivariate_normal.MultivariateNormal(\n",
    "                    loc = self.gp_mean[k], \n",
    "                    covariance_matrix = rbf_kernel(\n",
    "                        self.y_support, self.y_support,\n",
    "                        1./(torch.square(self.gp_sigma[k]))\n",
    "                        )\n",
    "                )\n",
    "            )\n",
    "        \n",
    "        # sample y \n",
    "        self.y_samples = torch.zeros((Nk, Nt))\n",
    "        for k in range(Nk):\n",
    "            # self.y_samples[k] = self.q_y[k].sample((M,)).mean(0)\n",
    "            self.y_samples[k] = self.q_y[k].loc\n",
    "        \n",
    "        \n",
    "        # compute log(lambda_kjt)\n",
    "        log_lambdas = torch.zeros((self.Nk, self.Nc, self.Nt))\n",
    "        for k in range(self.Nk):\n",
    "            for t in range(self.Nt):\n",
    "                log_lambdas[k,:,t] = self.bs + self.betas[:,t] @ self.y_samples[k]\n",
    "        \n",
    "        # compute log(pi_kjt)\n",
    "        self.log_pis = log_lambdas - torch.logsumexp(log_lambdas, 1)[:,None,:]\n",
    "        \n",
    "        \n",
    "        # compute log-likelihood\n",
    "        ll = torch.zeros((s.shape[0], self.Nc))\n",
    "        for j in range(self.Nc):\n",
    "            ll[:,j] = D.multivariate_normal.MultivariateNormal(\n",
    "                            loc=self.means[j], \n",
    "                            covariance_matrix=self.covs[j]\n",
    "                        ).log_prob(s)\n",
    "        \n",
    "        \n",
    "        # compute exact update for q(z)\n",
    "        q_z = torch.zeros((s.shape[0], self.Nc))\n",
    "        for k in range(self.Nk):\n",
    "            for t in range(self.Nt):\n",
    "                k_t_idx = np.intersect1d(self.ks[k], self.ts[t])\n",
    "                q_z[k_t_idx] = torch.exp( ll[k_t_idx] + self.log_pis[k,:,t] )\n",
    "                q_z[k_t_idx] = torch.einsum('ij,i->ij', q_z[k_t_idx], 1/q_z[k_t_idx].sum(1))\n",
    "        \n",
    "        \n",
    "        # compute ELBO = E_z,y[logp(s,z,y)] - E_z,y[logq(z,y)]\n",
    "        # E_z,y[logp(s,z,y)] = E_z,y[logp(s|z) + logp(z|y) + logp(y)]\n",
    "        \n",
    "        # E_z[logp(s|z)]\n",
    "        E_q_log_p_s_cond_z = torch.einsum('ij,ij->', q_z, ll)\n",
    "        \n",
    "        # E_z[logp(z|y)]\n",
    "        E_q_log_p_z_cond_y = torch.tensor([ \n",
    "                torch.sum( q_z[np.intersect1d(self.ks[k], self.ts[t])] * self.log_pis[k,:,t] ) \\\n",
    "                for t in range(Nt) for k in range(Nk)\n",
    "             ]).sum()\n",
    "        \n",
    "        # E_q(y)[logp(y)] \n",
    "        # KL(q,p) = int q(y)*log(q(y)/p(y))dy = int q(y)*(logq(y) - logp(y))dy\n",
    "        # int q(y)*logp(y) = int q(y)*logq(y) - KL(q,p)\n",
    "        E_q_log_p_y = 0\n",
    "        for k in range(Nk):\n",
    "            E_q_log_p_y += - self.q_y[k].entropy() - D.kl.kl_divergence(self.q_y[k], self.y_prior)\n",
    "            # E_q_log_p_y += (self.y_prior.log_prob(self.y_samples[k]) * \\\n",
    "            #                 self.q_y[k].log_prob(self.y_samples[k]).exp()).sum()\n",
    "        \n",
    "        # Entropy - E_z[logq(z)] \n",
    "        H_z = - torch.einsum('ij,ij->', safe_log(q_z), q_z)\n",
    "        \n",
    "        # Entropy - E_q(y)[logq(y)] (need differenial entropy)\n",
    "        H_y = 0\n",
    "        for k in range(Nk):\n",
    "            H_y += self.q_y[k].entropy()\n",
    "            # H_y -= (self.q_y[k].log_prob(self.y_samples) * \\\n",
    "            #                 self.q_y[k].log_prob(self.y_samples[k]).exp()).sum()\n",
    "        \n",
    "        # print(f'E_q(z)[logp(s|z)] = {E_q_log_p_s_cond_z}')\n",
    "        # print(f'E_q(z)[logp(z|y)] = {E_q_log_p_z_cond_y}')\n",
    "        # print(f'E_q(y)[logp(y)] = {E_q_log_p_y}')\n",
    "        # print(f'E_q(z)[logq(z)] = {H_z}')\n",
    "        # print(f'E_q(y)[logq(y)] = {H_y}')\n",
    "        \n",
    "        return E_q_log_p_s_cond_z + E_q_log_p_z_cond_y + E_q_log_p_y + H_z + H_y"
   ]
  },
  {
   "cell_type": "code",
   "execution_count": 80,
   "id": "210bcc88-c925-4e11-83ff-1f8cfc4a1b2b",
   "metadata": {},
   "outputs": [],
   "source": [
    "enc = np.load(save_path + f'cont_y_enc_res_c{Nc}.npy', allow_pickle=True).item()"
   ]
  },
  {
   "cell_type": "code",
   "execution_count": 81,
   "id": "cb113b6f-c39f-4113-a74e-49d2393a8d14",
   "metadata": {},
   "outputs": [],
   "source": [
    "svi = SVI(Nk, Nt, Nc, Nd, \n",
    "          enc['means'].requires_grad_(False), \n",
    "          enc['covs'].requires_grad_(False), \n",
    "          data_loader.y_train.mean(0),\n",
    "          enc['bs'].requires_grad_(False),\n",
    "          enc['betas'].requires_grad_(False),\n",
    "          test_k_ids, test_t_ids)\n",
    "optim = torch.optim.Adam(svi.parameters(), lr=1e-2)"
   ]
  },
  {
   "cell_type": "code",
   "execution_count": 82,
   "id": "0e134817-9635-44ed-a098-a2d509a416af",
   "metadata": {},
   "outputs": [
    {
     "name": "stdout",
     "output_type": "stream",
     "text": [
      "iter: 1 elbo: -768412.06\n",
      "iter: 2 elbo: -766614.31\n",
      "iter: 3 elbo: -764824.09\n",
      "iter: 4 elbo: -763042.13\n",
      "iter: 5 elbo: -761269.43\n",
      "iter: 6 elbo: -759508.18\n",
      "iter: 7 elbo: -757759.99\n",
      "iter: 8 elbo: -756025.92\n",
      "iter: 9 elbo: -754306.79\n",
      "iter: 10 elbo: -752603.40\n",
      "iter: 11 elbo: -750916.59\n",
      "iter: 12 elbo: -749247.15\n",
      "iter: 13 elbo: -747595.77\n",
      "iter: 14 elbo: -745962.93\n",
      "iter: 15 elbo: -744348.79\n",
      "iter: 16 elbo: -742753.31\n",
      "iter: 17 elbo: -741176.26\n",
      "iter: 18 elbo: -739617.33\n",
      "iter: 19 elbo: -738076.11\n",
      "iter: 20 elbo: -736552.04\n",
      "iter: 21 elbo: -735044.46\n",
      "iter: 22 elbo: -733552.63\n",
      "iter: 23 elbo: -732075.90\n",
      "iter: 24 elbo: -730613.69\n",
      "iter: 25 elbo: -729165.52\n",
      "iter: 26 elbo: -727730.95\n",
      "iter: 27 elbo: -726309.55\n",
      "iter: 28 elbo: -724900.87\n",
      "iter: 29 elbo: -723504.50\n",
      "iter: 30 elbo: -722120.03\n",
      "iter: 31 elbo: -720747.05\n",
      "iter: 32 elbo: -719385.11\n",
      "iter: 33 elbo: -718033.82\n",
      "iter: 34 elbo: -716692.83\n",
      "iter: 35 elbo: -715361.97\n",
      "iter: 36 elbo: -714041.21\n",
      "iter: 37 elbo: -712730.65\n",
      "iter: 38 elbo: -711430.39\n",
      "iter: 39 elbo: -710140.43\n",
      "iter: 40 elbo: -708860.60\n",
      "iter: 41 elbo: -707590.57\n",
      "iter: 42 elbo: -706330.05\n",
      "iter: 43 elbo: -705078.88\n",
      "iter: 44 elbo: -703837.12\n",
      "iter: 45 elbo: -702605.08\n",
      "iter: 46 elbo: -701383.20\n",
      "iter: 47 elbo: -700172.05\n",
      "iter: 48 elbo: -698972.21\n",
      "iter: 49 elbo: -697784.14\n",
      "iter: 50 elbo: -696608.04\n",
      "iter: 51 elbo: -695443.74\n",
      "iter: 52 elbo: -694290.74\n",
      "iter: 53 elbo: -693148.47\n",
      "iter: 54 elbo: -692016.76\n",
      "iter: 55 elbo: -690895.80\n",
      "iter: 56 elbo: -689785.90\n",
      "iter: 57 elbo: -688687.32\n",
      "iter: 58 elbo: -687600.21\n",
      "iter: 59 elbo: -686524.65\n",
      "iter: 60 elbo: -685460.71\n",
      "iter: 61 elbo: -684408.48\n",
      "iter: 62 elbo: -683368.08\n",
      "iter: 63 elbo: -682339.61\n",
      "iter: 64 elbo: -681323.19\n",
      "iter: 65 elbo: -680318.90\n",
      "iter: 66 elbo: -679326.78\n",
      "iter: 67 elbo: -678346.80\n",
      "iter: 68 elbo: -677378.87\n",
      "iter: 69 elbo: -676422.87\n",
      "iter: 70 elbo: -675478.60\n",
      "iter: 71 elbo: -674545.84\n",
      "iter: 72 elbo: -673624.33\n",
      "iter: 73 elbo: -672713.79\n",
      "iter: 74 elbo: -671813.92\n",
      "iter: 75 elbo: -670924.38\n",
      "iter: 76 elbo: -670044.86\n",
      "iter: 77 elbo: -669175.00\n",
      "iter: 78 elbo: -668314.47\n",
      "iter: 79 elbo: -667462.89\n",
      "iter: 80 elbo: -666619.91\n",
      "iter: 81 elbo: -665785.17\n",
      "iter: 82 elbo: -664958.33\n",
      "iter: 83 elbo: -664139.06\n",
      "iter: 84 elbo: -663327.03\n",
      "iter: 85 elbo: -662521.97\n",
      "iter: 86 elbo: -661723.63\n",
      "iter: 87 elbo: -660931.79\n",
      "iter: 88 elbo: -660146.30\n",
      "iter: 89 elbo: -659367.03\n",
      "iter: 90 elbo: -658593.89\n",
      "iter: 91 elbo: -657826.86\n",
      "iter: 92 elbo: -657065.92\n",
      "iter: 93 elbo: -656311.09\n",
      "iter: 94 elbo: -655562.41\n",
      "iter: 95 elbo: -654819.96\n",
      "iter: 96 elbo: -654083.81\n",
      "iter: 97 elbo: -653354.05\n",
      "iter: 98 elbo: -652630.75\n",
      "iter: 99 elbo: -651914.02\n",
      "iter: 100 elbo: -651203.92\n",
      "iter: 101 elbo: -650500.52\n",
      "iter: 102 elbo: -649803.88\n",
      "iter: 103 elbo: -649114.03\n",
      "iter: 104 elbo: -648431.00\n",
      "iter: 105 elbo: -647754.80\n",
      "iter: 106 elbo: -647085.42\n",
      "iter: 107 elbo: -646422.84\n",
      "iter: 108 elbo: -645767.03\n",
      "iter: 109 elbo: -645117.95\n",
      "iter: 110 elbo: -644475.56\n",
      "iter: 111 elbo: -643839.79\n",
      "iter: 112 elbo: -643210.61\n",
      "iter: 113 elbo: -642587.96\n",
      "iter: 114 elbo: -641971.81\n",
      "iter: 115 elbo: -641362.14\n",
      "iter: 116 elbo: -640758.94\n",
      "iter: 117 elbo: -640162.21\n",
      "iter: 118 elbo: -639571.98\n",
      "iter: 119 elbo: -638988.26\n",
      "iter: 120 elbo: -638411.11\n",
      "iter: 121 elbo: -637840.53\n",
      "iter: 122 elbo: -637276.58\n",
      "iter: 123 elbo: -636719.26\n",
      "iter: 124 elbo: -636168.57\n",
      "iter: 125 elbo: -635624.50\n",
      "iter: 126 elbo: -635087.02\n",
      "iter: 127 elbo: -634556.06\n",
      "iter: 128 elbo: -634031.54\n",
      "iter: 129 elbo: -633513.37\n",
      "iter: 130 elbo: -633001.44\n",
      "iter: 131 elbo: -632495.63\n",
      "iter: 132 elbo: -631995.79\n",
      "iter: 133 elbo: -631501.79\n",
      "iter: 134 elbo: -631013.50\n",
      "iter: 135 elbo: -630530.75\n",
      "iter: 136 elbo: -630053.42\n",
      "iter: 137 elbo: -629581.35\n",
      "iter: 138 elbo: -629114.40\n",
      "iter: 139 elbo: -628652.45\n",
      "iter: 140 elbo: -628195.35\n",
      "iter: 141 elbo: -627743.00\n",
      "iter: 142 elbo: -627295.28\n",
      "iter: 143 elbo: -626852.10\n",
      "iter: 144 elbo: -626413.37\n",
      "iter: 145 elbo: -625979.03\n",
      "iter: 146 elbo: -625549.00\n",
      "iter: 147 elbo: -625123.25\n",
      "iter: 148 elbo: -624701.74\n",
      "iter: 149 elbo: -624284.42\n",
      "iter: 150 elbo: -623871.28\n",
      "iter: 151 elbo: -623462.30\n",
      "iter: 152 elbo: -623057.46\n",
      "iter: 153 elbo: -622656.75\n",
      "iter: 154 elbo: -622260.17\n",
      "iter: 155 elbo: -621867.70\n",
      "iter: 156 elbo: -621479.34\n",
      "iter: 157 elbo: -621095.09\n",
      "iter: 158 elbo: -620714.93\n",
      "iter: 159 elbo: -620338.85\n",
      "iter: 160 elbo: -619966.85\n",
      "iter: 161 elbo: -619598.92\n",
      "iter: 162 elbo: -619235.03\n",
      "iter: 163 elbo: -618875.16\n",
      "iter: 164 elbo: -618519.30\n",
      "iter: 165 elbo: -618167.41\n",
      "iter: 166 elbo: -617819.46\n",
      "iter: 167 elbo: -617475.42\n",
      "iter: 168 elbo: -617135.26\n",
      "iter: 169 elbo: -616798.93\n",
      "iter: 170 elbo: -616466.40\n",
      "iter: 171 elbo: -616137.63\n",
      "iter: 172 elbo: -615812.57\n",
      "iter: 173 elbo: -615491.18\n",
      "iter: 174 elbo: -615173.42\n",
      "iter: 175 elbo: -614859.24\n",
      "iter: 176 elbo: -614548.61\n",
      "iter: 177 elbo: -614241.47\n",
      "iter: 178 elbo: -613937.78\n",
      "iter: 179 elbo: -613637.50\n",
      "iter: 180 elbo: -613340.60\n",
      "iter: 181 elbo: -613047.01\n",
      "iter: 182 elbo: -612756.72\n",
      "iter: 183 elbo: -612469.66\n",
      "iter: 184 elbo: -612185.81\n",
      "iter: 185 elbo: -611905.13\n",
      "iter: 186 elbo: -611627.58\n",
      "iter: 187 elbo: -611353.12\n",
      "iter: 188 elbo: -611081.71\n",
      "iter: 189 elbo: -610813.34\n",
      "iter: 190 elbo: -610547.96\n",
      "iter: 191 elbo: -610285.54\n",
      "iter: 192 elbo: -610026.05\n",
      "iter: 193 elbo: -609769.46\n",
      "iter: 194 elbo: -609515.75\n",
      "iter: 195 elbo: -609264.88\n",
      "iter: 196 elbo: -609016.82\n",
      "iter: 197 elbo: -608771.56\n",
      "iter: 198 elbo: -608529.05\n",
      "iter: 199 elbo: -608289.28\n",
      "iter: 200 elbo: -608052.21\n",
      "iter: 201 elbo: -607817.82\n",
      "iter: 202 elbo: -607586.07\n",
      "iter: 203 elbo: -607356.93\n",
      "iter: 204 elbo: -607130.38\n",
      "iter: 205 elbo: -606906.39\n",
      "iter: 206 elbo: -606684.92\n",
      "iter: 207 elbo: -606465.94\n",
      "iter: 208 elbo: -606249.42\n",
      "iter: 209 elbo: -606035.32\n",
      "iter: 210 elbo: -605823.63\n",
      "iter: 211 elbo: -605614.30\n",
      "iter: 212 elbo: -605407.30\n",
      "iter: 213 elbo: -605202.60\n",
      "iter: 214 elbo: -605000.17\n",
      "iter: 215 elbo: -604799.98\n",
      "iter: 216 elbo: -604602.00\n",
      "iter: 217 elbo: -604406.21\n",
      "iter: 218 elbo: -604212.56\n",
      "iter: 219 elbo: -604021.03\n",
      "iter: 220 elbo: -603831.61\n",
      "iter: 221 elbo: -603644.25\n",
      "iter: 222 elbo: -603458.94\n",
      "iter: 223 elbo: -603275.65\n",
      "iter: 224 elbo: -603094.35\n",
      "iter: 225 elbo: -602915.02\n",
      "iter: 226 elbo: -602737.65\n",
      "iter: 227 elbo: -602562.20\n",
      "iter: 228 elbo: -602388.65\n",
      "iter: 229 elbo: -602216.99\n",
      "iter: 230 elbo: -602047.19\n",
      "iter: 231 elbo: -601879.23\n",
      "iter: 232 elbo: -601713.09\n",
      "iter: 233 elbo: -601548.75\n",
      "iter: 234 elbo: -601386.18\n",
      "iter: 235 elbo: -601225.38\n",
      "iter: 236 elbo: -601066.31\n",
      "iter: 237 elbo: -600908.97\n",
      "iter: 238 elbo: -600753.32\n",
      "iter: 239 elbo: -600599.35\n",
      "iter: 240 elbo: -600447.04\n",
      "iter: 241 elbo: -600296.37\n",
      "iter: 242 elbo: -600147.33\n",
      "iter: 243 elbo: -599999.88\n",
      "iter: 244 elbo: -599854.02\n",
      "iter: 245 elbo: -599709.72\n",
      "iter: 246 elbo: -599566.96\n",
      "iter: 247 elbo: -599425.72\n",
      "iter: 248 elbo: -599286.00\n",
      "iter: 249 elbo: -599147.76\n",
      "iter: 250 elbo: -599010.98\n",
      "iter: 251 elbo: -598875.66\n",
      "iter: 252 elbo: -598741.76\n",
      "iter: 253 elbo: -598609.28\n",
      "iter: 254 elbo: -598478.19\n",
      "iter: 255 elbo: -598348.47\n",
      "iter: 256 elbo: -598220.11\n",
      "iter: 257 elbo: -598093.09\n",
      "iter: 258 elbo: -597967.39\n",
      "iter: 259 elbo: -597842.99\n",
      "iter: 260 elbo: -597719.88\n",
      "iter: 261 elbo: -597598.03\n",
      "iter: 262 elbo: -597477.44\n",
      "iter: 263 elbo: -597358.07\n",
      "iter: 264 elbo: -597239.92\n",
      "iter: 265 elbo: -597122.98\n",
      "iter: 266 elbo: -597007.21\n",
      "iter: 267 elbo: -596892.61\n",
      "iter: 268 elbo: -596779.17\n",
      "iter: 269 elbo: -596666.86\n",
      "iter: 270 elbo: -596555.68\n",
      "iter: 271 elbo: -596445.61\n",
      "iter: 272 elbo: -596336.62\n",
      "iter: 273 elbo: -596228.72\n",
      "iter: 274 elbo: -596121.89\n",
      "iter: 275 elbo: -596016.12\n",
      "iter: 276 elbo: -595911.38\n",
      "iter: 277 elbo: -595807.68\n",
      "iter: 278 elbo: -595705.00\n",
      "iter: 279 elbo: -595603.32\n",
      "iter: 280 elbo: -595502.65\n",
      "iter: 281 elbo: -595402.96\n",
      "iter: 282 elbo: -595304.25\n",
      "iter: 283 elbo: -595206.51\n",
      "iter: 284 elbo: -595109.72\n",
      "iter: 285 elbo: -595013.89\n",
      "iter: 286 elbo: -594919.00\n",
      "iter: 287 elbo: -594825.04\n",
      "iter: 288 elbo: -594732.01\n",
      "iter: 289 elbo: -594639.90\n",
      "iter: 290 elbo: -594548.69\n",
      "iter: 291 elbo: -594458.38\n",
      "iter: 292 elbo: -594368.97\n",
      "iter: 293 elbo: -594280.45\n",
      "iter: 294 elbo: -594192.80\n",
      "iter: 295 elbo: -594106.02\n",
      "iter: 296 elbo: -594020.11\n",
      "iter: 297 elbo: -593935.05\n",
      "iter: 298 elbo: -593850.85\n",
      "iter: 299 elbo: -593767.48\n",
      "iter: 300 elbo: -593684.95\n",
      "CPU times: user 23min 42s, sys: 45.9 s, total: 24min 28s\n",
      "Wall time: 3min 10s\n"
     ]
    }
   ],
   "source": [
    "%%time\n",
    "max_iter = 300\n",
    "elbos = []\n",
    "for i in range(max_iter):\n",
    "    elbo = svi(s, M=1000)\n",
    "    loss = - elbo \n",
    "    print(f'iter: {i+1} elbo: {elbo:.2f}')\n",
    "    elbos.append(elbo)\n",
    "    optim.zero_grad()\n",
    "    loss.backward()\n",
    "    optim.step()"
   ]
  },
  {
   "cell_type": "code",
   "execution_count": 83,
   "id": "7a22e195-e3b2-4d61-a5ad-0b659a472732",
   "metadata": {},
   "outputs": [],
   "source": [
    "elbos = [elbo.detach().numpy() for elbo in elbos]"
   ]
  },
  {
   "cell_type": "code",
   "execution_count": 84,
   "id": "0cfdf480-e3cc-4114-adc7-23ab905d0c96",
   "metadata": {},
   "outputs": [
    {
     "data": {
      "image/png": "[encoded data removed]",
      "text/plain": [
       "<Figure size 400x200 with 1 Axes>"
      ]
     },
     "metadata": {},
     "output_type": "display_data"
    }
   ],
   "source": [
    "plt.figure(figsize=(4,2))\n",
    "plt.plot(elbos)\n",
    "plt.xlabel(\"Iteration\")\n",
    "plt.ylabel(\"ELBO\");"
   ]
  },
  {
   "cell_type": "code",
   "execution_count": 85,
   "id": "def9374d-e48b-443a-b276-368761bdd520",
   "metadata": {},
   "outputs": [
    {
     "data": {
      "text/plain": [
       "Parameter containing:\n",
       "tensor([1.9724, 1.8596, 2.2632, 1.8746, 1.9656, 2.1083, 2.2372, 1.8691, 1.8628,\n",
       "        1.8587, 2.0010, 2.1265, 1.8861, 1.8776], requires_grad=True)"
      ]
     },
     "execution_count": 85,
     "metadata": {},
     "output_type": "execute_result"
    }
   ],
   "source": [
    "svi.gp_sigma"
   ]
  },
  {
   "cell_type": "code",
   "execution_count": 86,
   "id": "72d9909e-91ee-46ed-b04b-d970c7ed6cb5",
   "metadata": {},
   "outputs": [
    {
     "data": {
      "image/png": "[encoded data removed]",
      "text/plain": [
       "<Figure size 500x200 with 1 Axes>"
      ]
     },
     "metadata": {},
     "output_type": "display_data"
    }
   ],
   "source": [
    "plt.figure(figsize=(5,2))\n",
    "plt.plot(svi.y_prior.loc.detach().numpy());"
   ]
  },
  {
   "cell_type": "code",
   "execution_count": 87,
   "id": "4731f8c4-5285-471a-85a7-038645ce716a",
   "metadata": {},
   "outputs": [
    {
     "data": {
      "text/plain": [
       "-0.06711353665282438"
      ]
     },
     "execution_count": 87,
     "metadata": {},
     "output_type": "execute_result"
    }
   ],
   "source": [
    "y_true = np.hstack(y)\n",
    "y_pred = np.hstack([svi.y_samples[k].detach().numpy() for k in range(len(data_loader.test_ids))])\n",
    "r2_score(y_true, y_pred)"
   ]
  },
  {
   "cell_type": "code",
   "execution_count": 88,
   "id": "146f0a95-0d14-4334-aa05-f5fe9fb792c5",
   "metadata": {},
   "outputs": [
    {
     "data": {
      "image/png": "[encoded data removed]",
      "text/plain": [
       "<Figure size 1200x200 with 1 Axes>"
      ]
     },
     "metadata": {},
     "output_type": "display_data"
    }
   ],
   "source": [
    "plt.figure(figsize=(12, 2))\n",
    "plt.plot(y_true[:150], c='gray', linestyle='dashed', label='observed');\n",
    "plt.plot(y_pred[:150], c='blue', alpha=.6, label='predicted');"
   ]
  },
  {
   "cell_type": "code",
   "execution_count": 95,
   "id": "913fe415-5081-4126-b6d6-15ea2db688a2",
   "metadata": {},
   "outputs": [
    {
     "data": {
      "image/png": "[encoded data removed]",
      "text/plain": [
       "<Figure size 500x200 with 1 Axes>"
      ]
     },
     "metadata": {},
     "output_type": "display_data"
    }
   ],
   "source": [
    "i = 5\n",
    "plt.figure(figsize=(5,2))\n",
    "plt.plot(svi.y_samples[i].detach().numpy());"
   ]
  },
  {
   "cell_type": "code",
   "execution_count": 96,
   "id": "b3bca2d6-e596-4672-bade-f938bbaf404d",
   "metadata": {},
   "outputs": [
    {
     "data": {
      "image/png": "[encoded data removed]",
      "text/plain": [
       "<Figure size 500x200 with 1 Axes>"
      ]
     },
     "metadata": {},
     "output_type": "display_data"
    }
   ],
   "source": [
    "plt.figure(figsize=(5,2))\n",
    "plt.plot(y[i]);"
   ]
  },
  {
   "cell_type": "code",
   "execution_count": 97,
   "id": "f106e168-2f9c-48ac-9c6c-bcdb7312caeb",
   "metadata": {},
   "outputs": [
    {
     "data": {
      "image/png": "[encoded data removed]",
      "text/plain": [
       "<Figure size 400x300 with 2 Axes>"
      ]
     },
     "metadata": {},
     "output_type": "display_data"
    }
   ],
   "source": [
    "plt.figure(figsize=(4,3))\n",
    "plt.imshow(torch.exp(svi.log_pis[i]).detach().numpy(), \n",
    "           aspect='auto', cmap='cubehelix')\n",
    "plt.colorbar();"
   ]
  },
  {
   "cell_type": "code",
   "execution_count": null,
   "id": "124c5ae4-530e-46a6-9e6f-0b95d76e48ef",
   "metadata": {},
   "outputs": [],
   "source": []
  }
 ],
 "metadata": {
  "kernelspec": {
   "display_name": "Python 3 (ipykernel)",
   "language": "python",
   "name": "python3"
  },
  "language_info": {
   "codemirror_mode": {
    "name": "ipython",
    "version": 3
   },
   "file_extension": ".py",
   "mimetype": "text/x-python",
   "name": "python",
   "nbconvert_exporter": "python",
   "pygments_lexer": "ipython3",
   "version": "3.8.13"
  }
 },
 "nbformat": 4,
 "nbformat_minor": 5
}
