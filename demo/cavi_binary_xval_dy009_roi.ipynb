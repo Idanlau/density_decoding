{
 "cells": [
  {
   "cell_type": "markdown",
   "id": "bde4fb9b-5728-474f-8dcb-4508d495d296",
   "metadata": {},
   "source": [
    "Divide data into 5 folds, and choose $K = \\frac{\\text{# of channels}}{2}$ for each fold.\n",
    "\n",
    "When lots of data available, use prediction from thresholding to encode MoG.\n",
    "\n",
    "When little data available (regional), use prediction from decoder to encode MoG."
   ]
  },
  {
   "cell_type": "code",
   "execution_count": 1,
   "id": "d6ebdad3-7f3f-451d-a165-0d0667bb52e3",
   "metadata": {},
   "outputs": [],
   "source": [
    "import numpy as np\n",
    "import random\n",
    "import torch\n",
    "import matplotlib.pyplot as plt\n",
    "from scipy.stats import multivariate_normal\n",
    "from sklearn.linear_model import LogisticRegression\n",
    "from sklearn.mixture import GaussianMixture\n",
    "from sklearn.model_selection import KFold\n",
    "from sklearn.metrics import accuracy_score, roc_auc_score\n",
    "from clusterless import preprocess"
   ]
  },
  {
   "cell_type": "code",
   "execution_count": 2,
   "id": "58f96b5d-bba6-4c4a-93f2-bc2f88625773",
   "metadata": {},
   "outputs": [],
   "source": [
    "seed = 666\n",
    "random.seed(seed)\n",
    "np.random.seed(seed)\n",
    "torch.manual_seed(seed)\n",
    "torch.set_default_dtype(torch.double)"
   ]
  },
  {
   "cell_type": "code",
   "execution_count": 3,
   "id": "706227bd-74c4-4c7a-b7e0-4c45083be3ef",
   "metadata": {},
   "outputs": [],
   "source": [
    "SMALL_SIZE = 15\n",
    "MEDIUM_SIZE = 20\n",
    "BIGGER_SIZE = 25\n",
    "\n",
    "plt.rc('font', size=MEDIUM_SIZE)         \n",
    "plt.rc('axes', titlesize=MEDIUM_SIZE)     \n",
    "plt.rc('axes', labelsize=MEDIUM_SIZE) \n",
    "plt.rc('axes', linewidth = 1.5)\n",
    "plt.rc('xtick', labelsize=MEDIUM_SIZE)   \n",
    "plt.rc('ytick', labelsize=MEDIUM_SIZE)   \n",
    "plt.rc('legend', fontsize=MEDIUM_SIZE)   \n",
    "plt.rc('figure', titlesize=MEDIUM_SIZE)"
   ]
  },
  {
   "cell_type": "markdown",
   "id": "c038a907-339e-4646-a910-57da1eced34b",
   "metadata": {},
   "source": [
    "#### prepare data"
   ]
  },
  {
   "cell_type": "code",
   "execution_count": 4,
   "id": "5533c467-2921-4c27-9de2-3b33b4cad9a3",
   "metadata": {},
   "outputs": [],
   "source": [
    "pid = 'febb430e-2d50-4f83-87a0-b5ffbb9a4943'\n",
    "rootpath = '/mnt/3TB/yizi/Downloads/ONE/openalyx.internationalbrainlab.org'\n",
    "trial_data_path = rootpath + '/danlab/Subjects/DY_009/2020-02-27/001/alf'\n",
    "neural_data_path = '/mnt/3TB/yizi/danlab/Subjects/DY_009'\n",
    "behavior_data_path = rootpath + '/paper_repro_ephys_data/figure9_10/original_data'\n",
    "save_path = '../saved_results/danlab/Subjects/DY_009/cavi_results/binary/regional/'"
   ]
  },
  {
   "cell_type": "code",
   "execution_count": 5,
   "id": "c606d92e-d9bc-4aa0-a0f5-8558d61e0a35",
   "metadata": {},
   "outputs": [
    {
     "name": "stdout",
     "output_type": "stream",
     "text": [
      "po\n"
     ]
    }
   ],
   "source": [
    "rois = [roi.lower() for roi in ['PO', 'LP', 'DG', 'CA1', 'VIS']]\n",
    "roi = rois[0]\n",
    "print(roi)"
   ]
  },
  {
   "cell_type": "code",
   "execution_count": 5,
   "id": "287afebe-5cf2-4a5d-ba42-744577e22f43",
   "metadata": {},
   "outputs": [
    {
     "name": "stdout",
     "output_type": "stream",
     "text": [
      "pid: febb430e-2d50-4f83-87a0-b5ffbb9a4943\n",
      "eid: db4df448-e449-4a6f-a0e7-288711e7a75a\n",
      "found 85 good ibl units ..\n",
      "1st trial stim on time: 40.81, last trial stim on time 2252.10\n",
      "choices left: 0.361, right: 0.639\n",
      "stimuli left: 0.430, right: 0.570\n",
      "reward wrong: 0.087, correct: 0.913\n"
     ]
    }
   ],
   "source": [
    "sorted_trials, good_sorted_trials, unsorted_trials, stim_on_times, np1_channel_map= preprocess.load_neural_data(\n",
    "    pid=pid, \n",
    "    trial_data_path=trial_data_path,\n",
    "    neural_data_path=neural_data_path,\n",
    "    behavior_data_path=behavior_data_path,\n",
    "    keep_active_trials=True, \n",
    "    # roi=roi,\n",
    "    roi='all',\n",
    "    kilosort=True,\n",
    "    triage=False,\n",
    "    good_units=True,\n",
    "    thresholding=True\n",
    ")\n",
    "\n",
    "behave_dict = preprocess.load_behaviors_data(behavior_data_path, pid)\n",
    "choices, stimuli, transformed_stimuli, one_hot_stimuli, enc_categories, rewards, priors = preprocess.preprocess_static_behaviors(behave_dict)"
   ]
  },
  {
   "cell_type": "code",
   "execution_count": 6,
   "id": "b047a0ab-1534-4edc-9704-47fa92a3d567",
   "metadata": {},
   "outputs": [],
   "source": [
    "class DataLoader():\n",
    "    def __init__(self, data, y, stim_on_times, np1_channel_map, n_t_bins=30):\n",
    "        self.data = data\n",
    "        self.y = y\n",
    "        self.stim_on_times = stim_on_times\n",
    "        self.np1_channel_map = np1_channel_map\n",
    "        self.n_t_bins = n_t_bins\n",
    "        self.n_trials = stim_on_times.shape[0]\n",
    "        self.n_channels = np1_channel_map.shape[0]\n",
    "        self.t_binning = np.arange(0, 1.5, step = (1.5 - 0) / n_t_bins)\n",
    "        self.rand_trial_ids = np.arange(self.n_trials)\n",
    "        \n",
    "        # allocate unsorted data into trials\n",
    "        self.trial_ids = []\n",
    "        self.t_ids = []\n",
    "        self.trials = []\n",
    "        self.t_bins = []\n",
    "        for k in range(self.n_trials):\n",
    "            mask = np.logical_and(data[:,0] >= stim_on_times[k] - 0.5,\n",
    "                                  data[:,0] <= stim_on_times[k] + 1)\n",
    "            trial = data[mask,:]\n",
    "            trial[:,0] = trial[:,0] - trial[:,0].min()\n",
    "            t_bins = np.digitize(trial[:,0], self.t_binning, right = False) - 1\n",
    "            t_bin_lst = []\n",
    "            for t in range(self.n_t_bins):\n",
    "                t_bin = trial[t_bins == t,1:]\n",
    "                self.trial_ids.append(np.ones_like(t_bin[:,0]) * k)\n",
    "                self.t_ids.append(np.ones_like(t_bin[:,0]) * t)\n",
    "                t_bin_lst.append(t_bin)\n",
    "            self.trials.append(t_bin_lst)\n",
    "    \n",
    "    \n",
    "    def split_train_test(self, train_ids, test_ids):\n",
    "        \n",
    "        self.train_ids = self.rand_trial_ids[train_ids]\n",
    "        self.test_ids = self.rand_trial_ids[test_ids]\n",
    "        self.y_train = self.y[self.train_ids]\n",
    "        self.y_test = self.y[self.test_ids]\n",
    "        \n",
    "        trial_ids = np.concatenate(self.trial_ids)\n",
    "        t_ids = np.concatenate(self.t_ids)\n",
    "        trials = np.concatenate(np.concatenate(self.trials))\n",
    "\n",
    "        train_mask = np.sum([trial_ids == idx for idx in self.train_ids], axis=0).astype(bool)\n",
    "        test_mask = np.sum([trial_ids == idx for idx in self.test_ids], axis=0).astype(bool)\n",
    "        train_trial_ids, test_trial_ids = trial_ids[train_mask], trial_ids[test_mask]\n",
    "        train_t_ids, test_t_ids = t_ids[train_mask], t_ids[test_mask]\n",
    "        train_trials, test_trials = trials[train_mask], trials[test_mask]\n",
    "        \n",
    "        return train_trials, train_trial_ids, train_t_ids, \\\n",
    "               test_trials, test_trial_ids, test_t_ids\n",
    "    \n",
    "    \n",
    "    def compute_lambda(self, gmm):\n",
    "        C = len(gmm.means_)\n",
    "        lambdas = []\n",
    "        for k in self.train_ids:\n",
    "            lam_lst = []\n",
    "            for t in range(self.n_t_bins):\n",
    "                lam = np.zeros((C, 2))\n",
    "                t_bin = self.trials[k][t]\n",
    "                if len(t_bin) > 0:\n",
    "                    cluster_ids = gmm.predict(t_bin)\n",
    "                    for j in range(C):\n",
    "                        if self.y[k] == 0:\n",
    "                            lam[j, 0] = np.sum(cluster_ids == j)\n",
    "                        else:\n",
    "                            lam[j, 1] = np.sum(cluster_ids == j)\n",
    "                lam_lst.append(lam)\n",
    "            lambdas.append(lam_lst)\n",
    "        n_left, n_right = np.sum(self.y_train == 0), np.sum(self.y_train == 1)\n",
    "        p = n_right / (n_right + n_left)\n",
    "        lambdas = ( np.array(lambdas).sum(0) / np.array([n_left, n_right]) ).transpose(1,0,2)\n",
    "        return lambdas, p "
   ]
  },
  {
   "cell_type": "code",
   "execution_count": 7,
   "id": "59b75edb-f996-4bb9-a145-d86dc1604186",
   "metadata": {},
   "outputs": [],
   "source": [
    "data_loader = DataLoader(data = np.concatenate(unsorted_trials)[:,[0,2,3,4]], \n",
    "                         y = choices.argmax(1), \n",
    "                         stim_on_times = stim_on_times, \n",
    "                         np1_channel_map = np1_channel_map, \n",
    "                         n_t_bins=10)"
   ]
  },
  {
   "cell_type": "code",
   "execution_count": 8,
   "id": "3078c8c6-64fe-4fd2-a84d-55cc05376cd7",
   "metadata": {},
   "outputs": [],
   "source": [
    "kf = KFold(n_splits=5, shuffle=True, random_state=seed)\n",
    "# kf = KFold(n_splits=5, shuffle=False)\n",
    "kf_train_ids = []; kf_test_ids = []\n",
    "for i, (train_ids, test_ids) in enumerate(kf.split(data_loader.y)):\n",
    "    kf_train_ids.append(train_ids)\n",
    "    kf_test_ids.append(test_ids)"
   ]
  },
  {
   "cell_type": "code",
   "execution_count": 58,
   "id": "f4853676-ed70-4fdc-94f7-8ae0e87e2da9",
   "metadata": {},
   "outputs": [
    {
     "name": "stderr",
     "output_type": "stream",
     "text": [
      "<__array_function__ internals>:180: VisibleDeprecationWarning: Creating an ndarray from ragged nested sequences (which is a list-or-tuple of lists-or-tuples-or ndarrays with different lengths or shapes) is deprecated. If you meant to do this, you must specify 'dtype=object' when creating the ndarray.\n"
     ]
    }
   ],
   "source": [
    "i = 4\n",
    "train_trials, train_trial_ids, train_t_ids, \\\n",
    "test_trials, test_trial_ids, test_t_ids = data_loader.split_train_test(\n",
    "    train_ids = kf_train_ids[i], test_ids = kf_test_ids[i]\n",
    ")"
   ]
  },
  {
   "cell_type": "code",
   "execution_count": 59,
   "id": "e81593a3-836f-484a-8027-ef28708f1194",
   "metadata": {},
   "outputs": [
    {
     "name": "stdout",
     "output_type": "stream",
     "text": [
      "Initialization 0\n",
      "  Iteration 10\n",
      "  Iteration 20\n",
      "Initialization converged: True\n"
     ]
    },
    {
     "data": {
      "text/html": [
       "<style>#sk-container-id-3 {color: black;background-color: white;}#sk-container-id-3 pre{padding: 0;}#sk-container-id-3 div.sk-toggleable {background-color: white;}#sk-container-id-3 label.sk-toggleable__label {cursor: pointer;display: block;width: 100%;margin-bottom: 0;padding: 0.3em;box-sizing: border-box;text-align: center;}#sk-container-id-3 label.sk-toggleable__label-arrow:before {content: \"▸\";float: left;margin-right: 0.25em;color: #696969;}#sk-container-id-3 label.sk-toggleable__label-arrow:hover:before {color: black;}#sk-container-id-3 div.sk-estimator:hover label.sk-toggleable__label-arrow:before {color: black;}#sk-container-id-3 div.sk-toggleable__content {max-height: 0;max-width: 0;overflow: hidden;text-align: left;background-color: #f0f8ff;}#sk-container-id-3 div.sk-toggleable__content pre {margin: 0.2em;color: black;border-radius: 0.25em;background-color: #f0f8ff;}#sk-container-id-3 input.sk-toggleable__control:checked~div.sk-toggleable__content {max-height: 200px;max-width: 100%;overflow: auto;}#sk-container-id-3 input.sk-toggleable__control:checked~label.sk-toggleable__label-arrow:before {content: \"▾\";}#sk-container-id-3 div.sk-estimator input.sk-toggleable__control:checked~label.sk-toggleable__label {background-color: #d4ebff;}#sk-container-id-3 div.sk-label input.sk-toggleable__control:checked~label.sk-toggleable__label {background-color: #d4ebff;}#sk-container-id-3 input.sk-hidden--visually {border: 0;clip: rect(1px 1px 1px 1px);clip: rect(1px, 1px, 1px, 1px);height: 1px;margin: -1px;overflow: hidden;padding: 0;position: absolute;width: 1px;}#sk-container-id-3 div.sk-estimator {font-family: monospace;background-color: #f0f8ff;border: 1px dotted black;border-radius: 0.25em;box-sizing: border-box;margin-bottom: 0.5em;}#sk-container-id-3 div.sk-estimator:hover {background-color: #d4ebff;}#sk-container-id-3 div.sk-parallel-item::after {content: \"\";width: 100%;border-bottom: 1px solid gray;flex-grow: 1;}#sk-container-id-3 div.sk-label:hover label.sk-toggleable__label {background-color: #d4ebff;}#sk-container-id-3 div.sk-serial::before {content: \"\";position: absolute;border-left: 1px solid gray;box-sizing: border-box;top: 0;bottom: 0;left: 50%;z-index: 0;}#sk-container-id-3 div.sk-serial {display: flex;flex-direction: column;align-items: center;background-color: white;padding-right: 0.2em;padding-left: 0.2em;position: relative;}#sk-container-id-3 div.sk-item {position: relative;z-index: 1;}#sk-container-id-3 div.sk-parallel {display: flex;align-items: stretch;justify-content: center;background-color: white;position: relative;}#sk-container-id-3 div.sk-item::before, #sk-container-id-3 div.sk-parallel-item::before {content: \"\";position: absolute;border-left: 1px solid gray;box-sizing: border-box;top: 0;bottom: 0;left: 50%;z-index: -1;}#sk-container-id-3 div.sk-parallel-item {display: flex;flex-direction: column;z-index: 1;position: relative;background-color: white;}#sk-container-id-3 div.sk-parallel-item:first-child::after {align-self: flex-end;width: 50%;}#sk-container-id-3 div.sk-parallel-item:last-child::after {align-self: flex-start;width: 50%;}#sk-container-id-3 div.sk-parallel-item:only-child::after {width: 0;}#sk-container-id-3 div.sk-dashed-wrapped {border: 1px dashed gray;margin: 0 0.4em 0.5em 0.4em;box-sizing: border-box;padding-bottom: 0.4em;background-color: white;}#sk-container-id-3 div.sk-label label {font-family: monospace;font-weight: bold;display: inline-block;line-height: 1.2em;}#sk-container-id-3 div.sk-label-container {text-align: center;}#sk-container-id-3 div.sk-container {/* jupyter's `normalize.less` sets `[hidden] { display: none; }` but bootstrap.min.css set `[hidden] { display: none !important; }` so we also need the `!important` here to be able to override the default hidden behavior on the sphinx rendered scikit-learn.org. See: https://github.com/scikit-learn/scikit-learn/issues/21755 */display: inline-block !important;position: relative;}#sk-container-id-3 div.sk-text-repr-fallback {display: none;}</style><div id=\"sk-container-id-3\" class=\"sk-top-container\"><div class=\"sk-text-repr-fallback\"><pre>GaussianMixture(n_components=100, verbose=1)</pre><b>In a Jupyter environment, please rerun this cell to show the HTML representation or trust the notebook. <br />On GitHub, the HTML representation is unable to render, please try loading this page with nbviewer.org.</b></div><div class=\"sk-container\" hidden><div class=\"sk-item\"><div class=\"sk-estimator sk-toggleable\"><input class=\"sk-toggleable__control sk-hidden--visually\" id=\"sk-estimator-id-3\" type=\"checkbox\" checked><label for=\"sk-estimator-id-3\" class=\"sk-toggleable__label sk-toggleable__label-arrow\">GaussianMixture</label><div class=\"sk-toggleable__content\"><pre>GaussianMixture(n_components=100, verbose=1)</pre></div></div></div></div></div>"
      ],
      "text/plain": [
       "GaussianMixture(n_components=100, verbose=1)"
      ]
     },
     "execution_count": 59,
     "metadata": {},
     "output_type": "execute_result"
    }
   ],
   "source": [
    "C = 100\n",
    "gmm = GaussianMixture(n_components = C, \n",
    "                      covariance_type = 'full', \n",
    "                      # covariance_type = 'spherical', \n",
    "                      init_params = 'kmeans',\n",
    "                      verbose=1)\n",
    "gmm.fit(train_trials)"
   ]
  },
  {
   "cell_type": "code",
   "execution_count": 60,
   "id": "29814ebb-aa3d-4972-b233-cbdb7cb9bf15",
   "metadata": {},
   "outputs": [],
   "source": [
    "lambdas, p = data_loader.compute_lambda(gmm)"
   ]
  },
  {
   "cell_type": "code",
   "execution_count": 61,
   "id": "58f46a38-e6de-4e7d-a054-a28ae2f861cf",
   "metadata": {},
   "outputs": [
    {
     "data": {
      "image/png": "[encoded data removed]",
      "text/plain": [
       "<Figure size 1500x500 with 6 Axes>"
      ]
     },
     "metadata": {},
     "output_type": "display_data"
    }
   ],
   "source": [
    "fig, (ax1, ax2, ax3) = plt.subplots(1,3, figsize=(15,5))\n",
    "\n",
    "f1 = ax1.imshow(lambdas[:,:,0], aspect='auto', cmap='cubehelix')\n",
    "ax1.set_title(f'left ({p:.2f})')\n",
    "ax1.set_xlabel('time')\n",
    "ax1.set_ylabel('component')\n",
    "fig.colorbar(f1, ax = ax1)\n",
    "\n",
    "f2 = ax2.imshow(lambdas[:,:,1], aspect='auto', cmap='cubehelix')\n",
    "ax2.set_title(f'right ({1-p:.2f})')\n",
    "ax2.set_xlabel('time')\n",
    "fig.colorbar(f2, ax = ax2)\n",
    "\n",
    "f3 = ax3.imshow(lambdas[:,:,0] - lambdas[:,:,1], aspect='auto', cmap='cubehelix')\n",
    "ax3.set_title('left - right')\n",
    "ax3.set_xlabel('time')\n",
    "fig.colorbar(f3, ax = ax3)\n",
    "\n",
    "plt.tight_layout()"
   ]
  },
  {
   "cell_type": "markdown",
   "id": "5920c968-9da0-43a0-90f8-41612fddd2ff",
   "metadata": {},
   "source": [
    "#### CAVI"
   ]
  },
  {
   "cell_type": "code",
   "execution_count": 62,
   "id": "87c5aea1-539e-433a-a8a0-5fe394e0059b",
   "metadata": {},
   "outputs": [],
   "source": [
    "def safe_log(x, minval=1e-10):\n",
    "    return torch.log(x + minval)\n",
    "\n",
    "def safe_divide(x, y):\n",
    "    return torch.clip(x / y, min = 0, max = 1)"
   ]
  },
  {
   "cell_type": "code",
   "execution_count": 63,
   "id": "21e02315-f5aa-4c22-b6ca-1e6a2b21f5c0",
   "metadata": {},
   "outputs": [],
   "source": [
    "class CAVI():\n",
    "    def __init__(self, init_mu, init_cov, init_lam, \n",
    "                 train_k_ids, train_t_ids, test_k_ids, test_t_ids):\n",
    "        \n",
    "        self.train_K = len(train_k_ids)\n",
    "        self.test_K = len(test_k_ids)\n",
    "        self.T = len(train_t_ids)\n",
    "        self.C = init_mu.shape[0]\n",
    "        self.D = init_mu.shape[1]\n",
    "        self.init_mu = init_mu\n",
    "        self.init_cov = init_cov\n",
    "        self.init_lam = init_lam\n",
    "        self.train_k_ids = train_k_ids\n",
    "        self.train_t_ids = train_t_ids\n",
    "        self.test_k_ids = test_k_ids\n",
    "        self.test_t_ids = test_t_ids\n",
    "        \n",
    "    \n",
    "    def _compute_normal_log_dens(self, s, mu, cov, safe_cov=None):\n",
    "        \n",
    "        log_dens = []\n",
    "        for j in range(self.C):\n",
    "            try:\n",
    "                log_dens.append(\n",
    "                    torch.tensor(\n",
    "                        multivariate_normal.logpdf(s, mu[j], cov[j])\n",
    "                    )\n",
    "                )\n",
    "            except np.linalg.LinAlgError:\n",
    "                # error occurs when cov is not PSD\n",
    "                # use initial cov as a replacement to ensure numerical stability\n",
    "                # need a better solution \n",
    "                log_dens.append(\n",
    "                    torch.tensor(\n",
    "                        multivariate_normal.logpdf(s, mu[j], safe_cov[j])\n",
    "                    )\n",
    "                )\n",
    "                print(f'cov {j} is not PSD.')\n",
    "        return torch.vstack(log_dens).T # (*, C)\n",
    "    \n",
    "    \n",
    "    def _compute_enc_elbo(self, r, y, log_dens, norm_lam):\n",
    "        \n",
    "        elbo_1 = torch.sum(torch.tensor(\n",
    "            [torch.einsum('i,i->', r[:,j], log_dens[:,j]) for j in range(self.C)]\n",
    "        ))\n",
    "\n",
    "        elbo_2 = torch.tensor(\n",
    "            [ torch.einsum('ij,il,j->', r[self.train_t_ids[t]], \n",
    "                           y[self.train_t_ids[t]], norm_lam[:,t,1]) +\n",
    "              torch.einsum('ij,il,j->', r[self.train_t_ids[t]], \n",
    "                           1-y[self.train_t_ids[t]], norm_lam[:,t,0]) for t in range(self.T) ]\n",
    "            ).sum()\n",
    "\n",
    "        elbo_3 = - torch.einsum('ij,ij->', safe_log(r), r)\n",
    "\n",
    "        elbo = elbo_1 + elbo_2 + elbo_3 \n",
    "\n",
    "        return elbo\n",
    "    \n",
    "    \n",
    "    def _compute_dec_elbo(self, r, log_dens, norm_lam, nu, nu_k, p):\n",
    "        \n",
    "        elbo_1 = torch.sum(torch.tensor(\n",
    "            [torch.einsum('i,i->', r[:,j], log_dens[:,j]) for j in range(self.C)]\n",
    "        ))\n",
    "\n",
    "        elbo_2 = torch.tensor(\n",
    "            [ torch.einsum('ij,il,j->', r[self.test_t_ids[t]], \n",
    "                           nu[self.test_t_ids[t]], norm_lam[:,t,1]) +\n",
    "              torch.einsum('ij,il,j->', r[self.test_t_ids[t]], \n",
    "                           1-nu[self.test_t_ids[t]], norm_lam[:,t,0]) for t in range(self.T) ]\n",
    "            ).sum()\n",
    "\n",
    "        elbo_3 = torch.sum(nu_k * safe_log(p) + (1-nu_k) * safe_log(1-p))\n",
    "\n",
    "        elbo_4 = - torch.einsum('ij,ij->', safe_log(r), r)\n",
    "\n",
    "        elbo_5 = - torch.sum(safe_log(nu_k) * nu_k)\n",
    "\n",
    "        elbo = elbo_1 + elbo_2 + elbo_3 + elbo_4 + elbo_5\n",
    "\n",
    "        return elbo\n",
    "    \n",
    "    \n",
    "    def _encode_e_step(self, r, y, log_dens, norm_lam):\n",
    "        \n",
    "        for t in range(self.T):\n",
    "            r[self.train_t_ids[t]] = torch.exp( log_dens[self.train_t_ids[t]] + \\\n",
    "                      torch.einsum('il,j->ij', y[self.train_t_ids[t]], norm_lam[:,t,1]) + \\\n",
    "                      torch.einsum('il,j->ij', 1-y[self.train_t_ids[t]], norm_lam[:,t,0])\n",
    "            )\n",
    "            r[self.train_t_ids[t]] = torch.einsum('ij,i->ij', r[self.train_t_ids[t]], 1/r[self.train_t_ids[t]].sum(1))\n",
    "        return r\n",
    "        \n",
    "    \n",
    "    def _encode_m_step(self, s, r, y, mu, lam):\n",
    "        \n",
    "        for j in range(self.C):\n",
    "            no_j_idx = torch.cat([torch.arange(j), torch.arange(j+1, self.C)])\n",
    "            lam_sum_no_j = lam[no_j_idx,:,:].sum(0)\n",
    "            for t in range(self.T):\n",
    "                num1 = torch.einsum('i,il,->', r[self.train_t_ids[t],j], y[self.train_t_ids[t]], lam_sum_no_j[t,1])\n",
    "                denom1 = np.einsum('ij,il->', r[self.train_t_ids[t]][:,no_j_idx], y[self.train_t_ids[t]])\n",
    "                num0 = torch.einsum('i,il,->', r[self.train_t_ids[t],j], 1-y[self.train_t_ids[t]], lam_sum_no_j[t,0])\n",
    "                denom0 = np.einsum('ij,il->', r[self.train_t_ids[t]][:,no_j_idx], 1-y[self.train_t_ids[t]])\n",
    "                lam[j,t,1], lam[j,t,0] = num1 / denom1, num0 / denom0\n",
    "        norm_lam = safe_log(lam) - safe_log(lam.sum(0))\n",
    "\n",
    "        norm = r.sum(0)\n",
    "        mu = torch.einsum('j,ij,ip->jp', 1/norm, r, s)\n",
    "        cov = [torch.einsum(\n",
    "            ',i,ip,id->pd', 1/norm[j], r[:,j], s-mu[j], s-mu[j] ) for j in range(self.C)]\n",
    "        \n",
    "        return mu, cov, lam, norm_lam\n",
    "    \n",
    "    \n",
    "    def _decode_e_step(self, r, log_dens, norm_lam, nu, nu_k, p):\n",
    "        \n",
    "        for t in range(self.T):\n",
    "            r[self.test_t_ids[t]] = torch.exp( log_dens[self.test_t_ids[t]] + \\\n",
    "                      torch.einsum('il,j->ij', nu[self.test_t_ids[t]], norm_lam[:,t,1]) + \\\n",
    "                      torch.einsum('il,j->ij', 1-nu[self.test_t_ids[t]], norm_lam[:,t,0])\n",
    "            )\n",
    "            r[self.test_t_ids[t]] = torch.einsum('ij,i->ij', r[self.test_t_ids[t]], 1/r[self.test_t_ids[t]].sum(1))\n",
    "        \n",
    "        for k in range(self.test_K):\n",
    "            y_tilde0, y_tilde1 = safe_log(1-p), safe_log(p)\n",
    "            for t in range(self.T):\n",
    "                k_t_ids = np.intersect1d(self.test_k_ids[k], self.test_t_ids[t])\n",
    "                y_tilde0 += torch.einsum('ij,j->', r[k_t_ids], norm_lam[:,t,0])\n",
    "                y_tilde1 += torch.einsum('ij,j->', r[k_t_ids], norm_lam[:,t,1])\n",
    "            # y_tilde explode to 0 after exp(); need offset to ensure y_tilde stay in range\n",
    "            # offset = 1. / (torch.min(torch.tensor([y_tilde0, y_tilde1])) / -745.) \n",
    "            offset = 1. / (torch.min(torch.tensor([y_tilde0, y_tilde1])) / -250.)\n",
    "            y_tilde0, y_tilde1 = torch.exp(y_tilde0 * offset), torch.exp(y_tilde1 * offset)\n",
    "            nu_k[k] = safe_divide(y_tilde1, y_tilde0 + y_tilde1)\n",
    "            nu[self.test_k_ids[k]] = nu_k[k]\n",
    "            \n",
    "        return r, nu, nu_k\n",
    "    \n",
    "    \n",
    "    def _decode_m_step(self, s, r, nu_k, mu):\n",
    "        \n",
    "        p = nu_k.sum() / self.test_K\n",
    "    \n",
    "        norm = r.sum(0)\n",
    "        mu = torch.einsum('j,ij,ip->jp', 1/norm, r, s)\n",
    "        cov = [torch.einsum(\n",
    "            ',i,ip,id->pd', 1/norm[j], r[:,j], s-mu[j], s-mu[j]) for j in range(self.C)]\n",
    "        \n",
    "        return p, mu, cov\n",
    "    \n",
    "    \n",
    "    def encode(self, s, y, max_iter=20, eps=1e-6):\n",
    "        # initialize\n",
    "        r = torch.ones((s.shape[0], self.C)) / self.C\n",
    "        lam = self.init_lam.clone()\n",
    "        mu, cov = self.init_mu.clone(), self.init_cov.clone()\n",
    "        norm_lam = safe_log(lam) - safe_log(lam.sum(0))\n",
    "        \n",
    "        # compute initial elbo\n",
    "        log_dens = self._compute_normal_log_dens(s, mu, cov, safe_cov=self.init_cov)\n",
    "        elbo = self._compute_enc_elbo(r, y, log_dens, norm_lam)\n",
    "        convergence = 1.\n",
    "        elbos = [elbo]\n",
    "        print(f'initial elbo: {elbos[-1]:.2f}')\n",
    "        \n",
    "        it = 1\n",
    "        while convergence > eps or convergence < 0: \n",
    "            # E step\n",
    "            r = self._encode_e_step(r, y, log_dens, norm_lam)\n",
    "            \n",
    "            # M step\n",
    "            mu, cov, lam, norm_lam = self._encode_m_step(s, r, y, mu, lam)\n",
    "            \n",
    "            # compute new elbo\n",
    "            log_dens = self._compute_normal_log_dens(s, mu, cov, safe_cov=self.init_cov)\n",
    "            elbo = self._compute_enc_elbo(r, y, log_dens, norm_lam)\n",
    "            elbos.append(elbo)\n",
    "            convergence = elbos[-1] - elbos[-2]\n",
    "\n",
    "            print(f'iter: {it} elbo: {elbos[-1]:.2f}.')\n",
    "            it +=1 \n",
    "            if it > max_iter: \n",
    "                print('reached max iter allowed.')\n",
    "                break\n",
    "\n",
    "        if abs(convergence) <= eps:\n",
    "            print('converged.')\n",
    "            \n",
    "        return r, lam, mu, torch.stack(cov), elbos\n",
    "    \n",
    "    \n",
    "    def decode(self, s, init_p, init_mu, init_cov, init_lam, \n",
    "                test_k_ids, test_ids, max_iter=20, eps=1e-6):\n",
    "        # initialize\n",
    "        p = init_p.clone()\n",
    "        r = torch.ones((s.shape[0], self.C)) / self.C\n",
    "        mu, cov = init_mu.clone(), init_cov.clone()\n",
    "        lam = init_lam.clone()\n",
    "        norm_lam = safe_log(lam) - safe_log(lam.sum(0))\n",
    "        nu_k = torch.rand(self.test_K)\n",
    "        nu = torch.zeros(s.shape[0])\n",
    "        for k in range(self.test_K):\n",
    "            nu[test_k_ids == test_ids[k]] = nu_k[k]\n",
    "        nu = nu.reshape(-1,1)\n",
    "        \n",
    "        # compute initial elbo\n",
    "        log_dens = self._compute_normal_log_dens(s, mu, cov, safe_cov=init_cov)\n",
    "        elbo = self._compute_dec_elbo(r, log_dens, norm_lam, nu, nu_k, p)\n",
    "        convergence = 1.\n",
    "        elbos = [elbo]\n",
    "        print(f'initial elbo: {elbos[-1]:.2f}')\n",
    "        \n",
    "        it = 1\n",
    "        while convergence > eps or convergence < 0:\n",
    "            # E step\n",
    "            r, nu, nu_k = self._decode_e_step(r, log_dens, norm_lam, nu, nu_k, p)\n",
    "            \n",
    "            # M step\n",
    "            p, mu, cov = self._decode_m_step(s, r, nu_k, mu)\n",
    "            \n",
    "            # compute new elbo\n",
    "            log_dens = self._compute_normal_log_dens(s, mu, cov, safe_cov=init_cov)\n",
    "            elbo = self._compute_dec_elbo(r, log_dens, norm_lam, nu, nu_k, p)\n",
    "            elbos.append(elbo)\n",
    "            convergence = elbos[-1] - elbos[-2]\n",
    "\n",
    "            print(f'iter: {it} elbo: {elbos[-1]:.2f}.')\n",
    "            it +=1 \n",
    "            if it > max_iter: \n",
    "                print('reached max iter allowed.')\n",
    "                break\n",
    "\n",
    "        if abs(convergence) <= eps:\n",
    "            print('converged.')\n",
    "    \n",
    "        return r, nu_k, mu, torch.stack(cov), p, elbos\n",
    "    \n",
    "    \n",
    "    def eval_performance(self, nu_k, y_test):\n",
    "        acc = accuracy_score(y_test, 1. * ( nu_k > .5 ))\n",
    "        auc = roc_auc_score(y_test, nu_k)\n",
    "        print(f'decoding accuracy is {acc:.2f}')\n",
    "        print(f'decoding auc is {auc:.2f}')\n",
    "        return acc, auc"
   ]
  },
  {
   "cell_type": "markdown",
   "id": "5225329f-578a-42ae-ae55-1fc96651978c",
   "metadata": {},
   "source": [
    "#### Choose K via CV"
   ]
  },
  {
   "cell_type": "code",
   "execution_count": null,
   "id": "54b3add7-09df-49d3-a30d-72f8a6249fbc",
   "metadata": {},
   "outputs": [],
   "source": []
  },
  {
   "cell_type": "markdown",
   "id": "ea47ce92-cbe8-4756-924c-027484786d09",
   "metadata": {},
   "source": [
    "#### Run"
   ]
  },
  {
   "cell_type": "code",
   "execution_count": 64,
   "id": "2d607808-a503-4252-be97-b7deb344b3dd",
   "metadata": {},
   "outputs": [],
   "source": [
    "C = len(gmm.means_)\n",
    "T = lambdas.shape[1]\n",
    "\n",
    "y_train = torch.zeros(train_trials.shape[0])\n",
    "for k_idx, k in enumerate(data_loader.train_ids):\n",
    "    y_train[train_trial_ids == k] = data_loader.y_train[k_idx]\n",
    "y_train = y_train.reshape(-1,1)"
   ]
  },
  {
   "cell_type": "code",
   "execution_count": 65,
   "id": "9798599f-2c55-4886-9120-e0c43c935884",
   "metadata": {},
   "outputs": [],
   "source": [
    "cavi = CAVI(\n",
    "    init_mu = torch.tensor(gmm.means_), \n",
    "    init_cov = torch.tensor(gmm.covariances_), \n",
    "    init_lam = torch.tensor(lambdas), \n",
    "    train_k_ids = [torch.argwhere(torch.tensor(train_trial_ids) == k).reshape(-1) for k in data_loader.train_ids], \n",
    "    train_t_ids = [torch.argwhere(torch.tensor(train_t_ids) == t).reshape(-1) for t in range(T)],\n",
    "    test_k_ids = [torch.argwhere(torch.tensor(test_trial_ids) == k).reshape(-1) for k in data_loader.test_ids],\n",
    "    test_t_ids = [torch.argwhere(torch.tensor(test_t_ids) == t).reshape(-1) for t in range(T)]\n",
    ")"
   ]
  },
  {
   "cell_type": "code",
   "execution_count": 66,
   "id": "d494861d-1cb0-4954-afd5-ea37ede98ee0",
   "metadata": {},
   "outputs": [
    {
     "name": "stdout",
     "output_type": "stream",
     "text": [
      "initial elbo: -37444621231.72\n",
      "iter: 1 elbo: -5331855.96.\n",
      "iter: 2 elbo: -5331115.99.\n",
      "iter: 3 elbo: -5330365.69.\n",
      "iter: 4 elbo: -5329797.70.\n",
      "iter: 5 elbo: -5329179.53.\n",
      "iter: 6 elbo: -5328452.24.\n",
      "iter: 7 elbo: -5327757.97.\n",
      "iter: 8 elbo: -5327341.55.\n",
      "iter: 9 elbo: -5327181.37.\n",
      "iter: 10 elbo: -5327057.00.\n",
      "iter: 11 elbo: -5326938.42.\n",
      "iter: 12 elbo: -5326821.20.\n",
      "iter: 13 elbo: -5326701.57.\n",
      "iter: 14 elbo: -5326573.63.\n",
      "iter: 15 elbo: -5326427.98.\n",
      "iter: 16 elbo: -5326253.20.\n",
      "iter: 17 elbo: -5326040.40.\n",
      "iter: 18 elbo: -5325786.42.\n",
      "iter: 19 elbo: -5325491.86.\n",
      "iter: 20 elbo: -5325164.12.\n",
      "iter: 21 elbo: -5324816.44.\n",
      "iter: 22 elbo: -5324455.31.\n",
      "iter: 23 elbo: -5324073.08.\n",
      "iter: 24 elbo: -5323641.68.\n",
      "iter: 25 elbo: -5323204.97.\n",
      "iter: 26 elbo: -5322886.79.\n",
      "iter: 27 elbo: -5322647.21.\n",
      "iter: 28 elbo: -5322309.02.\n",
      "iter: 29 elbo: -5321630.62.\n",
      "iter: 30 elbo: -5321030.46.\n",
      "reached max iter allowed.\n",
      "CPU times: user 1h 13min 22s, sys: 3min 28s, total: 1h 16min 50s\n",
      "Wall time: 9min 36s\n"
     ]
    }
   ],
   "source": [
    "%%time\n",
    "enc_r, enc_lam, enc_mu, enc_cov, enc_elbo = cavi.encode(\n",
    "    s = torch.tensor(train_trials),\n",
    "    y = y_train, max_iter=30)"
   ]
  },
  {
   "cell_type": "code",
   "execution_count": 67,
   "id": "5fe71270-1763-43d6-afb6-87008101fe16",
   "metadata": {},
   "outputs": [
    {
     "data": {
      "image/png": "[encoded data removed]",
      "text/plain": [
       "<Figure size 600x300 with 1 Axes>"
      ]
     },
     "metadata": {},
     "output_type": "display_data"
    }
   ],
   "source": [
    "plt.figure(figsize=(6,3))\n",
    "plt.plot(enc_elbo)\n",
    "plt.xlabel('iteration')\n",
    "plt.ylabel('ELBO')\n",
    "pass"
   ]
  },
  {
   "cell_type": "code",
   "execution_count": 68,
   "id": "8d81da4d-783c-4275-9ab2-227317a4c605",
   "metadata": {},
   "outputs": [
    {
     "data": {
      "image/png": "[encoded data removed]",
      "text/plain": [
       "<Figure size 1500x500 with 6 Axes>"
      ]
     },
     "metadata": {},
     "output_type": "display_data"
    }
   ],
   "source": [
    "fig, (ax1, ax2, ax3) = plt.subplots(1,3, figsize=(15,5))\n",
    "\n",
    "f1 = ax1.imshow(enc_lam[:,:,0], aspect='auto', cmap='cubehelix')\n",
    "ax1.set_title(f'left ({p:.2f})')\n",
    "ax1.set_xlabel('time')\n",
    "ax1.set_ylabel('component')\n",
    "fig.colorbar(f1, ax = ax1)\n",
    "\n",
    "f2 = ax2.imshow(enc_lam[:,:,1], aspect='auto', cmap='cubehelix')\n",
    "ax2.set_title(f'right ({1-p:.2f})')\n",
    "ax2.set_xlabel('time')\n",
    "fig.colorbar(f2, ax = ax2)\n",
    "\n",
    "f3 = ax3.imshow(enc_lam[:,:,0] - enc_lam[:,:,1], aspect='auto', cmap='cubehelix')\n",
    "ax3.set_title('left - right')\n",
    "ax3.set_xlabel('time')\n",
    "fig.colorbar(f3, ax = ax3)\n",
    "\n",
    "plt.tight_layout()"
   ]
  },
  {
   "cell_type": "code",
   "execution_count": 69,
   "id": "3345b514-a06c-4618-b3e4-cdf3975b7a71",
   "metadata": {},
   "outputs": [
    {
     "name": "stdout",
     "output_type": "stream",
     "text": [
      "initial elbo: -9890594310.02\n",
      "iter: 1 elbo: -1370790.63.\n",
      "iter: 2 elbo: -1370250.44.\n",
      "iter: 3 elbo: -1370151.95.\n",
      "iter: 4 elbo: -1370094.23.\n",
      "iter: 5 elbo: -1370033.36.\n",
      "iter: 6 elbo: -1369966.33.\n",
      "iter: 7 elbo: -1369937.69.\n",
      "iter: 8 elbo: -1369923.18.\n",
      "iter: 9 elbo: -1369912.51.\n",
      "iter: 10 elbo: -1369904.27.\n",
      "reached max iter allowed.\n"
     ]
    }
   ],
   "source": [
    "dec_r, dec_nu, dec_mu, dec_cov, dec_p, dec_elbos = cavi.decode(\n",
    "    s = torch.tensor(test_trials),\n",
    "    init_p = torch.tensor([p]), \n",
    "    init_mu = enc_mu, \n",
    "    init_cov = enc_cov, \n",
    "    init_lam = enc_lam, \n",
    "    test_k_ids = test_trial_ids, \n",
    "    test_ids = data_loader.test_ids, \n",
    "    max_iter=10\n",
    ")"
   ]
  },
  {
   "cell_type": "code",
   "execution_count": 70,
   "id": "4ed70fd3-6a99-41ff-bc55-93f717084f9f",
   "metadata": {},
   "outputs": [],
   "source": [
    "# plt.figure(figsize=(6,3))\n",
    "# plt.plot(dec_elbos)\n",
    "# plt.xlabel('iteration')\n",
    "# plt.ylabel('ELBO')\n",
    "# pass"
   ]
  },
  {
   "cell_type": "markdown",
   "id": "79c643b6-6945-4496-ae2a-7a27c5d3a09d",
   "metadata": {},
   "source": [
    "#### eval"
   ]
  },
  {
   "cell_type": "code",
   "execution_count": 71,
   "id": "b4cb46b7-60ba-4ee7-a519-556b24086ac5",
   "metadata": {},
   "outputs": [
    {
     "name": "stdout",
     "output_type": "stream",
     "text": [
      "decoding accuracy is 0.96\n",
      "decoding auc is 0.98\n"
     ]
    },
    {
     "data": {
      "text/plain": [
       "(0.9565217391304348, 0.975378787878788)"
      ]
     },
     "execution_count": 71,
     "metadata": {},
     "output_type": "execute_result"
    }
   ],
   "source": [
    "cavi.eval_performance(dec_nu, data_loader.y_test)"
   ]
  },
  {
   "cell_type": "code",
   "execution_count": 81,
   "id": "04680595-acff-4324-9c52-dd586f2142e8",
   "metadata": {},
   "outputs": [],
   "source": [
    "cavi_xval_all_accs = [0.93, 0.78, 0.80, 0.90, 0.96] \n",
    "cavi_xval_all_aucs = [0.95, 0.91, 0.90, 0.96, 0.98] \n",
    "cavi_xval_po_accs = [0.87, 0.70, 0.80, 0.87, 0.87]\n",
    "cavi_xval_po_aucs = [0.91, 0.85, 0.89, 0.98, 0.95]\n",
    "cavi_xval_lp_accs = [0.70, 0.87, 0.98, 0.83, 0.89]\n",
    "cavi_xval_lp_aucs = [0.84, 0.91, 1.00, 0.88, 0.98]\n",
    "cavi_xval_dg_accs = [0.67, 0.65, 0.61, 0.63, 0.65]\n",
    "cavi_xval_dg_aucs = [0.78, 0.67, 0.65, 0.68, 0.72]\n",
    "cavi_xval_ca1_accs = [0.74, 0.63, 0.67, 0.65, 0.72]\n",
    "cavi_xval_ca1_aucs = [0.75, 0.61, 0.71, 0.69, 0.73]\n",
    "cavi_xval_vis_accs = [0.87, 0.85, 0.83, 0.85, 0.83]\n",
    "cavi_xval_vis_aucs = [0.85, 0.87, 0.88, 0.85, 0.88]"
   ]
  },
  {
   "cell_type": "code",
   "execution_count": 82,
   "id": "eb1664a7-20ce-4d5c-b300-2ec3e227e04f",
   "metadata": {},
   "outputs": [
    {
     "name": "stdout",
     "output_type": "stream",
     "text": [
      "all acc: 0.87 auc: 0.94\n",
      "po acc: 0.82 auc: 0.92\n",
      "lp acc: 0.85 auc: 0.92\n",
      "dg acc: 0.64 auc: 0.70\n",
      "ca1 acc: 0.68 auc: 0.70\n",
      "vis acc: 0.85 auc: 0.87\n"
     ]
    }
   ],
   "source": [
    "print(f'all acc: {np.mean(cavi_xval_all_accs):.2f} auc: {np.mean(cavi_xval_all_aucs):.2f}')\n",
    "print(f'po acc: {np.mean(cavi_xval_po_accs):.2f} auc: {np.mean(cavi_xval_po_aucs):.2f}')\n",
    "print(f'lp acc: {np.mean(cavi_xval_lp_accs):.2f} auc: {np.mean(cavi_xval_lp_aucs):.2f}')\n",
    "print(f'dg acc: {np.mean(cavi_xval_dg_accs):.2f} auc: {np.mean(cavi_xval_dg_aucs):.2f}')\n",
    "print(f'ca1 acc: {np.mean(cavi_xval_ca1_accs):.2f} auc: {np.mean(cavi_xval_ca1_aucs):.2f}')\n",
    "print(f'vis acc: {np.mean(cavi_xval_vis_accs):.2f} auc: {np.mean(cavi_xval_vis_aucs):.2f}')"
   ]
  },
  {
   "cell_type": "markdown",
   "id": "960bc2f9-7aab-41da-a2b5-e4bdfc2fc924",
   "metadata": {},
   "source": [
    "#### thresholded"
   ]
  },
  {
   "cell_type": "code",
   "execution_count": 72,
   "id": "5937d275-fe68-465d-915c-f2c35e9990d8",
   "metadata": {},
   "outputs": [
    {
     "name": "stdout",
     "output_type": "stream",
     "text": [
      "thresholded neural data shape: (230, 374, 10)\n"
     ]
    }
   ],
   "source": [
    "n_trials = stim_on_times.shape[0]\n",
    "unsorted = np.vstack([unsorted_trials[i] for i in np.arange(n_trials)]) \n",
    "spike_times = unsorted[:,0]\n",
    "spike_channels = unsorted[:,1]\n",
    "spike_features = unsorted[:,2:]\n",
    "\n",
    "thresholded_neural_data = preprocess.compute_neural_activity(\n",
    "    (spike_times, spike_channels),\n",
    "    stim_on_times,\n",
    "    'thresholded', \n",
    "    n_time_bins=10,\n",
    "    # regional=True\n",
    "    regional=False\n",
    ")\n",
    "print(f'thresholded neural data shape: {thresholded_neural_data.shape}')"
   ]
  },
  {
   "cell_type": "code",
   "execution_count": 73,
   "id": "c7f65b52-1a0d-4d76-a189-72e8c9491e2c",
   "metadata": {},
   "outputs": [
    {
     "name": "stdout",
     "output_type": "stream",
     "text": [
      "1.00\n",
      "1.00\n"
     ]
    }
   ],
   "source": [
    "x_train = thresholded_neural_data[data_loader.train_ids].reshape(-1, thresholded_neural_data.shape[1]*thresholded_neural_data.shape[-1])\n",
    "x_test = thresholded_neural_data[data_loader.test_ids].reshape(-1, thresholded_neural_data.shape[1]*thresholded_neural_data.shape[-1])\n",
    "decoder = LogisticRegression(random_state=seed, solver='liblinear').fit(x_train, data_loader.y_train)\n",
    "probs = decoder.predict_proba(x_test)\n",
    "threshold_preds = probs.argmax(1)\n",
    "acc = accuracy_score(data_loader.y_test, threshold_preds)\n",
    "auc = roc_auc_score(choices[data_loader.test_ids], probs)\n",
    "print(f'{acc:.2f}')\n",
    "print(f'{auc:.2f}')"
   ]
  },
  {
   "cell_type": "code",
   "execution_count": 83,
   "id": "59948802-58ef-4e2b-aaa0-6b33063c58c3",
   "metadata": {},
   "outputs": [],
   "source": [
    "thresh_xval_all_accs = [0.98, 0.98, 0.93, 0.98, 1.00]\n",
    "thresh_xval_all_aucs = [1.00, 1.00, 0.98, 1.00, 1.00]\n",
    "thresh_xval_po_accs = [0.96, 0.98, 0.93, 0.93, 0.93]\n",
    "thresh_xval_po_aucs = [0.99, 1.00, 0.97, 0.99, 1.00]\n",
    "thresh_xval_lp_accs = [0.80, 0.83, 0.89, 0.89, 0.98]\n",
    "thresh_xval_lp_aucs = [0.88, 0.96, 0.95, 0.95, 0.94]\n",
    "thresh_xval_dg_accs = [0.61, 0.67, 0.46, 0.67, 0.63]\n",
    "thresh_xval_dg_aucs = [0.66, 0.65, 0.44, 0.72, 0.69]\n",
    "thresh_xval_ca1_accs = [0.63, 0.59, 0.70, 0.59, 0.67]\n",
    "thresh_xval_ca1_aucs = [0.66, 0.59, 0.75, 0.52, 0.75]\n",
    "thresh_xval_vis_accs = [0.74, 0.78, 0.76, 0.72, 0.83]\n",
    "thresh_xval_vis_aucs = [0.83, 0.89, 0.80, 0.82, 0.93]"
   ]
  },
  {
   "cell_type": "code",
   "execution_count": 84,
   "id": "95164168-40d3-4597-94fa-c1a20b612072",
   "metadata": {},
   "outputs": [
    {
     "name": "stdout",
     "output_type": "stream",
     "text": [
      "all acc: 0.97 auc: 1.00\n",
      "po acc: 0.95 auc: 0.99\n",
      "lp acc: 0.88 auc: 0.94\n",
      "dg acc: 0.61 auc: 0.63\n",
      "ca1 acc: 0.64 auc: 0.65\n",
      "vis acc: 0.77 auc: 0.85\n"
     ]
    }
   ],
   "source": [
    "print(f'all acc: {np.mean(thresh_xval_all_accs):.2f} auc: {np.mean(thresh_xval_all_aucs):.2f}')\n",
    "print(f'po acc: {np.mean(thresh_xval_po_accs):.2f} auc: {np.mean(thresh_xval_po_aucs):.2f}')\n",
    "print(f'lp acc: {np.mean(thresh_xval_lp_accs):.2f} auc: {np.mean(thresh_xval_lp_aucs):.2f}')\n",
    "print(f'dg acc: {np.mean(thresh_xval_dg_accs):.2f} auc: {np.mean(thresh_xval_dg_aucs):.2f}')\n",
    "print(f'ca1 acc: {np.mean(thresh_xval_ca1_accs):.2f} auc: {np.mean(thresh_xval_ca1_aucs):.2f}')\n",
    "print(f'vis acc: {np.mean(thresh_xval_vis_accs):.2f} auc: {np.mean(thresh_xval_vis_aucs):.2f}')"
   ]
  },
  {
   "cell_type": "markdown",
   "id": "46581bec-2ef4-4e9d-b545-5aab5cf2c76b",
   "metadata": {},
   "source": [
    "### encoded-MoG"
   ]
  },
  {
   "cell_type": "code",
   "execution_count": 74,
   "id": "a5d7d8a7-2839-4ddc-b85b-363662f358d5",
   "metadata": {},
   "outputs": [],
   "source": [
    "enc_pi = enc_lam / enc_lam.sum(0) \n",
    "y_pred = 1 * (dec_nu > .5)\n",
    "train_feat = [data_loader.trials[k] for k in data_loader.train_ids]\n",
    "test_feat = [data_loader.trials[k] for k in data_loader.test_ids]"
   ]
  },
  {
   "cell_type": "code",
   "execution_count": 75,
   "id": "de53ccef-0ded-4106-a4a6-71269f81e8e1",
   "metadata": {},
   "outputs": [],
   "source": [
    "W_train = np.zeros((len(data_loader.train_ids), data_loader.n_t_bins, C))\n",
    "for k in range(len(data_loader.train_ids)):\n",
    "    for t in range(data_loader.n_t_bins):\n",
    "        modulated_gmm =  GaussianMixture(n_components=C, covariance_type='full')\n",
    "        modulated_gmm.precisions_cholesky_ = np.linalg.cholesky(np.linalg.inv(dec_cov))\n",
    "        modulated_gmm.weights_ = enc_pi[:, t, data_loader.y_train[k]].numpy()\n",
    "        modulated_gmm.means_ = dec_mu.numpy()\n",
    "        modulated_gmm.covariances_ = dec_cov.numpy()\n",
    "        if len(train_feat[k][t]) > 0:\n",
    "            W_train[k,t,:] = modulated_gmm.predict_proba(train_feat[k][t]).sum(0)"
   ]
  },
  {
   "cell_type": "code",
   "execution_count": 76,
   "id": "7c087a8e-7364-45de-94f3-21b4e77d4aad",
   "metadata": {},
   "outputs": [],
   "source": [
    "W_test = np.zeros((len(data_loader.test_ids), data_loader.n_t_bins, C))\n",
    "for k in range(len(data_loader.test_ids)):\n",
    "    for t in range(data_loader.n_t_bins):\n",
    "        modulated_gmm =  GaussianMixture(n_components=C, covariance_type='full')\n",
    "        modulated_gmm.precisions_cholesky_ = np.linalg.cholesky(np.linalg.inv(dec_cov))\n",
    "        # modulated_gmm.weights_ = enc_pi[:, t, y_pred[k]].numpy()\n",
    "        modulated_gmm.weights_ = enc_pi[:, t, threshold_preds[k]].numpy()\n",
    "        modulated_gmm.means_ = dec_mu.numpy()\n",
    "        modulated_gmm.covariances_ = dec_cov.numpy()\n",
    "        if len(test_feat[k][t]) > 0:\n",
    "            W_test[k,t,:] = modulated_gmm.predict_proba(test_feat[k][t]).sum(0)"
   ]
  },
  {
   "cell_type": "code",
   "execution_count": 77,
   "id": "d6d9f73a-e079-4eca-88e4-d8d98b01cdf1",
   "metadata": {},
   "outputs": [
    {
     "name": "stdout",
     "output_type": "stream",
     "text": [
      "1.00\n",
      "1.00\n"
     ]
    }
   ],
   "source": [
    "x_train = W_train.reshape(-1, W_train.shape[1]*W_train.shape[-1])\n",
    "x_test = W_test.reshape(-1, W_test.shape[1]*W_test.shape[-1])\n",
    "decoder = LogisticRegression(random_state=seed, solver='liblinear').fit(x_train, data_loader.y_train)\n",
    "probs = decoder.predict_proba(x_test)\n",
    "preds = probs.argmax(1)\n",
    "acc = accuracy_score(data_loader.y_test, preds)\n",
    "auc = roc_auc_score(choices[data_loader.test_ids], probs)\n",
    "print(f'{acc:.2f}')\n",
    "print(f'{auc:.2f}')"
   ]
  },
  {
   "cell_type": "code",
   "execution_count": 85,
   "id": "27fd6c77-1bcd-4d36-ad6b-5bd5245b3544",
   "metadata": {},
   "outputs": [],
   "source": [
    "enc_mog_xval_all_accs = [0.98, 0.98, 0.93, 0.98, 1.00]\n",
    "enc_mog_xval_all_aucs = [1.00, 1.00, 0.98, 1.00, 1.00]\n",
    "enc_mog_xval_po_accs = [0.98, 1.00, 0.96, 0.96, 0.96]\n",
    "enc_mog_xval_po_aucs = [0.99, 1.00, 0.99, 0.99, 1.00]\n",
    "enc_mog_xval_lp_accs = [0.85, 0.89, 0.98, 0.91, 0.96]\n",
    "enc_mog_xval_lp_aucs = [0.89, 0.97, 0.99, 0.98, 0.99]\n",
    "enc_mog_xval_dg_accs = [0.70, 0.67, 0.67, 0.67, 0.65]\n",
    "enc_mog_xval_dg_aucs = [0.80, 0.70, 0.62, 0.69, 0.77]\n",
    "enc_mog_xval_ca1_accs = [0.67, 0.63, 0.70, 0.67, 0.72]\n",
    "enc_mog_xval_ca1_aucs = [0.73, 0.63, 0.80, 0.56, 0.81]\n",
    "enc_mog_xval_vis_accs = [0.80, 0.85, 0.80, 0.83, 0.87]\n",
    "enc_mog_xval_vis_aucs = [0.92, 0.96, 0.96, 0.92, 0.94]"
   ]
  },
  {
   "cell_type": "code",
   "execution_count": 86,
   "id": "dee192d5-0d47-4bc9-82eb-4ed9105883fc",
   "metadata": {},
   "outputs": [
    {
     "name": "stdout",
     "output_type": "stream",
     "text": [
      "all acc: 0.97 auc: 1.00\n",
      "po acc: 0.97 auc: 0.99\n",
      "lp acc: 0.92 auc: 0.96\n",
      "dg acc: 0.67 auc: 0.72\n",
      "ca1 acc: 0.68 auc: 0.71\n",
      "vis acc: 0.83 auc: 0.94\n"
     ]
    }
   ],
   "source": [
    "print(f'all acc: {np.mean(enc_mog_xval_all_accs):.2f} auc: {np.mean(enc_mog_xval_all_aucs):.2f}')\n",
    "print(f'po acc: {np.mean(enc_mog_xval_po_accs):.2f} auc: {np.mean(enc_mog_xval_po_aucs):.2f}')\n",
    "print(f'lp acc: {np.mean(enc_mog_xval_lp_accs):.2f} auc: {np.mean(enc_mog_xval_lp_aucs):.2f}')\n",
    "print(f'dg acc: {np.mean(enc_mog_xval_dg_accs):.2f} auc: {np.mean(enc_mog_xval_dg_aucs):.2f}')\n",
    "print(f'ca1 acc: {np.mean(enc_mog_xval_ca1_accs):.2f} auc: {np.mean(enc_mog_xval_ca1_aucs):.2f}')\n",
    "print(f'vis acc: {np.mean(enc_mog_xval_vis_accs):.2f} auc: {np.mean(enc_mog_xval_vis_aucs):.2f}')"
   ]
  },
  {
   "cell_type": "markdown",
   "id": "b090da85-ce22-4783-9a67-2c8fae0f3395",
   "metadata": {},
   "source": [
    "#### KS vs. IBL good units"
   ]
  },
  {
   "cell_type": "code",
   "execution_count": 78,
   "id": "a1888adc-4d22-4960-bafd-768dd32b6436",
   "metadata": {},
   "outputs": [
    {
     "name": "stdout",
     "output_type": "stream",
     "text": [
      "sorted neural data shape: (230, 465, 10)\n",
      "good sorted neural data shape: (230, 85, 10)\n"
     ]
    }
   ],
   "source": [
    "n_trials = stim_on_times.shape[0]\n",
    "sorted = np.vstack([sorted_trials[i] for i in np.arange(n_trials)]) \n",
    "unsorted = np.vstack([unsorted_trials[i] for i in np.arange(n_trials)])\n",
    "spike_times = sorted[:,0]\n",
    "spike_clusters = sorted[:,1]\n",
    "spike_channels = unsorted[:,1]\n",
    "\n",
    "sorted_neural_data = preprocess.compute_neural_activity(\n",
    "    (spike_times, spike_clusters),\n",
    "    stim_on_times,\n",
    "    'sorted', \n",
    "    n_time_bins=10,\n",
    "    # regional=True\n",
    "    regional=False\n",
    ")\n",
    "print(f'sorted neural data shape: {sorted_neural_data.shape}')\n",
    "\n",
    "good_sorted = np.vstack([good_sorted_trials[i] for i in np.arange(n_trials)]) \n",
    "spike_times = good_sorted[:,0]\n",
    "spike_clusters = good_sorted[:,1]\n",
    "\n",
    "good_sorted_neural_data = preprocess.compute_neural_activity(\n",
    "    (spike_times, spike_clusters),\n",
    "    stim_on_times,\n",
    "    'sorted', \n",
    "    n_time_bins=10,\n",
    "    # regional=True\n",
    "    regional=False\n",
    ")\n",
    "print(f'good sorted neural data shape: {good_sorted_neural_data.shape}')"
   ]
  },
  {
   "cell_type": "code",
   "execution_count": 79,
   "id": "cacd99c0-85b0-4fe7-96c1-4379ef17ffa6",
   "metadata": {},
   "outputs": [
    {
     "name": "stdout",
     "output_type": "stream",
     "text": [
      "1.00\n",
      "1.00\n"
     ]
    }
   ],
   "source": [
    "x_train = sorted_neural_data[data_loader.train_ids].reshape(-1, sorted_neural_data.shape[1]*sorted_neural_data.shape[-1])\n",
    "x_test = sorted_neural_data[data_loader.test_ids].reshape(-1, sorted_neural_data.shape[1]*sorted_neural_data.shape[-1])\n",
    "decoder = LogisticRegression(random_state=seed, solver='liblinear').fit(x_train, data_loader.y_train)\n",
    "probs = decoder.predict_proba(x_test)\n",
    "preds = probs.argmax(1)\n",
    "acc = accuracy_score(data_loader.y_test, preds)\n",
    "auc = roc_auc_score(choices[data_loader.test_ids], probs)\n",
    "print(f'{acc:.2f}')\n",
    "print(f'{auc:.2f}')"
   ]
  },
  {
   "cell_type": "code",
   "execution_count": 87,
   "id": "491c0f2e-06d5-43a9-ac38-94e3dc67f3a7",
   "metadata": {},
   "outputs": [],
   "source": [
    "ks_xval_all_accs = [0.98, 0.98, 0.96, 0.96, 1.00]\n",
    "ks_xval_all_aucs = [1.00, 1.00, 0.99, 1.00, 1.00]\n",
    "ks_xval_po_accs = [0.96, 1.00, 0.93, 0.98, 0.98]\n",
    "ks_xval_po_aucs = [1.00, 1.00, 0.99, 1.00, 1.00]\n",
    "ks_xval_lp_accs = [0.78, 0.89, 0.91, 0.93, 0.91]\n",
    "ks_xval_lp_aucs = [0.87, 0.98, 0.97, 0.98, 0.86]\n",
    "ks_xval_dg_accs = [0.67, 0.67, 0.65, 0.70, 0.54]\n",
    "ks_xval_dg_aucs = [0.80, 0.66, 0.60, 0.73, 0.74]\n",
    "ks_xval_ca1_accs = [0.54, 0.63, 0.72, 0.65, 0.63]\n",
    "ks_xval_ca1_aucs = [0.60, 0.63, 0.71, 0.59, 0.71]\n",
    "ks_xval_vis_accs = [0.78, 0.83, 0.85, 0.85, 0.83]\n",
    "ks_xval_vis_aucs = [0.86, 0.94, 0.90, 0.91, 0.94]"
   ]
  },
  {
   "cell_type": "code",
   "execution_count": 88,
   "id": "dc215ee2-43fd-4cde-81ad-63c864b46e90",
   "metadata": {},
   "outputs": [
    {
     "name": "stdout",
     "output_type": "stream",
     "text": [
      "all acc: 0.98 auc: 1.00\n",
      "po acc: 0.97 auc: 1.00\n",
      "lp acc: 0.88 auc: 0.93\n",
      "dg acc: 0.65 auc: 0.71\n",
      "ca1 acc: 0.63 auc: 0.65\n",
      "vis acc: 0.83 auc: 0.91\n"
     ]
    }
   ],
   "source": [
    "print(f'all acc: {np.mean(ks_xval_all_accs):.2f} auc: {np.mean(ks_xval_all_aucs):.2f}')\n",
    "print(f'po acc: {np.mean(ks_xval_po_accs):.2f} auc: {np.mean(ks_xval_po_aucs):.2f}')\n",
    "print(f'lp acc: {np.mean(ks_xval_lp_accs):.2f} auc: {np.mean(ks_xval_lp_aucs):.2f}')\n",
    "print(f'dg acc: {np.mean(ks_xval_dg_accs):.2f} auc: {np.mean(ks_xval_dg_aucs):.2f}')\n",
    "print(f'ca1 acc: {np.mean(ks_xval_ca1_accs):.2f} auc: {np.mean(ks_xval_ca1_aucs):.2f}')\n",
    "print(f'vis acc: {np.mean(ks_xval_vis_accs):.2f} auc: {np.mean(ks_xval_vis_aucs):.2f}')"
   ]
  },
  {
   "cell_type": "code",
   "execution_count": 80,
   "id": "0764980e-adf4-4cfb-b06b-fcd7a8cd6ed7",
   "metadata": {},
   "outputs": [
    {
     "name": "stdout",
     "output_type": "stream",
     "text": [
      "0.96\n",
      "1.00\n"
     ]
    }
   ],
   "source": [
    "x_train = good_sorted_neural_data[data_loader.train_ids].reshape(-1, good_sorted_neural_data.shape[1]*good_sorted_neural_data.shape[-1])\n",
    "x_test = good_sorted_neural_data[data_loader.test_ids].reshape(-1, good_sorted_neural_data.shape[1]*good_sorted_neural_data.shape[-1])\n",
    "decoder = LogisticRegression(random_state=seed, solver='liblinear').fit(x_train, data_loader.y_train)\n",
    "probs = decoder.predict_proba(x_test)\n",
    "preds = probs.argmax(1)\n",
    "acc = accuracy_score(data_loader.y_test, preds)\n",
    "auc = roc_auc_score(choices[data_loader.test_ids], probs)\n",
    "print(f'{acc:.2f}')\n",
    "print(f'{auc:.2f}')"
   ]
  },
  {
   "cell_type": "code",
   "execution_count": 89,
   "id": "a99146dc-fb8b-494f-934e-8e5d82b333f8",
   "metadata": {},
   "outputs": [],
   "source": [
    "good_xval_all_accs = [0.93, 0.98, 0.91, 0.91, 0.96]\n",
    "good_xval_all_aucs = [0.99, 1.00, 0.98, 0.99, 1.00]\n",
    "good_xval_po_accs = [0.78, 0.83, 0.89, 0.80, 0.80]\n",
    "good_xval_po_aucs = [0.87, 0.90, 0.87, 0.90, 0.94]\n",
    "good_xval_lp_accs = [0.63, 0.65, 0.61, 0.78, 0.63]\n",
    "good_xval_lp_aucs = [0.59, 0.73, 0.65, 0.85, 0.67]\n",
    "good_xval_dg_accs = [0.67, 0.63, 0.67, 0.65, 0.57]\n",
    "good_xval_dg_aucs = [0.77, 0.61, 0.66, 0.67, 0.76]\n",
    "good_xval_ca1_accs = [0.50, 0.63, 0.65, 0.54, 0.70]\n",
    "good_xval_ca1_aucs = [0.49, 0.64, 0.73, 0.46, 0.67]\n",
    "good_xval_vis_accs = [0.74, 0.78, 0.72, 0.78, 0.76]\n",
    "good_xval_vis_aucs = [0.85, 0.85, 0.78, 0.92, 0.89]"
   ]
  },
  {
   "cell_type": "code",
   "execution_count": 90,
   "id": "e2be8045-5596-4cdc-b02e-73a4d91e2e70",
   "metadata": {},
   "outputs": [
    {
     "name": "stdout",
     "output_type": "stream",
     "text": [
      "all acc: 0.94 auc: 0.99\n",
      "po acc: 0.82 auc: 0.90\n",
      "po acc: 0.66 auc: 0.70\n",
      "dg acc: 0.64 auc: 0.69\n",
      "ca1 acc: 0.60 auc: 0.60\n",
      "vis acc: 0.76 auc: 0.86\n"
     ]
    }
   ],
   "source": [
    "print(f'all acc: {np.mean(good_xval_all_accs):.2f} auc: {np.mean(good_xval_all_aucs):.2f}')\n",
    "print(f'po acc: {np.mean(good_xval_po_accs):.2f} auc: {np.mean(good_xval_po_aucs):.2f}')\n",
    "print(f'po acc: {np.mean(good_xval_lp_accs):.2f} auc: {np.mean(good_xval_lp_aucs):.2f}')\n",
    "print(f'dg acc: {np.mean(good_xval_dg_accs):.2f} auc: {np.mean(good_xval_dg_aucs):.2f}')\n",
    "print(f'ca1 acc: {np.mean(good_xval_ca1_accs):.2f} auc: {np.mean(good_xval_ca1_aucs):.2f}')\n",
    "print(f'vis acc: {np.mean(good_xval_vis_accs):.2f} auc: {np.mean(good_xval_vis_aucs):.2f}')"
   ]
  },
  {
   "cell_type": "code",
   "execution_count": null,
   "id": "202c0197-c3df-485f-b245-593e05c22211",
   "metadata": {},
   "outputs": [],
   "source": []
  }
 ],
 "metadata": {
  "kernelspec": {
   "display_name": "Python 3 (ipykernel)",
   "language": "python",
   "name": "python3"
  },
  "language_info": {
   "codemirror_mode": {
    "name": "ipython",
    "version": 3
   },
   "file_extension": ".py",
   "mimetype": "text/x-python",
   "name": "python",
   "nbconvert_exporter": "python",
   "pygments_lexer": "ipython3",
   "version": "3.8.13"
  }
 },
 "nbformat": 4,
 "nbformat_minor": 5
}
