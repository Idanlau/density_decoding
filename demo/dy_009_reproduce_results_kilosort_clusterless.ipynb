{
 "cells": [
  {
   "cell_type": "code",
   "execution_count": 1,
   "id": "b3d066f4-204f-416c-9ba0-c4f627e5c2f6",
   "metadata": {},
   "outputs": [],
   "source": [
    "import numpy as np\n",
    "import random\n",
    "seed = 666\n",
    "random.seed(seed)\n",
    "np.random.seed(seed)\n",
    "\n",
    "import matplotlib.pyplot as plt\n",
    "\n",
    "from unidip import UniDip\n",
    "from sklearn.mixture import GaussianMixture\n",
    "\n",
    "from clusterless import data_preprocess\n",
    "from clusterless import viz_tools\n",
    "from clusterless import decode_static"
   ]
  },
  {
   "cell_type": "code",
   "execution_count": 2,
   "id": "a8dca71c-dcad-4723-ba04-eb01aedf3c82",
   "metadata": {},
   "outputs": [],
   "source": [
    "pid = 'febb430e-2d50-4f83-87a0-b5ffbb9a4943'\n",
    "rootpath = '/mnt/3TB/yizi/Downloads/ONE/openalyx.internationalbrainlab.org'\n",
    "trial_data_path = rootpath + '/danlab/Subjects/DY_009/2020-02-27/001/alf'\n",
    "neural_data_path = '/mnt/3TB/yizi/danlab/Subjects/DY_009'\n",
    "behavior_data_path = rootpath + '/paper_repro_ephys_data/figure9_10/original_data'\n",
    "save_path = '../saved_results/danlab/Subjects/DY_009'"
   ]
  },
  {
   "cell_type": "code",
   "execution_count": 3,
   "id": "15876181-35cb-4c4a-a861-8a848e134b37",
   "metadata": {},
   "outputs": [
    {
     "name": "stdout",
     "output_type": "stream",
     "text": [
      "choices left: 0.361, right: 0.639\n",
      "stimuli left: 0.430, right: 0.570\n",
      "reward wrong: 0.087, correct: 0.913\n"
     ]
    }
   ],
   "source": [
    "behave_dict = data_preprocess.load_behaviors_data(behavior_data_path, pid)\n",
    "choices, stimuli, transformed_stimuli, one_hot_stimuli, enc_categories, rewards, priors = data_preprocess.preprocess_static_behaviors(behave_dict, keep_active_trials = True)\n",
    "static_behaviors = {'choice': choices, 'stimulus': one_hot_stimuli}"
   ]
  },
  {
   "cell_type": "code",
   "execution_count": 4,
   "id": "779ef8e3-e0fb-4e23-a0eb-c9d1314ecf2b",
   "metadata": {},
   "outputs": [],
   "source": [
    "rois = [roi.lower() for roi in ['PoT', 'LP', 'DG', 'CA1', 'VIS']]"
   ]
  },
  {
   "cell_type": "markdown",
   "id": "b83b1e64-8483-4e40-a5d1-d18f4899288e",
   "metadata": {},
   "source": [
    "decode all regions"
   ]
  },
  {
   "cell_type": "code",
   "execution_count": 5,
   "id": "588815aa-6c1e-49c5-9796-c3b908f6155d",
   "metadata": {},
   "outputs": [
    {
     "name": "stdout",
     "output_type": "stream",
     "text": [
      "pid: febb430e-2d50-4f83-87a0-b5ffbb9a4943\n",
      "eid: db4df448-e449-4a6f-a0e7-288711e7a75a\n",
      "1st trial stim on time: 40.81, last trial stim on time 2252.10\n",
      "sorted neural data shape: (230, 465, 30)\n"
     ]
    }
   ],
   "source": [
    "sorted_trials, unsorted_trials, stim_on_times, np1_channel_map= data_preprocess.load_neural_data(\n",
    "    pid=pid, \n",
    "    trial_data_path=trial_data_path,\n",
    "    neural_data_path=neural_data_path,\n",
    "    behavior_data_path=behavior_data_path,\n",
    "    keep_active_trials=True, \n",
    "    roi='all',\n",
    "    kilosort=True,\n",
    "    triage=False\n",
    ")\n",
    "\n",
    "n_trials = stim_on_times.shape[0]\n",
    "sorted = np.vstack([sorted_trials[i] for i in np.arange(n_trials)]) \n",
    "spike_times_sorted = sorted[:,0]\n",
    "spike_clusters = sorted[:,1]\n",
    "\n",
    "sorted_neural_data = data_preprocess.compute_neural_activity(\n",
    "    (spike_times_sorted, spike_clusters),\n",
    "    stim_on_times,\n",
    "    'sorted', \n",
    "    n_time_bins=30,\n",
    "    regional=False\n",
    ")\n",
    "print(f'sorted neural data shape: {sorted_neural_data.shape}')"
   ]
  },
  {
   "cell_type": "code",
   "execution_count": 6,
   "id": "3a1064d4-6cea-4e14-955a-a68902c18b82",
   "metadata": {},
   "outputs": [
    {
     "name": "stdout",
     "output_type": "stream",
     "text": [
      "thresholded neural data shape: (230, 374, 30)\n"
     ]
    }
   ],
   "source": [
    "# unsorted_trials, stim_on_times, np1_channel_map = data_preprocess.load_neural_data(\n",
    "#     pid=pid, \n",
    "#     trial_data_path=trial_data_path,\n",
    "#     neural_data_path=neural_data_path,\n",
    "#     behavior_data_path=behavior_data_path,\n",
    "#     keep_active_trials=True, \n",
    "#     roi='all',\n",
    "#     kilosort=False,\n",
    "#     triage=False\n",
    "# )\n",
    "\n",
    "n_trials = stim_on_times.shape[0]\n",
    "unsorted = np.vstack([unsorted_trials[i] for i in np.arange(n_trials)]) \n",
    "spike_times_unsorted = unsorted[:,0]\n",
    "spike_channels = unsorted[:,1]\n",
    "spike_features = unsorted[:,2:]\n",
    "\n",
    "thresholded_neural_data = data_preprocess.compute_neural_activity(\n",
    "    (spike_times_unsorted, spike_channels),\n",
    "    stim_on_times,\n",
    "    'thresholded', \n",
    "    n_time_bins=30,\n",
    "    regional=False\n",
    ")\n",
    "print(f'thresholded neural data shape: {thresholded_neural_data.shape}')"
   ]
  },
  {
   "cell_type": "code",
   "execution_count": 7,
   "id": "3e34fb7f-534f-417e-8c50-0b5a9607e4e3",
   "metadata": {},
   "outputs": [
    {
     "name": "stdout",
     "output_type": "stream",
     "text": [
      "clusterless neural data shape: (230, 330, 30)\n"
     ]
    }
   ],
   "source": [
    "# gmm_name = '../pretrained/danlab/Subjects/DY_009/init_max_chan_gmm'\n",
    "gmm_name = '../pretrained/danlab/Subjects/DY_009/kilosort_localizations/init_max_chan_gmm'\n",
    "means = np.load(gmm_name + '_means.npy')\n",
    "covar = np.load(gmm_name + '_covariances.npy')\n",
    "loaded_gmm = GaussianMixture(n_components=len(means), covariance_type='full')\n",
    "loaded_gmm.precisions_cholesky_ = np.linalg.cholesky(np.linalg.inv(covar))\n",
    "loaded_gmm.weights_ = np.load(gmm_name + '_weights.npy')\n",
    "loaded_gmm.means_ = means\n",
    "loaded_gmm.covariances_ = covar\n",
    "\n",
    "spike_labels = loaded_gmm.predict(spike_features)\n",
    "spike_probs = loaded_gmm.predict_proba(spike_features)\n",
    "\n",
    "clusterless_neural_data = data_preprocess.compute_neural_activity(\n",
    "    (spike_times_unsorted, spike_labels, spike_probs),\n",
    "    stim_on_times,\n",
    "    'clusterless', \n",
    "    n_time_bins=30,\n",
    "    regional=False\n",
    ")\n",
    "print(f'clusterless neural data shape: {clusterless_neural_data.shape}')"
   ]
  },
  {
   "cell_type": "code",
   "execution_count": 8,
   "id": "1a9f2060-a4ef-4912-861a-846aee6d745d",
   "metadata": {},
   "outputs": [],
   "source": [
    "neural_data_dict = {\n",
    "    'sorted': sorted_neural_data,\n",
    "    'thresholded': thresholded_neural_data,\n",
    "    'clusterless': clusterless_neural_data\n",
    "} "
   ]
  },
  {
   "cell_type": "code",
   "execution_count": 9,
   "id": "0a08098d-27ef-4926-8241-ab56c683a758",
   "metadata": {},
   "outputs": [
    {
     "name": "stdout",
     "output_type": "stream",
     "text": [
      "sorted:\n",
      "choice fold 1 test accuracy: 0.957 auc: 1.000\n",
      "choice fold 2 test accuracy: 1.000 auc: 1.000\n",
      "choice fold 3 test accuracy: 1.000 auc: 1.000\n",
      "choice fold 4 test accuracy: 0.957 auc: 0.990\n",
      "choice fold 5 test accuracy: 0.913 auc: 0.984\n",
      "choice mean of 5-fold cv accuracy: 0.965 auc: 0.995\n",
      "choice sd of 5-fold cv accuracy: 0.033 auc: 0.007\n",
      "thresholded:\n",
      "choice fold 1 test accuracy: 0.957 auc: 1.000\n",
      "choice fold 2 test accuracy: 0.978 auc: 1.000\n",
      "choice fold 3 test accuracy: 1.000 auc: 1.000\n",
      "choice fold 4 test accuracy: 0.935 auc: 0.992\n",
      "choice fold 5 test accuracy: 0.913 auc: 0.984\n",
      "choice mean of 5-fold cv accuracy: 0.957 auc: 0.995\n",
      "choice sd of 5-fold cv accuracy: 0.031 auc: 0.006\n",
      "clusterless:\n",
      "choice fold 1 test accuracy: 0.957 auc: 1.000\n",
      "choice fold 2 test accuracy: 0.978 auc: 1.000\n",
      "choice fold 3 test accuracy: 1.000 auc: 1.000\n",
      "choice fold 4 test accuracy: 0.978 auc: 0.990\n",
      "choice fold 5 test accuracy: 0.913 auc: 0.986\n",
      "choice mean of 5-fold cv accuracy: 0.965 auc: 0.995\n",
      "choice sd of 5-fold cv accuracy: 0.029 auc: 0.006\n",
      "sorted:\n",
      "stimulus fold 1 test accuracy: 0.413 auc: 0.818\n",
      "stimulus fold 2 test accuracy: 0.543 auc: 0.884\n",
      "stimulus fold 3 test accuracy: 0.587 auc: 0.850\n",
      "stimulus fold 4 test accuracy: 0.457 auc: 0.846\n",
      "stimulus fold 5 test accuracy: 0.587 auc: 0.903\n",
      "stimulus mean of 5-fold cv accuracy: 0.517 auc: 0.860\n",
      "stimulus sd of 5-fold cv accuracy: 0.071 auc: 0.030\n",
      "thresholded:\n",
      "stimulus fold 1 test accuracy: 0.391 auc: 0.802\n",
      "stimulus fold 2 test accuracy: 0.522 auc: 0.869\n",
      "stimulus fold 3 test accuracy: 0.565 auc: 0.835\n",
      "stimulus fold 4 test accuracy: 0.413 auc: 0.837\n",
      "stimulus fold 5 test accuracy: 0.543 auc: 0.882\n",
      "stimulus mean of 5-fold cv accuracy: 0.487 auc: 0.845\n",
      "stimulus sd of 5-fold cv accuracy: 0.071 auc: 0.028\n",
      "clusterless:\n",
      "stimulus fold 1 test accuracy: 0.478 auc: 0.816\n",
      "stimulus fold 2 test accuracy: 0.500 auc: 0.864\n",
      "stimulus fold 3 test accuracy: 0.543 auc: 0.847\n",
      "stimulus fold 4 test accuracy: 0.391 auc: 0.850\n",
      "stimulus fold 5 test accuracy: 0.565 auc: 0.875\n",
      "stimulus mean of 5-fold cv accuracy: 0.496 auc: 0.850\n",
      "stimulus sd of 5-fold cv accuracy: 0.061 auc: 0.020\n"
     ]
    }
   ],
   "source": [
    "all_decode_results = {'choice': dict(), 'stimulus': dict()}\n",
    "\n",
    "for behave_type in all_decode_results.keys():\n",
    "    for data_type in neural_data_dict.keys():\n",
    "        print(f'{data_type}:')\n",
    "        decode_results = decode_static.cv_decode_static(\n",
    "            neural_data_dict[data_type], \n",
    "            static_behaviors[behave_type], \n",
    "            behave_type=behave_type, \n",
    "            n_folds=5, \n",
    "            seed=seed, \n",
    "            shuffle=True)\n",
    "        all_decode_results[behave_type].update({data_type: decode_results})\n",
    "np.save(f'{save_path}/all_decode_results.npy', all_decode_results)"
   ]
  },
  {
   "cell_type": "code",
   "execution_count": null,
   "id": "4d946d7b-7829-4dfa-85c2-516bf5c095e1",
   "metadata": {},
   "outputs": [],
   "source": []
  },
  {
   "cell_type": "markdown",
   "id": "be3f4688-3cba-4483-8ab6-98e0502987c4",
   "metadata": {},
   "source": [
    "decode brain regions"
   ]
  },
  {
   "cell_type": "code",
   "execution_count": 35,
   "id": "bb0edbfe-f266-405c-bace-10ae5c4cf8c5",
   "metadata": {},
   "outputs": [
    {
     "name": "stdout",
     "output_type": "stream",
     "text": [
      "vis\n"
     ]
    }
   ],
   "source": [
    "roi = rois[4]\n",
    "print(roi)"
   ]
  },
  {
   "cell_type": "code",
   "execution_count": 36,
   "id": "f58ce04a-3033-418c-bbf1-62ea01a3c2e0",
   "metadata": {},
   "outputs": [
    {
     "name": "stdout",
     "output_type": "stream",
     "text": [
      "pid: febb430e-2d50-4f83-87a0-b5ffbb9a4943\n",
      "eid: db4df448-e449-4a6f-a0e7-288711e7a75a\n",
      "1st trial stim on time: 40.81, last trial stim on time 2252.10\n",
      "found 29 neurons in region vis ...\n",
      "found 40 channels in region vis ...\n",
      "sorted neural data shape: (230, 29, 30)\n"
     ]
    }
   ],
   "source": [
    "sorted_trials, unsorted_trials, stim_on_times, np1_channel_map= data_preprocess.load_neural_data(\n",
    "    pid=pid, \n",
    "    trial_data_path=trial_data_path,\n",
    "    neural_data_path=neural_data_path,\n",
    "    behavior_data_path=behavior_data_path,\n",
    "    keep_active_trials=True, \n",
    "    roi=roi,\n",
    "    kilosort=True,\n",
    "    triage=False\n",
    ")\n",
    "\n",
    "n_trials = stim_on_times.shape[0]\n",
    "sorted = np.vstack([sorted_trials[i] for i in np.arange(n_trials)]) \n",
    "spike_times_sorted = sorted[:,0]\n",
    "spike_clusters = sorted[:,1]\n",
    "\n",
    "sorted_neural_data = data_preprocess.compute_neural_activity(\n",
    "    (spike_times_sorted, spike_clusters),\n",
    "    stim_on_times,\n",
    "    'sorted', \n",
    "    n_time_bins=30,\n",
    "    regional=True\n",
    ")\n",
    "print(f'sorted neural data shape: {sorted_neural_data.shape}')"
   ]
  },
  {
   "cell_type": "code",
   "execution_count": 37,
   "id": "f930cb1a-2450-48e2-8f50-71300b77c50a",
   "metadata": {},
   "outputs": [
    {
     "name": "stdout",
     "output_type": "stream",
     "text": [
      "thresholded neural data shape: (230, 15, 30)\n"
     ]
    }
   ],
   "source": [
    "# unsorted_trials, stim_on_times, np1_channel_map = data_preprocess.load_neural_data(\n",
    "#     pid=pid, \n",
    "#     trial_data_path=trial_data_path,\n",
    "#     neural_data_path=neural_data_path,\n",
    "#     behavior_data_path=behavior_data_path,\n",
    "#     keep_active_trials=True, \n",
    "#     roi=roi,\n",
    "#     kilosort=False,\n",
    "#     triage=False\n",
    "# )\n",
    "\n",
    "n_trials = stim_on_times.shape[0]\n",
    "unsorted = np.vstack([unsorted_trials[i] for i in np.arange(n_trials)]) \n",
    "spike_times_unsorted = unsorted[:,0]\n",
    "spike_channels = unsorted[:,1]\n",
    "spike_features = unsorted[:,2:]\n",
    "\n",
    "thresholded_neural_data = data_preprocess.compute_neural_activity(\n",
    "    (spike_times_unsorted, spike_channels),\n",
    "    stim_on_times,\n",
    "    'thresholded', \n",
    "    n_time_bins=30,\n",
    "    regional=True\n",
    ")\n",
    "print(f'thresholded neural data shape: {thresholded_neural_data.shape}')"
   ]
  },
  {
   "cell_type": "code",
   "execution_count": 38,
   "id": "6cd80b2b-bf83-47bb-a11b-6ab45d2843cc",
   "metadata": {},
   "outputs": [
    {
     "name": "stdout",
     "output_type": "stream",
     "text": [
      "clusterless neural data shape: (230, 29, 30)\n"
     ]
    }
   ],
   "source": [
    "gmm_name = '../pretrained/danlab/Subjects/DY_009/kilosort_localizations/init_max_chan_gmm'\n",
    "means = np.load(gmm_name + '_means.npy')\n",
    "covar = np.load(gmm_name + '_covariances.npy')\n",
    "loaded_gmm = GaussianMixture(n_components=len(means), covariance_type='full')\n",
    "loaded_gmm.precisions_cholesky_ = np.linalg.cholesky(np.linalg.inv(covar))\n",
    "loaded_gmm.weights_ = np.load(gmm_name + '_weights.npy')\n",
    "loaded_gmm.means_ = means\n",
    "loaded_gmm.covariances_ = covar\n",
    "\n",
    "spike_labels = loaded_gmm.predict(spike_features)\n",
    "spike_probs = loaded_gmm.predict_proba(spike_features)\n",
    "\n",
    "clusterless_neural_data = data_preprocess.compute_neural_activity(\n",
    "    (spike_times_unsorted, spike_labels, spike_probs),\n",
    "    stim_on_times,\n",
    "    'clusterless', \n",
    "    n_time_bins=30,\n",
    "    regional=True\n",
    ")\n",
    "print(f'clusterless neural data shape: {clusterless_neural_data.shape}')"
   ]
  },
  {
   "cell_type": "code",
   "execution_count": 39,
   "id": "04e42154-9c78-4a30-ad5d-e20940967f6c",
   "metadata": {},
   "outputs": [],
   "source": [
    "neural_data_dict = {\n",
    "    'sorted': sorted_neural_data,\n",
    "    'thresholded': thresholded_neural_data,\n",
    "    'clusterless': clusterless_neural_data\n",
    "} "
   ]
  },
  {
   "cell_type": "code",
   "execution_count": 40,
   "id": "b8e2a342-7903-4cdf-bb6c-672ef046e0aa",
   "metadata": {},
   "outputs": [
    {
     "name": "stdout",
     "output_type": "stream",
     "text": [
      "sorted:\n",
      "choice fold 1 test accuracy: 0.761 auc: 0.773\n",
      "choice fold 2 test accuracy: 0.870 auc: 0.900\n",
      "choice fold 3 test accuracy: 0.826 auc: 0.935\n",
      "choice fold 4 test accuracy: 0.761 auc: 0.817\n",
      "choice fold 5 test accuracy: 0.804 auc: 0.813\n",
      "choice mean of 5-fold cv accuracy: 0.804 auc: 0.848\n",
      "choice sd of 5-fold cv accuracy: 0.041 auc: 0.060\n",
      "thresholded:\n",
      "choice fold 1 test accuracy: 0.652 auc: 0.762\n",
      "choice fold 2 test accuracy: 0.804 auc: 0.865\n",
      "choice fold 3 test accuracy: 0.870 auc: 0.897\n",
      "choice fold 4 test accuracy: 0.696 auc: 0.779\n",
      "choice fold 5 test accuracy: 0.739 auc: 0.870\n",
      "choice mean of 5-fold cv accuracy: 0.752 auc: 0.835\n",
      "choice sd of 5-fold cv accuracy: 0.077 auc: 0.053\n",
      "clusterless:\n",
      "choice fold 1 test accuracy: 0.783 auc: 0.796\n",
      "choice fold 2 test accuracy: 0.783 auc: 0.879\n",
      "choice fold 3 test accuracy: 0.848 auc: 0.905\n",
      "choice fold 4 test accuracy: 0.826 auc: 0.856\n",
      "choice fold 5 test accuracy: 0.804 auc: 0.872\n",
      "choice mean of 5-fold cv accuracy: 0.809 auc: 0.862\n",
      "choice sd of 5-fold cv accuracy: 0.025 auc: 0.036\n",
      "sorted:\n",
      "stimulus fold 1 test accuracy: 0.261 auc: 0.656\n",
      "stimulus fold 2 test accuracy: 0.217 auc: 0.705\n",
      "stimulus fold 3 test accuracy: 0.239 auc: 0.672\n",
      "stimulus fold 4 test accuracy: 0.196 auc: 0.628\n",
      "stimulus fold 5 test accuracy: 0.196 auc: 0.616\n",
      "stimulus mean of 5-fold cv accuracy: 0.222 auc: 0.655\n",
      "stimulus sd of 5-fold cv accuracy: 0.025 auc: 0.031\n",
      "thresholded:\n",
      "stimulus fold 1 test accuracy: 0.261 auc: 0.670\n",
      "stimulus fold 2 test accuracy: 0.239 auc: 0.706\n",
      "stimulus fold 3 test accuracy: 0.217 auc: 0.680\n",
      "stimulus fold 4 test accuracy: 0.217 auc: 0.627\n",
      "stimulus fold 5 test accuracy: 0.239 auc: 0.667\n",
      "stimulus mean of 5-fold cv accuracy: 0.235 auc: 0.670\n",
      "stimulus sd of 5-fold cv accuracy: 0.016 auc: 0.026\n",
      "clusterless:\n",
      "stimulus fold 1 test accuracy: 0.261 auc: 0.659\n",
      "stimulus fold 2 test accuracy: 0.261 auc: 0.722\n",
      "stimulus fold 3 test accuracy: 0.261 auc: 0.678\n",
      "stimulus fold 4 test accuracy: 0.283 auc: 0.640\n",
      "stimulus fold 5 test accuracy: 0.261 auc: 0.700\n",
      "stimulus mean of 5-fold cv accuracy: 0.265 auc: 0.680\n",
      "stimulus sd of 5-fold cv accuracy: 0.009 auc: 0.029\n"
     ]
    }
   ],
   "source": [
    "regional_decode_results = {'choice': dict(), 'stimulus': dict()}\n",
    "\n",
    "for behave_type in regional_decode_results.keys():\n",
    "    for data_type in neural_data_dict.keys():\n",
    "        print(f'{data_type}:')\n",
    "        decode_results = decode_static.cv_decode_static(\n",
    "            neural_data_dict[data_type], \n",
    "            static_behaviors[behave_type], \n",
    "            behave_type=behave_type, \n",
    "            n_folds=5, \n",
    "            seed=seed, \n",
    "            shuffle=True)\n",
    "        regional_decode_results[behave_type].update({data_type: decode_results})\n",
    "np.save(f'{save_path}/{roi}_decode_results.npy', regional_decode_results)"
   ]
  },
  {
   "cell_type": "code",
   "execution_count": null,
   "id": "9fda543c-b454-4fce-a31d-55bb1e066fe2",
   "metadata": {},
   "outputs": [],
   "source": []
  },
  {
   "cell_type": "markdown",
   "id": "4a55a3f9-d7e0-4c13-a809-e3ba378b52b1",
   "metadata": {},
   "source": [
    "decode choice"
   ]
  },
  {
   "cell_type": "code",
   "execution_count": null,
   "id": "fb9f3cb3-8c7b-4f3f-b6b7-90f1ed7987bd",
   "metadata": {},
   "outputs": [],
   "source": [
    "viz_tools.plot_compare_decoder_barplots(\n",
    "    save_path + '/kilosort_localizations',\n",
    "    behave_type='choice', \n",
    "    metric_type='auc', \n",
    "    rois=rois, \n",
    "    n_folds=5, \n",
    "    add_smooth=False, \n",
    "    figure_size=(8,8), \n",
    "    font_size=15, \n",
    "    title='DY-009: choice',\n",
    "    save_fig=True,\n",
    "    fig_path='../saved_figs/danlab/Subjects/DY_009',\n",
    ")"
   ]
  },
  {
   "cell_type": "markdown",
   "id": "6a0a4fd0-37db-46b0-a138-24401b345a9a",
   "metadata": {},
   "source": [
    "decode stimulus"
   ]
  },
  {
   "cell_type": "code",
   "execution_count": 9,
   "id": "3fc4a157-2466-4b02-811b-8bf93fa3c212",
   "metadata": {},
   "outputs": [
    {
     "data": {
      "image/png": "[encoded data removed]",
      "text/plain": [
       "<Figure size 800x800 with 1 Axes>"
      ]
     },
     "metadata": {},
     "output_type": "display_data"
    }
   ],
   "source": [
    "viz_tools.plot_compare_decoder_barplots(\n",
    "    save_path + '/kilosort_localizations',\n",
    "    behave_type='stimulus', \n",
    "    metric_type='auc', \n",
    "    rois=rois, \n",
    "    n_folds=5, \n",
    "    add_smooth=False, \n",
    "    figure_size=(8,8), \n",
    "    font_size=15, \n",
    "    title='DY-009: stimulus',\n",
    "    save_fig=True,\n",
    "    fig_path = '../saved_figs/danlab/Subjects/DY_009',\n",
    ")"
   ]
  },
  {
   "cell_type": "code",
   "execution_count": null,
   "id": "1337aab6-73ba-4316-b768-ef315cf91ff3",
   "metadata": {},
   "outputs": [],
   "source": []
  }
 ],
 "metadata": {
  "kernelspec": {
   "display_name": "Python 3 (ipykernel)",
   "language": "python",
   "name": "python3"
  },
  "language_info": {
   "codemirror_mode": {
    "name": "ipython",
    "version": 3
   },
   "file_extension": ".py",
   "mimetype": "text/x-python",
   "name": "python",
   "nbconvert_exporter": "python",
   "pygments_lexer": "ipython3",
   "version": "3.8.13"
  }
 },
 "nbformat": 4,
 "nbformat_minor": 5
}
