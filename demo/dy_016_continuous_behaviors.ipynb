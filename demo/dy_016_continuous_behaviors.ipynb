{
 "cells": [
  {
   "cell_type": "code",
   "execution_count": 1,
   "id": "b3d066f4-204f-416c-9ba0-c4f627e5c2f6",
   "metadata": {},
   "outputs": [],
   "source": [
    "import numpy as np\n",
    "import random\n",
    "seed = 666\n",
    "random.seed(seed)\n",
    "np.random.seed(seed)\n",
    "\n",
    "import matplotlib.pyplot as plt\n",
    "\n",
    "from unidip import UniDip\n",
    "from sklearn.mixture import GaussianMixture\n",
    "\n",
    "from clusterless import data_preprocess\n",
    "from clusterless import viz_tools\n",
    "from clusterless import decode_static"
   ]
  },
  {
   "cell_type": "code",
   "execution_count": 2,
   "id": "a8dca71c-dcad-4723-ba04-eb01aedf3c82",
   "metadata": {},
   "outputs": [],
   "source": [
    "pid = 'dab512bd-a02d-4c1f-8dbc-9155a163efc0'\n",
    "rootpath = '/mnt/3TB/yizi/Downloads/ONE/openalyx.internationalbrainlab.org'\n",
    "trial_data_path = rootpath + '/danlab/Subjects/DY_016/2020-09-12/001/alf'\n",
    "neural_data_path = '/mnt/3TB/yizi/danlab/Subjects/DY_016'\n",
    "behavior_data_path = rootpath + '/paper_repro_ephys_data/figure9_10/original_data'\n",
    "save_path = '../saved_results/danlab/Subjects/DY_016'"
   ]
  },
  {
   "cell_type": "code",
   "execution_count": 3,
   "id": "779ef8e3-e0fb-4e23-a0eb-c9d1314ecf2b",
   "metadata": {},
   "outputs": [],
   "source": [
    "rois = [roi.lower() for roi in ['PO', 'LP', 'DG', 'CA1', 'VIS']]"
   ]
  },
  {
   "cell_type": "code",
   "execution_count": 4,
   "id": "606b59bd-8869-4b03-936c-9fc4d8dc090d",
   "metadata": {},
   "outputs": [],
   "source": [
    "behave_dict = data_preprocess.load_behaviors_data(behavior_data_path, pid)\n",
    "motion_energy, _, wheel_speed, _, _, _ = data_preprocess.preprocess_dynamic_behaviors(behave_dict)"
   ]
  },
  {
   "cell_type": "markdown",
   "id": "b83b1e64-8483-4e40-a5d1-d18f4899288e",
   "metadata": {},
   "source": [
    "decode all regions"
   ]
  },
  {
   "cell_type": "code",
   "execution_count": 8,
   "id": "588815aa-6c1e-49c5-9796-c3b908f6155d",
   "metadata": {},
   "outputs": [
    {
     "name": "stdout",
     "output_type": "stream",
     "text": [
      "pid: dab512bd-a02d-4c1f-8dbc-9155a163efc0\n",
      "eid: d23a44ef-1402-4ed7-97f5-47e9a7a504d9\n",
      "1st trial stim on time: 17.56, last trial stim on time 2310.24\n",
      "sorted neural data shape: (265, 514, 30)\n"
     ]
    }
   ],
   "source": [
    "sorted_trials, _, stim_on_times, np1_channel_map= data_preprocess.load_neural_data(\n",
    "    pid=pid, \n",
    "    trial_data_path=trial_data_path,\n",
    "    neural_data_path=neural_data_path,\n",
    "    behavior_data_path=behavior_data_path,\n",
    "    keep_active_trials=True, \n",
    "    roi='all',\n",
    "    kilosort=True,\n",
    "    triage=False\n",
    ")\n",
    "\n",
    "n_trials = stim_on_times.shape[0]\n",
    "sorted = np.vstack([sorted_trials[i] for i in np.arange(n_trials)]) \n",
    "spike_times_sorted = sorted[:,0]\n",
    "spike_clusters = sorted[:,1]\n",
    "\n",
    "sorted_neural_data = data_preprocess.compute_neural_activity(\n",
    "    (spike_times_sorted, spike_clusters),\n",
    "    stim_on_times,\n",
    "    'sorted', \n",
    "    n_time_bins=30,\n",
    "    regional=False\n",
    ")\n",
    "print(f'sorted neural data shape: {sorted_neural_data.shape}')"
   ]
  },
  {
   "cell_type": "code",
   "execution_count": 84,
   "id": "d6c1f2f4-60b3-45b2-abe2-68a9cb49b362",
   "metadata": {},
   "outputs": [],
   "source": [
    "def generate_predict_matrix(\n",
    "    neural_data, \n",
    "    n_trials, \n",
    "    n_time_bins = 30, \n",
    "    window_size = 7, \n",
    "    aggregate = False\n",
    "):\n",
    "    '''\n",
    "    \n",
    "    '''\n",
    "    half_window_size = window_size // 2\n",
    "    n_windows = n_time_bins - half_window_size + 1 \\\n",
    "        if window_size % 2 == 1 else n_time_bins - half_window_size + 2\n",
    "    \n",
    "    windowed_neural_data = []\n",
    "    for i in range(n_trials):\n",
    "        for j in range(half_window_size, n_windows):\n",
    "            window = [j-half_window_size, j+half_window_size-1] \\\n",
    "                if window_size % 2 == 0 else [j-half_window_size, j+half_window_size]\n",
    "            if aggregate:\n",
    "                neural_data_per_window = neural_data[:,i,window[0]:window[1]].sum(1)\n",
    "            else:\n",
    "                neural_data_per_window = neural_data[:,i,window[0]:window[1]].flatten()\n",
    "            windowed_neural_data.append(neural_data_per_window)\n",
    "\n",
    "    windowed_neural_data = np.vstack(windowed_neural_data).reshape(n_trials, -1)\n",
    "\n",
    "    return windowed_neural_data, half_window_size, n_windows"
   ]
  },
  {
   "cell_type": "code",
   "execution_count": 121,
   "id": "86744cbf-825f-45dc-be52-a419fd3caf28",
   "metadata": {},
   "outputs": [],
   "source": [
    "windowed_sorted_neural_data, half_window_size, n_windows = generate_predict_matrix(\n",
    "    sorted_neural_data.transpose([1,0,2]), \n",
    "    n_trials,\n",
    "    window_size = 7\n",
    ")\n",
    "windowed_wheel_speed = wheel_speed[:,half_window_size:n_windows]"
   ]
  },
  {
   "cell_type": "code",
   "execution_count": 70,
   "id": "993c1b15-4c81-4fd7-9daf-f04ca77045ba",
   "metadata": {},
   "outputs": [],
   "source": [
    "from sklearn.linear_model import Ridge\n",
    "from sklearn.metrics import r2_score, mean_squared_error\n",
    "from sklearn.model_selection import KFold\n",
    "\n",
    "def decode_dynamic(x_train, x_test, y_train, y_test, behave_type, seed=666):\n",
    "    '''\n",
    "\n",
    "    '''\n",
    "    \n",
    "    if behave_type in ['motion energy', 'wheel velocity', 'wheel speed',\n",
    "                       'paw speed', 'nose speed', 'pupil diameter']:\n",
    "        decoder = Ridge(alpha=2e3).fit(x_train, y_train)\n",
    "        preds = decoder.predict(x_test)\n",
    "        r2 = r2_score(y_test, preds)\n",
    "        rmse = np.sqrt(mean_squared_error(y_test, preds))\n",
    "    return r2, rmse, preds"
   ]
  },
  {
   "cell_type": "code",
   "execution_count": 73,
   "id": "9f175fd5-13df-4f9e-bc75-a7d8c3c4b60a",
   "metadata": {},
   "outputs": [],
   "source": [
    "def cv_decode_dynamic(x, y, behave_type, n_folds=5, seed=666, shuffle=True):\n",
    "    '''\n",
    "    \n",
    "    '''\n",
    "    \n",
    "    kf = KFold(n_splits=n_folds, random_state=seed, shuffle=shuffle)\n",
    "    \n",
    "    fold = 0\n",
    "    cv_r2s = []; cv_rmses = []\n",
    "    cv_ids = []; cv_obs = []; cv_preds = []\n",
    "    for train, test in kf.split(x, y):\n",
    "        fold += 1\n",
    "        r2, rmse, preds = decode_dynamic(x[train], x[test], y[train], y[test], behave_type, seed)\n",
    "        cv_r2s.append(r2)\n",
    "        cv_rmses.append(rmse)\n",
    "        cv_ids.append(test)\n",
    "        cv_obs.append(y[test])\n",
    "        cv_preds.append(preds)\n",
    "        print(f'{behave_type} fold {fold} test r2: {r2:.3f} r2: {r2:.3f}: {rmse:.3f}')\n",
    "    print(f'{behave_type} mean of {fold}-fold cv r2: {np.mean(cv_r2s):.3f} rmse: {np.mean(cv_rmses):.3f}')\n",
    "    print(f'{behave_type} sd of {fold}-fold cv r2: {np.std(cv_r2s):.3f} rmse: {np.std(cv_rmses):.3f}')\n",
    "    \n",
    "    return cv_r2s, cv_rmses, cv_ids, cv_obs, cv_preds"
   ]
  },
  {
   "cell_type": "code",
   "execution_count": 143,
   "id": "360fc1d7-256c-46ba-a50b-15ad3e2b7c6c",
   "metadata": {},
   "outputs": [
    {
     "name": "stdout",
     "output_type": "stream",
     "text": [
      "wheel speed fold 1 test r2: 0.188 r2: 0.188: 0.911\n",
      "wheel speed fold 2 test r2: 0.115 r2: 0.115: 0.802\n",
      "wheel speed fold 3 test r2: 0.140 r2: 0.140: 0.726\n",
      "wheel speed fold 4 test r2: 0.133 r2: 0.133: 0.721\n",
      "wheel speed fold 5 test r2: 0.139 r2: 0.139: 0.806\n",
      "wheel speed mean of 5-fold cv r2: 0.143 rmse: 0.793\n",
      "wheel speed sd of 5-fold cv r2: 0.024 rmse: 0.069\n"
     ]
    }
   ],
   "source": [
    "cv_r2s, _, cv_ids, cv_obs, cv_preds = cv_decode_dynamic(\n",
    "    windowed_sorted_neural_data, \n",
    "    windowed_wheel_speed, \n",
    "    behave_type='wheel speed', \n",
    "    n_folds=5, \n",
    "    seed=seed, \n",
    "    shuffle=True\n",
    ")"
   ]
  },
  {
   "cell_type": "code",
   "execution_count": 141,
   "id": "9e57a8d9-dc1d-496f-8cba-281e276b01f4",
   "metadata": {},
   "outputs": [
    {
     "name": "stdout",
     "output_type": "stream",
     "text": [
      "wheel speed fold 1 test r2: 0.181 r2: 0.181: 0.862\n",
      "wheel speed fold 2 test r2: 0.111 r2: 0.111: 0.782\n",
      "wheel speed fold 3 test r2: 0.153 r2: 0.153: 0.693\n",
      "wheel speed fold 4 test r2: 0.152 r2: 0.152: 0.690\n",
      "wheel speed fold 5 test r2: 0.147 r2: 0.147: 0.771\n",
      "wheel speed mean of 5-fold cv r2: 0.149 rmse: 0.760\n",
      "wheel speed sd of 5-fold cv r2: 0.022 rmse: 0.064\n"
     ]
    }
   ],
   "source": [
    "cv_r2s, _, cv_ids, cv_obs, cv_preds = cv_decode_dynamic(\n",
    "    sorted_neural_data.reshape(-1, sorted_neural_data.shape[1]*sorted_neural_data.shape[-1]), \n",
    "    wheel_speed, \n",
    "    behave_type='wheel speed', \n",
    "    n_folds=5, \n",
    "    seed=seed, \n",
    "    shuffle=True\n",
    ")"
   ]
  },
  {
   "cell_type": "code",
   "execution_count": 144,
   "id": "19b46631-3a96-4077-9f06-a845af831614",
   "metadata": {},
   "outputs": [
    {
     "data": {
      "image/png": "[encoded data removed]",
      "text/plain": [
       "<Figure size 1000x400 with 1 Axes>"
      ]
     },
     "metadata": {},
     "output_type": "display_data"
    }
   ],
   "source": [
    "plt.figure(figsize=(10, 4))\n",
    "plt.plot(np.hstack([cv_obs[0][i] for i in range(0, 50, 5)]), \n",
    "         c='gray', linestyle='dashed', label='observed');\n",
    "plt.plot(np.hstack([cv_preds[0][i] for i in range(0, 50, 5)]), \n",
    "         c='blue', alpha=.6, label='predicted');"
   ]
  },
  {
   "cell_type": "code",
   "execution_count": null,
   "id": "685e957e-854d-4696-abe5-7c4cffedddd4",
   "metadata": {},
   "outputs": [],
   "source": []
  },
  {
   "cell_type": "code",
   "execution_count": 49,
   "id": "3a1064d4-6cea-4e14-955a-a68902c18b82",
   "metadata": {},
   "outputs": [
    {
     "name": "stdout",
     "output_type": "stream",
     "text": [
      "pid: dab512bd-a02d-4c1f-8dbc-9155a163efc0\n",
      "eid: d23a44ef-1402-4ed7-97f5-47e9a7a504d9\n",
      "1st trial stim on time: 17.56, last trial stim on time 2310.24\n",
      "thresholded neural data shape: (265, 384, 30)\n"
     ]
    }
   ],
   "source": [
    "unsorted_trials, stim_on_times, np1_channel_map = data_preprocess.load_neural_data(\n",
    "    pid=pid, \n",
    "    trial_data_path=trial_data_path,\n",
    "    neural_data_path=neural_data_path,\n",
    "    behavior_data_path=behavior_data_path,\n",
    "    keep_active_trials=True, \n",
    "    roi='all',\n",
    "    kilosort=False,\n",
    "    triage=False\n",
    ")\n",
    "\n",
    "n_trials = stim_on_times.shape[0]\n",
    "unsorted = np.vstack([unsorted_trials[i] for i in np.arange(n_trials)]) \n",
    "spike_times_unsorted = unsorted[:,0]\n",
    "spike_channels = unsorted[:,1]\n",
    "spike_features = unsorted[:,2:]\n",
    "\n",
    "thresholded_neural_data = data_preprocess.compute_neural_activity(\n",
    "    (spike_times_unsorted, spike_channels),\n",
    "    stim_on_times,\n",
    "    'thresholded', \n",
    "    n_time_bins=30,\n",
    "    regional=False\n",
    ")\n",
    "print(f'thresholded neural data shape: {thresholded_neural_data.shape}')"
   ]
  },
  {
   "cell_type": "code",
   "execution_count": null,
   "id": "3e34fb7f-534f-417e-8c50-0b5a9607e4e3",
   "metadata": {},
   "outputs": [],
   "source": [
    "gmm_name = '../pretrained/danlab/Subjects/DY_016/init_max_chan_gmm'\n",
    "means = np.load(gmm_name + '_means.npy')\n",
    "covar = np.load(gmm_name + '_covariances.npy')\n",
    "loaded_gmm = GaussianMixture(n_components=len(means), covariance_type='full')\n",
    "loaded_gmm.precisions_cholesky_ = np.linalg.cholesky(np.linalg.inv(covar))\n",
    "loaded_gmm.weights_ = np.load(gmm_name + '_weights.npy')\n",
    "loaded_gmm.means_ = means\n",
    "loaded_gmm.covariances_ = covar\n",
    "\n",
    "spike_labels = loaded_gmm.predict(spike_features)\n",
    "spike_probs = loaded_gmm.predict_proba(spike_features)\n",
    "\n",
    "clusterless_neural_data = data_preprocess.compute_neural_activity(\n",
    "    (spike_times_unsorted, spike_labels, spike_probs),\n",
    "    stim_on_times,\n",
    "    'clusterless', \n",
    "    n_time_bins=30,\n",
    "    regional=False\n",
    ")\n",
    "print(f'clusterless neural data shape: {clusterless_neural_data.shape}')"
   ]
  },
  {
   "cell_type": "code",
   "execution_count": null,
   "id": "1a9f2060-a4ef-4912-861a-846aee6d745d",
   "metadata": {},
   "outputs": [],
   "source": [
    "neural_data_dict = {\n",
    "    'sorted': sorted_neural_data,\n",
    "    'thresholded': thresholded_neural_data,\n",
    "    'clusterless': clusterless_neural_data\n",
    "} "
   ]
  },
  {
   "cell_type": "code",
   "execution_count": null,
   "id": "0a08098d-27ef-4926-8241-ab56c683a758",
   "metadata": {},
   "outputs": [],
   "source": [
    "all_decode_results = {'choice': dict(), 'stimulus': dict()}\n",
    "\n",
    "for behave_type in all_decode_results.keys():\n",
    "    for data_type in neural_data_dict.keys():\n",
    "        print(f'{data_type}:')\n",
    "        decode_results = decode_static.cv_decode_static(\n",
    "            neural_data_dict[data_type], \n",
    "            static_behaviors[behave_type], \n",
    "            behave_type=behave_type, \n",
    "            n_folds=5, \n",
    "            seed=seed, \n",
    "            shuffle=True)\n",
    "        all_decode_results[behave_type].update({data_type: decode_results})\n",
    "# np.save(f'{save_path}/all_decode_results.npy', all_decode_results)"
   ]
  },
  {
   "cell_type": "code",
   "execution_count": null,
   "id": "5b6193ca-f3e2-43e2-b002-80586f57ad08",
   "metadata": {},
   "outputs": [],
   "source": []
  },
  {
   "cell_type": "markdown",
   "id": "be3f4688-3cba-4483-8ab6-98e0502987c4",
   "metadata": {},
   "source": [
    "decode brain regions"
   ]
  },
  {
   "cell_type": "code",
   "execution_count": null,
   "id": "bb0edbfe-f266-405c-bace-10ae5c4cf8c5",
   "metadata": {},
   "outputs": [],
   "source": [
    "roi = rois[4]\n",
    "print(roi)"
   ]
  },
  {
   "cell_type": "code",
   "execution_count": null,
   "id": "f58ce04a-3033-418c-bbf1-62ea01a3c2e0",
   "metadata": {},
   "outputs": [],
   "source": [
    "sorted_trials, unsorted_trials, stim_on_times, np1_channel_map= data_preprocess.load_neural_data(\n",
    "    pid=pid, \n",
    "    trial_data_path=trial_data_path,\n",
    "    neural_data_path=neural_data_path,\n",
    "    behavior_data_path=behavior_data_path,\n",
    "    keep_active_trials=True, \n",
    "    roi=roi,\n",
    "    kilosort=True,\n",
    "    triage=False\n",
    ")\n",
    "\n",
    "n_trials = stim_on_times.shape[0]\n",
    "sorted = np.vstack([sorted_trials[i] for i in np.arange(n_trials)]) \n",
    "spike_times_sorted = sorted[:,0]\n",
    "spike_clusters = sorted[:,1]\n",
    "\n",
    "sorted_neural_data = data_preprocess.compute_neural_activity(\n",
    "    (spike_times_sorted, spike_clusters),\n",
    "    stim_on_times,\n",
    "    'sorted', \n",
    "    n_time_bins=30,\n",
    "    regional=True\n",
    ")\n",
    "print(f'sorted neural data shape: {sorted_neural_data.shape}')"
   ]
  },
  {
   "cell_type": "code",
   "execution_count": null,
   "id": "f930cb1a-2450-48e2-8f50-71300b77c50a",
   "metadata": {},
   "outputs": [],
   "source": [
    "unsorted_trials, stim_on_times, np1_channel_map = data_preprocess.load_neural_data(\n",
    "    pid=pid, \n",
    "    trial_data_path=trial_data_path,\n",
    "    neural_data_path=neural_data_path,\n",
    "    behavior_data_path=behavior_data_path,\n",
    "    keep_active_trials=True, \n",
    "    roi=roi,\n",
    "    kilosort=False,\n",
    "    triage=False\n",
    ")\n",
    "\n",
    "n_trials = stim_on_times.shape[0]\n",
    "unsorted = np.vstack([unsorted_trials[i] for i in np.arange(n_trials)]) \n",
    "spike_times_unsorted = unsorted[:,0]\n",
    "spike_channels = unsorted[:,1]\n",
    "spike_features = unsorted[:,2:]\n",
    "\n",
    "thresholded_neural_data = data_preprocess.compute_neural_activity(\n",
    "    (spike_times_unsorted, spike_channels),\n",
    "    stim_on_times,\n",
    "    'thresholded', \n",
    "    n_time_bins=30,\n",
    "    regional=True\n",
    ")\n",
    "print(f'thresholded neural data shape: {thresholded_neural_data.shape}')"
   ]
  },
  {
   "cell_type": "code",
   "execution_count": null,
   "id": "6cd80b2b-bf83-47bb-a11b-6ab45d2843cc",
   "metadata": {},
   "outputs": [],
   "source": [
    "gmm_name = '../pretrained/danlab/Subjects/DY_016/init_max_chan_gmm'\n",
    "means = np.load(gmm_name + '_means.npy')\n",
    "covar = np.load(gmm_name + '_covariances.npy')\n",
    "loaded_gmm = GaussianMixture(n_components=len(means), covariance_type='full')\n",
    "loaded_gmm.precisions_cholesky_ = np.linalg.cholesky(np.linalg.inv(covar))\n",
    "loaded_gmm.weights_ = np.load(gmm_name + '_weights.npy')\n",
    "loaded_gmm.means_ = means\n",
    "loaded_gmm.covariances_ = covar\n",
    "\n",
    "spike_labels = loaded_gmm.predict(spike_features)\n",
    "spike_probs = loaded_gmm.predict_proba(spike_features)\n",
    "\n",
    "clusterless_neural_data = data_preprocess.compute_neural_activity(\n",
    "    (spike_times_unsorted, spike_labels, spike_probs),\n",
    "    stim_on_times,\n",
    "    'clusterless', \n",
    "    n_time_bins=30,\n",
    "    regional=True\n",
    ")\n",
    "print(f'clusterless neural data shape: {clusterless_neural_data.shape}')"
   ]
  },
  {
   "cell_type": "code",
   "execution_count": null,
   "id": "04e42154-9c78-4a30-ad5d-e20940967f6c",
   "metadata": {},
   "outputs": [],
   "source": [
    "neural_data_dict = {\n",
    "    'sorted': sorted_neural_data,\n",
    "    'thresholded': thresholded_neural_data,\n",
    "    'clusterless': clusterless_neural_data\n",
    "} "
   ]
  },
  {
   "cell_type": "code",
   "execution_count": null,
   "id": "b8e2a342-7903-4cdf-bb6c-672ef046e0aa",
   "metadata": {},
   "outputs": [],
   "source": [
    "regional_decode_results = {'choice': dict(), 'stimulus': dict()}\n",
    "\n",
    "for behave_type in regional_decode_results.keys():\n",
    "    for data_type in neural_data_dict.keys():\n",
    "        print(f'{data_type}:')\n",
    "        decode_results = decode_static.cv_decode_static(\n",
    "            neural_data_dict[data_type], \n",
    "            static_behaviors[behave_type], \n",
    "            behave_type=behave_type, \n",
    "            n_folds=5, \n",
    "            seed=seed, \n",
    "            shuffle=True)\n",
    "        regional_decode_results[behave_type].update({data_type: decode_results})\n",
    "# np.save(f'{save_path}/{roi}_decode_results.npy', regional_decode_results)"
   ]
  },
  {
   "cell_type": "code",
   "execution_count": null,
   "id": "9fda543c-b454-4fce-a31d-55bb1e066fe2",
   "metadata": {},
   "outputs": [],
   "source": []
  },
  {
   "cell_type": "markdown",
   "id": "6a0a4fd0-37db-46b0-a138-24401b345a9a",
   "metadata": {},
   "source": [
    "plotting"
   ]
  },
  {
   "cell_type": "code",
   "execution_count": null,
   "id": "3fc4a157-2466-4b02-811b-8bf93fa3c212",
   "metadata": {},
   "outputs": [],
   "source": []
  },
  {
   "cell_type": "code",
   "execution_count": null,
   "id": "1337aab6-73ba-4316-b768-ef315cf91ff3",
   "metadata": {},
   "outputs": [],
   "source": []
  }
 ],
 "metadata": {
  "kernelspec": {
   "display_name": "Python 3 (ipykernel)",
   "language": "python",
   "name": "python3"
  },
  "language_info": {
   "codemirror_mode": {
    "name": "ipython",
    "version": 3
   },
   "file_extension": ".py",
   "mimetype": "text/x-python",
   "name": "python",
   "nbconvert_exporter": "python",
   "pygments_lexer": "ipython3",
   "version": "3.8.13"
  }
 },
 "nbformat": 4,
 "nbformat_minor": 5
}
