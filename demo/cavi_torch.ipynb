{
 "cells": [
  {
   "cell_type": "code",
   "execution_count": 2,
   "id": "f7a3a3c6-c029-486d-9a9b-d3bc1cf7c423",
   "metadata": {},
   "outputs": [],
   "source": [
    "import numpy as np\n",
    "import torch\n",
    "torch.set_default_dtype(torch.double)\n",
    "import random\n",
    "random.seed(666)\n",
    "np.random.seed(666)\n",
    "import seaborn as sns\n",
    "import matplotlib.pyplot as plt\n",
    "\n",
    "from scipy.stats import multivariate_normal\n",
    "from sklearn.mixture import GaussianMixture\n",
    "\n",
    "from clusterless import preprocess\n",
    "from sklearn.metrics import accuracy_score, roc_auc_score"
   ]
  },
  {
   "cell_type": "markdown",
   "id": "779810ad-6236-439a-9c42-920935cc363c",
   "metadata": {
    "tags": []
   },
   "source": [
    "### Data"
   ]
  },
  {
   "cell_type": "code",
   "execution_count": 3,
   "id": "9cd1c562-85c3-4d92-98da-b1ae930d9edd",
   "metadata": {},
   "outputs": [],
   "source": [
    "pid = 'dab512bd-a02d-4c1f-8dbc-9155a163efc0'\n",
    "rootpath = '/mnt/3TB/yizi/Downloads/ONE/openalyx.internationalbrainlab.org'\n",
    "trial_data_path = rootpath + '/danlab/Subjects/DY_016/2020-09-12/001/alf'\n",
    "neural_data_path = '/mnt/3TB/yizi/danlab/Subjects/DY_016'\n",
    "behavior_data_path = rootpath + '/paper_repro_ephys_data/figure9_10/original_data'\n",
    "save_path = '../saved_results/danlab/Subjects/DY_016/cavi_results/'"
   ]
  },
  {
   "cell_type": "code",
   "execution_count": 4,
   "id": "fc296e89-bada-4170-b524-5759675110d3",
   "metadata": {},
   "outputs": [
    {
     "name": "stdout",
     "output_type": "stream",
     "text": [
      "choices left: 0.751, right: 0.249\n",
      "stimuli left: 0.547, right: 0.453\n",
      "reward wrong: 0.211, correct: 0.789\n"
     ]
    }
   ],
   "source": [
    "behave_dict = preprocess.load_behaviors_data(behavior_data_path, pid)\n",
    "choices, stimuli, transformed_stimuli, one_hot_stimuli, enc_categories, rewards, priors = preprocess.preprocess_static_behaviors(behave_dict)"
   ]
  },
  {
   "cell_type": "code",
   "execution_count": 5,
   "id": "f2d94ef8-0d09-4bb5-9342-3179e7c0ba04",
   "metadata": {},
   "outputs": [
    {
     "name": "stdout",
     "output_type": "stream",
     "text": [
      "pid: dab512bd-a02d-4c1f-8dbc-9155a163efc0\n",
      "eid: d23a44ef-1402-4ed7-97f5-47e9a7a504d9\n",
      "1st trial stim on time: 17.56, last trial stim on time 2310.24\n"
     ]
    }
   ],
   "source": [
    "unsorted_trials, stim_on_times, np1_channel_map = preprocess.load_neural_data(\n",
    "    pid=pid, \n",
    "    trial_data_path=trial_data_path,\n",
    "    neural_data_path=neural_data_path,\n",
    "    behavior_data_path=behavior_data_path,\n",
    "    keep_active_trials=True, \n",
    "    roi='all',\n",
    "    kilosort=False,\n",
    "    triage=False\n",
    ")"
   ]
  },
  {
   "cell_type": "code",
   "execution_count": 6,
   "id": "86822a8b-3a9e-48b4-b43f-8368c0a3bbd6",
   "metadata": {},
   "outputs": [],
   "source": [
    "n_trials = stim_on_times.shape[0]\n",
    "n_channels = np1_channel_map.shape[0]\n",
    "\n",
    "rand_idx = np.arange(n_trials)\n",
    "train_idx = rand_idx[:int(.8*n_trials)]\n",
    "test_idx = rand_idx[int(.8*n_trials):]\n",
    "\n",
    "train_features = np.vstack([unsorted_trials[i][:,2:] for i in train_idx])\n",
    "train_channels = np.hstack([unsorted_trials[i][:,1] for i in train_idx])\n",
    "train_y = choices[train_idx].argmax(1)\n",
    "test_y = choices[test_idx].argmax(1)"
   ]
  },
  {
   "cell_type": "code",
   "execution_count": 7,
   "id": "8d9b3225-ea05-463b-8058-db140f01f569",
   "metadata": {},
   "outputs": [],
   "source": [
    "n_time_bins = 10\n",
    "binning = np.arange(0, 1.5, step=(1.5 - 0)/n_time_bins)\n",
    "n_trials = stim_on_times.shape[0]\n",
    "spike_train = np.concatenate(unsorted_trials)[:,[0,2,3,4]]"
   ]
  },
  {
   "cell_type": "code",
   "execution_count": 8,
   "id": "810fa125-e620-4724-95e2-a73cc08f75c9",
   "metadata": {},
   "outputs": [],
   "source": [
    "trial_idx = []\n",
    "time_idx = []\n",
    "all_trials = []\n",
    "for k in range(n_trials):\n",
    "    mask = np.logical_and(spike_train[:,0] >= stim_on_times[k]-0.5,\n",
    "                          spike_train[:,0] <= stim_on_times[k]+1\n",
    "                         )\n",
    "    trial = spike_train[mask,:]\n",
    "    trial[:,0] = trial[:,0] - trial[:,0].min()\n",
    "    time_bins = np.digitize(trial[:,0], binning, right=False)-1\n",
    "    for t in range(n_time_bins):\n",
    "        time_bin = trial[time_bins == t, 1:]\n",
    "        time_idx.append(np.ones_like(time_bin[:,0]) * t)\n",
    "        trial_idx.append(np.ones_like(time_bin[:,0]) * k)\n",
    "        all_trials.append(time_bin)\n",
    "time_idx = np.concatenate(time_idx)\n",
    "trial_idx = np.concatenate(trial_idx)\n",
    "all_trials = np.concatenate(all_trials)"
   ]
  },
  {
   "cell_type": "code",
   "execution_count": 9,
   "id": "622d9850-9845-44d9-9f99-d653173ac5af",
   "metadata": {},
   "outputs": [],
   "source": [
    "train_mask = np.sum([trial_idx == idx for idx in train_idx], axis=0).astype(bool)\n",
    "train_trials = all_trials[train_mask]\n",
    "train_time_idx = time_idx[train_mask]\n",
    "train_trial_idx = trial_idx[train_mask]"
   ]
  },
  {
   "cell_type": "code",
   "execution_count": 10,
   "id": "df6c5049-a044-4fed-8eca-bb90791c4147",
   "metadata": {},
   "outputs": [],
   "source": [
    "test_mask = np.sum([trial_idx == idx for idx in test_idx], axis=0).astype(bool)\n",
    "test_trials = all_trials[test_mask]\n",
    "test_time_idx = time_idx[test_mask]\n",
    "test_trial_idx = trial_idx[test_mask]"
   ]
  },
  {
   "cell_type": "markdown",
   "id": "b2bff290-b554-4695-8f83-25b3d3d51bff",
   "metadata": {},
   "source": [
    "pre-compute mu and cov from training trials"
   ]
  },
  {
   "cell_type": "code",
   "execution_count": 10,
   "id": "c73f7c81-5302-4e19-8f84-f72fadd8cf3b",
   "metadata": {},
   "outputs": [],
   "source": [
    "# sub_weights_lst = []\n",
    "# sub_means_lst = []\n",
    "# sub_covs_lst = []\n",
    "# for channel in np.unique(train_channels):\n",
    "#     sub_spike_features = train_features[train_channels == channel]\n",
    "#     # a minimum of 2 points required for MoG\n",
    "#     if len(sub_spike_features) > 2: \n",
    "#         sub_gmm = GaussianMixture(n_components=1, \n",
    "#                           covariance_type='full',\n",
    "#                           init_params='k-means++', \n",
    "#                           verbose=0)\n",
    "#         sub_gmm.fit(sub_spike_features)\n",
    "#         sub_labels = sub_gmm.predict(sub_spike_features)\n",
    "#         sub_weights = len(sub_spike_features)/len(train_features)\n",
    "#         sub_weights_lst.append(sub_weights)\n",
    "#         sub_means_lst.append(sub_gmm.means_)\n",
    "#         sub_covs_lst.append(sub_gmm.covariances_)\n",
    "# sub_weights = np.hstack(sub_weights_lst)\n",
    "# sub_means = np.vstack(sub_means_lst)\n",
    "# sub_covs = np.vstack(sub_covs_lst)"
   ]
  },
  {
   "cell_type": "code",
   "execution_count": 11,
   "id": "76a3c6d4-2c58-4497-a5b7-2e4527cee4c5",
   "metadata": {},
   "outputs": [],
   "source": [
    "# C = len(sub_weights)\n",
    "# gmm = GaussianMixture(n_components=C, \n",
    "#                       covariance_type='full')\n",
    "# gmm.weights_ = sub_weights\n",
    "# gmm.means_ = sub_means\n",
    "# gmm.covariances_ = sub_covs\n",
    "# gmm.precisions_cholesky_ = np.linalg.cholesky(np.linalg.inv(sub_covs))"
   ]
  },
  {
   "cell_type": "code",
   "execution_count": 12,
   "id": "7484aa0b-7a3d-482a-ae88-0ba05c2ca98e",
   "metadata": {},
   "outputs": [
    {
     "name": "stdout",
     "output_type": "stream",
     "text": [
      "Initialization 0\n",
      "  Iteration 10\n",
      "Initialization converged: True\n"
     ]
    },
    {
     "data": {
      "text/html": [
       "<style>#sk-container-id-1 {color: black;background-color: white;}#sk-container-id-1 pre{padding: 0;}#sk-container-id-1 div.sk-toggleable {background-color: white;}#sk-container-id-1 label.sk-toggleable__label {cursor: pointer;display: block;width: 100%;margin-bottom: 0;padding: 0.3em;box-sizing: border-box;text-align: center;}#sk-container-id-1 label.sk-toggleable__label-arrow:before {content: \"▸\";float: left;margin-right: 0.25em;color: #696969;}#sk-container-id-1 label.sk-toggleable__label-arrow:hover:before {color: black;}#sk-container-id-1 div.sk-estimator:hover label.sk-toggleable__label-arrow:before {color: black;}#sk-container-id-1 div.sk-toggleable__content {max-height: 0;max-width: 0;overflow: hidden;text-align: left;background-color: #f0f8ff;}#sk-container-id-1 div.sk-toggleable__content pre {margin: 0.2em;color: black;border-radius: 0.25em;background-color: #f0f8ff;}#sk-container-id-1 input.sk-toggleable__control:checked~div.sk-toggleable__content {max-height: 200px;max-width: 100%;overflow: auto;}#sk-container-id-1 input.sk-toggleable__control:checked~label.sk-toggleable__label-arrow:before {content: \"▾\";}#sk-container-id-1 div.sk-estimator input.sk-toggleable__control:checked~label.sk-toggleable__label {background-color: #d4ebff;}#sk-container-id-1 div.sk-label input.sk-toggleable__control:checked~label.sk-toggleable__label {background-color: #d4ebff;}#sk-container-id-1 input.sk-hidden--visually {border: 0;clip: rect(1px 1px 1px 1px);clip: rect(1px, 1px, 1px, 1px);height: 1px;margin: -1px;overflow: hidden;padding: 0;position: absolute;width: 1px;}#sk-container-id-1 div.sk-estimator {font-family: monospace;background-color: #f0f8ff;border: 1px dotted black;border-radius: 0.25em;box-sizing: border-box;margin-bottom: 0.5em;}#sk-container-id-1 div.sk-estimator:hover {background-color: #d4ebff;}#sk-container-id-1 div.sk-parallel-item::after {content: \"\";width: 100%;border-bottom: 1px solid gray;flex-grow: 1;}#sk-container-id-1 div.sk-label:hover label.sk-toggleable__label {background-color: #d4ebff;}#sk-container-id-1 div.sk-serial::before {content: \"\";position: absolute;border-left: 1px solid gray;box-sizing: border-box;top: 0;bottom: 0;left: 50%;z-index: 0;}#sk-container-id-1 div.sk-serial {display: flex;flex-direction: column;align-items: center;background-color: white;padding-right: 0.2em;padding-left: 0.2em;position: relative;}#sk-container-id-1 div.sk-item {position: relative;z-index: 1;}#sk-container-id-1 div.sk-parallel {display: flex;align-items: stretch;justify-content: center;background-color: white;position: relative;}#sk-container-id-1 div.sk-item::before, #sk-container-id-1 div.sk-parallel-item::before {content: \"\";position: absolute;border-left: 1px solid gray;box-sizing: border-box;top: 0;bottom: 0;left: 50%;z-index: -1;}#sk-container-id-1 div.sk-parallel-item {display: flex;flex-direction: column;z-index: 1;position: relative;background-color: white;}#sk-container-id-1 div.sk-parallel-item:first-child::after {align-self: flex-end;width: 50%;}#sk-container-id-1 div.sk-parallel-item:last-child::after {align-self: flex-start;width: 50%;}#sk-container-id-1 div.sk-parallel-item:only-child::after {width: 0;}#sk-container-id-1 div.sk-dashed-wrapped {border: 1px dashed gray;margin: 0 0.4em 0.5em 0.4em;box-sizing: border-box;padding-bottom: 0.4em;background-color: white;}#sk-container-id-1 div.sk-label label {font-family: monospace;font-weight: bold;display: inline-block;line-height: 1.2em;}#sk-container-id-1 div.sk-label-container {text-align: center;}#sk-container-id-1 div.sk-container {/* jupyter's `normalize.less` sets `[hidden] { display: none; }` but bootstrap.min.css set `[hidden] { display: none !important; }` so we also need the `!important` here to be able to override the default hidden behavior on the sphinx rendered scikit-learn.org. See: https://github.com/scikit-learn/scikit-learn/issues/21755 */display: inline-block !important;position: relative;}#sk-container-id-1 div.sk-text-repr-fallback {display: none;}</style><div id=\"sk-container-id-1\" class=\"sk-top-container\"><div class=\"sk-text-repr-fallback\"><pre>GaussianMixture(init_params=&#x27;k-means++&#x27;, n_components=10, verbose=1)</pre><b>In a Jupyter environment, please rerun this cell to show the HTML representation or trust the notebook. <br />On GitHub, the HTML representation is unable to render, please try loading this page with nbviewer.org.</b></div><div class=\"sk-container\" hidden><div class=\"sk-item\"><div class=\"sk-estimator sk-toggleable\"><input class=\"sk-toggleable__control sk-hidden--visually\" id=\"sk-estimator-id-1\" type=\"checkbox\" checked><label for=\"sk-estimator-id-1\" class=\"sk-toggleable__label sk-toggleable__label-arrow\">GaussianMixture</label><div class=\"sk-toggleable__content\"><pre>GaussianMixture(init_params=&#x27;k-means++&#x27;, n_components=10, verbose=1)</pre></div></div></div></div></div>"
      ],
      "text/plain": [
       "GaussianMixture(init_params='k-means++', n_components=10, verbose=1)"
      ]
     },
     "execution_count": 12,
     "metadata": {},
     "output_type": "execute_result"
    }
   ],
   "source": [
    "C = 10\n",
    "gmm = GaussianMixture(n_components=C, \n",
    "                      covariance_type='full', \n",
    "                      init_params='k-means++',\n",
    "                      verbose=1)\n",
    "gmm.fit(train_trials)"
   ]
  },
  {
   "cell_type": "code",
   "execution_count": 13,
   "id": "efb40aa6-4b2e-47b6-b77e-313c5705da00",
   "metadata": {},
   "outputs": [
    {
     "data": {
      "text/plain": [
       "(10, 3)"
      ]
     },
     "execution_count": 13,
     "metadata": {},
     "output_type": "execute_result"
    }
   ],
   "source": [
    "gmm.means_.shape"
   ]
  },
  {
   "cell_type": "markdown",
   "id": "c88f653a-f4e2-4778-920d-404131e7f08c",
   "metadata": {},
   "source": [
    "pre-compute time-varying lambda's from training trials"
   ]
  },
  {
   "cell_type": "code",
   "execution_count": 14,
   "id": "d80b865e-5cb7-4cdd-bd82-5f98c06a597f",
   "metadata": {},
   "outputs": [],
   "source": [
    "lambdas = []\n",
    "\n",
    "for k in train_idx:\n",
    "    mask = np.logical_and(spike_train[:,0] >= stim_on_times[k]-0.5,\n",
    "                          spike_train[:,0] <= stim_on_times[k]+1\n",
    "                         )\n",
    "    trial = spike_train[mask,:]\n",
    "    trial[:,0] = trial[:,0] - trial[:,0].min()\n",
    "    time_bins = np.digitize(trial[:,0], binning, right=False)-1\n",
    "    time_bins_lst = []\n",
    "    for t in range(n_time_bins):\n",
    "        time_bin = trial[time_bins == t, 1:]\n",
    "        cluster_idx = gmm.predict(time_bin)\n",
    "        # probs = gmm.predict_proba(time_bin)\n",
    "        probs_array = np.zeros((C, 2))\n",
    "        for j in range(C):\n",
    "            if choices[k].argmax() == 0:\n",
    "                # probs_array[j, 0] = np.sum(probs[cluster_idx == j])\n",
    "                probs_array[j, 0] = np.sum(cluster_idx == j)\n",
    "            else:\n",
    "                # probs_array[j, 1] = np.sum(probs[cluster_idx == j])\n",
    "                probs_array[j, 1] = np.sum(cluster_idx == j)\n",
    "        time_bins_lst.append(probs_array)\n",
    "    lambdas.append(time_bins_lst)\n",
    "lambdas = np.array(lambdas)"
   ]
  },
  {
   "cell_type": "code",
   "execution_count": 15,
   "id": "19013a2f-516c-44ff-84e9-db00011f9cfc",
   "metadata": {},
   "outputs": [
    {
     "data": {
      "text/plain": [
       "(212, 10, 10, 2)"
      ]
     },
     "execution_count": 15,
     "metadata": {},
     "output_type": "execute_result"
    }
   ],
   "source": [
    "lambdas.shape"
   ]
  },
  {
   "cell_type": "code",
   "execution_count": 16,
   "id": "85f89493-3342-4231-b0d4-fd5cf1fe2d4a",
   "metadata": {},
   "outputs": [],
   "source": [
    "n_left = np.sum(train_y==0)\n",
    "n_right = np.sum(train_y==1)\n",
    "empirical_lams = lambdas.sum(0) / np.array([n_left, n_right])\n",
    "empirical_lams = empirical_lams.transpose(1,0,2)"
   ]
  },
  {
   "cell_type": "code",
   "execution_count": 17,
   "id": "69a9b106-2e9b-4e3d-8723-2b2d51758709",
   "metadata": {},
   "outputs": [
    {
     "data": {
      "text/plain": [
       "0.25"
      ]
     },
     "execution_count": 17,
     "metadata": {},
     "output_type": "execute_result"
    }
   ],
   "source": [
    "# p\n",
    "n_right / (n_right + n_left)"
   ]
  },
  {
   "cell_type": "code",
   "execution_count": 18,
   "id": "92d01fa7-f02c-4738-999e-49cd0074c399",
   "metadata": {},
   "outputs": [],
   "source": [
    "diff_empirical_lams = empirical_lams[:,:,0] - empirical_lams[:,:,1]"
   ]
  },
  {
   "cell_type": "code",
   "execution_count": 19,
   "id": "c7019230-6fba-45c8-a642-682d6a227019",
   "metadata": {},
   "outputs": [
    {
     "data": {
      "image/png": "[encoded data removed]",
      "text/plain": [
       "<Figure size 2000x500 with 6 Axes>"
      ]
     },
     "metadata": {},
     "output_type": "display_data"
    }
   ],
   "source": [
    "fig, (ax1, ax2, ax3) = plt.subplots(1,3, figsize=(20,5))\n",
    "f1 = ax1.imshow(empirical_lams[:,:,0], aspect='auto', cmap='cubehelix')\n",
    "ax1.set_title('left')\n",
    "ax1.set_xlabel('time bin')\n",
    "ax1.set_ylabel('gaussian')\n",
    "fig.colorbar(f1, ax=ax1);\n",
    "f2 = ax2.imshow(empirical_lams[:,:,1], aspect='auto', cmap='cubehelix')\n",
    "ax2.set_title('right')\n",
    "ax2.set_xlabel('time bin')\n",
    "fig.colorbar(f2, ax=ax2);\n",
    "f3 = ax3.imshow(diff_empirical_lams, aspect='auto', cmap='cubehelix')\n",
    "ax3.set_title('diff')\n",
    "ax3.set_xlabel('time bin')\n",
    "fig.colorbar(f3, ax=ax3);"
   ]
  },
  {
   "cell_type": "markdown",
   "id": "2740077e-fac5-4beb-b97c-22be863121a8",
   "metadata": {},
   "source": [
    "### ELBO"
   ]
  },
  {
   "cell_type": "code",
   "execution_count": 11,
   "id": "84e309c8-3c5e-4982-9fc7-366cd0cdedfe",
   "metadata": {},
   "outputs": [],
   "source": [
    "def safe_log(x, minval=1e-10):\n",
    "    return torch.log(x + minval)"
   ]
  },
  {
   "cell_type": "code",
   "execution_count": 21,
   "id": "c9420fec-54d7-40e3-a9db-a83cdc1ab12f",
   "metadata": {},
   "outputs": [],
   "source": [
    "def compute_elbo_einsum(s, y, r, mu, cov, norm_lam, t_idxs, K, T, C):\n",
    "\n",
    "    # expected log-likelihood ( E_q(z)[log p(s,z|y)] )\n",
    "    # sum_{ktij} r_{ijt}^k * log(dN(s_i^kt; mu_j, cov_j))\n",
    "    \n",
    "    # sum_{ktij} r_{ijt}^k * ( y^k * (log(lambda^t_{j1}) - log(sum_j' lambda^t_{j'1})) \n",
    "    #                    + (1-y^k) * (log(lambda^t_{j0}) - log(sum_j' lambda^t_{j'0})) )\n",
    "    elbo_1 = 0; log_dens = []\n",
    "    for j in range(C):\n",
    "        log_dens.append(\n",
    "            torch.tensor(\n",
    "                multivariate_normal.logpdf(s, mu[j], cov[j])\n",
    "            )\n",
    "        )\n",
    "        elbo_1 += torch.einsum('i,i->', r[:,j], log_dens[-1])\n",
    "            \n",
    "    elbo_2 = torch.tensor(\n",
    "        [ torch.einsum('ij,il,j->', r[t_idxs[t]], y[t_idxs[t]], norm_lam[:,t,1]) +\n",
    "          torch.einsum('ij,il,j->', r[t_idxs[t]], 1-y[t_idxs[t]], norm_lam[:,t,0]) for t in range(T) ]\n",
    "    ).sum()\n",
    "        \n",
    "    # entropy of q(z) ( E_q(z)[log q(z)] )\n",
    "    # sum_{ktij} log(r_{ijt}^k) * r_{ijt}^k\n",
    "    elbo_3 = - torch.einsum('ij,ij->', safe_log(r), r)\n",
    "    \n",
    "    elbo = elbo_1 + elbo_2 + elbo_3 \n",
    "    \n",
    "    # print(f'elbo 1: {elbo_1}')\n",
    "    # print(f'elbo 2: {elbo_2}')\n",
    "    # print(f'elbo 3: {elbo_3}')\n",
    "    \n",
    "    return elbo, torch.vstack(log_dens).T"
   ]
  },
  {
   "cell_type": "code",
   "execution_count": 22,
   "id": "4ea3b25d-4b85-4a19-850c-e2f17ac7b76d",
   "metadata": {},
   "outputs": [],
   "source": [
    "K = len(train_idx)\n",
    "C = len(gmm.means_)\n",
    "T = n_time_bins\n",
    "s = torch.tensor(train_trials)\n",
    "train_time_idx = torch.tensor(train_time_idx)\n",
    "empirical_lams = torch.tensor(empirical_lams)\n",
    "\n",
    "r = torch.ones((train_trials.shape[0], C)) / C\n",
    "t_idxs = [torch.argwhere(train_time_idx == t).reshape(-1) for t in range(T)]\n",
    "\n",
    "y = torch.zeros(train_trials.shape[0])\n",
    "for k in range(K):\n",
    "    y[train_trial_idx == k] = train_y[k]\n",
    "y = y.reshape(-1,1)\n",
    "\n",
    "norm_lam = safe_log(empirical_lams) - safe_log(empirical_lams.sum(0))"
   ]
  },
  {
   "cell_type": "code",
   "execution_count": 97,
   "id": "33541c69-0ab1-4a60-b988-e350d84cdd14",
   "metadata": {},
   "outputs": [
    {
     "name": "stdout",
     "output_type": "stream",
     "text": [
      "elbo 1: -563739400097358.0\n",
      "elbo 2: -6160204.9759907955\n",
      "elbo 3: 3507173.5276382715\n",
      "tensor(-5.6374e+14)\n",
      "CPU times: user 1min 1s, sys: 6.68 s, total: 1min 8s\n",
      "Wall time: 8.6 s\n"
     ]
    }
   ],
   "source": [
    "%%time\n",
    "elbo, log_dens = compute_elbo_einsum(s=train_trials, \n",
    "                    y=y, \n",
    "                    r=r, \n",
    "                    mu=gmm.means_, \n",
    "                    cov=gmm.covariances_, \n",
    "                    norm_lam=norm_lam, \n",
    "                    t_idxs=t_idxs,\n",
    "                    K=len(train_idx),\n",
    "                    T=n_time_bins,\n",
    "                    C=len(gmm.means_))\n",
    "print(elbo)"
   ]
  },
  {
   "cell_type": "code",
   "execution_count": 11,
   "id": "68a131f4-d486-4fe5-a24d-5443d480f44b",
   "metadata": {},
   "outputs": [],
   "source": [
    "# K = len(train_idx)\n",
    "# C = 10\n",
    "# T = n_time_bins\n",
    "# s = torch.tensor(train_trials)\n",
    "# train_time_idx = torch.tensor(train_time_idx)\n",
    "\n",
    "# r = torch.ones((train_trials.shape[0], C)) / C\n",
    "# t_masks = torch.vstack([train_time_idx == t for t in range(T)])\n",
    "# t_idxs = [torch.argwhere(train_time_idx == t).reshape(-1) for t in range(T)]\n",
    "\n",
    "# y = torch.zeros(train_trials.shape[0])\n",
    "# for k in range(K):\n",
    "#     y[train_trial_idx == k] = train_y[k]\n",
    "# y = y.reshape(-1,1)\n",
    "\n",
    "# loaded_mu = torch.tensor(np.load('empirical_means.npy'))\n",
    "# loaded_cov = torch.tensor(np.load('empirical_covs.npy'))\n",
    "# loaded_lam = torch.tensor(np.load('empirical_lambdas.npy'))\n",
    "# norm_lam = safe_log(loaded_lam) - safe_log(loaded_lam.sum(0))"
   ]
  },
  {
   "cell_type": "code",
   "execution_count": 14,
   "id": "da91a23a-47b2-455c-b495-904ab022ee6b",
   "metadata": {},
   "outputs": [
    {
     "name": "stdout",
     "output_type": "stream",
     "text": [
      "elbo 1: -248465052.18659902\n",
      "elbo 2: -1502471.0581118108\n",
      "elbo 3: 1368129.286682262\n",
      "tensor(-2.4860e+08)\n",
      "CPU times: user 1.93 s, sys: 132 ms, total: 2.06 s\n",
      "Wall time: 269 ms\n"
     ]
    }
   ],
   "source": [
    "# %%time\n",
    "# elbo, log_dens = compute_elbo_einsum(s=s, \n",
    "#                     y=y, \n",
    "#                     r=r, \n",
    "#                     mu=loaded_mu, \n",
    "#                     cov=loaded_cov, \n",
    "#                     norm_lam=norm_lam, \n",
    "#                     t_idxs=t_idxs,\n",
    "#                     K=len(train_idx),\n",
    "#                     T=n_time_bins,\n",
    "#                     C=C)\n",
    "# print(elbo)"
   ]
  },
  {
   "cell_type": "markdown",
   "id": "4dbbc3cb-e6ad-4df8-b266-98f78ecb48d9",
   "metadata": {},
   "source": [
    "### CAVI"
   ]
  },
  {
   "cell_type": "code",
   "execution_count": 23,
   "id": "339e7ba2-7985-4e6d-aa3d-bee69847ba27",
   "metadata": {},
   "outputs": [],
   "source": [
    "def cavi_einsum(s, y, means, covs, init_lams, K, T, C, D, t_idxs, max_iter=20, eps=1e-10):\n",
    "    \n",
    "    # initialize\n",
    "    r = torch.ones((s.shape[0], C)) / C\n",
    "    lam = init_lams.clone()\n",
    "    mu, cov = torch.tensor(means), torch.tensor(covs)\n",
    "    norm_lam = safe_log(lam) - safe_log(lam.sum(0))\n",
    "    \n",
    "    # compute ELBO\n",
    "    elbo, log_dens = compute_elbo_einsum(s, y, r, mu, cov, norm_lam, t_idxs, K, T, C)\n",
    "    convergence = 1.\n",
    "    elbos = [elbo]\n",
    "    print(f'initial elbo: {elbos[-1]:.2f}')\n",
    "    \n",
    "    it = 1\n",
    "    while convergence > eps or convergence < 0:  # while ELBO not converged   \n",
    "        # update q(z)\n",
    "        # r_{ijt}^k = rho_{ijt}^k / sum_j rho_{ijt}^k\n",
    "        # rho_{ijt}^k = exp(log(dN(s_i^kt; mu_j, cov_j)) + \n",
    "        #                      ( y^k * (log(lambda^t_{j1}) - log(sum_j' lambda^t_{j'1})) \n",
    "        #                    + (1-y^k) * (log(lambda^t_{j0}) - log(sum_j' lambda^t_{j'0})) )            \n",
    "        for t in range(T):\n",
    "            r[t_idxs[t]] = torch.exp( log_dens[t_idxs[t]] + \\\n",
    "                      torch.einsum('il,j->ij', y[t_idxs[t]], norm_lam[:,t,1]) + \\\n",
    "                      torch.einsum('il,j->ij', 1-y[t_idxs[t]], norm_lam[:,t,0])\n",
    "            )\n",
    "            r[t_idxs[t]] = torch.einsum('ij,i->ij', r[t_idxs[t]], 1/r[t_idxs[t]].sum(1))\n",
    "            \n",
    "            \n",
    "        # update lambda^t_j1, lambda^t_j0\n",
    "        # a nested loop is faster & more memory efficient than fully vectorized version\n",
    "        for j in range(C):\n",
    "            no_j_idx = torch.cat([torch.arange(j), torch.arange(j+1,C)])\n",
    "            lams_sum_no_j = lam[no_j_idx,:,:].sum(0)\n",
    "            for t in range(T):\n",
    "                num1 = torch.einsum('i,il,->', r[t_idxs[t],j], y[t_idxs[t]], lams_sum_no_j[t,1])\n",
    "                denom1 = np.einsum('ij,il->', r[t_idxs[t]][:,no_j_idx], y[t_idxs[t]])\n",
    "                num0 = torch.einsum('i,il,->', r[t_idxs[t],j], 1-y[t_idxs[t]], lams_sum_no_j[t,0])\n",
    "                denom0 = np.einsum('ij,il->', r[t_idxs[t]][:,no_j_idx], 1-y[t_idxs[t]])\n",
    "                lam[j,t,1], lam[j,t,0] = num1 / denom1, num0 / denom0\n",
    "        norm_lam = safe_log(lam) - safe_log(lam.sum(0))\n",
    "\n",
    "        \n",
    "        # update means and covs\n",
    "        norm = r.sum(0)\n",
    "        mu = torch.einsum('j,ij,ip->jp', 1/norm, r, s)\n",
    "        cov = [torch.einsum(\n",
    "            ',i,ip,id->pd', 1/norm[j], r[:,j], s-mu[j], s-mu[j] \n",
    "            ) for j in range(C)]\n",
    "        \n",
    "        # compute ELBO\n",
    "        elbo, log_dens = compute_elbo_einsum(s, y, r, mu, cov, norm_lam, t_idxs, K, T, C)\n",
    "        elbos.append(elbo)\n",
    "        convergence = elbos[-1] - elbos[-2]\n",
    "        \n",
    "        print(f'iter: {it} elbo: {elbos[-1]:.2f}.')\n",
    "        it +=1 \n",
    "        if it > max_iter: \n",
    "            print('reached max iter allowed.')\n",
    "            break\n",
    "            \n",
    "    if abs(convergence) <= eps:\n",
    "        print('converged.')\n",
    "    \n",
    "    return r, lam, mu, cov, elbos"
   ]
  },
  {
   "cell_type": "code",
   "execution_count": 17,
   "id": "ac4d6bf7-7e0e-45c3-b90f-fbbfa711123e",
   "metadata": {},
   "outputs": [
    {
     "name": "stderr",
     "output_type": "stream",
     "text": [
      "/tmp/ipykernel_95886/4026374818.py:6: UserWarning: To copy construct from a tensor, it is recommended to use sourceTensor.clone().detach() or sourceTensor.clone().detach().requires_grad_(True), rather than torch.tensor(sourceTensor).\n",
      "  mu, cov = torch.tensor(means), torch.tensor(covs)\n"
     ]
    },
    {
     "name": "stdout",
     "output_type": "stream",
     "text": [
      "elbo 1: -248465052.18659902\n",
      "elbo 2: -1502471.0581118108\n",
      "elbo 3: 1368129.286682262\n",
      "initial elbo: -248599393.96\n",
      "tensor(22.4317)\n",
      "elbo 1: -7795449.136358567\n",
      "elbo 2: -1261355.455638079\n",
      "elbo 3: 113819.29435871658\n",
      "iter: 1 elbo: -8942985.30.\n",
      "tensor(22.1631)\n",
      "elbo 1: -7798858.103489151\n",
      "elbo 2: -1261604.880544474\n",
      "elbo 3: 117990.4991923542\n",
      "iter: 2 elbo: -8942472.48.\n",
      "reached max iter allowed.\n",
      "CPU times: user 14 s, sys: 753 ms, total: 14.7 s\n",
      "Wall time: 1.84 s\n"
     ]
    }
   ],
   "source": [
    "%%time\n",
    "_, _, _, _, _ = cavi_einsum(s=s, \n",
    "                            y=y, \n",
    "                            means=loaded_mu, \n",
    "                            covs=loaded_cov, \n",
    "                            init_lams=loaded_lam, \n",
    "                            K=len(train_idx), \n",
    "                            T=n_time_bins, \n",
    "                            C=C, \n",
    "                            D=train_trials.shape[1], \n",
    "                            t_idxs=t_idxs, \n",
    "                            max_iter=2)"
   ]
  },
  {
   "cell_type": "markdown",
   "id": "30205606-6402-4fec-915b-fcae3f47e96e",
   "metadata": {},
   "source": [
    "### Run"
   ]
  },
  {
   "cell_type": "code",
   "execution_count": 24,
   "id": "641524f1-d532-4222-b802-4da5e6a74258",
   "metadata": {},
   "outputs": [
    {
     "name": "stdout",
     "output_type": "stream",
     "text": [
      "initial elbo: -115303255.13\n",
      "iter: 1 elbo: -8956515.80.\n",
      "iter: 2 elbo: -8955877.33.\n",
      "iter: 3 elbo: -8955242.16.\n",
      "iter: 4 elbo: -8954485.97.\n",
      "iter: 5 elbo: -8953638.01.\n",
      "iter: 6 elbo: -8952803.17.\n",
      "iter: 7 elbo: -8952092.62.\n",
      "iter: 8 elbo: -8951573.75.\n",
      "iter: 9 elbo: -8951216.77.\n",
      "iter: 10 elbo: -8950939.77.\n",
      "iter: 11 elbo: -8950693.98.\n",
      "iter: 12 elbo: -8950461.92.\n",
      "iter: 13 elbo: -8950236.91.\n",
      "iter: 14 elbo: -8950013.35.\n",
      "iter: 15 elbo: -8949782.42.\n",
      "iter: 16 elbo: -8949529.05.\n",
      "iter: 17 elbo: -8949228.13.\n",
      "iter: 18 elbo: -8948841.17.\n",
      "iter: 19 elbo: -8948323.51.\n",
      "iter: 20 elbo: -8947654.29.\n",
      "iter: 21 elbo: -8946837.59.\n",
      "iter: 22 elbo: -8945817.46.\n",
      "iter: 23 elbo: -8944441.43.\n",
      "iter: 24 elbo: -8942504.39.\n",
      "iter: 25 elbo: -8939846.79.\n",
      "iter: 26 elbo: -8936529.92.\n",
      "iter: 27 elbo: -8932901.12.\n",
      "iter: 28 elbo: -8929340.39.\n",
      "iter: 29 elbo: -8925980.52.\n",
      "iter: 30 elbo: -8922714.65.\n",
      "iter: 31 elbo: -8919430.73.\n",
      "iter: 32 elbo: -8916317.91.\n",
      "iter: 33 elbo: -8913676.70.\n",
      "iter: 34 elbo: -8911549.75.\n",
      "iter: 35 elbo: -8909751.29.\n",
      "iter: 36 elbo: -8907891.07.\n",
      "iter: 37 elbo: -8905138.00.\n",
      "iter: 38 elbo: -8901060.30.\n",
      "iter: 39 elbo: -8897130.31.\n",
      "iter: 40 elbo: -8894147.03.\n",
      "iter: 41 elbo: -8892118.25.\n",
      "iter: 42 elbo: -8890729.50.\n",
      "iter: 43 elbo: -8889657.02.\n",
      "iter: 44 elbo: -8888851.36.\n",
      "iter: 45 elbo: -8888392.42.\n",
      "iter: 46 elbo: -8888166.53.\n",
      "iter: 47 elbo: -8888040.13.\n",
      "iter: 48 elbo: -8887954.14.\n",
      "iter: 49 elbo: -8887884.79.\n",
      "iter: 50 elbo: -8887820.57.\n",
      "reached max iter allowed.\n",
      "CPU times: user 5min 1s, sys: 14.6 s, total: 5min 16s\n",
      "Wall time: 39.5 s\n"
     ]
    }
   ],
   "source": [
    "%%time\n",
    "enc_r, enc_lam, enc_mu, enc_cov, enc_elbo = cavi_einsum(s=torch.tensor(train_trials), \n",
    "                                                        y=y, \n",
    "                                                        means=gmm.means_, \n",
    "                                                        covs=gmm.covariances_, \n",
    "                                                        init_lams=empirical_lams, \n",
    "                                                        K=len(train_idx), \n",
    "                                                        T=n_time_bins, \n",
    "                                                        C=len(gmm.means_), \n",
    "                                                        D=train_trials.shape[1], \n",
    "                                                        t_idxs=t_idxs, \n",
    "                                                        max_iter=50)"
   ]
  },
  {
   "cell_type": "code",
   "execution_count": 25,
   "id": "6fdbe2e3-fd39-40bb-aa51-70d8975dfd9c",
   "metadata": {},
   "outputs": [
    {
     "data": {
      "image/png": "[encoded data removed]",
      "text/plain": [
       "<Figure size 600x300 with 1 Axes>"
      ]
     },
     "metadata": {},
     "output_type": "display_data"
    }
   ],
   "source": [
    "plt.figure(figsize=(6,3))\n",
    "plt.plot(enc_elbo)\n",
    "plt.xlabel('iteration')\n",
    "plt.ylabel('ELBO')\n",
    "pass"
   ]
  },
  {
   "cell_type": "code",
   "execution_count": 26,
   "id": "718f7e69-1768-45b0-9ff8-f466e5ded3c5",
   "metadata": {},
   "outputs": [],
   "source": [
    "init_gmm = {\n",
    "    'weights': gmm.weights_,\n",
    "    'mu': gmm.means_,\n",
    "    'cov': gmm.covariances_,\n",
    "}\n",
    "np.save(save_path + f'init_gmm_c{C}_t{n_time_bins}.npy', init_gmm)"
   ]
  },
  {
   "cell_type": "code",
   "execution_count": 27,
   "id": "4e1aad51-e0c7-4f9d-b665-14aa09b14c68",
   "metadata": {},
   "outputs": [],
   "source": [
    "res_enc = {\n",
    "    'r': enc_r, \n",
    "    'lam': enc_lam,\n",
    "    'mu': enc_mu,\n",
    "    'cov': enc_cov,\n",
    "    'elbo': enc_elbo,\n",
    "}\n",
    "np.save(save_path + f'res_enc_c{C}_t{n_time_bins}_count.npy', res_enc)"
   ]
  },
  {
   "cell_type": "code",
   "execution_count": 28,
   "id": "e3acfff4-87ba-4ace-ada6-19a6837671ba",
   "metadata": {},
   "outputs": [],
   "source": [
    "diff_lam = enc_lam[:,:,0] - enc_lam[:,:,1]"
   ]
  },
  {
   "cell_type": "code",
   "execution_count": 29,
   "id": "ea6a3b4e-05bc-47e0-8995-b5b5b1791bb8",
   "metadata": {},
   "outputs": [
    {
     "data": {
      "image/png": "[encoded data removed]",
      "text/plain": [
       "<Figure size 2000x500 with 6 Axes>"
      ]
     },
     "metadata": {},
     "output_type": "display_data"
    }
   ],
   "source": [
    "fig, (ax1, ax2, ax3) = plt.subplots(1,3, figsize=(20,5))\n",
    "f1 = ax1.imshow(enc_lam[:,:,0], aspect='auto', cmap='cubehelix')\n",
    "ax1.set_title('left')\n",
    "ax1.set_xlabel('time bin')\n",
    "ax1.set_ylabel('gaussian')\n",
    "fig.colorbar(f1, ax=ax1);\n",
    "f2 = ax2.imshow(enc_lam[:,:,1], aspect='auto', cmap='cubehelix')\n",
    "ax2.set_title('right')\n",
    "ax2.set_xlabel('time bin')\n",
    "fig.colorbar(f2, ax=ax2);\n",
    "f3 = ax3.imshow(diff_lam, aspect='auto', cmap='cubehelix')\n",
    "ax3.set_title('diff')\n",
    "ax3.set_xlabel('time bin')\n",
    "fig.colorbar(f3, ax=ax3);"
   ]
  },
  {
   "cell_type": "markdown",
   "id": "bbb8ca76-eb19-4938-9a89-987d2ffc9539",
   "metadata": {},
   "source": [
    "### Decoder"
   ]
  },
  {
   "cell_type": "code",
   "execution_count": 12,
   "id": "da7a3b52-b6ae-4957-bad6-c998e216ec65",
   "metadata": {},
   "outputs": [],
   "source": [
    "def compute_elbo_einsum(s, r, nu, nu_k, mu, cov, norm_lam, p, K, T, C, t_idxs):\n",
    "    \n",
    "    # expected log-likelihood ( E_q(z,y)[log p(s,z,y)] )\n",
    "    # sum_{ktij} r_{ijt}^k * log(dN(s_i^kt; mu_j, cov_j))\n",
    "    \n",
    "    # sum_{ktij} r_{ijt}^k * ( nu^k * (log(lambda^t_{j1}) - log(sum_j' lambda^t_{j'1})) \n",
    "    #                    + (1-nu^k) * (log(lambda^t_{j0}) - log(sum_j' lambda^t_{j'0})) )\n",
    "    elbo_1 = 0; log_dens = []\n",
    "    for j in range(C):\n",
    "        log_dens.append(\n",
    "            torch.tensor(\n",
    "                multivariate_normal.logpdf(s, mu[j], cov[j])\n",
    "            )\n",
    "        )\n",
    "        elbo_1 += torch.einsum('i,i->', r[:,j], log_dens[-1])\n",
    "            \n",
    "    elbo_2 = torch.tensor(\n",
    "        [ torch.einsum('ij,il,j->', r[t_idxs[t]], nu[t_idxs[t]], norm_lam[:,t,1]) +\n",
    "          torch.einsum('ij,il,j->', r[t_idxs[t]], 1-nu[t_idxs[t]], norm_lam[:,t,0]) for t in range(T) ]\n",
    "    ).sum()\n",
    "    \n",
    "    # sum_k nu^k * logp + (1-nu^k) * log(1-p)\n",
    "    elbo_3 = torch.sum(nu_k * safe_log(p) + (1-nu_k) * safe_log(1-p))\n",
    "    \n",
    "    # entropy of q(z) ( E_q(z)[log q(z)] )\n",
    "    # sum_{ktij} log(r_{ijt}^k) * r_{ijt}^k\n",
    "    elbo_4 = - torch.einsum('ij,ij->', safe_log(r), r)\n",
    "    \n",
    "    # entropy of q(y) ( E_q(y)[log q(y)] )\n",
    "    # sum_k log(nu^k) * nu^k\n",
    "    elbo_5 = - torch.sum(safe_log(nu_k) * nu_k)\n",
    "    \n",
    "    elbo = elbo_1 + elbo_2 + elbo_3 + elbo_4 + elbo_5\n",
    "    \n",
    "    # print(f'elbo 1: {elbo_1}')\n",
    "    # print(f'elbo 2: {elbo_2}')\n",
    "    # print(f'elbo 3: {elbo_3}')\n",
    "    # print(f'elbo 4: {elbo_4}')\n",
    "    # print(f'elbo 5: {elbo_5}')\n",
    "    \n",
    "    return elbo, torch.vstack(log_dens).T"
   ]
  },
  {
   "cell_type": "code",
   "execution_count": 60,
   "id": "81211c69-eaa3-4eb8-9aae-06cb9dbb6f4a",
   "metadata": {},
   "outputs": [
    {
     "name": "stderr",
     "output_type": "stream",
     "text": [
      "/tmp/ipykernel_99574/115155357.py:5: UserWarning: To copy construct from a tensor, it is recommended to use sourceTensor.clone().detach() or sourceTensor.clone().detach().requires_grad_(True), rather than torch.tensor(sourceTensor).\n",
      "  test_trial_idx = torch.tensor(test_trial_idx)\n",
      "/tmp/ipykernel_99574/115155357.py:6: UserWarning: To copy construct from a tensor, it is recommended to use sourceTensor.clone().detach() or sourceTensor.clone().detach().requires_grad_(True), rather than torch.tensor(sourceTensor).\n",
      "  test_time_idx = torch.tensor(test_time_idx)\n"
     ]
    }
   ],
   "source": [
    "K = len(test_idx)\n",
    "C = 300\n",
    "T = n_time_bins\n",
    "s = torch.tensor(test_trials)\n",
    "test_trial_idx = torch.tensor(test_trial_idx)\n",
    "test_time_idx = torch.tensor(test_time_idx)\n",
    "\n",
    "p = torch.tensor([.25])\n",
    "r = torch.ones((test_trials.shape[0], C)) / C\n",
    "t_idxs = [torch.argwhere(test_time_idx == t).reshape(-1) for t in range(T)]\n",
    "k_idxs = [torch.argwhere(test_trial_idx == k).reshape(-1) for k in test_idx]\n",
    "\n",
    "nu_k = torch.rand(K)\n",
    "nu = torch.zeros(s.shape[0])\n",
    "for k in range(K):\n",
    "    nu[test_trial_idx == np.unique(test_idx)[k]] = nu_k[k]\n",
    "nu = nu.reshape(-1,1)"
   ]
  },
  {
   "cell_type": "code",
   "execution_count": 116,
   "id": "d619c9fa-4384-4a51-a07c-1b559a596bf9",
   "metadata": {},
   "outputs": [
    {
     "name": "stdout",
     "output_type": "stream",
     "text": [
      "elbo 1: -58621779.0725267\n",
      "elbo 2: -365227.81503440754\n",
      "elbo 3: -59.97898017562313\n",
      "elbo 4: 332900.8448450175\n",
      "elbo 5: 10.71176111470439\n",
      "tensor(-58654155.3099)\n",
      "CPU times: user 505 ms, sys: 12 ms, total: 517 ms\n",
      "Wall time: 66.9 ms\n"
     ]
    }
   ],
   "source": [
    "%%time\n",
    "elbo, log_dens = compute_elbo_einsum(s=s, \n",
    "                    r=r, \n",
    "                    nu=nu, \n",
    "                    nu_k=nu_k, \n",
    "                    mu=loaded_mu, \n",
    "                    cov=loaded_cov, \n",
    "                    norm_lam=norm_lam, \n",
    "                    p=torch.tensor([.25]), \n",
    "                    K=K, \n",
    "                    T=T, \n",
    "                    C=C, \n",
    "                    t_idxs=t_idxs)\n",
    "print(elbo)"
   ]
  },
  {
   "cell_type": "code",
   "execution_count": 16,
   "id": "43635274-e926-462d-ab98-9b7a4498e5c2",
   "metadata": {},
   "outputs": [],
   "source": [
    "def safe_divide(x, y):\n",
    "    return torch.clip(x / y, min = 0, max = 1)"
   ]
  },
  {
   "cell_type": "code",
   "execution_count": 17,
   "id": "d96d9836-7973-47e8-a067-02586bc2fcb6",
   "metadata": {},
   "outputs": [],
   "source": [
    "def cavi_einsum(s, means, covs, lam, init_nu, init_nu_k, K, T, C, D, k_idxs, t_idxs, max_iter=20, eps=1e-10):\n",
    "    \n",
    "    # initialize\n",
    "    p = torch.tensor([.25]) \n",
    "    r = torch.ones((s.shape[0], C)) / C\n",
    "    mu, cov = torch.tensor(means), torch.tensor(covs)\n",
    "    norm_lam = safe_log(lam) - safe_log(lam.sum(0))\n",
    "    \n",
    "    nu_k = init_nu_k.clone()\n",
    "    nu = init_nu.clone()\n",
    "    \n",
    "    # compute initial ELBO\n",
    "    elbo, log_dens = compute_elbo_einsum(s, r, nu, nu_k, mu, cov, norm_lam, p, K, T, C, t_idxs)\n",
    "    elbos = [elbo]\n",
    "    convergence = 1.\n",
    "    print(f'initial elbo: {elbos[-1]:.2f}')\n",
    "    \n",
    "    it = 1\n",
    "    while convergence > eps or convergence < 0:  # while ELBO not converged \n",
    "        # update q(z)\n",
    "        # r_{ijt}^k = rho_{ijt}^k / sum_j rho_{ijt}^k\n",
    "        # rho_{ijt}^k = exp(log(dN(s_i^kt; mu_j, cov_j)) + \n",
    "        #                      ( nu^k * (log(lambda^t_{j1}) - log(sum_j' lambda^t_{j'1})) \n",
    "        #                    + (1-nu^k) * (log(lambda^t_{j0}) - log(sum_j' lambda^t_{j'0})) )\n",
    "        for t in range(T):\n",
    "            r[t_idxs[t]] = torch.exp( log_dens[t_idxs[t]] + \\\n",
    "                      torch.einsum('il,j->ij', nu[t_idxs[t]], norm_lam[:,t,1]) + \\\n",
    "                      torch.einsum('il,j->ij', 1-nu[t_idxs[t]], norm_lam[:,t,0])\n",
    "            )\n",
    "            r[t_idxs[t]] = torch.einsum('ij,i->ij', r[t_idxs[t]], 1/r[t_idxs[t]].sum(1))\n",
    "        \n",
    "        \n",
    "        for k in range(K):\n",
    "            y_tilde0 = safe_log(1-p)\n",
    "            y_tilde1 = safe_log(p)\n",
    "            for t in range(T):\n",
    "                t_k_idxs = np.intersect1d(k_idxs[k], t_idxs[t])\n",
    "                y_tilde0 += torch.einsum('ij,j->', r[t_k_idxs], norm_lam[:,t,0])\n",
    "                y_tilde1 += torch.einsum('ij,j->', r[t_k_idxs], norm_lam[:,t,1])\n",
    "            # y_tilde explode to 0 after exp(); need offset to ensure y_tilde stay in range\n",
    "            offset = 1 / (torch.min(torch.tensor([y_tilde0, y_tilde1])) / -745) \n",
    "            y_tilde0, y_tilde1 = torch.exp(y_tilde0 * offset), torch.exp(y_tilde1 * offset)\n",
    "            nu_k[k] = safe_divide(y_tilde1, y_tilde0 + y_tilde1)\n",
    "            nu[k_idxs[k]] = nu_k[k] \n",
    "            \n",
    "\n",
    "        # update posterior param p\n",
    "        p = nu_k.sum() / K\n",
    "    \n",
    "        # update means and covs\n",
    "        norm = r.sum(0)\n",
    "        mu = torch.einsum('j,ij,ip->jp', 1/norm, r, s)\n",
    "        cov = [torch.einsum(\n",
    "            ',i,ip,id->pd', 1/norm[j], r[:,j], s-mu[j], s-mu[j] \n",
    "            ) for j in range(C)]\n",
    "        \n",
    "        # compute ELBO\n",
    "        elbo, log_dens = compute_elbo_einsum(s, r, nu, nu_k, mu, cov, norm_lam, p, K, T, C, t_idxs)\n",
    "        elbos.append(elbo)\n",
    "        convergence = elbos[-1] - elbos[-2]\n",
    "\n",
    "        print(f'iter: {it} elbo: {elbos[-1]:.2f}.')\n",
    "        it +=1 \n",
    "        if it > max_iter: \n",
    "            print('reached max iter allowed.')\n",
    "            break\n",
    "            \n",
    "    if abs(convergence) <= eps:\n",
    "        print('converged.')\n",
    "    \n",
    "    return r, nu_k, mu, cov, p, elbos"
   ]
  },
  {
   "cell_type": "code",
   "execution_count": 61,
   "id": "0dff7e92-1483-4d23-8e67-ce8463930a71",
   "metadata": {},
   "outputs": [],
   "source": [
    "res_enc = np.load(save_path + f'res_enc_c{C}_t{n_time_bins}_count.npy', \n",
    "                  allow_pickle=True).item()\n",
    "enc_lam = res_enc['lam']\n",
    "enc_mu = res_enc['mu']\n",
    "enc_cov = res_enc['cov']"
   ]
  },
  {
   "cell_type": "code",
   "execution_count": 62,
   "id": "7a281e11-26eb-41ec-8b9a-2e70a2e0082b",
   "metadata": {},
   "outputs": [
    {
     "name": "stderr",
     "output_type": "stream",
     "text": [
      "/tmp/ipykernel_99574/1188627496.py:6: UserWarning: To copy construct from a tensor, it is recommended to use sourceTensor.clone().detach() or sourceTensor.clone().detach().requires_grad_(True), rather than torch.tensor(sourceTensor).\n",
      "  mu, cov = torch.tensor(means), torch.tensor(covs)\n"
     ]
    },
    {
     "name": "stdout",
     "output_type": "stream",
     "text": [
      "initial elbo: -8740366846.72\n",
      "iter: 1 elbo: -1937587.22.\n",
      "iter: 2 elbo: -1926445.01.\n",
      "iter: 3 elbo: -1923314.03.\n",
      "iter: 4 elbo: -1921852.92.\n",
      "iter: 5 elbo: -1920958.90.\n",
      "iter: 6 elbo: -1920344.45.\n",
      "iter: 7 elbo: -1919885.59.\n",
      "iter: 8 elbo: -1919531.69.\n",
      "iter: 9 elbo: -1919245.88.\n",
      "iter: 10 elbo: -1918998.41.\n",
      "iter: 11 elbo: -1918776.71.\n",
      "iter: 12 elbo: -1918589.13.\n",
      "iter: 13 elbo: -1918415.19.\n",
      "iter: 14 elbo: -1918247.72.\n",
      "iter: 15 elbo: -1918083.40.\n",
      "iter: 16 elbo: -1917920.18.\n",
      "iter: 17 elbo: -1917764.23.\n",
      "iter: 18 elbo: -1917619.36.\n",
      "iter: 19 elbo: -1917486.01.\n",
      "iter: 20 elbo: -1917360.65.\n",
      "iter: 21 elbo: -1917243.95.\n",
      "iter: 22 elbo: -1917133.99.\n",
      "iter: 23 elbo: -1917024.98.\n",
      "iter: 24 elbo: -1916904.12.\n",
      "iter: 25 elbo: -1916775.79.\n",
      "iter: 26 elbo: -1916642.90.\n",
      "iter: 27 elbo: -1916516.67.\n",
      "iter: 28 elbo: -1916424.15.\n",
      "iter: 29 elbo: -1916352.54.\n",
      "iter: 30 elbo: -1916291.37.\n",
      "reached max iter allowed.\n"
     ]
    }
   ],
   "source": [
    "dec_r, dec_nu_k, dec_mu, dec_cov, dec_p, dec_elbos = cavi_einsum(\n",
    "            s=s, \n",
    "            means=enc_mu, \n",
    "            covs=torch.stack(enc_cov), \n",
    "            lam=enc_lam, \n",
    "            init_nu=nu, \n",
    "            init_nu_k=nu_k, \n",
    "            K=K, \n",
    "            T=T, \n",
    "            C=C, \n",
    "            D=s.shape[1], \n",
    "            k_idxs=k_idxs, \n",
    "            t_idxs=t_idxs, \n",
    "            max_iter=30)"
   ]
  },
  {
   "cell_type": "code",
   "execution_count": 63,
   "id": "76da1ee1-922e-4b0f-9c7d-8a3843297d42",
   "metadata": {},
   "outputs": [
    {
     "data": {
      "image/png": "[encoded data removed]",
      "text/plain": [
       "<Figure size 600x300 with 1 Axes>"
      ]
     },
     "metadata": {},
     "output_type": "display_data"
    }
   ],
   "source": [
    "plt.figure(figsize=(6,3))\n",
    "plt.plot(dec_elbos)\n",
    "plt.xlabel('iteration')\n",
    "plt.ylabel('ELBO')\n",
    "pass"
   ]
  },
  {
   "cell_type": "code",
   "execution_count": 64,
   "id": "964ac27e-efe4-453f-bbe6-9c85c84cfcd9",
   "metadata": {},
   "outputs": [
    {
     "data": {
      "text/plain": [
       "tensor([1.9011e-03, 9.8864e-01, 5.0000e-01, 3.8358e-04, 2.2321e-03, 1.6026e-03,\n",
       "        5.9773e-04, 6.8729e-04, 2.2422e-03, 3.6088e-04, 2.1277e-03, 1.2979e-04,\n",
       "        2.1877e-04, 9.5420e-04, 1.0616e-03, 2.7779e-05, 3.3784e-03, 7.9202e-05,\n",
       "        9.4564e-06, 5.7013e-04, 2.9855e-05, 8.1301e-04, 9.9342e-01, 8.1880e-05,\n",
       "        1.4706e-02, 8.0645e-03, 8.7500e-01, 7.0892e-05, 4.4143e-06, 5.0000e-01,\n",
       "        9.2308e-01, 9.9705e-01, 9.2308e-01, 9.9174e-01, 2.1598e-03, 9.8462e-01,\n",
       "        1.6722e-03, 6.4767e-04, 1.9380e-03, 5.0429e-04, 9.3333e-01, 9.4118e-01,\n",
       "        4.6275e-04, 5.0000e-01, 5.7353e-05, 1.3706e-04, 9.9771e-01, 9.9138e-01,\n",
       "        9.9779e-01, 9.5238e-01, 3.6179e-04, 4.3478e-03, 1.9957e-05])"
      ]
     },
     "execution_count": 64,
     "metadata": {},
     "output_type": "execute_result"
    }
   ],
   "source": [
    "dec_nu_k"
   ]
  },
  {
   "cell_type": "code",
   "execution_count": 65,
   "id": "62b11956-e5c5-4de2-9ad6-9a8ab6acea8d",
   "metadata": {},
   "outputs": [
    {
     "name": "stdout",
     "output_type": "stream",
     "text": [
      "0.9811320754716981\n",
      "1.0\n"
     ]
    }
   ],
   "source": [
    "# C = 10 T = 10 acc = 0.87 auc = 0.86\n",
    "# C = 10 T = 15 acc = 0.86 auc = 0.83\n",
    "# C = 50 T = 15 acc = 0.96 auc = 0.97 (7 mins)\n",
    "# C = 50 T = 10 acc = 0.96 auc = 0.97 \n",
    "# C = 100 T = 10 acc = 0.96 auc = 0.996 (30 mins)\n",
    "# C = 150 T = 10 acc = 1.  auc = 1. (1 hr)\n",
    "# C = 200 T = 10 acc = 1. auc = 1.  (1.5 hrs)\n",
    "# C = 300 T = 10 acc = .98 auc = 1. (3 hrs)\n",
    "\n",
    "print(accuracy_score(test_y, 1.*(dec_nu_k > .5)))\n",
    "print(roc_auc_score(test_y, dec_nu_k))"
   ]
  },
  {
   "cell_type": "code",
   "execution_count": 66,
   "id": "cd06a346-3ec4-4aaf-bf0e-996f123b90e6",
   "metadata": {},
   "outputs": [],
   "source": [
    "res_dec = {\n",
    "    'r': dec_r, \n",
    "    'nu': dec_nu_k,\n",
    "    'y': test_y,\n",
    "    'mu': dec_mu,\n",
    "    'cov': dec_cov,\n",
    "    'p': dec_p,\n",
    "    'elbo': dec_elbos,\n",
    "}\n",
    "np.save(save_path +  f'res_dec_c{C}_t{n_time_bins}_count.npy', res_dec)"
   ]
  },
  {
   "cell_type": "code",
   "execution_count": null,
   "id": "69a82a7b-7155-4ada-92f7-4b70166abfdf",
   "metadata": {},
   "outputs": [],
   "source": []
  }
 ],
 "metadata": {
  "kernelspec": {
   "display_name": "Python 3 (ipykernel)",
   "language": "python",
   "name": "python3"
  },
  "language_info": {
   "codemirror_mode": {
    "name": "ipython",
    "version": 3
   },
   "file_extension": ".py",
   "mimetype": "text/x-python",
   "name": "python",
   "nbconvert_exporter": "python",
   "pygments_lexer": "ipython3",
   "version": "3.8.13"
  }
 },
 "nbformat": 4,
 "nbformat_minor": 5
}
